{
 "cells": [
  {
   "cell_type": "markdown",
   "id": "b1585e03",
   "metadata": {},
   "source": [
    "# Data Loading"
   ]
  },
  {
   "cell_type": "code",
   "execution_count": null,
   "id": "f6b82195",
   "metadata": {},
   "outputs": [],
   "source": []
  },
  {
   "cell_type": "code",
   "execution_count": 1,
   "id": "fbc3ff49",
   "metadata": {
    "ExecuteTime": {
     "end_time": "2023-09-04T06:03:07.402273Z",
     "start_time": "2023-09-04T06:02:34.994116Z"
    }
   },
   "outputs": [
    {
     "name": "stderr",
     "output_type": "stream",
     "text": [
      "/home/labs/rudich/sagima/.conda/envs/sagi_base/lib/python3.10/site-packages/torchvision/io/image.py:13: UserWarning: Failed to load image Python extension: '/home/labs/rudich/sagima/.conda/envs/sagi_base/lib/python3.10/site-packages/torchvision/image.so: undefined symbol: _ZNK3c107SymBool10guard_boolEPKcl'If you don't plan on using image functionality from `torchvision.io`, you can ignore this warning. Otherwise, there might be something wrong with your environment. Did you have `libjpeg` or `libpng` installed before building `torchvision` from source?\n",
      "  warn(\n"
     ]
    }
   ],
   "source": [
    "import torch\n",
    "import matplotlib.pyplot as plt\n",
    "import numpy as np\n",
    "import pandas as pd\n",
    "import seaborn as sns\n",
    "import pickle\n",
    "np.random.seed(0)\n",
    "\n",
    "from torch.utils.data import Dataset, DataLoader\n",
    "from sklearn.model_selection import train_test_split\n",
    "\n",
    "from torch import nn\n",
    "import torch.nn.functional as F\n",
    "\n",
    "from einops import rearrange\n",
    "#from torchsummary import summary\n",
    "\n",
    "import sys\n",
    "sys.path.insert(0, '../helpers')\n",
    "# sys.path.insert(0,'/home/labs/rudich/sagima/helpers')\n",
    "from plotting import *\n",
    "from validate import *\n",
    "from models import *\n",
    "from data_handlers import *\n",
    "from training import *\n",
    "from metrics import *\n",
    "from explore import *\n",
    "from torchsummary import *\n",
    "from visual_helpers_2 import *\n",
    "\n",
    "#from visual_helpers import *\n",
    "\n",
    "import itertools\n",
    "\n",
    "\n",
    "\n",
    "#taken from the model building section - \n",
    "import pandas as pd\n",
    "pd.set_option('max_colwidth', 800)\n",
    "\n",
    "\n",
    "import numpy as np\n",
    "from sklearn import datasets, linear_model\n",
    "from sklearn.linear_model import LinearRegression\n",
    "import statsmodels.api as sm\n",
    "from scipy import stats\n",
    "import xgboost as xg\n",
    "import torch.optim as optim\n",
    "from statsmodels.tsa.seasonal import seasonal_decompose\n",
    "from scipy.fft import fft, fftfreq\n",
    "import folium\n",
    "\n",
    "import matplotlib.pyplot as plt\n",
    "import cartopy.crs as ccrs\n",
    "from matplotlib.colors import Normalize\n",
    "from matplotlib.patches import Rectangle\n",
    "import cartopy.feature\n",
    "\n",
    "\n",
    "import xgboost as xgb\n",
    "from sklearn.model_selection import train_test_split\n",
    "from sklearn.metrics import mean_squared_error\n",
    "\n",
    "\n",
    "import plotly.graph_objects as go\n",
    "import plotly.express as px\n",
    "import plotly.io as pio\n",
    "import json\n",
    "\n",
    "import ast\n",
    "from scipy.spatial.distance import cdist\n",
    "\n",
    "from sklearn.metrics import precision_recall_fscore_support\n",
    "from torch.optim.lr_scheduler import ReduceLROnPlateau\n",
    "from torchsummary import summary\n",
    "from tqdm import tqdm\n"
   ]
  },
  {
   "cell_type": "code",
   "execution_count": 3,
   "id": "6ad044d9",
   "metadata": {
    "ExecuteTime": {
     "end_time": "2023-09-04T06:05:22.579626Z",
     "start_time": "2023-09-04T06:05:22.575252Z"
    }
   },
   "outputs": [],
   "source": [
    "def convert_string_to_tuple_list(string_list):\n",
    "    tuple_list = []\n",
    "    for string in string_list:\n",
    "        # Remove leading and trailing whitespace and parentheses\n",
    "        string = string.strip('()')\n",
    "        # Convert string to tuple using ast.literal_eval\n",
    "        tuple_value = ast.literal_eval(string)\n",
    "        tuple_list.append(tuple_value)\n",
    "    return tuple_list\n",
    "\n",
    "def remove_non_label(tensor):\n",
    "\n",
    "    channel_2_values = tensor[:, 1]\n",
    "    reshape = channel_2_values.view(channel_2_values.shape[0], -1)\n",
    "    nan_mask = torch.isnan(reshape).all(dim=1)\n",
    "    tensor_data = tensor[~nan_mask]\n",
    "    return tensor_data\n",
    "\n",
    "def replace_keys_with_sequential_integers(dictionary):\n",
    "    new_dict = {}\n",
    "    keys = list(dictionary.keys())\n",
    "    for i in range(len(keys)):\n",
    "        new_dict[i] = dictionary[keys[i]]\n",
    "    return new_dict"
   ]
  },
  {
   "cell_type": "code",
   "execution_count": 4,
   "id": "3cd7783a",
   "metadata": {},
   "outputs": [],
   "source": [
    "def get_cams_forecast_pred(stations,meta_data=None,tensor_data=None,load_tensor_forecast_pm10=False):\n",
    "    #caculate the distance for each station and see the cordinats \n",
    "    #then we will take the cordinates that is best for each station\n",
    "    #then for each station with the right cordinates and for each day and leadtime we will return the pm\n",
    "    if load_tensor_forecast_pm10==True:\n",
    "        data_pm10=torch.load(\"/home/labs/rudich/gavriel/pm_10/data_pm10.pkl\")\n",
    "        meta_data=torch.load(\"/home/labs/rudich/gavriel/pm_10/meta_data.pkl\")\n",
    "    num_dates=len(meta_data['timestamp'])\n",
    "    num_dates=len(meta_data['lead_time'])\n",
    "    list_pm=[]\n",
    "    lat_lon_station={}\n",
    "    meta_data_pm={}\n",
    "    tensor_lat=torch.tensor(meta_data['latitude'].values)\n",
    "    tensor_lon=torch.tensor(meta_data['longitude'].values)\n",
    "    #implement without the matrix\n",
    "    for i in range(len(station)):\n",
    "        station_id=torch.tensor(station['stn_id'].loc[i])\n",
    "        lat=torch.tensor(station['lat'].loc[i])\n",
    "        lon=torch.tensor(station['lon'].loc[i])\n",
    "        min_lat=torch.argmin(abs(tensor_lat-lat)).item()\n",
    "        min_lon=torch.argmin(abs(tensor_lon-lon)).item()\n",
    "        lat_lon_station[i]=[min_lat,min_lon]\n",
    "\n",
    "    #THEN:\n",
    "    for i in range((len(station))):\n",
    "        list_pm.append(tensor_data[:,:,lat_lon_station[i][0],lat_lon_station[i][1]])\n",
    "    tensor3d_pm=torch.stack(list_pm)\n",
    "#meta_data\n",
    "    #creating the pd.DatetimeIndex(, tz=\"UTC\")\n",
    "    files=os.listdir(\"/home/labs/rudich/gavriel/pm_10/download_2018-07-18.netcdf\")\n",
    "    date_pd=[]\n",
    "    dir1=\"/home/labs/rudich/gavriel/pm_10/download_2018-07-18.netcdf\"\n",
    "    for i,file in enumerate(files):\n",
    "        dir=dir1+\"/\"+file\n",
    "        data=xr.open_dataset(dir)\n",
    "        for x in data.time:\n",
    "            date_pd.append(pd.to_datetime(x.values, format='%Y-%m-%d %H:%M:%s'))\n",
    "    date_pd=dt_index = pd.DatetimeIndex(date_pd, tz=\"UTC\")\n",
    "    date_pd \n",
    "\n",
    "    #META_DATA:\n",
    "    data = xr.open_dataset(\"/home/labs/rudich/gavriel/pm_10/download_2018-07-18.netcdf/date_2018-07-18_time_00_00_00.nc\")\n",
    "    meta_data_pm[\"lead_time\"]=[x for x in range(109) if x%3==0]\n",
    "    meta_data_pm[\"latitude\"]=data[\"latitude\"].values\n",
    "    meta_data_pm[\"longitude\"]=data['longitude'].values\n",
    "    meta_data_pm[\"station_lan_lon\"]=lat_lon_station\n",
    "    meta_data_pm[\"station_id_name\"]=station['stn_name']\n",
    "    meta_data_pm[\"timestamp\"]=date_pd\n",
    "    \n",
    "    return tensor3d_pm,meta_data_pm\n"
   ]
  },
  {
   "cell_type": "code",
   "execution_count": 5,
   "id": "5e886b50",
   "metadata": {
    "ExecuteTime": {
     "end_time": "2023-09-03T11:40:20.782932Z",
     "start_time": "2023-09-03T11:40:20.754556Z"
    }
   },
   "outputs": [],
   "source": [
    "with open('new_lats_dict.json') as json_file:\n",
    "    new_lats_dict = json.load(json_file)\n",
    "inv_lats_dict = {value : int(key) for key, value in new_lats_dict.items()}  \n",
    "with open('new_lons_dict.json') as json_file:\n",
    "    new_lons_dict = json.load(json_file)\n",
    "inv_lons_dict = {value : int(key) for key, value in new_lons_dict.items()}  \n",
    "with open('pixel_to_station_id.pkl', 'rb') as f:\n",
    "    lat_lon_to_station_id = pickle.load(f)\n",
    "    \n",
    "with open(\"saved_turkey_lat_lon_cords\", \"rb\") as fp:   # Unpickling\n",
    "    saved_turkey_lat_lon_cords = pickle.load(fp)\n",
    "\n",
    "with open(\"saved_turkey_lat_lon_idx\", \"rb\") as fp:   # Unpickling\n",
    "    saved_turkey_lat_lon_idx = pickle.load(fp)\n",
    "    \n",
    "with open(\"saved_greece_lat_lon_cords\", \"rb\") as fp:   # Unpickling\n",
    "    saved_greece_lat_lon_cords= pickle.load(fp)\n",
    "\n",
    "with open(\"saved_greece_lat_lon_idx\", \"rb\") as fp:   # Unpickling\n",
    "    saved_greece_lat_lon_idx = pickle.load(fp)\n",
    "    \n",
    "saved_turkey_lat_lon_cords = convert_string_to_tuple_list(saved_turkey_lat_lon_cords)\n",
    "saved_turkey_lat_lon_cords.append((35.0,27.0))\n",
    "saved_turkey_lat_lon_cords.append((35.0, 45.5))\n",
    "\n",
    "\n",
    "with open(\"saved_turkey_and_greece_lat_lon_cords\", \"rb\") as fp:   # Unpickling\n",
    "    saved_turkey_and_greece_lat_lon_cords= pickle.load(fp)\n",
    "\n",
    "with open(\"saved_turkey_and_greece_lat_lon_idx\", \"rb\") as fp:   # Unpickling\n",
    "    saved_turkey_and_greece_lat_lon_idx = pickle.load(fp)\n"
   ]
  },
  {
   "cell_type": "code",
   "execution_count": 6,
   "id": "e69dba77",
   "metadata": {
    "ExecuteTime": {
     "end_time": "2023-09-03T11:40:22.326529Z",
     "start_time": "2023-09-03T11:40:22.323406Z"
    }
   },
   "outputs": [],
   "source": [
    "def check_timestamps(timestamps):\n",
    "    for i in range(len(timestamps) - 1):\n",
    "        current_timestamp = timestamps[i]\n",
    "        next_timestamp = timestamps[i + 1]\n",
    "        time_difference = current_timestamp  - next_timestamp\n",
    "\n",
    "        if time_difference != np.timedelta64(3, 'h'):\n",
    "            return False\n",
    "    \n",
    "    return True"
   ]
  },
  {
   "cell_type": "code",
   "execution_count": 7,
   "id": "4ab43874",
   "metadata": {
    "ExecuteTime": {
     "end_time": "2023-09-03T11:40:24.088394Z",
     "start_time": "2023-09-03T11:40:24.084394Z"
    }
   },
   "outputs": [],
   "source": [
    "def update_dict_keys(dict_to_update, lat_dict, lon_dict):\n",
    "    updated_dict = {}\n",
    "\n",
    "    min_lat, max_lat = min(lat_dict), max(lat_dict)\n",
    "    min_lon, max_lon = min(lon_dict), max(lon_dict)\n",
    "\n",
    "    for key, value in dict_to_update.items():\n",
    "        lat_lon = key.strip('[]').split()\n",
    "        lat = float(lat_lon[0])\n",
    "        lon = float(lat_lon[1])\n",
    "\n",
    "        if lat < min_lat or lat > max_lat or lon < min_lon or lon > max_lon:\n",
    "            continue\n",
    "\n",
    "        new_lat = lat_dict.get(lat, lat)\n",
    "        new_lon = lon_dict.get(lon, lon)\n",
    "\n",
    "        new_key = f'[{new_lat} {new_lon}]'\n",
    "        updated_dict[new_key] = value\n",
    "\n",
    "    return updated_dict\n",
    "\n",
    "from itertools import islice\n",
    "sliced_dict = dict(islice(inv_lons_dict.items(), 15))\n",
    "tensor_ids_stations_dict = update_dict_keys(lat_lon_to_station_id,inv_lats_dict,sliced_dict)"
   ]
  },
  {
   "cell_type": "code",
   "execution_count": 8,
   "id": "1ec081c3",
   "metadata": {
    "ExecuteTime": {
     "end_time": "2023-09-03T11:40:41.105399Z",
     "start_time": "2023-09-03T11:40:41.098124Z"
    }
   },
   "outputs": [],
   "source": [
    "colab_dir = \"/home/labs/rudich/Collaboration/dust_prediction/data\"\n",
    "meteo_dir = colab_dir+\"/interpolated_mean_normalized/\"\n",
    "meteo_de_dir = colab_dir+\"/meteorology_renormalization_tensors\"\n",
    "dust_dir = colab_dir+\"/dust_61368_108_2_339/\"\n",
    "\n",
    "meteo_meta = torch.load(meteo_dir+\"/meteorology_tensor_62_81_189_metadata.pkl\")\n",
    "dust_meta = torch.load(dust_dir+\"/dust_61368_108_2_339_metadata.pkl\")\n",
    "\n",
    "lons_dict = meteo_meta['dims']['lons']\n",
    "lats_dict = meteo_meta['dims']['lats']\n",
    "inv_lats_dict = {value : int(key) for key, value in lats_dict.items()}\n",
    "inv_lons_dict = {value : int(key) for key, value in lons_dict.items()} \n",
    "\n",
    "# lat_start, lat_end = 40, 75\n",
    "# lon_start, lon_end = 80, 117\n",
    "# lat_start, lat_end = 10, 75\n",
    "# lon_start, lon_end = 50, 117\n",
    "lat_start, lat_end = 10, 75\n",
    "lon_start, lon_end = 50, 117\n",
    "new_lats_dict = {i: lats_dict[i] for i in range(lat_start, lat_end)}\n",
    "new_lons_dict = {i: lons_dict[i] for i in range(lon_start, lon_end)}\n",
    "\n",
    "def replace_keys_with_sequential_integers(dictionary):\n",
    "    new_dict = {}\n",
    "    keys = list(dictionary.keys())\n",
    "    for i in range(len(keys)):\n",
    "        new_dict[i] = dictionary[keys[i]]\n",
    "    return new_dict\n",
    "\n",
    "new_lats_dict = replace_keys_with_sequential_integers(new_lats_dict)\n",
    "inv_dict_lats = {v:k for k, v in new_lats_dict.items()}\n",
    "new_lons_dict = replace_keys_with_sequential_integers(new_lons_dict)\n",
    "inv_dict_lons = {v:k for k, v in new_lons_dict.items()}"
   ]
  },
  {
   "cell_type": "code",
   "execution_count": 9,
   "id": "71b1779f",
   "metadata": {
    "ExecuteTime": {
     "end_time": "2023-09-03T11:40:58.626340Z",
     "start_time": "2023-09-03T11:40:58.152903Z"
    }
   },
   "outputs": [],
   "source": [
    "new_corrected = np.load('delta_new_model_.npy')"
   ]
  },
  {
   "cell_type": "code",
   "execution_count": 12,
   "id": "02e445bf-a9a4-40d3-af9c-3063d3df60da",
   "metadata": {},
   "outputs": [],
   "source": [
    "df['delta']= new_corrected"
   ]
  },
  {
   "cell_type": "code",
   "execution_count": 15,
   "id": "1a422b51-649d-46f2-ad08-2c84afd90761",
   "metadata": {},
   "outputs": [],
   "source": [
    "df['pm10_corrected'] = df.pm10 + df.delta"
   ]
  },
  {
   "cell_type": "code",
   "execution_count": 10,
   "id": "d1d49a6b",
   "metadata": {
    "ExecuteTime": {
     "end_time": "2023-09-03T11:54:33.300120Z",
     "start_time": "2023-09-03T11:53:16.258640Z"
    },
    "tags": []
   },
   "outputs": [],
   "source": [
    "df = pd.read_parquet('extened_test_small_ndvi.parquet_before_ndvi.gzip')"
   ]
  },
  {
   "cell_type": "code",
   "execution_count": 16,
   "id": "fdf72e0b-9815-4dcb-a51f-d10fd7422338",
   "metadata": {},
   "outputs": [
    {
     "data": {
      "text/html": [
       "<div>\n",
       "<style scoped>\n",
       "    .dataframe tbody tr th:only-of-type {\n",
       "        vertical-align: middle;\n",
       "    }\n",
       "\n",
       "    .dataframe tbody tr th {\n",
       "        vertical-align: top;\n",
       "    }\n",
       "\n",
       "    .dataframe thead th {\n",
       "        text-align: right;\n",
       "    }\n",
       "</style>\n",
       "<table border=\"1\" class=\"dataframe\">\n",
       "  <thead>\n",
       "    <tr style=\"text-align: right;\">\n",
       "      <th></th>\n",
       "      <th>time</th>\n",
       "      <th>lat_lon_coord</th>\n",
       "      <th>delta</th>\n",
       "      <th>pm10</th>\n",
       "      <th>stn_mesm</th>\n",
       "      <th>pm10_corrected</th>\n",
       "    </tr>\n",
       "  </thead>\n",
       "  <tbody>\n",
       "    <tr>\n",
       "      <th>0</th>\n",
       "      <td>2003-01-01 00:00:00+00:00</td>\n",
       "      <td>(15.0, -7.0)</td>\n",
       "      <td>-7.954271</td>\n",
       "      <td>70.524266</td>\n",
       "      <td>NaN</td>\n",
       "      <td>62.569995</td>\n",
       "    </tr>\n",
       "    <tr>\n",
       "      <th>1</th>\n",
       "      <td>2003-01-01 03:00:00+00:00</td>\n",
       "      <td>(15.0, -7.0)</td>\n",
       "      <td>12.434012</td>\n",
       "      <td>90.199691</td>\n",
       "      <td>NaN</td>\n",
       "      <td>102.633704</td>\n",
       "    </tr>\n",
       "    <tr>\n",
       "      <th>2</th>\n",
       "      <td>2003-01-01 06:00:00+00:00</td>\n",
       "      <td>(15.0, -7.0)</td>\n",
       "      <td>1.515370</td>\n",
       "      <td>109.875110</td>\n",
       "      <td>NaN</td>\n",
       "      <td>111.390480</td>\n",
       "    </tr>\n",
       "    <tr>\n",
       "      <th>3</th>\n",
       "      <td>2003-01-01 09:00:00+00:00</td>\n",
       "      <td>(15.0, -7.0)</td>\n",
       "      <td>-22.457926</td>\n",
       "      <td>80.513715</td>\n",
       "      <td>NaN</td>\n",
       "      <td>58.055789</td>\n",
       "    </tr>\n",
       "    <tr>\n",
       "      <th>4</th>\n",
       "      <td>2003-01-01 12:00:00+00:00</td>\n",
       "      <td>(15.0, -7.0)</td>\n",
       "      <td>23.226229</td>\n",
       "      <td>51.152313</td>\n",
       "      <td>NaN</td>\n",
       "      <td>74.378541</td>\n",
       "    </tr>\n",
       "  </tbody>\n",
       "</table>\n",
       "</div>"
      ],
      "text/plain": [
       "                       time lat_lon_coord      delta        pm10  stn_mesm  \\\n",
       "0 2003-01-01 00:00:00+00:00  (15.0, -7.0)  -7.954271   70.524266       NaN   \n",
       "1 2003-01-01 03:00:00+00:00  (15.0, -7.0)  12.434012   90.199691       NaN   \n",
       "2 2003-01-01 06:00:00+00:00  (15.0, -7.0)   1.515370  109.875110       NaN   \n",
       "3 2003-01-01 09:00:00+00:00  (15.0, -7.0) -22.457926   80.513715       NaN   \n",
       "4 2003-01-01 12:00:00+00:00  (15.0, -7.0)  23.226229   51.152313       NaN   \n",
       "\n",
       "   pm10_corrected  \n",
       "0       62.569995  \n",
       "1      102.633704  \n",
       "2      111.390480  \n",
       "3       58.055789  \n",
       "4       74.378541  "
      ]
     },
     "metadata": {},
     "output_type": "display_data"
    },
    {
     "data": {
      "text/html": [
       "<div>\n",
       "<style scoped>\n",
       "    .dataframe tbody tr th:only-of-type {\n",
       "        vertical-align: middle;\n",
       "    }\n",
       "\n",
       "    .dataframe tbody tr th {\n",
       "        vertical-align: top;\n",
       "    }\n",
       "\n",
       "    .dataframe thead th {\n",
       "        text-align: right;\n",
       "    }\n",
       "</style>\n",
       "<table border=\"1\" class=\"dataframe\">\n",
       "  <thead>\n",
       "    <tr style=\"text-align: right;\">\n",
       "      <th></th>\n",
       "      <th>time</th>\n",
       "      <th>lat_lon_coord</th>\n",
       "      <th>delta</th>\n",
       "      <th>pm10</th>\n",
       "      <th>stn_mesm</th>\n",
       "      <th>pm10_corrected</th>\n",
       "    </tr>\n",
       "  </thead>\n",
       "  <tbody>\n",
       "    <tr>\n",
       "      <th>228698465</th>\n",
       "      <td>2020-12-31 09:00:00+00:00</td>\n",
       "      <td>(47.0, 26.0)</td>\n",
       "      <td>10.405501</td>\n",
       "      <td>5.632606</td>\n",
       "      <td>NaN</td>\n",
       "      <td>16.038108</td>\n",
       "    </tr>\n",
       "    <tr>\n",
       "      <th>228698466</th>\n",
       "      <td>2020-12-31 12:00:00+00:00</td>\n",
       "      <td>(47.0, 26.0)</td>\n",
       "      <td>14.606208</td>\n",
       "      <td>2.253301</td>\n",
       "      <td>NaN</td>\n",
       "      <td>16.859509</td>\n",
       "    </tr>\n",
       "    <tr>\n",
       "      <th>228698467</th>\n",
       "      <td>2020-12-31 15:00:00+00:00</td>\n",
       "      <td>(47.0, 26.0)</td>\n",
       "      <td>10.904622</td>\n",
       "      <td>3.152334</td>\n",
       "      <td>NaN</td>\n",
       "      <td>14.056956</td>\n",
       "    </tr>\n",
       "    <tr>\n",
       "      <th>228698468</th>\n",
       "      <td>2020-12-31 18:00:00+00:00</td>\n",
       "      <td>(47.0, 26.0)</td>\n",
       "      <td>7.414813</td>\n",
       "      <td>4.051367</td>\n",
       "      <td>NaN</td>\n",
       "      <td>11.466179</td>\n",
       "    </tr>\n",
       "    <tr>\n",
       "      <th>228698469</th>\n",
       "      <td>2020-12-31 21:00:00+00:00</td>\n",
       "      <td>(47.0, 26.0)</td>\n",
       "      <td>3.937818</td>\n",
       "      <td>2.676739</td>\n",
       "      <td>NaN</td>\n",
       "      <td>6.614558</td>\n",
       "    </tr>\n",
       "  </tbody>\n",
       "</table>\n",
       "</div>"
      ],
      "text/plain": [
       "                               time lat_lon_coord      delta      pm10  \\\n",
       "228698465 2020-12-31 09:00:00+00:00  (47.0, 26.0)  10.405501  5.632606   \n",
       "228698466 2020-12-31 12:00:00+00:00  (47.0, 26.0)  14.606208  2.253301   \n",
       "228698467 2020-12-31 15:00:00+00:00  (47.0, 26.0)  10.904622  3.152334   \n",
       "228698468 2020-12-31 18:00:00+00:00  (47.0, 26.0)   7.414813  4.051367   \n",
       "228698469 2020-12-31 21:00:00+00:00  (47.0, 26.0)   3.937818  2.676739   \n",
       "\n",
       "           stn_mesm  pm10_corrected  \n",
       "228698465       NaN       16.038108  \n",
       "228698466       NaN       16.859509  \n",
       "228698467       NaN       14.056956  \n",
       "228698468       NaN       11.466179  \n",
       "228698469       NaN        6.614558  "
      ]
     },
     "metadata": {},
     "output_type": "display_data"
    }
   ],
   "source": [
    "display(df.head())\n",
    "display(df.tail())"
   ]
  },
  {
   "cell_type": "code",
   "execution_count": 11,
   "id": "a33ef151",
   "metadata": {
    "ExecuteTime": {
     "end_time": "2023-09-03T11:58:29.192692Z",
     "start_time": "2023-09-03T11:58:29.190793Z"
    }
   },
   "outputs": [],
   "source": [
    "df = df.assign(lat_lon_coord = convert_string_to_tuple_list(df.lat_lon_coord.values.tolist()))"
   ]
  },
  {
   "cell_type": "code",
   "execution_count": 26,
   "id": "eb921fb3",
   "metadata": {
    "ExecuteTime": {
     "end_time": "2023-09-03T11:57:55.898103Z",
     "start_time": "2023-09-03T11:57:55.222914Z"
    }
   },
   "outputs": [],
   "source": [
    "df2['pm10'] = df2['pm10'] * (10**9)"
   ]
  },
  {
   "cell_type": "code",
   "execution_count": 12,
   "id": "ee561a7b-5200-46b9-9b6e-da1f84e10a54",
   "metadata": {},
   "outputs": [
    {
     "data": {
      "text/html": [
       "<div>\n",
       "<style scoped>\n",
       "    .dataframe tbody tr th:only-of-type {\n",
       "        vertical-align: middle;\n",
       "    }\n",
       "\n",
       "    .dataframe tbody tr th {\n",
       "        vertical-align: top;\n",
       "    }\n",
       "\n",
       "    .dataframe thead th {\n",
       "        text-align: right;\n",
       "    }\n",
       "</style>\n",
       "<table border=\"1\" class=\"dataframe\">\n",
       "  <thead>\n",
       "    <tr style=\"text-align: right;\">\n",
       "      <th></th>\n",
       "      <th>time</th>\n",
       "      <th>lat_lon_coord</th>\n",
       "      <th>delta</th>\n",
       "      <th>pm10</th>\n",
       "      <th>stn_mesm</th>\n",
       "    </tr>\n",
       "  </thead>\n",
       "  <tbody>\n",
       "    <tr>\n",
       "      <th>0</th>\n",
       "      <td>2003-01-01 00:00:00+00:00</td>\n",
       "      <td>(15.0, -7.0)</td>\n",
       "      <td>1.047821</td>\n",
       "      <td>70.524266</td>\n",
       "      <td>NaN</td>\n",
       "    </tr>\n",
       "    <tr>\n",
       "      <th>1</th>\n",
       "      <td>2003-01-01 03:00:00+00:00</td>\n",
       "      <td>(15.0, -7.0)</td>\n",
       "      <td>21.225750</td>\n",
       "      <td>90.199691</td>\n",
       "      <td>NaN</td>\n",
       "    </tr>\n",
       "    <tr>\n",
       "      <th>2</th>\n",
       "      <td>2003-01-01 06:00:00+00:00</td>\n",
       "      <td>(15.0, -7.0)</td>\n",
       "      <td>32.248775</td>\n",
       "      <td>109.875110</td>\n",
       "      <td>NaN</td>\n",
       "    </tr>\n",
       "    <tr>\n",
       "      <th>3</th>\n",
       "      <td>2003-01-01 09:00:00+00:00</td>\n",
       "      <td>(15.0, -7.0)</td>\n",
       "      <td>37.717949</td>\n",
       "      <td>80.513715</td>\n",
       "      <td>NaN</td>\n",
       "    </tr>\n",
       "    <tr>\n",
       "      <th>4</th>\n",
       "      <td>2003-01-01 12:00:00+00:00</td>\n",
       "      <td>(15.0, -7.0)</td>\n",
       "      <td>36.743103</td>\n",
       "      <td>51.152313</td>\n",
       "      <td>NaN</td>\n",
       "    </tr>\n",
       "  </tbody>\n",
       "</table>\n",
       "</div>"
      ],
      "text/plain": [
       "                       time lat_lon_coord      delta        pm10  stn_mesm\n",
       "0 2003-01-01 00:00:00+00:00  (15.0, -7.0)   1.047821   70.524266       NaN\n",
       "1 2003-01-01 03:00:00+00:00  (15.0, -7.0)  21.225750   90.199691       NaN\n",
       "2 2003-01-01 06:00:00+00:00  (15.0, -7.0)  32.248775  109.875110       NaN\n",
       "3 2003-01-01 09:00:00+00:00  (15.0, -7.0)  37.717949   80.513715       NaN\n",
       "4 2003-01-01 12:00:00+00:00  (15.0, -7.0)  36.743103   51.152313       NaN"
      ]
     },
     "execution_count": 12,
     "metadata": {},
     "output_type": "execute_result"
    }
   ],
   "source": [
    "df.head()"
   ]
  },
  {
   "cell_type": "code",
   "execution_count": 29,
   "id": "4718f2f5",
   "metadata": {
    "ExecuteTime": {
     "end_time": "2023-09-03T12:26:02.108070Z",
     "start_time": "2023-09-03T11:58:59.144877Z"
    }
   },
   "outputs": [],
   "source": [
    "df = (df2\n",
    "      .pipe(lambda d: d.assign(lat_lon_coord = convert_string_to_tuple_list(d['lat_lon_coord'].values.tolist())))\n",
    "     )"
   ]
  },
  {
   "cell_type": "code",
   "execution_count": 11,
   "id": "98d43ecd",
   "metadata": {
    "ExecuteTime": {
     "end_time": "2023-09-03T11:48:56.514559Z",
     "start_time": "2023-09-03T11:41:01.389175Z"
    }
   },
   "outputs": [],
   "source": [
    "                \n",
    "# df = (#pd.read_csv('test_df.csv')\n",
    "#       pd.read_csv('extened_test_small.csv')\n",
    "# #       pd.read_parquet('extened_test_small_ndvi.parquet_before_ndvi.gzip')\n",
    "#       .pipe(lambda d: d.assign(lat_lon_coord = convert_string_to_tuple_list(d['lat_lon_coord'].values.tolist())))\n",
    "#      )\n",
    "\n"
   ]
  },
  {
   "cell_type": "code",
   "execution_count": 30,
   "id": "b5acc4b9",
   "metadata": {
    "ExecuteTime": {
     "end_time": "2023-09-03T12:31:51.314772Z",
     "start_time": "2023-09-03T12:31:51.309181Z"
    }
   },
   "outputs": [],
   "source": [
    "del df2"
   ]
  },
  {
   "cell_type": "code",
   "execution_count": 13,
   "id": "104d22a5",
   "metadata": {
    "ExecuteTime": {
     "end_time": "2023-09-03T12:32:57.654921Z",
     "start_time": "2023-09-03T12:32:11.313714Z"
    }
   },
   "outputs": [],
   "source": [
    "df[['lat', 'lon']] = pd.DataFrame(df['lat_lon_coord'].tolist(), index=df.index)\n",
    "\n",
    "df = (df\n",
    "      .assign(lat_index = df.lat.map(inv_dict_lats),\n",
    "              lon_index = df.lon.map(inv_dict_lons),\n",
    "              pm10_corrected = df.pm10 + df.delta\n",
    "              )\n",
    "     )"
   ]
  },
  {
   "cell_type": "code",
   "execution_count": null,
   "id": "d244f656-168d-4166-81ba-6fcc1e6b49be",
   "metadata": {},
   "outputs": [],
   "source": [
    "df.tail()"
   ]
  },
  {
   "cell_type": "code",
   "execution_count": 35,
   "id": "9376322b",
   "metadata": {
    "ExecuteTime": {
     "end_time": "2023-09-03T12:41:53.042644Z",
     "start_time": "2023-09-03T12:33:52.702192Z"
    }
   },
   "outputs": [],
   "source": [
    "df.to_parquet('df_checking_corr.gzip',\n",
    "              compression='gzip')  "
   ]
  },
  {
   "cell_type": "code",
   "execution_count": 2,
   "id": "a9f3ae75",
   "metadata": {
    "ExecuteTime": {
     "end_time": "2023-09-04T06:05:02.098834Z",
     "start_time": "2023-09-04T06:03:50.463177Z"
    }
   },
   "outputs": [],
   "source": [
    "df = pd.read_parquet('df_checking_corr.gzip')\n",
    "df['pm10_corrected'] = df['pm10_corrected'].clip(lower=0)"
   ]
  },
  {
   "cell_type": "code",
   "execution_count": 22,
   "id": "c41dc81e",
   "metadata": {
    "ExecuteTime": {
     "end_time": "2023-08-01T11:35:09.290702Z",
     "start_time": "2023-08-01T11:35:09.279834Z"
    }
   },
   "outputs": [],
   "source": [
    "# df_pm = pd.read_csv('df_pm_all.csv',index_col=0)\n",
    "# df_cord = pd.read_csv(\"/home/labs/rudich/sagima/TOAR/coordinates_pm.csv\")\n",
    "# df_cord = df_cord.rename(columns={df_cord.columns[0]:'station_id'})\n",
    "# df_cord = (df_cord \n",
    "#                        .rename(columns={'lng':'lon'})\n",
    "#                        .assign(stn_id=np.arange(0,df_cord.shape[0],1))\n",
    "#                         )\n"
   ]
  },
  {
   "cell_type": "code",
   "execution_count": 9,
   "id": "a51888d0",
   "metadata": {
    "ExecuteTime": {
     "end_time": "2023-08-01T11:35:09.299833Z",
     "start_time": "2023-08-01T11:35:09.291918Z"
    }
   },
   "outputs": [],
   "source": [
    "# def flatten_list(lst):\n",
    "#     flattened = []\n",
    "#     for item in lst:\n",
    "#         if isinstance(item, list):\n",
    "#             flattened.extend(flatten_list(item))\n",
    "#         else:\n",
    "#             flattened.append(item)\n",
    "#     return flattened\n",
    "\n",
    "\n",
    "# list_of_stations = sorted(flatten_list(list(tensor_ids_stations_dict.values())))\n",
    "# list_of_stations = [str(x) for x in list_of_stations]\n",
    "# a = (df_pm[list_of_stations]\n",
    "#      .reset_index()\n",
    "#      .pipe(lambda d:d.assign(time=pd.to_datetime(d['index'])))\n",
    "#     )\n",
    "# df['time'] = pd.to_datetime(df['time'])\n",
    "# filtered_df = a[a.time.isin(df['time'].unique().tolist())].drop(['index'],axis=1).set_index('time')"
   ]
  },
  {
   "cell_type": "code",
   "execution_count": 23,
   "id": "1641640a",
   "metadata": {
    "ExecuteTime": {
     "end_time": "2023-08-07T06:35:11.204021Z",
     "start_time": "2023-08-07T06:35:10.610156Z"
    }
   },
   "outputs": [],
   "source": [
    "greecee_stations = pd.read_csv('greecee_stations.csv')"
   ]
  },
  {
   "cell_type": "code",
   "execution_count": 14,
   "id": "6cbaf1f5",
   "metadata": {
    "ExecuteTime": {
     "end_time": "2023-07-30T11:23:30.881398Z",
     "start_time": "2023-07-30T11:23:30.878409Z"
    }
   },
   "outputs": [],
   "source": [
    "    # d = greecee_stations.drop('time',axis=1)\n",
    "\n",
    "# d_nan = d.isna()\n",
    "\n",
    "# d_bin = d>65\n",
    "# d_bin[d_nan] = np.nan\n",
    "# a = sorted(np.nansum(d_bin,  0) / 21000)\n",
    "\n",
    "# # d_bin.mean(0).plot()"
   ]
  },
  {
   "cell_type": "code",
   "execution_count": 24,
   "id": "8bd3b295",
   "metadata": {
    "ExecuteTime": {
     "end_time": "2023-08-07T06:35:11.510293Z",
     "start_time": "2023-08-07T06:35:11.206046Z"
    }
   },
   "outputs": [
    {
     "data": {
      "text/plain": [
       "51.01103196042011"
      ]
     },
     "execution_count": 24,
     "metadata": {},
     "output_type": "execute_result"
    }
   ],
   "source": [
    "def get_threshold(df):\n",
    "    df = df.set_index('time')\n",
    "    df.index = pd.to_datetime(df.index)\n",
    "\n",
    "    # Filter the DataFrame to include only June, July, and August\n",
    "    filtered_df = df[(df.index.month >= 6) & (df.index.month <= 8)]\n",
    "    # Calculate the mean (excluding null values)\n",
    "    mean_value = filtered_df.mean().dropna().mean()\n",
    "\n",
    "    # Calculate the standard deviation\n",
    "    std_value = filtered_df.std().dropna().mean()\n",
    "\n",
    "    # Calculate the final result by adding 2 times the standard deviation to the mean\n",
    "    result = mean_value + (2 * std_value)\n",
    "    \n",
    "    return result\n",
    "    \n",
    "threshold = get_threshold(greecee_stations)\n",
    "threshold"
   ]
  },
  {
   "cell_type": "code",
   "execution_count": 25,
   "id": "7b007cd4",
   "metadata": {
    "ExecuteTime": {
     "end_time": "2023-08-07T06:35:11.673125Z",
     "start_time": "2023-08-07T06:35:11.513701Z"
    }
   },
   "outputs": [
    {
     "name": "stdout",
     "output_type": "stream",
     "text": [
      "Number of values greater than threshold: 143312\n",
      "Occuerence Percentage 0.2250092633879507 \n"
     ]
    }
   ],
   "source": [
    "count = (greecee_stations.drop('time',axis=1)  >threshold).sum().sum()\n",
    "total = greecee_stations.reset_index().drop(['index','time'],axis=1).count().sum()\n",
    "print(\"Number of values greater than threshold:\", count)\n",
    "print(f'Occuerence Percentage {count/total} ')"
   ]
  },
  {
   "cell_type": "code",
   "execution_count": 26,
   "id": "9d9877b1",
   "metadata": {
    "ExecuteTime": {
     "end_time": "2023-08-07T09:41:41.748202Z",
     "start_time": "2023-08-07T09:41:41.280765Z"
    }
   },
   "outputs": [],
   "source": [
    "#Create classification\n",
    "greecee_stations2 = greecee_stations.set_index('time')\n",
    "df2 = pd.DataFrame(np.where(greecee_stations2 > threshold, 2, np.where(greecee_stations2.isnull(), 0, 1)), columns=greecee_stations2.columns)\n",
    "greecee_stations_classification = df2.assign(time = greecee_stations['time'].values )\n",
    "#remove bad stations\n",
    "d = greecee_stations_classification.set_index('time')\n",
    "take_out_bad_stations = d.columns[d.var(axis=0)!=0]\n",
    "greecee_stations_classification = greecee_stations_classification[take_out_bad_stations.tolist()].assign(time=greecee_stations['time'])\n",
    "num_stations = len(greecee_stations_classification.set_index('time').columns.tolist())"
   ]
  },
  {
   "cell_type": "markdown",
   "id": "909b90e7",
   "metadata": {},
   "source": [
    "# going to 10 levels"
   ]
  },
  {
   "cell_type": "code",
   "execution_count": 27,
   "id": "c1883769",
   "metadata": {
    "ExecuteTime": {
     "end_time": "2023-08-07T06:35:12.576279Z",
     "start_time": "2023-08-07T06:35:11.675097Z"
    }
   },
   "outputs": [],
   "source": [
    "# Flatten the DataFrame into a 1D array\n",
    "num_bins=10\n",
    "b=greecee_stations.drop('time',axis=1)\n",
    "torch_tensor = torch.tensor(b.values)\n",
    "torch_tensor[torch_tensor == 0] = np.nan\n",
    "\n",
    "non_null_values = torch_tensor[torch.logical_not(torch.isnan(torch_tensor))]\n",
    "thresholds = torch.tensor([torch.quantile(non_null_values, i/num_bins) for i in range(1, num_bins)])\n",
    "\n",
    "bins = torch.bucketize(non_null_values, thresholds)\n",
    "\n",
    "\n",
    "bins = torch.bucketize(non_null_values, thresholds)\n",
    "bins += 1\n",
    "torch_tensor[torch.logical_not(torch.isnan(torch_tensor))] = bins.to(torch.float64)\n",
    "\n",
    "torch_tensor[torch.isnan(torch_tensor)] = 0\n"
   ]
  },
  {
   "cell_type": "code",
   "execution_count": 28,
   "id": "0a098ca0",
   "metadata": {
    "ExecuteTime": {
     "end_time": "2023-08-07T06:35:12.581261Z",
     "start_time": "2023-08-07T06:35:12.577834Z"
    }
   },
   "outputs": [],
   "source": [
    "df_categories = pd.DataFrame(torch_tensor.numpy())"
   ]
  },
  {
   "cell_type": "code",
   "execution_count": 29,
   "id": "8d7d0751",
   "metadata": {
    "ExecuteTime": {
     "end_time": "2023-08-07T06:35:12.742664Z",
     "start_time": "2023-08-07T06:35:12.582709Z"
    }
   },
   "outputs": [],
   "source": [
    "df_categories.columns=greecee_stations.drop('time',axis=1).columns\n",
    "df_categories = df_categories.assign(time=greecee_stations['time'])"
   ]
  },
  {
   "cell_type": "code",
   "execution_count": 30,
   "id": "8ce04be2",
   "metadata": {
    "ExecuteTime": {
     "end_time": "2023-08-07T06:35:13.065932Z",
     "start_time": "2023-08-07T06:35:12.744154Z"
    }
   },
   "outputs": [],
   "source": [
    "\n",
    "d = df_categories.set_index('time')\n",
    "take_out_bad_stations = d.columns[d.var(axis=0)!=0]\n",
    "df_categories = df_categories[take_out_bad_stations.tolist()].assign(time=greecee_stations['time'])\n",
    "num_stations = len(df_categories.set_index('time').columns.tolist())"
   ]
  },
  {
   "cell_type": "code",
   "execution_count": 31,
   "id": "3763cf9f",
   "metadata": {
    "ExecuteTime": {
     "end_time": "2023-08-07T06:35:13.443571Z",
     "start_time": "2023-08-07T06:35:13.069491Z"
    }
   },
   "outputs": [
    {
     "data": {
      "text/plain": [
       "0.0     6612042\n",
       "3.0       64515\n",
       "1.0       64413\n",
       "6.0       64305\n",
       "9.0       63529\n",
       "5.0       63503\n",
       "8.0       63488\n",
       "10.0      63449\n",
       "7.0       62656\n",
       "2.0       62587\n",
       "4.0       62445\n",
       "Name: count, dtype: int64"
      ]
     },
     "execution_count": 31,
     "metadata": {},
     "output_type": "execute_result"
    }
   ],
   "source": [
    "df_categories.drop('time',axis=1).stack().value_counts()"
   ]
  },
  {
   "cell_type": "code",
   "execution_count": 32,
   "id": "29a0a15f",
   "metadata": {},
   "outputs": [],
   "source": [
    "# Creating a dict for stations/ids\n",
    "\n",
    "result_dict = {index: num for index, num in enumerate(df_categories.drop('time',axis=1).columns)}\n",
    "\n",
    "# print(result_dict)"
   ]
  },
  {
   "cell_type": "code",
   "execution_count": 33,
   "id": "5e37d575",
   "metadata": {
    "scrolled": true
   },
   "outputs": [
    {
     "data": {
      "text/plain": [
       "{0: '5134',\n",
       " 1: '5135',\n",
       " 2: '5136',\n",
       " 3: '5169',\n",
       " 4: '5173',\n",
       " 5: '5175',\n",
       " 6: '5176',\n",
       " 7: '5181',\n",
       " 8: '5182',\n",
       " 9: '5184',\n",
       " 10: '5185',\n",
       " 11: '5190',\n",
       " 12: '5191',\n",
       " 13: '5195',\n",
       " 14: '9937',\n",
       " 15: '9993',\n",
       " 16: '10108',\n",
       " 17: '10117',\n",
       " 18: '10162',\n",
       " 19: '10221',\n",
       " 20: '11154',\n",
       " 21: '11160',\n",
       " 22: '11166',\n",
       " 23: '11168',\n",
       " 24: '12303',\n",
       " 25: '12307',\n",
       " 26: '12347',\n",
       " 27: '12353',\n",
       " 28: '12405',\n",
       " 29: '12471',\n",
       " 30: '12501',\n",
       " 31: '12502',\n",
       " 32: '12518',\n",
       " 33: '12526',\n",
       " 34: '12528',\n",
       " 35: '14311',\n",
       " 36: '25143',\n",
       " 37: '27512',\n",
       " 38: '27517',\n",
       " 39: '27518',\n",
       " 40: '27522',\n",
       " 41: '27523',\n",
       " 42: '27524',\n",
       " 43: '27527',\n",
       " 44: '27530',\n",
       " 45: '27531',\n",
       " 46: '27535',\n",
       " 47: '27542',\n",
       " 48: '27545',\n",
       " 49: '46235',\n",
       " 50: '46236',\n",
       " 51: '46237',\n",
       " 52: '46238',\n",
       " 53: '46239',\n",
       " 54: '46240',\n",
       " 55: '46241',\n",
       " 56: '46242',\n",
       " 57: '46243',\n",
       " 58: '46244',\n",
       " 59: '46245',\n",
       " 60: '46246',\n",
       " 61: '46247',\n",
       " 62: '46248',\n",
       " 63: '46249',\n",
       " 64: '46250',\n",
       " 65: '46251',\n",
       " 66: '46252',\n",
       " 67: '46253',\n",
       " 68: '46254',\n",
       " 69: '46255',\n",
       " 70: '46256',\n",
       " 71: '46257',\n",
       " 72: '46258',\n",
       " 73: '46259',\n",
       " 74: '46260',\n",
       " 75: '46261',\n",
       " 76: '46262',\n",
       " 77: '46263',\n",
       " 78: '46264',\n",
       " 79: '46265',\n",
       " 80: '46266',\n",
       " 81: '46267',\n",
       " 82: '46268',\n",
       " 83: '46269',\n",
       " 84: '46270',\n",
       " 85: '46271',\n",
       " 86: '46272',\n",
       " 87: '46273',\n",
       " 88: '46274',\n",
       " 89: '46275',\n",
       " 90: '46276',\n",
       " 91: '46277',\n",
       " 92: '46278',\n",
       " 93: '46279',\n",
       " 94: '46280',\n",
       " 95: '46281',\n",
       " 96: '46282',\n",
       " 97: '46283',\n",
       " 98: '46284',\n",
       " 99: '46285',\n",
       " 100: '46286',\n",
       " 101: '46287',\n",
       " 102: '46288',\n",
       " 103: '46289',\n",
       " 104: '46290',\n",
       " 105: '46291',\n",
       " 106: '46292',\n",
       " 107: '46293',\n",
       " 108: '46294',\n",
       " 109: '46295',\n",
       " 110: '46296',\n",
       " 111: '46297',\n",
       " 112: '46298',\n",
       " 113: '46299',\n",
       " 114: '46300',\n",
       " 115: '46301',\n",
       " 116: '51520',\n",
       " 117: '51521',\n",
       " 118: '51522',\n",
       " 119: '51523',\n",
       " 120: '51524',\n",
       " 121: '51525',\n",
       " 122: '51526',\n",
       " 123: '51527',\n",
       " 124: '51528',\n",
       " 125: '51529',\n",
       " 126: '51530',\n",
       " 127: '51531',\n",
       " 128: '51532',\n",
       " 129: '51533',\n",
       " 130: '51534',\n",
       " 131: '51535',\n",
       " 132: '56607',\n",
       " 133: '56722',\n",
       " 134: '56803',\n",
       " 135: '57634',\n",
       " 136: '57643',\n",
       " 137: '57646'}"
      ]
     },
     "execution_count": 33,
     "metadata": {},
     "output_type": "execute_result"
    }
   ],
   "source": [
    "result_dict"
   ]
  },
  {
   "cell_type": "code",
   "execution_count": 34,
   "id": "fc2a0369",
   "metadata": {
    "ExecuteTime": {
     "end_time": "2023-08-07T06:35:14.864539Z",
     "start_time": "2023-08-07T06:35:13.445642Z"
    }
   },
   "outputs": [],
   "source": [
    "# tensor = torch.load('test_df_to_tensor_extended.pt')\n",
    "# tensor_with_correction = torch.load('test_df_to_tensor_correction_extended.pt')\n",
    "final_tensor = torch.load('final_test_tensor.pt')\n",
    "\n",
    "#index 0 in channels is pm10, index 1 is pm10 with correction"
   ]
  },
  {
   "cell_type": "markdown",
   "id": "5a7edd80",
   "metadata": {
    "ExecuteTime": {
     "end_time": "2023-07-25T11:07:50.876316Z",
     "start_time": "2023-07-25T11:07:50.850498Z"
    },
    "heading_collapsed": true
   },
   "source": [
    "## Trying different thresholds for each staion"
   ]
  },
  {
   "cell_type": "code",
   "execution_count": 9,
   "id": "e1d250d0",
   "metadata": {
    "ExecuteTime": {
     "end_time": "2023-07-30T12:16:50.204808Z",
     "start_time": "2023-07-30T12:16:49.734803Z"
    },
    "hidden": true
   },
   "outputs": [],
   "source": [
    "def get_threshold_for_columns(df):\n",
    "    df = df.set_index('time')\n",
    "    df.index = pd.to_datetime(df.index)\n",
    "\n",
    "    # Filter the DataFrame to include only June, July, and August\n",
    "    filtered_df = df[(df.index.month >= 6) & (df.index.month <= 8)]\n",
    "\n",
    "    # Calculate the mean (excluding null values) for each column\n",
    "    mean_values = filtered_df.mean(skipna=True)\n",
    "\n",
    "    # Calculate the standard deviation for each column\n",
    "    std_values = filtered_df.std(skipna=True)\n",
    "\n",
    "    # Calculate the final result for each column by adding 2 times the standard deviation to the mean\n",
    "    result = mean_values + (2 * std_values)\n",
    "    \n",
    "    return result\n",
    "thresholds = get_threshold_for_columns(greecee_stations)"
   ]
  },
  {
   "cell_type": "code",
   "execution_count": 10,
   "id": "30f11b7f",
   "metadata": {
    "ExecuteTime": {
     "end_time": "2023-07-30T12:16:51.371148Z",
     "start_time": "2023-07-30T12:16:50.741806Z"
    },
    "hidden": true
   },
   "outputs": [
    {
     "data": {
      "text/plain": [
       "138"
      ]
     },
     "execution_count": 10,
     "metadata": {},
     "output_type": "execute_result"
    }
   ],
   "source": [
    "\n",
    "greecee_stations2 = greecee_stations.set_index('time')\n",
    "\n",
    "mask_null = greecee_stations2.isnull()\n",
    "\n",
    "masks_above = [greecee_stations2[col] > threshold if not pd.isnull(threshold) else False for col, threshold in zip(greecee_stations2.columns, thresholds)]\n",
    "masks_below = [greecee_stations2[col] < threshold if not pd.isnull(threshold) else False for col, threshold in zip(greecee_stations2.columns, thresholds)]\n",
    "\n",
    "\n",
    "df2 = greecee_stations2.copy()\n",
    "\n",
    "for col, mask_above, mask_below in zip(greecee_stations2.columns, masks_above, masks_below):\n",
    "    df2[col] = np.where(mask_above, 2, np.where(mask_below, 1, np.where(mask_null[col], 0, df2[col])))\n",
    "\n",
    "greecee_stations_classification = df2.assign(time = greecee_stations['time'].values )\n",
    "#remove bad stations\n",
    "d = greecee_stations_classification.set_index('time')\n",
    "take_out_bad_stations = d.columns[d.var(axis=0)!=0]\n",
    "greecee_stations_classification = greecee_stations_classification[take_out_bad_stations.tolist()].astype('int8').reset_index().rename(columns={'0':'time'})\n",
    "num_stations = len(greecee_stations_classification.set_index('time').columns.tolist()) ;num_stations"
   ]
  },
  {
   "cell_type": "code",
   "execution_count": 44,
   "id": "304c7c06",
   "metadata": {
    "ExecuteTime": {
     "end_time": "2023-07-30T10:55:47.836123Z",
     "start_time": "2023-07-30T10:55:47.824972Z"
    },
    "hidden": true,
    "scrolled": true
   },
   "outputs": [],
   "source": [
    "# Creating a dict for stations/ids\n",
    "\n",
    "result_dict = {index: num for index, num in enumerate(greecee_stations_classification.drop('time',axis=1).columns)}\n",
    "\n",
    "# print(result_dict)"
   ]
  },
  {
   "cell_type": "code",
   "execution_count": 18,
   "id": "8efabd9f",
   "metadata": {
    "ExecuteTime": {
     "end_time": "2023-07-30T11:23:39.464434Z",
     "start_time": "2023-07-30T11:23:38.206005Z"
    },
    "hidden": true
   },
   "outputs": [],
   "source": []
  },
  {
   "cell_type": "markdown",
   "id": "617f7142",
   "metadata": {},
   "source": [
    "# Transform into tensor"
   ]
  },
  {
   "cell_type": "code",
   "execution_count": 19,
   "id": "add3fc96-ddbc-479b-bfc9-5bb975eb123c",
   "metadata": {},
   "outputs": [
    {
     "name": "stderr",
     "output_type": "stream",
     "text": [
      "100%|███████████████████████████████████████████████████████████████████████████████| 4355/4355 [59:44<00:00,  1.22it/s]\n"
     ]
    }
   ],
   "source": [
    "grouped_dict = dict(list(df.groupby('lat_lon_coord')))\n",
    "\n",
    "\n",
    "tensor_shape = (len(grouped_dict[next(iter(grouped_dict))]), 2, int(df['lat_index'].max() + 1), int(df['lon_index'].max() + 1))\n",
    "\n",
    "\n",
    "tensor = torch.zeros(tensor_shape)\n",
    "\n",
    "\n",
    "lat_indices = df['lat_index'].values\n",
    "lon_indices = df['lon_index'].values\n",
    "\n",
    "for i, (key, group) in enumerate(tqdm(grouped_dict.items())):\n",
    "    lat_index = lat_indices[group.index]\n",
    "    lon_index = lon_indices[group.index]\n",
    "    pm10_values = group['pm10'].values\n",
    "    pm10_values_corrected = group['pm10_corrected'].values\n",
    "    \n",
    "    tensor[:, 0, lat_index, lon_index] = torch.from_numpy(pm10_values).to(tensor)\n",
    "\n",
    "    tensor[:, 1, lat_index, lon_index] = torch.from_numpy(pm10_values_corrected).to(tensor)"
   ]
  },
  {
   "cell_type": "code",
   "execution_count": 21,
   "id": "e36932f3-adaf-4cb7-b33c-f9d9dc0a1ab1",
   "metadata": {},
   "outputs": [],
   "source": [
    "torch.save(tensor,'tensor_new_correction_model.pt')"
   ]
  },
  {
   "cell_type": "code",
   "execution_count": 14,
   "id": "4b75abc5",
   "metadata": {
    "ExecuteTime": {
     "end_time": "2023-09-04T09:22:21.984410Z",
     "start_time": "2023-09-04T06:20:57.846566Z"
    }
   },
   "outputs": [
    {
     "name": "stderr",
     "output_type": "stream",
     "text": [
      "100%|█████████████████████████████████████████████████████████████████████████████| 4355/4355 [2:56:16<00:00,  2.43s/it]\n"
     ]
    }
   ],
   "source": [
    "# Group the DataFrame by 'lat_lon_coord'\n",
    "grouped = df.groupby('lat_lon_coord')\n",
    "\n",
    "#index 0 in channels is pm10, index 1 is pm10 with correction\n",
    "\n",
    "# Create an empty tensor\n",
    "tensor_shape = (grouped.size().values[0], 2, int(df['lat_index'].max() + 1), int(df['lon_index'].max() + 1))\n",
    "tensor = torch.zeros(tensor_shape)\n",
    "\n",
    "# Iterate over each group\n",
    "for i, (_, group) in enumerate(tqdm(grouped)):\n",
    "    lat_index = group['lat_index'].values[0]\n",
    "    lon_index = group['lon_index'].values[0]\n",
    "    for t in range(grouped.size().values[0]):\n",
    "        pm10_value = group['pm10'].values[t]\n",
    "        pm10_value_corrected = group['pm10_corrected'].values[t]\n",
    "        tensor[t, 0, lat_index, lon_index] = pm10_value\n",
    "        tensor[t, 1, lat_index, lon_index] = pm10_value_corrected\n",
    "\n"
   ]
  },
  {
   "cell_type": "code",
   "execution_count": 15,
   "id": "0c70359b",
   "metadata": {
    "ExecuteTime": {
     "end_time": "2023-09-04T09:23:19.114874Z",
     "start_time": "2023-09-04T09:23:14.985713Z"
    }
   },
   "outputs": [],
   "source": [
    "torch.save(tensor,'tensor_new_correction_model2.pt')"
   ]
  },
  {
   "cell_type": "code",
   "execution_count": null,
   "id": "961b9c49",
   "metadata": {
    "ExecuteTime": {
     "end_time": "2023-07-20T09:57:59.579330Z",
     "start_time": "2023-07-20T09:57:59.555177Z"
    }
   },
   "outputs": [],
   "source": [
    "# # Group the DataFrame by 'lat_lon_coord'\n",
    "# grouped = df.groupby('lat_lon_coord')\n",
    "\n",
    "# #index 0 in channels is pm10, index 1 is stn_mesm\n",
    "\n",
    "# # Create an empty tensor\n",
    "# tensor_shape = (grouped.size().values[0], 2, int(df['lat_index'].max() + 1), int(df['lon_index'].max() + 1))\n",
    "# tensor = torch.zeros(tensor_shape)\n",
    "\n",
    "# # Iterate over each group\n",
    "# for i, (_, group) in tqdm(enumerate(grouped)):\n",
    "#     lat_index = group['lat_index'].values[0]\n",
    "#     lon_index = group['lon_index'].values[0]\n",
    "#     for t in range(grouped.size().values[0]):\n",
    "#         pm10_value = group['pm10'].values[t]\n",
    "#         label_value = group['stn_mesm'].values[t]\n",
    "#         tensor[t, 0, 0, lat_index, lon_index] = pm10_value\n",
    "#         tensor[t, 1, 0, lat_index, lon_index] = label_value\n",
    "\n"
   ]
  },
  {
   "cell_type": "code",
   "execution_count": null,
   "id": "12cf31e0",
   "metadata": {
    "ExecuteTime": {
     "end_time": "2023-07-20T09:57:59.609734Z",
     "start_time": "2023-07-20T09:57:59.581083Z"
    }
   },
   "outputs": [],
   "source": [
    "# # Group the DataFrame by 'lat_lon_coord'\n",
    "# grouped = df.groupby('lat_lon_coord')\n",
    "\n",
    "# #index 0 in channels is pm10, index 1 is stn_mesm\n",
    "\n",
    "# # Create an empty tensor\n",
    "# tensor_shape = (grouped.size().values[0], 2, int(df['lat_index'].max() + 1), int(df['lon_index'].max() + 1))\n",
    "# tensor_with_correction = torch.zeros(tensor_shape)\n",
    "\n",
    "# # Iterate over each group\n",
    "# for i, (_, group) in tqdm(enumerate(grouped)):\n",
    "#     lat_index = group['lat_index'].values[0]\n",
    "#     lon_index = group['lon_index'].values[0]\n",
    "#     for t in range(grouped.size().values[0]):\n",
    "#         pm10_value = group['pm10_corrected'].values[t] #group contains all elments of a given pixel(len == 52514)\n",
    "#         label_value = group['stn_mesm'].values[t]\n",
    "#         tensor_with_correction[t, 0, lat_index, lon_index] = pm10_value\n",
    "#         tensor_with_correction[t, 1, lat_index, lon_index] = label_value\n",
    "\n"
   ]
  },
  {
   "cell_type": "code",
   "execution_count": 12,
   "id": "137dbe97",
   "metadata": {
    "ExecuteTime": {
     "end_time": "2023-07-25T06:49:48.303661Z",
     "start_time": "2023-07-25T06:49:11.491614Z"
    }
   },
   "outputs": [],
   "source": [
    "# torch.save(tensor,'test_df_to_tensor_extended.pt')\n",
    "# torch.save(tensor_with_correction,'test_df_to_tensor_correction_extended.pt')\n",
    "# tensor = torch.load('test_df_to_tensor.pt')\n",
    "# tensor_with_correction = torch.load('test_df_to_tensor_correction.pt')\n",
    "tensor = torch.load('test_df_to_tensor_extended.pt')\n",
    "tensor_with_correction = torch.load('test_df_to_tensor_correction_extended.pt')"
   ]
  },
  {
   "cell_type": "raw",
   "id": "a2632a1e",
   "metadata": {
    "ExecuteTime": {
     "end_time": "2023-07-20T13:12:31.666307Z",
     "start_time": "2023-07-20T13:12:31.662587Z"
    }
   },
   "source": [
    "tensor.shape"
   ]
  },
  {
   "cell_type": "code",
   "execution_count": 15,
   "id": "39e33848",
   "metadata": {},
   "outputs": [
    {
     "data": {
      "text/plain": [
       "<matplotlib.colorbar.Colorbar at 0x2ac4617561d0>"
      ]
     },
     "execution_count": 15,
     "metadata": {},
     "output_type": "execute_result"
    },
    {
     "data": {
      "image/png": "[encoded data removed]",
      "text/plain": [
       "<Figure size 640x480 with 2 Axes>"
      ]
     },
     "metadata": {},
     "output_type": "display_data"
    }
   ],
   "source": [
    "plt.imshow(tensor[51549,1,:,:],origin='lower')\n",
    "\n",
    "plt.colorbar()"
   ]
  },
  {
   "cell_type": "code",
   "execution_count": 16,
   "id": "139071bb",
   "metadata": {},
   "outputs": [
    {
     "data": {
      "text/plain": [
       "<matplotlib.colorbar.Colorbar at 0x2ac4618ea6e0>"
      ]
     },
     "execution_count": 16,
     "metadata": {},
     "output_type": "execute_result"
    },
    {
     "data": {
      "image/png": "[encoded data removed]",
      "text/plain": [
       "<Figure size 640x480 with 2 Axes>"
      ]
     },
     "metadata": {},
     "output_type": "display_data"
    }
   ],
   "source": [
    "plt.imshow(tensor[51549,0,:,:],origin='lower')\n",
    "\n",
    "plt.colorbar()"
   ]
  },
  {
   "cell_type": "code",
   "execution_count": null,
   "id": "d7687b70",
   "metadata": {},
   "outputs": [],
   "source": [
    "# plt.imshow(tensor_with_correction[50549,0,:,:],origin='lower')\n",
    "# plt.colorbar()"
   ]
  },
  {
   "cell_type": "raw",
   "id": "3bc0e85d",
   "metadata": {},
   "source": []
  },
  {
   "cell_type": "markdown",
   "id": "ade2a6c7",
   "metadata": {
    "heading_collapsed": true
   },
   "source": [
    "# Regression"
   ]
  },
  {
   "cell_type": "code",
   "execution_count": null,
   "id": "159f9874",
   "metadata": {
    "hidden": true
   },
   "outputs": [],
   "source": []
  },
  {
   "cell_type": "code",
   "execution_count": null,
   "id": "049b334a",
   "metadata": {
    "hidden": true
   },
   "outputs": [],
   "source": [
    "class CustomDataset(Dataset):\n",
    "    def __init__(self, tensor_input, dataframe_target,label_tensor):\n",
    "        self.tensor_input = tensor_input\n",
    "        self.dataframe_target = dataframe_target\n",
    "        self.label_tensor = label_tensor\n",
    "\n",
    "    def __len__(self):\n",
    "        return self.tensor_input.shape[0]  # Number of samples\n",
    "\n",
    "    def __getitem__(self, index,time_to_predict=24,lookback_num=3):\n",
    "        \n",
    "        # Check the condition for the current index\n",
    "        if index >= lookback_num: \n",
    "            a = filtered_target_dataframe.loc[index-lookback_num:index-2,'time'].values\n",
    "            t = np.append(a,filtered_target_dataframe.loc[index-1,'time'].to_numpy())\n",
    "            if check_timestamps(t[::-1]):\n",
    "                c = np.arange(index-lookback_num,index+1)\n",
    "                input_data = self.tensor_input[c,:,:,:]\n",
    "                input_data = input_data.view(len(c),input_data.shape[2], input_data.shape[3])\n",
    "\n",
    "        if index < lookback_num or not check_timestamps(t[::-1]):\n",
    "            input_data = torch.full((1,1),-999) #error indicator\n",
    "\n",
    "\n",
    "        \n",
    "        #handling Target data\n",
    "        \n",
    "        X_timestamp = self.dataframe_target.loc[index,'time']\n",
    "        target_timestamp = X_timestamp + pd.DateOffset(hours=time_to_predict)\n",
    "        matching_row = self.dataframe_target[self.dataframe_target['time'] == target_timestamp]\n",
    "\n",
    "        if len(matching_row) > 0:\n",
    "\n",
    "            matching_row = matching_row.index.values[0]\n",
    "            target_data = self.label_tensor[matching_row]\n",
    "#             print(f' if_point {target_data.shape}')\n",
    "            \n",
    "        else:\n",
    "#             print(f' X timestamp {X_timestamp}, no corresponding futuretimestamp')\n",
    "            target_data = torch.full((1,self.label_tensor.shape[1]), float('nan'))[0]\n",
    "#             print(f'else_point {target_data.shape}')\n",
    "\n",
    "        return input_data, target_data\n",
    "\n",
    "class SequentialDataset(Dataset):\n",
    "    def __init__(self, data):\n",
    "        self.data = data\n",
    "    \n",
    "    def __getitem__(self, index):\n",
    "        X, y = self.data[index]\n",
    "        return X, y\n",
    "\n",
    "    def __len__(self):\n",
    "        return len(self.data)\n",
    "    \n",
    "    \n",
    "device = torch.device('cuda:0' if torch.cuda.is_available() else 'cpu')"
   ]
  },
  {
   "cell_type": "code",
   "execution_count": null,
   "id": "d18133a9",
   "metadata": {
    "hidden": true
   },
   "outputs": [],
   "source": [
    "rows_to_keep = (~greecee_stations.isnull().all(axis=1))\n",
    "\n",
    "# Filter tensor input and target dataframe\n",
    "filtered_input_tensor = tensor[rows_to_keep][:,:1,:,:]\n",
    "filtered_target_dataframe = (\n",
    "                             greecee_stations[rows_to_keep]\n",
    "                             .pipe(lambda d:d.assign(time = pd.to_datetime(d.time)))\n",
    "                             .reset_index(drop=True)\n",
    "                            )\n",
    "label_tensor = torch.tensor(filtered_target_dataframe.drop('time',axis=1).values, dtype=torch.float32)\n",
    "\n",
    "original_dataset = CustomDataset(filtered_input_tensor,filtered_target_dataframe.reset_index(drop=True),label_tensor)\n",
    "filtered_data = [(X, y) for X, y in original_dataset if not torch.all(X.eq(-999))]\n",
    "new_dataset = SequentialDataset(filtered_data)\n",
    "train_dataset, test_dataset = train_test_split(new_dataset, test_size=0.2, random_state=42)\n",
    "\n",
    "# Create data loaders\n",
    "batch_size = 32  # Set your desired batch size\n",
    "trainloader = DataLoader(train_dataset, batch_size=batch_size, shuffle=True)\n",
    "testloader = DataLoader(test_dataset, batch_size=batch_size, shuffle=False)\n",
    "\n",
    "# Print a few batches from the train loader\n",
    "print(\"Train Loader:\")\n",
    "for batch_idx, (images, labels) in enumerate(trainloader):\n",
    "    print(f\"Batch {batch_idx}:\")\n",
    "    print(\"Images shape:\", images.shape)\n",
    "    print(\"Labels shape:\", labels.shape)\n",
    "    print()\n",
    "\n",
    "# Print a few batches from the test loader\n",
    "print(\"Test Loader:\")\n",
    "for batch_idx, (images, labels) in enumerate(testloader):\n",
    "    print(f\"Batch {batch_idx}:\")\n",
    "    print(\"Images shape:\", images.shape)\n",
    "    print(\"Labels shape:\", labels.shape)\n",
    "    print()"
   ]
  },
  {
   "cell_type": "code",
   "execution_count": null,
   "id": "516f2a55",
   "metadata": {
    "hidden": true
   },
   "outputs": [],
   "source": [
    "import torch\n",
    "import torch.nn as nn\n",
    "\n",
    "from torchvision import datasets, transforms\n",
    "from torch import nn, optim\n",
    "import torch.nn.functional as F\n",
    "import torchvision\n",
    "import os\n",
    "\n",
    "class IgnoringNullMSELoss(nn.Module):\n",
    "    def __init__(self):\n",
    "        super(IgnoringNullMSELoss, self).__init__()\n",
    "\n",
    "    def forward(self, input_tensor, target_tensor):\n",
    "        mask = ~torch.isnan(target_tensor)  # Create a mask for non-null values\n",
    "        masked_input = input_tensor[mask]\n",
    "        masked_target = target_tensor[mask]\n",
    "\n",
    "        mse = nn.MSELoss(reduction='mean')(masked_input, masked_target)\n",
    "\n",
    "        return mse\n",
    "    \n",
    "class CrossEntropyLossWithIgnore(nn.Module):\n",
    "    def __init__(self, ignore_label):\n",
    "        super(CrossEntropyLossWithIgnore, self).__init__()\n",
    "        self.ignore_label = ignore_label\n",
    "\n",
    "    def forward(self, predictions, targets):\n",
    "        mask = (targets != self.ignore_label).float()  # Create a mask where 1 indicates non-ignored labels\n",
    "        num_examples = mask.sum()  # Count the number of non-ignored examples\n",
    "        \n",
    "        # Apply the mask to the targets and predictions tensors\n",
    "        masked_targets = targets * mask\n",
    "        masked_predictions = predictions * mask\n",
    "        \n",
    "        # Calculate the cross entropy loss with masked targets and predictions\n",
    "        loss = F.cross_entropy(masked_predictions, masked_targets, reduction='sum')\n",
    "        \n",
    "        # Normalize the loss by the number of non-ignored examples\n",
    "        loss /= num_examples\n",
    "        \n",
    "        return loss\n",
    "    \n",
    "class IgnoringTwoCrossEntropyLoss(nn.Module):\n",
    "    def __init__(self):\n",
    "        super(IgnoringTwoCrossEntropyLoss, self).__init__()\n",
    "\n",
    "    def forward(self, inputs, targets):\n",
    "        \n",
    "        print(inputs.shape)\n",
    "        print(targets.shape)\n",
    "        weights = torch.ones_like(targets)\n",
    "        weights[targets == 0] = 0\n",
    "\n",
    "\n",
    "        # Calculate the loss using the filtered predictions and targets\n",
    "        loss = nn.CrossEntropyLoss()(inputs, targets,weight=weights)\n",
    "        return loss\n",
    "    \n",
    "# Define the Residual Block\n",
    "class ResidualBlock(nn.Module):\n",
    "    def __init__(self, in_channels, out_channels, stride=1):\n",
    "        super(ResidualBlock, self).__init__()\n",
    "\n",
    "        self.conv1 = nn.Conv2d(in_channels, out_channels, kernel_size=3, stride=stride, padding=1, bias=False)\n",
    "        self.bn1 = nn.BatchNorm2d(out_channels)\n",
    "        self.relu = nn.ReLU(inplace=True)\n",
    "        self.conv2 = nn.Conv2d(out_channels, out_channels, kernel_size=3, stride=1, padding=1, bias=False)\n",
    "        self.bn2 = nn.BatchNorm2d(out_channels)\n",
    "\n",
    "        if stride != 1 or in_channels != out_channels:\n",
    "            self.shortcut = nn.Sequential(\n",
    "                nn.Conv2d(in_channels, out_channels, kernel_size=1, stride=stride, bias=False),\n",
    "                nn.BatchNorm2d(out_channels)\n",
    "            )\n",
    "        else:\n",
    "            self.shortcut = nn.Identity()\n",
    "\n",
    "    def forward(self, x):\n",
    "        identity = self.shortcut(x)\n",
    "\n",
    "        out = self.conv1(x)\n",
    "        out = self.bn1(out)\n",
    "        out = self.relu(out)\n",
    "\n",
    "        out = self.conv2(out)\n",
    "        out = self.bn2(out)\n",
    "\n",
    "        out += identity\n",
    "        out = self.relu(out)\n",
    "\n",
    "        return out\n",
    "\n",
    "# Define the Regression ResNet model\n",
    "class RegressionResNet(nn.Module):\n",
    "    def __init__(self, input_shape):\n",
    "        super(RegressionResNet, self).__init__()\n",
    "\n",
    "        channel, lat_index, lon_index = input_shape\n",
    "\n",
    "        self.conv1 = nn.Conv2d(channel, 64, kernel_size=7, stride=2, padding=3, bias=False)\n",
    "        self.bn1 = nn.BatchNorm2d(64)\n",
    "        self.relu = nn.ReLU(inplace=True)\n",
    "        self.maxpool = nn.MaxPool2d(kernel_size=3, stride=2, padding=1)\n",
    "\n",
    "        self.stage1 = self.make_stage(64, 64, num_blocks=1, stride=1)\n",
    "        self.stage2 = self.make_stage(64, 128, num_blocks=2, stride=2)\n",
    "        self.stage3 = self.make_stage(128, 256, num_blocks=2, stride=2)\n",
    "        self.stage4 = self.make_stage(256, 512, num_blocks=2, stride=2)\n",
    "\n",
    "        self.avgpool = nn.AdaptiveAvgPool2d((1, 1))\n",
    "        self.fc1 = nn.Linear(512, 256)\n",
    "        self.dropout1 = nn.Dropout(0.5)\n",
    "        self.fc2 = nn.Linear(256, 142)\n",
    "\n",
    "    def make_stage(self, in_channels, out_channels, num_blocks, stride):\n",
    "        layers = []\n",
    "        layers.append(ResidualBlock(in_channels, out_channels, stride=stride))\n",
    "        for _ in range(1, num_blocks):\n",
    "            layers.append(ResidualBlock(out_channels, out_channels))\n",
    "\n",
    "        return nn.Sequential(*layers)\n",
    "\n",
    "    def forward(self, x):\n",
    "#         print(x.shape, 'level 1')\n",
    "\n",
    "        out = self.conv1(x)\n",
    "        out = self.bn1(out)\n",
    "        out = self.relu(out)\n",
    "        out = self.maxpool(out)\n",
    "#         print(out.shape,'level 2')\n",
    "        out = self.stage1(out)\n",
    "        out = self.stage2(out)\n",
    "        out = self.stage3(out)\n",
    "        out = self.stage4(out)\n",
    "#         print(out.shape, 'level 3')\n",
    "        out = self.avgpool(out)\n",
    "        out = torch.flatten(out, 1)\n",
    "        out = self.fc1(out)\n",
    "        out = self.relu(out)\n",
    "        out = self.dropout1(out)\n",
    "        out = self.fc2(out)\n",
    "\n",
    "\n",
    "        return out\n",
    "\n",
    "\n",
    "# Set the input shape and number of labels\n",
    "input_shape = (4, 15, 15)\n",
    "\n",
    "\n",
    "# Create the regression ResNet model\n",
    "net = RegressionResNet(input_shape).to(device)\n"
   ]
  },
  {
   "cell_type": "code",
   "execution_count": null,
   "id": "5916a06b",
   "metadata": {
    "hidden": true
   },
   "outputs": [],
   "source": [
    "optimizer = torch.optim.Adam(net.parameters(), lr=0.001)\n",
    "criterion = IgnoringNullMSELoss()\n",
    "epochs = 8\n",
    "net.train()\n",
    "for epoch in tqdm(range(epochs)):  # loop over the dataset multiple times\n",
    "\n",
    "    running_loss = 0.0\n",
    "    for i, data in enumerate(trainloader, 0):\n",
    "        # get the inputs; data is a list of [inputs, labels]\n",
    "        inputs, labels = data[0].to(device), data[1].to(device)\n",
    "        if torch.isnan(inputs).any() :\n",
    "            print('invalid input detected at iteration ', i)\n",
    "        # zero the parameter gradients\n",
    "        optimizer.zero_grad()\n",
    "\n",
    "        # forward + backward + optimize\n",
    "        outputs = net(inputs)\n",
    "\n",
    "        loss = criterion(outputs, labels)\n",
    "        loss.backward()\n",
    "#         torch.nn.utils.clip_grad_norm_(net.parameters(), 1)\n",
    "        optimizer.step()\n",
    "\n",
    "        # print statistics\n",
    "        running_loss += loss.item()\n",
    "        if i % 20 == 19:    # print every 2000 mini-batches\n",
    "            print(f'[{epoch + 1}, {i + 1:5d}] loss: {running_loss / 2000:.3f}')\n",
    "            running_loss = 0.0\n",
    "\n",
    "print('Finished Training')\n",
    "    "
   ]
  },
  {
   "cell_type": "markdown",
   "id": "8971a8e8",
   "metadata": {},
   "source": [
    "# Classification with 10 levels"
   ]
  },
  {
   "cell_type": "code",
   "execution_count": 35,
   "id": "54d93b0e",
   "metadata": {
    "ExecuteTime": {
     "end_time": "2023-08-07T06:35:23.289432Z",
     "start_time": "2023-08-07T06:35:23.200028Z"
    }
   },
   "outputs": [],
   "source": [
    "\n",
    "\n",
    "    \n",
    "class CustomDataset(Dataset):\n",
    "    def __init__(self, tensor_input, dataframe_target,label_tensor):\n",
    "        self.tensor_input = tensor_input\n",
    "        self.dataframe_target = dataframe_target\n",
    "        self.label_tensor = label_tensor\n",
    "\n",
    "    def __len__(self):\n",
    "        return self.tensor_input.shape[0]  # Number of samples\n",
    "\n",
    "    def __getitem__(self, index,time_to_predict=24,lookback_num=8):\n",
    "        \n",
    "        # Check the condition for the current index\n",
    "        if index >= lookback_num: \n",
    "            \n",
    "            a = filtered_target_dataframe.loc[index-lookback_num:index-2,'time'].values\n",
    "            t = np.append(a,filtered_target_dataframe.loc[index-1,'time'].to_numpy())\n",
    "            \n",
    "            if check_timestamps(t[::-1]):\n",
    "                c = np.arange(index-lookback_num,index+1)\n",
    "                input_data = self.tensor_input[c,:,:,:]\n",
    "                input_data = input_data.view(len(c),input_data.shape[2], input_data.shape[3])\n",
    "\n",
    "        if index < lookback_num or not check_timestamps(t[::-1]):\n",
    "            input_data = torch.full((1,1),-999) #error indicator\n",
    "\n",
    "\n",
    "        \n",
    "        #handling Target data\n",
    "        \n",
    "        X_timestamp = self.dataframe_target.loc[index,'time']\n",
    "        target_timestamp = X_timestamp + pd.DateOffset(hours=time_to_predict)\n",
    "        matching_row = self.dataframe_target[self.dataframe_target['time'] == target_timestamp]\n",
    "\n",
    "        if len(matching_row) > 0:\n",
    "\n",
    "            matching_row = matching_row.index.values[0]\n",
    "            target_data = self.label_tensor[matching_row]\n",
    "#             print(f' if_point {target_data.shape}')\n",
    "            \n",
    "        else:\n",
    "#             print(f' X timestamp {X_timestamp}, no corresponding futuretimestamp')\n",
    "            target_data = torch.full((1,self.label_tensor.shape[1]), 0)[0]\n",
    "#             print(f'else_point {target_data.shape}')\n",
    "        \n",
    "        time = filtered_target_dataframe.loc[index,'time']\n",
    "        return input_data, target_data, time\n",
    "\n",
    "\n",
    "class SequentialDataset(Dataset):\n",
    "    def __init__(self, data):\n",
    "        self.data = data\n",
    "    \n",
    "    def __getitem__(self, index):\n",
    "        X, y = self.data[index]\n",
    "        return X, y\n",
    "\n",
    "    def __len__(self):\n",
    "        return len(self.data)\n",
    "    \n",
    "    \n",
    "    \n",
    "device = torch.device('cuda:0' if torch.cuda.is_available() else 'cpu')"
   ]
  },
  {
   "cell_type": "code",
   "execution_count": 36,
   "id": "7e6257ac",
   "metadata": {
    "ExecuteTime": {
     "end_time": "2023-08-07T06:37:24.987835Z",
     "start_time": "2023-08-07T06:35:26.592543Z"
    }
   },
   "outputs": [],
   "source": [
    "\n",
    "\n",
    "without_correction = False # True means basic pm10, False means corrected\n",
    "tensor = (final_tensor[:,:1,:,:] if without_correction else final_tensor[:,1:,:,:])\n",
    "\n",
    "df = df_categories.drop('time',axis=1)\n",
    "\n",
    "rows_to_keep = df.loc[(df != 0).any(axis=1)].index\n",
    "\n",
    "\n",
    "\n",
    "filtered_input_tensor = tensor[rows_to_keep]\n",
    "\n",
    "filtered_target_dataframe = (\n",
    "                             df_categories.loc[rows_to_keep]\n",
    "                             .pipe(lambda d:d.assign(time = pd.to_datetime(d.time)))\n",
    "                             .reset_index(drop=True)\n",
    "                            )\n",
    "\n",
    "filtered_target_dataframe = filtered_target_dataframe.astype({col: 'int' for col in df.columns if col != 'time'})\n",
    "\n",
    "\n",
    "label_tensor = torch.tensor(filtered_target_dataframe.drop('time',axis=1).values, dtype=torch.float32)\n",
    "\n",
    "original_dataset = CustomDataset(filtered_input_tensor,filtered_target_dataframe,label_tensor)\n",
    "\n",
    "\n",
    "filtered_data_X_y = []\n",
    "filtered_data_time = []\n",
    "\n",
    "# Filter and split the data\n",
    "for X, y, time in original_dataset:\n",
    "    if (not torch.all(X.eq(-999))) & (not torch.all(y.eq(0))):\n",
    "        filtered_data_X_y.append((X, y))\n",
    "        filtered_data_time.append(time)\n",
    "new_dataset =  SequentialDataset(filtered_data_X_y)\n",
    "\n",
    "# train_dataset, validation_dataset, test_dataset = split_dataset_by_size(filtered_data_X_y, train_percentage=0.7, validation_percentage=0.1, test_percentage=0.2)\n",
    "# train_dataset, validation_dataset, test_dataset = SequentialDataset(train_dataset), SequentialDataset(validation_dataset), SequentialDataset(test_dataset)\n",
    "\n",
    "train_dataset, test_dataset, train_indices, test_indices = train_test_split(new_dataset,filtered_data_time, test_size=0.2, random_state=42)\n",
    "train_dataset, validation_dataset , train_indices, validation_indices = train_test_split(train_dataset,train_indices, test_size=0.1, random_state=42)\n",
    "\n",
    "\n",
    "\n"
   ]
  },
  {
   "cell_type": "code",
   "execution_count": 37,
   "id": "b72b2a58",
   "metadata": {},
   "outputs": [
    {
     "name": "stdout",
     "output_type": "stream",
     "text": [
      " len of train 16636, len of validation 1849, len of test 4622\n",
      " total inputs = 23107\n"
     ]
    }
   ],
   "source": [
    "\n",
    "print(f' len of train {len(train_dataset)}, len of validation {len(validation_dataset)}, len of test {len(test_dataset)}')\n",
    "print(f' total inputs = {len(train_dataset) +len(validation_dataset) + len(test_dataset) }')\n",
    "\n",
    "# # Create data loaders\n",
    "batch_size = 32  # Set your desired batch size\n",
    "trainloader = DataLoader(train_dataset, batch_size=batch_size, shuffle=True)\n",
    "validationloader = DataLoader(validation_dataset, batch_size=batch_size, shuffle=False)\n",
    "testloader = DataLoader(test_dataset, batch_size=batch_size, shuffle=False)\n",
    "\n"
   ]
  },
  {
   "cell_type": "code",
   "execution_count": 38,
   "id": "82028bae",
   "metadata": {
    "ExecuteTime": {
     "end_time": "2023-08-07T07:21:45.896726Z",
     "start_time": "2023-08-07T07:21:45.890124Z"
    }
   },
   "outputs": [],
   "source": [
    "def get_metrics_binar(ground_truth,predicted,labels=[1,2],smallest_event_level=None,return_matrix=False):\n",
    "    \n",
    "    o = ground_truth.copy()\n",
    "    p = predicted.copy()\n",
    "\n",
    "    if type(o)!=np.ndarray:\n",
    "        o = o.detach().cpu().numpy()\n",
    "        p =  p.detach().cpu().numpy()\n",
    "    if smallest_event_level is not None: #added change, label the others as 1, not quite clear why it wasnt the case\n",
    "#         o[o>=smallest_event_level]=2\n",
    "#         p[p>=smallest_event_level]=2\n",
    "            \n",
    "         o = np.where(o == 0, 0, np.where(o < smallest_event_level, 1, 2))\n",
    "         p = np.where(p == 0, 0, np.where(p < smallest_event_level, 1, 2))\n",
    "    \n",
    "    \n",
    "    tn, fp, fn, tp = confusion_matrix(o,p,labels=labels).ravel()\n",
    "    acc = (tp+tn)/(tp+fp+tn+fn)\n",
    "    if tp+fp==0:\n",
    "        prc = np.nan\n",
    "    else:\n",
    "        prc = tp/(tp+fp)\n",
    "    if tp+fn==0:\n",
    "        rcl = np.nan\n",
    "    else:\n",
    "        rcl = tp/(tp+fn)\n",
    "    if rcl==np.nan or prc==np.nan or rcl==0:\n",
    "        prcrcl_ratio = np.nan\n",
    "        prcrcl_avg = np.nan\n",
    "    else:\n",
    "        prcrcl_ratio = prc/rcl\n",
    "        prcrcl_avg = (prc+rcl)/2\n",
    "    if tp+fp+fn==0:\n",
    "        csi = np.nan\n",
    "    else:\n",
    "        csi = tp/(tp+fp+fn)\n",
    "    \n",
    "    if return_matrix:\n",
    "        return confusion_matrix(o,p,labels=labels)\n",
    "\n",
    "    return [acc, prc, rcl, prcrcl_ratio, prcrcl_avg, csi]       "
   ]
  },
  {
   "cell_type": "code",
   "execution_count": 39,
   "id": "98f589b4",
   "metadata": {
    "ExecuteTime": {
     "end_time": "2023-08-07T12:29:18.389605Z",
     "start_time": "2023-08-07T12:29:18.294109Z"
    }
   },
   "outputs": [],
   "source": [
    "\n",
    "class ResidualBlock(nn.Module):\n",
    "    def __init__(self, in_channels, out_channels, stride=1):\n",
    "        super(ResidualBlock, self).__init__()\n",
    "\n",
    "        self.conv1 = nn.Conv2d(in_channels, out_channels, kernel_size=3, stride=stride, padding=1, bias=False)\n",
    "        self.bn1 = nn.BatchNorm2d(out_channels)\n",
    "        self.relu = nn.ReLU(inplace=True)\n",
    "        self.conv2 = nn.Conv2d(out_channels, out_channels, kernel_size=3, stride=1, padding=1, bias=False)\n",
    "        self.bn2 = nn.BatchNorm2d(out_channels)\n",
    "\n",
    "        if stride != 1 or in_channels != out_channels:\n",
    "            self.shortcut = nn.Sequential(\n",
    "                nn.Conv2d(in_channels, out_channels, kernel_size=1, stride=stride, bias=False),\n",
    "                nn.BatchNorm2d(out_channels)\n",
    "            )\n",
    "        else:\n",
    "            self.shortcut = nn.Identity()\n",
    "\n",
    "    def forward(self, x):\n",
    "        identity = self.shortcut(x)\n",
    "\n",
    "        out = self.conv1(x)\n",
    "        out = self.bn1(out)\n",
    "        out = self.relu(out)\n",
    "\n",
    "        out = self.conv2(out)\n",
    "        out = self.bn2(out)\n",
    "\n",
    "        out += identity\n",
    "        out = self.relu(out)\n",
    "\n",
    "        return out\n",
    "\n",
    "class ClassificationResNet(nn.Module):\n",
    "    def __init__(self, input_shape, num_classes, num_stations):\n",
    "        super(ClassificationResNet, self).__init__()\n",
    "\n",
    "        channel, lat_index, lon_index = input_shape\n",
    "\n",
    "        self.conv1 = nn.Conv2d(channel, 64, kernel_size=7, stride=2, padding=3, bias=False)\n",
    "        self.bn1 = nn.BatchNorm2d(64)\n",
    "        self.relu = nn.ReLU(inplace=True)\n",
    "        self.maxpool = nn.MaxPool2d(kernel_size=3, stride=2, padding=1)\n",
    "\n",
    "        self.stage1 = self.make_stage(64, 64, num_blocks=1, stride=1)\n",
    "        self.stage2 = self.make_stage(64, 128, num_blocks=2, stride=2)\n",
    "        self.stage3 = self.make_stage(128, 256, num_blocks=2, stride=2)\n",
    "        self.stage4 = self.make_stage(256, 512, num_blocks=2, stride=2)\n",
    "\n",
    "        self.avgpool = nn.AdaptiveAvgPool2d((1, 1))\n",
    "        self.fc1 = nn.Linear(512, 480)\n",
    "        self.dropout1 = nn.Dropout(0.5)\n",
    "        self.fc2 = nn.Linear(480, 460)\n",
    "        self.fc3 = nn.Linear(460, num_stations * num_classes)\n",
    "        self.num_stations = num_stations\n",
    "        self.num_classes = num_classes\n",
    "\n",
    "    def make_stage(self, in_channels, out_channels, num_blocks, stride):\n",
    "        layers = []\n",
    "        layers.append(ResidualBlock(in_channels, out_channels, stride=stride))\n",
    "        for _ in range(1, num_blocks):\n",
    "            layers.append(ResidualBlock(out_channels, out_channels))\n",
    "\n",
    "        return nn.Sequential(*layers)\n",
    "\n",
    "    def forward(self, x):\n",
    "        out = self.conv1(x)\n",
    "        out = self.bn1(out)\n",
    "        out = self.relu(out)\n",
    "        out = self.maxpool(out)\n",
    "        out = self.stage1(out)\n",
    "        out = self.stage2(out)\n",
    "        out = self.stage3(out)\n",
    "        out = self.stage4(out)\n",
    "        out = self.avgpool(out)\n",
    "        out = torch.flatten(out, 1)\n",
    "        out = self.fc1(out)\n",
    "        out = self.relu(out)\n",
    "        out = self.fc2(out)\n",
    "        out = self.relu(out)\n",
    "        out = self.fc3(out)\n",
    "        out = out.view(-1, self.num_classes, self.num_stations)\n",
    "        out = out.permute(0, 2, 1)\n",
    "        return out\n",
    "\n",
    "past_times, lat_size, lon_size = 8, 65, 67\n",
    "# Set the input shape and number of labels\n",
    "input_shape = (past_times+1, lat_size, lon_size) #channels 1+lookback number\n",
    "w = torch.ones(num_stations)\n",
    "\n",
    "# Create the regression ResNet model\n",
    "\n",
    "# summary(net,input_shape)"
   ]
  },
  {
   "cell_type": "code",
   "execution_count": 40,
   "id": "b2323036",
   "metadata": {
    "ExecuteTime": {
     "end_time": "2023-08-07T12:48:07.855004Z",
     "start_time": "2023-08-07T12:29:19.860110Z"
    }
   },
   "outputs": [
    {
     "name": "stderr",
     "output_type": "stream",
     "text": [
      "520it [02:29,  3.47it/s]\n"
     ]
    },
    {
     "name": "stdout",
     "output_type": "stream",
     "text": [
      "Epoch [1/15] - \n",
      "              Train Loss: 0.4057,   Valid Loss: 3.6372 \n",
      "\n",
      " Train acc 0.778, Train percision 0.462, train recall 0.656\n",
      " Validation acc 0.835, Validation percision 0.584, Validation recall 0.497\n"
     ]
    },
    {
     "name": "stderr",
     "output_type": "stream",
     "text": [
      "520it [02:16,  3.81it/s]\n"
     ]
    },
    {
     "name": "stdout",
     "output_type": "stream",
     "text": [
      "Epoch [2/15] - \n",
      "              Train Loss: 0.3899,   Valid Loss: 3.4955 \n",
      "\n",
      " Train acc 0.792, Train percision 0.487, train recall 0.704\n",
      " Validation acc 0.772, Validation percision 0.444, Validation recall 0.755\n"
     ]
    },
    {
     "name": "stderr",
     "output_type": "stream",
     "text": [
      "520it [02:15,  3.85it/s]\n"
     ]
    },
    {
     "name": "stdout",
     "output_type": "stream",
     "text": [
      "Epoch [3/15] - \n",
      "              Train Loss: 0.3833,   Valid Loss: 3.4366 \n",
      "\n",
      " Train acc 0.802, Train percision 0.504, train recall 0.718\n",
      " Validation acc 0.802, Validation percision 0.489, Validation recall 0.732\n"
     ]
    },
    {
     "name": "stderr",
     "output_type": "stream",
     "text": [
      "520it [02:18,  3.75it/s]\n"
     ]
    },
    {
     "name": "stdout",
     "output_type": "stream",
     "text": [
      "Epoch [4/15] - \n",
      "              Train Loss: 0.3767,   Valid Loss: 3.3776 \n",
      "\n",
      " Train acc 0.812, Train percision 0.522, train recall 0.720\n",
      " Validation acc 0.802, Validation percision 0.489, Validation recall 0.755\n"
     ]
    },
    {
     "name": "stderr",
     "output_type": "stream",
     "text": [
      "520it [02:26,  3.55it/s]\n"
     ]
    },
    {
     "name": "stdout",
     "output_type": "stream",
     "text": [
      "Epoch [5/15] - \n",
      "              Train Loss: 0.3694,   Valid Loss: 3.3115 \n",
      "\n",
      " Train acc 0.824, Train percision 0.545, train recall 0.727\n",
      " Validation acc 0.841, Validation percision 0.572, Validation recall 0.693\n"
     ]
    },
    {
     "name": "stderr",
     "output_type": "stream",
     "text": [
      "520it [02:27,  3.52it/s]\n"
     ]
    },
    {
     "name": "stdout",
     "output_type": "stream",
     "text": [
      "Epoch [6/15] - \n",
      "              Train Loss: 0.3612,   Valid Loss: 3.2386 \n",
      "\n",
      " Train acc 0.834, Train percision 0.567, train recall 0.726\n",
      " Validation acc 0.829, Validation percision 0.538, Validation recall 0.753\n"
     ]
    },
    {
     "name": "stderr",
     "output_type": "stream",
     "text": [
      "520it [02:28,  3.50it/s]\n"
     ]
    },
    {
     "name": "stdout",
     "output_type": "stream",
     "text": [
      "Epoch 00007: reducing learning rate of group 0 to 1.0000e-03.\n",
      "Epoch [7/15] - \n",
      "              Train Loss: 0.3529,   Valid Loss: 3.1642 \n",
      "\n",
      " Train acc 0.841, Train percision 0.582, train recall 0.738\n",
      " Validation acc 0.841, Validation percision 0.566, Validation recall 0.747\n"
     ]
    },
    {
     "name": "stderr",
     "output_type": "stream",
     "text": [
      "520it [02:19,  3.72it/s]\n"
     ]
    },
    {
     "name": "stdout",
     "output_type": "stream",
     "text": [
      "Epoch [8/15] - \n",
      "              Train Loss: 0.3399,   Valid Loss: 3.0471 \n",
      "\n",
      " Train acc 0.855, Train percision 0.613, train recall 0.752\n",
      " Validation acc 0.854, Validation percision 0.595, Validation recall 0.746\n"
     ]
    },
    {
     "name": "stderr",
     "output_type": "stream",
     "text": [
      "520it [02:20,  3.71it/s]\n"
     ]
    },
    {
     "name": "stdout",
     "output_type": "stream",
     "text": [
      "Epoch [9/15] - \n",
      "              Train Loss: 0.3333,   Valid Loss: 2.9880 \n",
      "\n",
      " Train acc 0.860, Train percision 0.623, train recall 0.760\n",
      " Validation acc 0.856, Validation percision 0.599, Validation recall 0.749\n"
     ]
    },
    {
     "name": "stderr",
     "output_type": "stream",
     "text": [
      "520it [02:25,  3.58it/s]\n"
     ]
    },
    {
     "name": "stdout",
     "output_type": "stream",
     "text": [
      "Epoch [10/15] - \n",
      "              Train Loss: 0.3286,   Valid Loss: 2.9465 \n",
      "\n",
      " Train acc 0.864, Train percision 0.632, train recall 0.764\n",
      " Validation acc 0.860, Validation percision 0.612, Validation recall 0.741\n"
     ]
    },
    {
     "name": "stderr",
     "output_type": "stream",
     "text": [
      "520it [02:16,  3.80it/s]\n"
     ]
    },
    {
     "name": "stdout",
     "output_type": "stream",
     "text": [
      "Epoch [11/15] - \n",
      "              Train Loss: 0.3239,   Valid Loss: 2.9041 \n",
      "\n",
      " Train acc 0.868, Train percision 0.642, train recall 0.768\n",
      " Validation acc 0.866, Validation percision 0.633, Validation recall 0.721\n"
     ]
    },
    {
     "name": "stderr",
     "output_type": "stream",
     "text": [
      "520it [02:33,  3.39it/s]\n"
     ]
    },
    {
     "name": "stdout",
     "output_type": "stream",
     "text": [
      "Epoch [12/15] - \n",
      "              Train Loss: 0.3201,   Valid Loss: 2.8698 \n",
      "\n",
      " Train acc 0.871, Train percision 0.651, train recall 0.771\n",
      " Validation acc 0.869, Validation percision 0.639, Validation recall 0.731\n"
     ]
    },
    {
     "name": "stderr",
     "output_type": "stream",
     "text": [
      "520it [02:30,  3.46it/s]\n"
     ]
    },
    {
     "name": "stdout",
     "output_type": "stream",
     "text": [
      "Epoch [13/15] - \n",
      "              Train Loss: 0.3163,   Valid Loss: 2.8360 \n",
      "\n",
      " Train acc 0.874, Train percision 0.657, train recall 0.775\n",
      " Validation acc 0.868, Validation percision 0.630, Validation recall 0.752\n"
     ]
    },
    {
     "name": "stderr",
     "output_type": "stream",
     "text": [
      "520it [02:28,  3.50it/s]\n"
     ]
    },
    {
     "name": "stdout",
     "output_type": "stream",
     "text": [
      "Epoch [14/15] - \n",
      "              Train Loss: 0.3132,   Valid Loss: 2.8080 \n",
      "\n",
      " Train acc 0.876, Train percision 0.663, train recall 0.778\n",
      " Validation acc 0.871, Validation percision 0.642, Validation recall 0.744\n"
     ]
    },
    {
     "name": "stderr",
     "output_type": "stream",
     "text": [
      "520it [02:28,  3.51it/s]\n"
     ]
    },
    {
     "name": "stdout",
     "output_type": "stream",
     "text": [
      "Epoch [15/15] - \n",
      "              Train Loss: 0.3099,   Valid Loss: 2.7782 \n",
      "\n",
      " Train acc 0.879, Train percision 0.669, train recall 0.780\n",
      " Validation acc 0.871, Validation percision 0.638, Validation recall 0.753\n",
      "Training Done\n"
     ]
    }
   ],
   "source": [
    "num_stations = 138\n",
    "net = ClassificationResNet(input_shape,num_stations,11).to(device)\n",
    "\n",
    "optimizer = torch.optim.Adam(net.parameters(), lr=2e-3) \n",
    "\n",
    "class_weights = torch.tensor([0,1,1,1,1,1,1,1,1,1,1.]).to(device)\n",
    "\n",
    "criterion = nn.CrossEntropyLoss(reduction = 'none',weight=class_weights)\n",
    "\n",
    "scheduler = ReduceLROnPlateau(optimizer, mode='max', factor=0.5, patience=5, verbose=True)\n",
    "\n",
    "smallest_event_level = 9\n",
    "#stations_weights\n",
    "w = torch.ones(num_stations).to(device)\n",
    "\n",
    "\n",
    "train_running_loss = []\n",
    "validation_running_loss = []\n",
    "train_f1_scores = []\n",
    "valid_f1_scores = []\n",
    "\n",
    "labels_to_use = [1,2,3,4,5,6,7,8,9,10]\n",
    "\n",
    "num_epochs = 100\n",
    "for epoch in range(num_epochs):\n",
    "    net.train() \n",
    "    running_loss = 0.0\n",
    "    y_true_train = []\n",
    "    y_pred_train = []\n",
    "\n",
    "    for i, data in tqdm(enumerate(trainloader, 0)):\n",
    "        inputs, labels = data[0].to(device), data[1].to(device)\n",
    "\n",
    "        optimizer.zero_grad()\n",
    "\n",
    "#         ordinal_labels = convert_to_ordinal_labels(labels, num_classes=12).to(device)\n",
    "\n",
    "        outputs = net(inputs)\n",
    "        labels = labels.type(torch.LongTensor).to(device)\n",
    "        loss = ((criterion(outputs, labels) * (labels>0) * w).mean(0)).mean()\n",
    "        loss.backward()\n",
    "\n",
    "        optimizer.step()\n",
    "        running_loss += loss.item()\n",
    "        \n",
    "        predicted = torch.argmax(outputs, dim=1)\n",
    "        y_true_train.extend(labels.cpu().numpy())\n",
    "        y_pred_train.extend(predicted.cpu().numpy())\n",
    "        \n",
    "        \n",
    "    train_loss = running_loss / len(trainloader)\n",
    "    train_running_loss.append(train_loss)\n",
    "            \n",
    "\n",
    "    # Reshape the tensors to merge batch and class dimensions\n",
    "    predictions_train = np.concatenate(y_pred_train).reshape(-1, num_stations).flatten()\n",
    "    ground_truth_train = np.concatenate(y_true_train).reshape(-1, num_stations).flatten()\n",
    "    \n",
    "    acc, prc, rcl, prcrcl_ratio, prcrcl_avg, csi = get_metrics_binar(ground_truth_train,predictions_train,labels=[1,2],smallest_event_level=smallest_event_level)\n",
    "\n",
    "    train_f1_scores.append(csi)\n",
    "\n",
    "    # Validation loop\n",
    "    net.eval()  # Set the model to evaluation mode\n",
    "    y_true_valid = []\n",
    "    y_pred_valid = []\n",
    "\n",
    "    with torch.no_grad():\n",
    "        for i, data in enumerate(validationloader, 0):\n",
    "            inputs, labels =data[0].to(device), data[1].to(device)\n",
    "            outputs = net(inputs)\n",
    "            outputs = torch.argmax(outputs, dim=1)\n",
    "            y_true_valid.extend(labels.cpu().numpy())\n",
    "            y_pred_valid.extend(outputs.cpu().numpy())\n",
    "    \n",
    "    # Concatenate predictions and labels along batch dimension\n",
    "    predictions_valid = np.concatenate(y_pred_valid).reshape(-1, num_stations).flatten()\n",
    "    ground_truth_valid = np.concatenate(y_true_valid).reshape(-1, num_stations).flatten()\n",
    "\n",
    "    acc_test, prc_test, rcl_test, prcrcl_ratio_test, prcrcl_avg_test, csi_test = get_metrics_binar(ground_truth_valid,predictions_valid,labels=[1,2],smallest_event_level=smallest_event_level)\n",
    "\n",
    "    valid_loss = running_loss / len(validationloader)\n",
    "    validation_running_loss.append(valid_loss)\n",
    "    # Calculate the average validation loss for this epoch\n",
    "    valid_f1_scores.append(csi_test)\n",
    "    scheduler.step(prc_test)\n",
    "\n",
    "    num_classes = len(labels_to_use)\n",
    "\n",
    "\n",
    "#     class_labels = [f'Class {i+1}' for i in range(num_classes)]\n",
    "\n",
    "\n",
    "    f_string_template = f'''Epoch [{epoch+1}/{num_epochs}] - \n",
    "              Train Loss: {train_loss:.4f},   Valid Loss: {valid_loss:.4f} \\n'''\n",
    "    \n",
    "    train_string = f' Train acc {acc:.3f}, Train percision {prc:.3f}, train recall {rcl:.3f}'\n",
    "    test_string = f' Validation acc {acc_test:.3f}, Validation percision {prc_test:.3f}, Validation recall {rcl_test:.3f}'\n",
    "    \n",
    "    print(f_string_template + '\\n' + train_string  + '\\n' + test_string)\n",
    "  \n",
    "    \n",
    "\n",
    "#     for i in range(num_classes):\n",
    "#         f_string_template += f'''\n",
    "#               Train F1: {class_labels[i]} - {fscore_classes[i]:.4f}, Validation F1: {class_labels[i]}: {fscore_valid_classes[i]:.4f}\n",
    "#               Train Precision: {class_labels[i]}: {precision1[i]:.4f}, Valid Precision: {class_labels[i]}: {precision2[i]:.4f}\n",
    "#               Train Recall: {class_labels[i]}: {recall1[i]:.4f}, Valid Recall: {class_labels[i]}: {recall2[i]:.4f}\n",
    "#         '''\n",
    "\n",
    "    \n",
    "\n",
    "print('Training Done')\n",
    "# torch.save(net.state_dict(),\"/home/labs/rudich/sagima/station_vs_satellite/model_10_levels.pth\")"
   ]
  },
  {
   "cell_type": "code",
   "execution_count": 178,
   "id": "50507b53",
   "metadata": {
    "ExecuteTime": {
     "end_time": "2023-08-02T12:00:54.935847Z",
     "start_time": "2023-08-02T12:00:54.932755Z"
    }
   },
   "outputs": [
    {
     "data": {
      "text/plain": [
       "torch.Size([32, 138, 11])"
      ]
     },
     "execution_count": 178,
     "metadata": {},
     "output_type": "execute_result"
    }
   ],
   "source": [
    "# ordinal_labels.shape"
   ]
  },
  {
   "cell_type": "code",
   "execution_count": 41,
   "id": "2c6f0db9",
   "metadata": {},
   "outputs": [
    {
     "data": {
      "image/png": "[encoded data removed]",
      "text/plain": [
       "<Figure size 640x480 with 1 Axes>"
      ]
     },
     "metadata": {},
     "output_type": "display_data"
    }
   ],
   "source": [
    "plt.plot(train_running_loss,label='train')\n",
    "plt.plot(validation_running_loss,label='validation')\n",
    "\n",
    "plt.xlabel('Epoch')\n",
    "plt.ylabel('Loss')\n",
    "plt.title('Training Loss Over Time')\n",
    "plt.legend()\n",
    "plt.show()"
   ]
  },
  {
   "cell_type": "code",
   "execution_count": 432,
   "id": "1ce1fb12",
   "metadata": {
    "ExecuteTime": {
     "end_time": "2023-08-07T12:54:27.307342Z",
     "start_time": "2023-08-07T12:54:26.607301Z"
    }
   },
   "outputs": [],
   "source": [
    "\n",
    "from sklearn.metrics import confusion_matrix\n",
    "    \n",
    "net.eval()\n",
    "all_predictions = []\n",
    "all_labels = []\n",
    "all_input = []\n",
    "with torch.no_grad():\n",
    "    for inputs, labels in testloader:\n",
    "        inputs, labels = inputs.to(device), labels.to(device)\n",
    "        outputs = net(inputs)\n",
    "        outputs = torch.argmax(outputs, dim=1)\n",
    "        all_predictions.append(outputs.cpu().numpy())\n",
    "        all_labels.append(labels.cpu().numpy())\n",
    "\n",
    "# Reshape the tensors to merge batch and class dimensions\n",
    "predictions_test = np.concatenate(all_predictions).reshape(-1, num_stations).flatten()\n",
    "ground_truth_test = np.concatenate(all_labels).reshape(-1, num_stations).flatten()\n"
   ]
  },
  {
   "cell_type": "code",
   "execution_count": null,
   "id": "55f4308c",
   "metadata": {},
   "outputs": [],
   "source": []
  },
  {
   "cell_type": "code",
   "execution_count": 207,
   "id": "aec69ec4",
   "metadata": {},
   "outputs": [
    {
     "data": {
      "text/plain": [
       "torch.Size([22, 138])"
      ]
     },
     "execution_count": 207,
     "metadata": {},
     "output_type": "execute_result"
    }
   ],
   "source": [
    "outputs.shape"
   ]
  },
  {
   "cell_type": "code",
   "execution_count": 433,
   "id": "2ebb8641",
   "metadata": {
    "ExecuteTime": {
     "end_time": "2023-08-07T07:16:05.660311Z",
     "start_time": "2023-08-07T07:16:02.958706Z"
    }
   },
   "outputs": [
    {
     "name": "stdout",
     "output_type": "stream",
     "text": [
      "Precision(Macro): 0.06481795079646446\n",
      "Recall(Macro): 0.187447302991832\n",
      "Precision (Micro): 0.06042369489393333\n",
      "Recall (Micro): 0.17404133842057587\n",
      "Precision (Weighted): 0.06258311620483499\n",
      "Recall (Weighted): 0.17404133842057587\n",
      "Class 1: Precision = 0.12633675296637825, Recall = 0.25976394480575343\n",
      "Class 2: Precision = 0.03906654090729303, Recall = 0.09372262773722628\n",
      "Class 3: Precision = 0.0421253347037027, Recall = 0.11531057969941512\n",
      "Class 4: Precision = 0.045502472960486984, Recall = 0.17141687141687142\n",
      "Class 5: Precision = 0.03812978842153331, Recall = 0.13153058545550014\n",
      "Class 6: Precision = 0.039229997263023446, Recall = 0.1214574898785425\n",
      "Class 7: Precision = 0.050036897712341835, Recall = 0.14606210266379446\n",
      "Class 8: Precision = 0.05754316265505801, Recall = 0.15105958060579164\n",
      "Class 9: Precision = 0.08029068097983345, Recall = 0.21402496467263307\n",
      "Class 10: Precision = 0.1299178793949935, Recall = 0.4701242829827916\n"
     ]
    }
   ],
   "source": [
    "    \n",
    "\n",
    "precision, recall, _, _ = precision_recall_fscore_support(ground_truth_test,\n",
    "                                                          predictions_test,\n",
    "                                                          labels=labels_to_use, average='macro')\n",
    "\n",
    "\n",
    "precision_micro, recall_micro, _, _ = precision_recall_fscore_support(ground_truth_test,\n",
    "                                                                      predictions_test,\n",
    "                                                                      labels=labels_to_use,  average='micro')\n",
    "\n",
    "\n",
    "precision_weighted, recall_weighted, _, _ = precision_recall_fscore_support(ground_truth_test,\n",
    "                                                                            predictions_test,\n",
    "                                                                            labels=labels_to_use,  average='weighted')\n",
    "\n",
    "\n",
    "precision_per_class, recall_per_class, F1, _ = precision_recall_fscore_support(ground_truth_test,\n",
    "                                                                               predictions_test,\n",
    "                                                                               labels=labels_to_use,  average=None)\n",
    "\n",
    "\n",
    "print(\"Precision(Macro):\", precision) #it treats all classes equally, regardless of the number of samples in each class.\n",
    "print(\"Recall(Macro):\", recall)\n",
    "\n",
    "print(\"Precision (Micro):\", precision_micro)\n",
    "print(\"Recall (Micro):\", recall_micro)\n",
    "\n",
    "print(\"Precision (Weighted):\", precision_weighted)\n",
    "print(\"Recall (Weighted):\", recall_weighted)\n",
    "\n",
    "class_labels = [0] + labels_to_use\n",
    "\n",
    "# Display the results with class labels\n",
    "for label, precision, recall in zip(class_labels, precision_per_class, recall_per_class):\n",
    "    print(f\"Class {label+1}: Precision = {precision}, Recall = {recall}\")\n",
    "\n",
    "# print('value count of ground truth')\n",
    "# unique, counts = np.unique(ground_truth_test, return_counts=True)\n",
    "\n",
    "# print(np.asarray((unique, counts)).T)"
   ]
  },
  {
   "cell_type": "code",
   "execution_count": 444,
   "id": "443967d7",
   "metadata": {
    "ExecuteTime": {
     "end_time": "2023-08-07T12:56:49.563546Z",
     "start_time": "2023-08-07T12:56:47.442764Z"
    },
    "scrolled": true
   },
   "outputs": [
    {
     "name": "stdout",
     "output_type": "stream",
     "text": [
      " Test acc 0.793, Test precision 0.341, Test recall 0.548\n"
     ]
    },
    {
     "data": {
      "image/png": "[encoded data removed]",
      "text/plain": [
       "<Figure size 1000x1000 with 2 Axes>"
      ]
     },
     "metadata": {},
     "output_type": "display_data"
    }
   ],
   "source": [
    "def remove_first_row_from_confusion_matrix(confusion_matrix):\n",
    "    # Remove the first row  and col(index 0) from the confusion matrix\n",
    "    reduced_matrix = confusion_matrix[1:,1:]\n",
    "    return reduced_matrix\n",
    "\n",
    "\n",
    "acc_test, prc_test, rcl_test, prcrcl_ratio_test, prcrcl_avg_test, csi_test = get_metrics_binar(ground_truth_test,predictions_test,labels=[1,2],smallest_event_level=smallest_event_level)\n",
    "print(f' Test acc {acc_test:.3f}, Test precision {prc_test:.3f}, Test recall {rcl_test:.3f}')\n",
    "    \n",
    "\n",
    "confusion_mat = confusion_matrix(ground_truth_test, predictions_test)\n",
    "confusion_mat = remove_first_row_from_confusion_matrix(confusion_mat)\n",
    "cmn = confusion_mat.astype('float') / confusion_mat.sum(axis=1)[:, np.newaxis]\n",
    "fig, ax = plt.subplots(figsize=(10,10))\n",
    "sns.heatmap(cmn, annot=True, fmt='.2f', xticklabels=labels_to_use[:cmn.shape[0]], yticklabels=labels_to_use[:cmn.shape[0]])\n",
    "plt.ylabel('Actual')\n",
    "plt.xlabel('Predicted')\n",
    "plt.show(block=False)"
   ]
  },
  {
   "cell_type": "code",
   "execution_count": 443,
   "id": "7673a10d",
   "metadata": {},
   "outputs": [
    {
     "data": {
      "text/plain": [
       "<Axes: >"
      ]
     },
     "execution_count": 443,
     "metadata": {},
     "output_type": "execute_result"
    },
    {
     "data": {
      "image/png": "[encoded data removed]",
      "text/plain": [
       "<Figure size 640x480 with 2 Axes>"
      ]
     },
     "metadata": {},
     "output_type": "display_data"
    }
   ],
   "source": [
    "sns.heatmap(confusion_mat,annot=True, fmt='.2f')"
   ]
  },
  {
   "cell_type": "code",
   "execution_count": 332,
   "id": "db88d395",
   "metadata": {
    "scrolled": true
   },
   "outputs": [
    {
     "data": {
      "image/png": "[encoded data removed]",
      "text/plain": [
       "<Figure size 1000x1000 with 2 Axes>"
      ]
     },
     "metadata": {},
     "output_type": "display_data"
    }
   ],
   "source": [
    "binary_cm = get_metrics_binar(ground_truth_test,predictions_test,labels=[1,2],smallest_event_level=smallest_event_level,return_matrix=True)\n",
    "cmn = binary_cm.astype('float') / binary_cm.sum(axis=1)[:, np.newaxis]\n",
    "fig, ax = plt.subplots(figsize=(10,10))\n",
    "sns.heatmap(cmn, annot=True, fmt='.2f', xticklabels=[1,2], yticklabels=[1,2])\n",
    "plt.ylabel('Actual')\n",
    "plt.xlabel('Predicted')\n",
    "plt.show(block=False)"
   ]
  },
  {
   "cell_type": "markdown",
   "id": "eedda56e",
   "metadata": {},
   "source": [
    "## checking per station"
   ]
  },
  {
   "cell_type": "code",
   "execution_count": 349,
   "id": "19fe36a0",
   "metadata": {},
   "outputs": [],
   "source": [
    "from sklearn.metrics import confusion_matrix, classification_report\n",
    "\n",
    "net.eval()\n",
    "all_predictions = []\n",
    "all_labels = []\n",
    "all_input = []\n",
    "station_pred_label_dict = {}  # Store evaluation metrics for each station\n",
    "\n",
    "with torch.no_grad():\n",
    "    for inputs, labels in testloader:\n",
    "        inputs, labels = inputs.to(device), labels.to(device)\n",
    "        outputs = net(inputs)\n",
    "        predicted_labels = torch.argmax(outputs, dim=1)\n",
    "        all_predictions.append(predicted_labels.cpu().numpy())\n",
    "        all_labels.append(labels.cpu().numpy())\n",
    "\n",
    "        # Calculate confusion matrix for each batch\n",
    "        for station_idx in range(num_stations):\n",
    "            #creating a mask to take relevant predictions and labels\n",
    "            station_predictions = predicted_labels[:,station_idx]\n",
    "            station_labels = labels[:, station_idx]\n",
    "            \n",
    "            # Calculate station-specific metrics\n",
    "            if station_idx not in station_pred_label_dict:\n",
    "                station_pred_label_dict[station_idx] = {'predictions': [], 'labels': []}\n",
    "            station_pred_label_dict[station_idx]['predictions'].extend(station_predictions.cpu().numpy())\n",
    "            station_pred_label_dict[station_idx]['labels'].extend(station_labels.cpu().numpy())\n",
    "            \n",
    "stations_metrics = {}\n",
    "# # Print evaluation metrics for each station\n",
    "for station_idx, metrics in station_pred_label_dict.items():\n",
    "    station_predictions = np.array(metrics['predictions'])\n",
    "    station_labels = np.array(metrics['labels'])\n",
    "#     print(f\"Station {station_idx}:\")\n",
    "    acc, prc, rcl, prcrcl_ratio, prcrcl_avg, csi = get_metrics_binar(station_labels,\n",
    "                                                                     station_predictions,labels=[1,2],\n",
    "                                                                     smallest_event_level=smallest_event_level)\n",
    "    stations_metrics[station_idx] = {'acc':acc, 'prc':prc, 'rcl':rcl,'prcrcl_ratio':prcrcl_ratio, 'prcrcl_avg':prcrcl_avg, 'csi':csi}\n",
    "    \n",
    "#         sum += prc\n",
    "#     stations_avg_prc[station_idx] = sum/len(station_labels)\n",
    "\n"
   ]
  },
  {
   "cell_type": "code",
   "execution_count": 345,
   "id": "77c7d40f",
   "metadata": {
    "scrolled": true
   },
   "outputs": [],
   "source": [
    "# with open('not_corrected_dict.pkl', 'wb') as f:\n",
    "#     pickle.dump(stations_metrics, f)\n",
    "with open('not_corrected_dict.pkl', 'rb') as f:\n",
    "    not_corrected_dict = pickle.load(f)"
   ]
  },
  {
   "cell_type": "code",
   "execution_count": 358,
   "id": "745b9315",
   "metadata": {},
   "outputs": [],
   "source": [
    "# with open('corrected_dict.pkl', 'wb') as f:\n",
    "#     pickle.dump(stations_metrics, f)\n",
    "with open('corrected_dict.pkl', 'rb') as f:\n",
    "    corrected_dict = pickle.load(f)"
   ]
  },
  {
   "cell_type": "code",
   "execution_count": 402,
   "id": "0439cbfb",
   "metadata": {},
   "outputs": [],
   "source": [
    "def calculate_dict_differences(dict1, dict2):\n",
    "    diff_dict = {}\n",
    "\n",
    "    for key in dict1:\n",
    "        if key in dict2:\n",
    "            diff_dict[key] = {}\n",
    "            for inner_key in dict1[key]:\n",
    "                if inner_key in dict2[key]:\n",
    "                    diff_dict[key][inner_key] = dict1[key][inner_key] - dict2[key][inner_key]\n",
    "\n",
    "    return diff_dict\n",
    "def calculate_metric_stats(dict1):\n",
    "    metrics = list(dict1[0].keys())  # Assuming all inner dictionaries have the same keys\n",
    "    result = {}\n",
    "\n",
    "    for metric in metrics:\n",
    "        values = [inner_dict[metric] for inner_dict in dict1.values()]\n",
    "        mean = np.nanmean(values)\n",
    "        std = np.nanstd(values)\n",
    "        result[metric] = {'mean': mean, 'std': std}\n",
    "\n",
    "    return result\n",
    "\n",
    "def sort_dict_by_inner_key(input_dict, sort_key):\n",
    "    sorted_items = sorted(input_dict.items(), key=lambda x: x[1][sort_key], reverse=True)\n",
    "    return sorted_items\n",
    "\n",
    "\n",
    "def get_top_k_keys(sorted_items, k,sort_key):\n",
    "    top_k_keys = []\n",
    "    for key, value in sorted_items:\n",
    "        if not isinstance(value, dict) or not isinstance(value.get(sort_key), float):\n",
    "            continue\n",
    "        if len(top_k_keys) >= k:\n",
    "            break\n",
    "        if value[sort_key] != np.nan and value[sort_key] > 0 :\n",
    "            top_k_keys.append(key)\n",
    "    return top_k_keys"
   ]
  },
  {
   "cell_type": "code",
   "execution_count": 375,
   "id": "b3599e04",
   "metadata": {
    "collapsed": true,
    "jupyter": {
     "outputs_hidden": true
    }
   },
   "outputs": [
    {
     "data": {
      "text/plain": [
       "{0: {'acc': 0.002557544757033292,\n",
       "  'prc': 0.10835913312693501,\n",
       "  'rcl': 0.041666666666666685,\n",
       "  'prcrcl_ratio': 0.148606811145511,\n",
       "  'prcrcl_avg': 0.07501289989680088,\n",
       "  'csi': 0.052678571428571436},\n",
       " 1: {'acc': -0.012329656067488592,\n",
       "  'prc': -0.027282065814175915,\n",
       "  'rcl': 0.008988764044943753,\n",
       "  'prcrcl_ratio': -0.04255959760546901,\n",
       "  'prcrcl_avg': -0.009146650884616081,\n",
       "  'csi': -0.015790989376679887},\n",
       " 2: {'acc': -0.008787346221441061,\n",
       "  'prc': -0.039433490697028506,\n",
       "  'rcl': 0.021052631578947323,\n",
       "  'prcrcl_ratio': -0.07570360890090899,\n",
       "  'prcrcl_avg': -0.009190429559040592,\n",
       "  'csi': -0.01300437936683052},\n",
       " 3: {'acc': -0.009359251259899226,\n",
       "  'prc': -0.026108976597974176,\n",
       "  'rcl': 0.038922155688622784,\n",
       "  'prcrcl_ratio': -0.07109020258470145,\n",
       "  'prcrcl_avg': 0.006406589545324248,\n",
       "  'csi': -0.001790633608815484},\n",
       " 4: {'acc': -0.004548408057180042,\n",
       "  'prc': -0.005404202856904461,\n",
       "  'rcl': -0.011111111111111072,\n",
       "  'prcrcl_ratio': 0.006257010168800203,\n",
       "  'prcrcl_avg': -0.00825765698400771,\n",
       "  'csi': -0.012206975414522647},\n",
       " 5: {'acc': -0.0029112081513827937,\n",
       "  'prc': -0.009175272333167062,\n",
       "  'rcl': 0.0055248618784530246,\n",
       "  'prcrcl_ratio': -0.01783328099117565,\n",
       "  'prcrcl_avg': -0.001825205227357074,\n",
       "  'csi': -0.003352664405295913},\n",
       " 6: {'acc': 0.013418530351437696,\n",
       "  'prc': 0.018704579817587663,\n",
       "  'rcl': 0.014975041597337757,\n",
       "  'prcrcl_ratio': 0.004885463915849653,\n",
       "  'prcrcl_avg': 0.016839810707462766,\n",
       "  'csi': 0.023105332692769598},\n",
       " 7: {'acc': -0.0006761325219742931,\n",
       "  'prc': -0.02815210302731108,\n",
       "  'rcl': 0.05084745762711862,\n",
       "  'prcrcl_ratio': -0.08900001828454407,\n",
       "  'prcrcl_avg': 0.011347677299903824,\n",
       "  'csi': 0.011890520463867849},\n",
       " 8: {'acc': 0.0,\n",
       "  'prc': -0.0036438279627357684,\n",
       "  'rcl': 0.009090909090909038,\n",
       "  'prcrcl_ratio': -0.01425141603203317,\n",
       "  'prcrcl_avg': 0.002723540564086635,\n",
       "  'csi': 0.0025921415912132373},\n",
       " 9: {'acc': -0.024024024024024038,\n",
       "  'prc': -0.04237420158903249,\n",
       "  'rcl': 0.03292181069958844,\n",
       "  'prcrcl_ratio': -0.10095030378563619,\n",
       "  'prcrcl_avg': -0.004726195444722081,\n",
       "  'csi': -0.01081911787305978},\n",
       " 10: {'acc': -0.014645577035735213,\n",
       "  'prc': -0.040576923076923066,\n",
       "  'rcl': -0.02187500000000009,\n",
       "  'prcrcl_ratio': -0.03223443223443212,\n",
       "  'prcrcl_avg': -0.031225961538461577,\n",
       "  'csi': -0.03181469170128243},\n",
       " 11: {'acc': 0.012145748987854255,\n",
       "  'prc': 0.00811965811965809,\n",
       "  'rcl': 0.08085106382978724,\n",
       "  'prcrcl_ratio': -0.10042735042735051,\n",
       "  'prcrcl_avg': 0.044485360974722665,\n",
       "  'csi': 0.04828250963897651},\n",
       " 12: {'acc': 0.0024360535931791105,\n",
       "  'prc': 0.01790995643385085,\n",
       "  'rcl': -0.013333333333333308,\n",
       "  'prcrcl_ratio': 0.03703379848470023,\n",
       "  'prcrcl_avg': 0.0022883115502587703,\n",
       "  'csi': 0.0030305496455962366},\n",
       " 13: {'acc': -0.0033821871476888976,\n",
       "  'prc': -0.010863635285466855,\n",
       "  'rcl': 0.02583025830258301,\n",
       "  'prcrcl_ratio': -0.05463839275125104,\n",
       "  'prcrcl_avg': 0.007483311508558077,\n",
       "  'csi': 0.006517449624299898},\n",
       " 14: {'acc': 0.007246376811594235,\n",
       "  'prc': 0.0267857142857143,\n",
       "  'rcl': 0.11764705882352933,\n",
       "  'prcrcl_ratio': -0.1517857142857142,\n",
       "  'prcrcl_avg': 0.07221638655462181,\n",
       "  'csi': 0.09999999999999998},\n",
       " 15: {'acc': -0.011627906976744207,\n",
       "  'prc': -0.2142857142857143,\n",
       "  'rcl': -0.25,\n",
       "  'prcrcl_ratio': 0.19047619047619047,\n",
       "  'prcrcl_avg': -0.2321428571428572,\n",
       "  'csi': -0.2272727272727273},\n",
       " 16: {'acc': -0.0039011703511052653,\n",
       "  'prc': -0.02398401065956024,\n",
       "  'rcl': 0.0,\n",
       "  'prcrcl_ratio': -0.03147901399067288,\n",
       "  'prcrcl_avg': -0.011992005329780064,\n",
       "  'csi': -0.0168342296001871},\n",
       " 17: {'acc': 0.011642949547218673,\n",
       "  'prc': 0.07090909090909092,\n",
       "  'rcl': 0.0,\n",
       "  'prcrcl_ratio': 0.11636363636363634,\n",
       "  'prcrcl_avg': 0.035454545454545405,\n",
       "  'csi': 0.038571428571428534},\n",
       " 18: {'acc': 0.0,\n",
       "  'prc': nan,\n",
       "  'rcl': -1.0,\n",
       "  'prcrcl_ratio': nan,\n",
       "  'prcrcl_avg': nan,\n",
       "  'csi': -0.5},\n",
       " 19: {'acc': 0.003355704697986628,\n",
       "  'prc': 0.0,\n",
       "  'rcl': 0.33333333333333337,\n",
       "  'prcrcl_ratio': -0.5,\n",
       "  'prcrcl_avg': 0.16666666666666674,\n",
       "  'csi': 0.33333333333333337},\n",
       " 20: {'acc': 0.017595307917888547,\n",
       "  'prc': 0.08639587362991624,\n",
       "  'rcl': -0.08888888888888885,\n",
       "  'prcrcl_ratio': 0.4061895551257254,\n",
       "  'prcrcl_avg': -0.0012465076294863042,\n",
       "  'csi': -0.011299435028248594},\n",
       " 21: {'acc': -0.0028901734104046506,\n",
       "  'prc': 0.04358974358974366,\n",
       "  'rcl': -0.1428571428571429,\n",
       "  'prcrcl_ratio': 0.23692307692307701,\n",
       "  'prcrcl_avg': -0.04963369963369957,\n",
       "  'csi': -0.05634278002699056},\n",
       " 22: {'acc': 0.0,\n",
       "  'prc': nan,\n",
       "  'rcl': nan,\n",
       "  'prcrcl_ratio': nan,\n",
       "  'prcrcl_avg': nan,\n",
       "  'csi': nan},\n",
       " 23: {'acc': 0.0029069767441860517,\n",
       "  'prc': 0.008928571428571397,\n",
       "  'rcl': 0.1363636363636363,\n",
       "  'prcrcl_ratio': -0.32738095238095233,\n",
       "  'prcrcl_avg': 0.07264610389610382,\n",
       "  'csi': 0.07675194660734147},\n",
       " 24: {'acc': 0.0029069767441860517,\n",
       "  'prc': 0.018115942028985588,\n",
       "  'rcl': 0.0357142857142857,\n",
       "  'prcrcl_ratio': -0.0507246376811592,\n",
       "  'prcrcl_avg': 0.0269151138716357,\n",
       "  'csi': 0.02631578947368418},\n",
       " 25: {'acc': 0.0032679738562091387,\n",
       "  'prc': nan,\n",
       "  'rcl': 0.0,\n",
       "  'prcrcl_ratio': nan,\n",
       "  'prcrcl_avg': nan,\n",
       "  'csi': 0.0},\n",
       " 26: {'acc': 0.0,\n",
       "  'prc': 0.0,\n",
       "  'rcl': 0.0,\n",
       "  'prcrcl_ratio': 0.0,\n",
       "  'prcrcl_avg': 0.0,\n",
       "  'csi': 0.0},\n",
       " 27: {'acc': 0.0033444816053511683,\n",
       "  'prc': 0.4,\n",
       "  'rcl': 0.2222222222222222,\n",
       "  'prcrcl_ratio': nan,\n",
       "  'prcrcl_avg': nan,\n",
       "  'csi': 0.16666666666666666},\n",
       " 28: {'acc': -0.00295857988165682,\n",
       "  'prc': -0.038095238095238126,\n",
       "  'rcl': -0.07142857142857145,\n",
       "  'prcrcl_ratio': 0.06666666666666665,\n",
       "  'prcrcl_avg': -0.05476190476190479,\n",
       "  'csi': -0.04545454545454547},\n",
       " 29: {'acc': 0.012861736334405127,\n",
       "  'prc': 0.16666666666666663,\n",
       "  'rcl': 0.0,\n",
       "  'prcrcl_ratio': 0.39583333333333326,\n",
       "  'prcrcl_avg': 0.08333333333333326,\n",
       "  'csi': 0.05152979066022545},\n",
       " 30: {'acc': -0.00887573964497046,\n",
       "  'prc': -0.0935672514619883,\n",
       "  'rcl': -0.05882352941176472,\n",
       "  'prcrcl_ratio': -0.049707602339181256,\n",
       "  'prcrcl_avg': -0.07619539043687662,\n",
       "  'csi': -0.10144927536231885},\n",
       " 31: {'acc': -0.0029673590504450953,\n",
       "  'prc': -0.09999999999999998,\n",
       "  'rcl': -0.18181818181818182,\n",
       "  'prcrcl_ratio': 0.8250000000000002,\n",
       "  'prcrcl_avg': -0.14090909090909093,\n",
       "  'csi': -0.12380952380952381},\n",
       " 32: {'acc': 0.01440922190201721,\n",
       "  'prc': 0.05972515856236782,\n",
       "  'rcl': 0.0444444444444444,\n",
       "  'prcrcl_ratio': 0.02378435517970412,\n",
       "  'prcrcl_avg': 0.05208480150340611,\n",
       "  'csi': 0.05199795081967212},\n",
       " 33: {'acc': 0.024930747922437657,\n",
       "  'prc': 0.18000000000000005,\n",
       "  'rcl': 0.1071428571428571,\n",
       "  'prcrcl_ratio': 0.1200000000000001,\n",
       "  'prcrcl_avg': 0.14357142857142857,\n",
       "  'csi': 0.1388888888888889},\n",
       " 34: {'acc': -0.008474576271186529,\n",
       "  'prc': -0.05978260869565216,\n",
       "  'rcl': -0.05555555555555558,\n",
       "  'prcrcl_ratio': -0.032608695652173836,\n",
       "  'prcrcl_avg': -0.05766908212560384,\n",
       "  'csi': -0.04985337243401761},\n",
       " 35: {'acc': 0.008875739644970349,\n",
       "  'prc': 0.10000000000000003,\n",
       "  'rcl': -0.09999999999999998,\n",
       "  'prcrcl_ratio': 1.0,\n",
       "  'prcrcl_avg': 5.551115123125783e-17,\n",
       "  'csi': -0.022624434389140274},\n",
       " 36: {'acc': -0.006497022198159175,\n",
       "  'prc': -0.025069332944095746,\n",
       "  'rcl': 0.0845481049562683,\n",
       "  'prcrcl_ratio': -0.1460249112051769,\n",
       "  'prcrcl_avg': 0.029739386006086277,\n",
       "  'csi': 0.021369402683923622},\n",
       " 37: {'acc': -0.0026525198938991412,\n",
       "  'prc': -0.00512820512820511,\n",
       "  'rcl': 0.046511627906976716,\n",
       "  'prcrcl_ratio': -0.055128205128205154,\n",
       "  'prcrcl_avg': 0.02069171138938586,\n",
       "  'csi': 0.011282051282051286},\n",
       " 38: {'acc': 0.019469026548672552,\n",
       "  'prc': 0.04466041883605221,\n",
       "  'rcl': 0.025000000000000022,\n",
       "  'prcrcl_ratio': 0.034710170079833236,\n",
       "  'prcrcl_avg': 0.03483020941802617,\n",
       "  'csi': 0.03656330749354009},\n",
       " 39: {'acc': 0.01764705882352935,\n",
       "  'prc': 0.05032467532467533,\n",
       "  'rcl': -0.01388888888888884,\n",
       "  'prcrcl_ratio': 0.11688311688311681,\n",
       "  'prcrcl_avg': 0.018217893217893244,\n",
       "  'csi': 0.020028292755565502},\n",
       " 40: {'acc': -0.027568922305764354,\n",
       "  'prc': -0.07289684050247436,\n",
       "  'rcl': -0.11475409836065575,\n",
       "  'prcrcl_ratio': 0.03483060525314041,\n",
       "  'prcrcl_avg': -0.093825469431565,\n",
       "  'csi': -0.09574468085106386},\n",
       " 41: {'acc': 0.03397027600849256,\n",
       "  'prc': 0.11818181818181817,\n",
       "  'rcl': 0.0892857142857143,\n",
       "  'prcrcl_ratio': 0.08484848484848473,\n",
       "  'prcrcl_avg': 0.10373376623376623,\n",
       "  'csi': 0.08585858585858586},\n",
       " 42: {'acc': 0.0,\n",
       "  'prc': 0.0,\n",
       "  'rcl': 0.0,\n",
       "  'prcrcl_ratio': 0.0,\n",
       "  'prcrcl_avg': 0.0,\n",
       "  'csi': 0.0},\n",
       " 43: {'acc': 0.0028169014084507005,\n",
       "  'prc': 0.010638297872340385,\n",
       "  'rcl': 0.04999999999999993,\n",
       "  'prcrcl_ratio': -0.05802707930367501,\n",
       "  'prcrcl_avg': 0.03031914893617016,\n",
       "  'csi': 0.02611367127496156},\n",
       " 44: {'acc': -0.0019305019305019266,\n",
       "  'prc': 0.0748792270531401,\n",
       "  'rcl': 0.15384615384615385,\n",
       "  'prcrcl_ratio': -0.15700483091787432,\n",
       "  'prcrcl_avg': 0.11436269044964696,\n",
       "  'csi': 0.05757575757575758},\n",
       " 45: {'acc': -0.011111111111111072,\n",
       "  'prc': -0.02128603104212856,\n",
       "  'rcl': 0.04938271604938271,\n",
       "  'prcrcl_ratio': -0.07782705099778264,\n",
       "  'prcrcl_avg': 0.014048342503627076,\n",
       "  'csi': 0.0018518518518518823},\n",
       " 46: {'acc': 0.03260869565217395,\n",
       "  'prc': 0.10077519379844968,\n",
       "  'rcl': -0.020000000000000018,\n",
       "  'prcrcl_ratio': 0.18239854081167373,\n",
       "  'prcrcl_avg': 0.04038759689922489,\n",
       "  'csi': 0.042537313432835844},\n",
       " 47: {'acc': -0.0456431535269709,\n",
       "  'prc': -0.0822929936305733,\n",
       "  'rcl': 0.05102040816326525,\n",
       "  'prcrcl_ratio': -0.159796178343949,\n",
       "  'prcrcl_avg': -0.015636292733654078,\n",
       "  'csi': -0.040849673202614345},\n",
       " 48: {'acc': -0.016949152542372836,\n",
       "  'prc': -0.07114624505928857,\n",
       "  'rcl': -0.04761904761904756,\n",
       "  'prcrcl_ratio': -0.041501976284585074,\n",
       "  'prcrcl_avg': -0.05938264633916812,\n",
       "  'csi': -0.06340378197997776},\n",
       " 49: {'acc': 0.04285714285714293,\n",
       "  'prc': 0.3333333333333333,\n",
       "  'rcl': 0.0,\n",
       "  'prcrcl_ratio': 0.3333333333333333,\n",
       "  'prcrcl_avg': 0.16666666666666663,\n",
       "  'csi': 0.3333333333333333},\n",
       " 50: {'acc': 0.0,\n",
       "  'prc': nan,\n",
       "  'rcl': 0.0,\n",
       "  'prcrcl_ratio': nan,\n",
       "  'prcrcl_avg': nan,\n",
       "  'csi': 0.0},\n",
       " 51: {'acc': -0.00723327305605781,\n",
       "  'prc': -0.033518862090290646,\n",
       "  'rcl': 0.032467532467532534,\n",
       "  'prcrcl_ratio': -0.11428571428571443,\n",
       "  'prcrcl_avg': -0.0005256648113789453,\n",
       "  'csi': -0.0008771929824561431},\n",
       " 52: {'acc': -0.05263157894736836,\n",
       "  'prc': -0.13804713804713803,\n",
       "  'rcl': -0.05263157894736836,\n",
       "  'prcrcl_ratio': -0.15993265993266004,\n",
       "  'prcrcl_avg': -0.09533935849725317,\n",
       "  'csi': -0.09950738916256158},\n",
       " 53: {'acc': 0.003416856492027276,\n",
       "  'prc': 0.0326797385620915,\n",
       "  'rcl': -0.05263157894736842,\n",
       "  'prcrcl_ratio': 0.289760348583878,\n",
       "  'prcrcl_avg': -0.009975920192638432,\n",
       "  'csi': -0.01496421600520495},\n",
       " 54: {'acc': 0.010593220338983134,\n",
       "  'prc': 0.06802721088435382,\n",
       "  'rcl': 0.09243697478991592,\n",
       "  'prcrcl_ratio': -0.08095238095238066,\n",
       "  'prcrcl_avg': 0.08023209283713484,\n",
       "  'csi': 0.07751668788825872},\n",
       " 55: {'acc': 0.01990049751243772,\n",
       "  'prc': 0.039215686274509776,\n",
       "  'rcl': -0.1333333333333333,\n",
       "  'prcrcl_ratio': 0.7843137254901958,\n",
       "  'prcrcl_avg': -0.047058823529411764,\n",
       "  'csi': -0.042328042328042326},\n",
       " 56: {'acc': -0.01449275362318836,\n",
       "  'prc': nan,\n",
       "  'rcl': 0.0,\n",
       "  'prcrcl_ratio': nan,\n",
       "  'prcrcl_avg': nan,\n",
       "  'csi': 0.0},\n",
       " 57: {'acc': -0.024943310657596474,\n",
       "  'prc': -0.1412601626016261,\n",
       "  'rcl': -0.037735849056603765,\n",
       "  'prcrcl_ratio': -0.1885162601626018,\n",
       "  'prcrcl_avg': -0.08949800582911493,\n",
       "  'csi': -0.07757575757575758},\n",
       " 58: {'acc': -0.006594441827602493,\n",
       "  'prc': -0.03888419273034649,\n",
       "  'rcl': -0.06329113924050633,\n",
       "  'prcrcl_ratio': 0.032054099746407605,\n",
       "  'prcrcl_avg': -0.05108766598542647,\n",
       "  'csi': -0.04943771391318519},\n",
       " 59: {'acc': 0.01904761904761909,\n",
       "  'prc': 0.08080808080808077,\n",
       "  'rcl': 0.0,\n",
       "  'prcrcl_ratio': 0.18181818181818177,\n",
       "  'prcrcl_avg': 0.04040404040404039,\n",
       "  'csi': 0.0357142857142857},\n",
       " 60: {'acc': -0.008571428571428563,\n",
       "  'prc': -0.04719562243502051,\n",
       "  'rcl': 0.08108108108108114,\n",
       "  'prcrcl_ratio': -0.22777017783857745,\n",
       "  'prcrcl_avg': 0.016942729323030425,\n",
       "  'csi': 0.013925729442970824},\n",
       " 61: {'acc': 0.014705882352941235,\n",
       "  'prc': nan,\n",
       "  'rcl': 0.0,\n",
       "  'prcrcl_ratio': nan,\n",
       "  'prcrcl_avg': nan,\n",
       "  'csi': 0.0},\n",
       " 62: {'acc': 0.006263048016701522,\n",
       "  'prc': 0.09183673469387754,\n",
       "  'rcl': 0.01785714285714285,\n",
       "  'prcrcl_ratio': 0.19047619047619047,\n",
       "  'prcrcl_avg': 0.05484693877551017,\n",
       "  'csi': 0.03743315508021389},\n",
       " 63: {'acc': -0.004491017964071808,\n",
       "  'prc': -0.04864864864864871,\n",
       "  'rcl': 0.0,\n",
       "  'prcrcl_ratio': -0.11756756756756781,\n",
       "  'prcrcl_avg': -0.024324324324324298,\n",
       "  'csi': -0.013703844689760158},\n",
       " 64: {'acc': -0.014705882352941235,\n",
       "  'prc': -0.13333333333333341,\n",
       "  'rcl': 0.0,\n",
       "  'prcrcl_ratio': -0.40000000000000036,\n",
       "  'prcrcl_avg': -0.06666666666666665,\n",
       "  'csi': -0.02197802197802201},\n",
       " 65: {'acc': 0.0023397285914833477,\n",
       "  'prc': 0.020024028834601526,\n",
       "  'rcl': -0.019920318725099584,\n",
       "  'prcrcl_ratio': 0.06853678960206788,\n",
       "  'prcrcl_avg': 5.1855054750915563e-05,\n",
       "  'csi': -0.0013897481417722846},\n",
       " 66: {'acc': -0.0031152647975077885,\n",
       "  'prc': -0.0535714285714286,\n",
       "  'rcl': -0.09523809523809523,\n",
       "  'prcrcl_ratio': 0.1875,\n",
       "  'prcrcl_avg': -0.07440476190476197,\n",
       "  'csi': -0.07407407407407407},\n",
       " 67: {'acc': 0.005531653349723387,\n",
       "  'prc': 0.02897395002658154,\n",
       "  'rcl': 0.009950248756218971,\n",
       "  'prcrcl_ratio': 0.033393141945773364,\n",
       "  'prcrcl_avg': 0.0194620993914002,\n",
       "  'csi': 0.017543859649122806},\n",
       " 68: {'acc': 0.0,\n",
       "  'prc': nan,\n",
       "  'rcl': 0.0,\n",
       "  'prcrcl_ratio': nan,\n",
       "  'prcrcl_avg': nan,\n",
       "  'csi': 0.0},\n",
       " 69: {'acc': -0.006299212598425141,\n",
       "  'prc': -0.04097646033129898,\n",
       "  'rcl': -0.11363636363636359,\n",
       "  'prcrcl_ratio': 0.23016564952048824,\n",
       "  'prcrcl_avg': -0.07730641198383137,\n",
       "  'csi': -0.08076225045372054},\n",
       " 70: {'acc': 0.0,\n",
       "  'prc': 0.016666666666666607,\n",
       "  'rcl': -0.05263157894736842,\n",
       "  'prcrcl_ratio': 0.31666666666666665,\n",
       "  'prcrcl_avg': -0.017982456140350878,\n",
       "  'csi': -0.030797101449275388},\n",
       " 71: {'acc': 0.001865671641791078,\n",
       "  'prc': 0.2142857142857143,\n",
       "  'rcl': -0.125,\n",
       "  'prcrcl_ratio': 0.6349206349206349,\n",
       "  'prcrcl_avg': 0.044642857142857206,\n",
       "  'csi': -0.016447368421052655},\n",
       " 72: {'acc': 0.01754385964912275,\n",
       "  'prc': 0.16666666666666669,\n",
       "  'rcl': 0.0,\n",
       "  'prcrcl_ratio': 0.5,\n",
       "  'prcrcl_avg': 0.08333333333333331,\n",
       "  'csi': 0.04999999999999999},\n",
       " 73: {'acc': -0.005199306759098854,\n",
       "  'prc': 0.0015957446808509967,\n",
       "  'rcl': -0.09090909090909094,\n",
       "  'prcrcl_ratio': 0.20478723404255317,\n",
       "  'prcrcl_avg': -0.044656673114119916,\n",
       "  'csi': -0.06060606060606061},\n",
       " 74: {'acc': 0.0,\n",
       "  'prc': -0.014011416709911795,\n",
       "  'rcl': 0.06818181818181812,\n",
       "  'prcrcl_ratio': -0.13700051894135945,\n",
       "  'prcrcl_avg': 0.027085200735953108,\n",
       "  'csi': 0.027777777777777735},\n",
       " 75: {'acc': 0.011235955056179803,\n",
       "  'prc': 0.020833333333333315,\n",
       "  'rcl': -0.047619047619047616,\n",
       "  'prcrcl_ratio': 0.4375,\n",
       "  'prcrcl_avg': -0.013392857142857206,\n",
       "  'csi': -0.01831896551724138},\n",
       " 76: {'acc': 0.0054421768707483276,\n",
       "  'prc': 6.787944610375796e-05,\n",
       "  'rcl': 0.05747126436781613,\n",
       "  'prcrcl_ratio': -0.09744094488188981,\n",
       "  'prcrcl_avg': 0.028769571906959834,\n",
       "  'csi': 0.03420616217159822},\n",
       " 77: {'acc': -0.006020469596628497,\n",
       "  'prc': -0.03755760368663591,\n",
       "  'rcl': 0.02564102564102555,\n",
       "  'prcrcl_ratio': -0.10783410138248817,\n",
       "  'prcrcl_avg': -0.005958289022805152,\n",
       "  'csi': -0.008950341956586394},\n",
       " 78: {'acc': -0.031746031746031744,\n",
       "  'prc': -0.5,\n",
       "  'rcl': -0.2,\n",
       "  'prcrcl_ratio': nan,\n",
       "  'prcrcl_avg': nan,\n",
       "  'csi': -0.16666666666666666},\n",
       " 79: {'acc': 0.010204081632653073,\n",
       "  'prc': nan,\n",
       "  'rcl': 0.0,\n",
       "  'prcrcl_ratio': nan,\n",
       "  'prcrcl_avg': nan,\n",
       "  'csi': 0.0},\n",
       " 80: {'acc': 0.0017825311942958333,\n",
       "  'prc': 0.07142857142857145,\n",
       "  'rcl': 0.0,\n",
       "  'prcrcl_ratio': 0.2619047619047621,\n",
       "  'prcrcl_avg': 0.0357142857142857,\n",
       "  'csi': 0.014285714285714263},\n",
       " 81: {'acc': 0.03867403314917128,\n",
       "  'prc': 0.3333333333333333,\n",
       "  'rcl': 0.14285714285714285,\n",
       "  'prcrcl_ratio': 0.38888888888888884,\n",
       "  'prcrcl_avg': 0.23809523809523803,\n",
       "  'csi': 0.17112299465240643},\n",
       " 82: {'acc': 0.0,\n",
       "  'prc': 0.0,\n",
       "  'rcl': 0.0,\n",
       "  'prcrcl_ratio': nan,\n",
       "  'prcrcl_avg': nan,\n",
       "  'csi': 0.0},\n",
       " 83: {'acc': 0.004891684136967167,\n",
       "  'prc': 0.036314984709480136,\n",
       "  'rcl': -0.015384615384615385,\n",
       "  'prcrcl_ratio': 0.10932721712538229,\n",
       "  'prcrcl_avg': 0.010465184662432403,\n",
       "  'csi': 0.006603194103194099},\n",
       " 84: {'acc': 0.06896551724137923,\n",
       "  'prc': 0.1333333333333333,\n",
       "  'rcl': 0.0,\n",
       "  'prcrcl_ratio': 0.3999999999999999,\n",
       "  'prcrcl_avg': 0.06666666666666665,\n",
       "  'csi': 0.05714285714285716},\n",
       " 85: {'acc': 0.0031859816806053542,\n",
       "  'prc': 0.051075268817204256,\n",
       "  'rcl': -0.1034482758620689,\n",
       "  'prcrcl_ratio': 0.350806451612903,\n",
       "  'prcrcl_avg': -0.026186503522432347,\n",
       "  'csi': -0.03939897870053083},\n",
       " 86: {'acc': 0.02659574468085113,\n",
       "  'prc': 0.0980392156862745,\n",
       "  'rcl': 0.0,\n",
       "  'prcrcl_ratio': 0.6617647058823528,\n",
       "  'prcrcl_avg': 0.04901960784313725,\n",
       "  'csi': 0.014285714285714277},\n",
       " 87: {'acc': -0.010687022900763399,\n",
       "  'prc': -0.03447987977959588,\n",
       "  'rcl': 0.0,\n",
       "  'prcrcl_ratio': -0.05551845049256965,\n",
       "  'prcrcl_avg': -0.017239939889797884,\n",
       "  'csi': -0.019519803384062784},\n",
       " 88: {'acc': 0.023255813953488302,\n",
       "  'prc': 0.06153846153846154,\n",
       "  'rcl': -0.09090909090909094,\n",
       "  'prcrcl_ratio': 0.25384615384615394,\n",
       "  'prcrcl_avg': -0.014685314685314643,\n",
       "  'csi': -0.0117647058823529},\n",
       " 89: {'acc': 0.020812685827552024,\n",
       "  'prc': 0.19811320754716977,\n",
       "  'rcl': 0.1267605633802817,\n",
       "  'prcrcl_ratio': 0.07176549865229087,\n",
       "  'prcrcl_avg': 0.1624368854637257,\n",
       "  'csi': 0.14245907349355624},\n",
       " 90: {'acc': 0.0,\n",
       "  'prc': nan,\n",
       "  'rcl': 0.0,\n",
       "  'prcrcl_ratio': nan,\n",
       "  'prcrcl_avg': nan,\n",
       "  'csi': 0.0},\n",
       " 91: {'acc': 0.01036269430051806,\n",
       "  'prc': 0.06547619047619047,\n",
       "  'rcl': 0.15384615384615385,\n",
       "  'prcrcl_ratio': -0.1160714285714286,\n",
       "  'prcrcl_avg': 0.10966117216117216,\n",
       "  'csi': 0.09836065573770492},\n",
       " 92: {'acc': -0.03610108303249093,\n",
       "  'prc': -0.13859649122807016,\n",
       "  'rcl': -0.02857142857142858,\n",
       "  'prcrcl_ratio': -0.24561403508771928,\n",
       "  'prcrcl_avg': -0.08358395989974943,\n",
       "  'csi': -0.0679099225897255},\n",
       " 93: {'acc': 0.03111111111111109,\n",
       "  'prc': 0.07265306122448978,\n",
       "  'rcl': 0.0674157303370787,\n",
       "  'prcrcl_ratio': 0.018163265306122334,\n",
       "  'prcrcl_avg': 0.07003439578078419,\n",
       "  'csi': 0.07494736842105265},\n",
       " 94: {'acc': 0.0,\n",
       "  'prc': 0.0,\n",
       "  'rcl': 0.0,\n",
       "  'prcrcl_ratio': 0.0,\n",
       "  'prcrcl_avg': 0.0,\n",
       "  'csi': 0.0},\n",
       " 95: {'acc': 0.01540616246498594,\n",
       "  'prc': 0.1139184397163121,\n",
       "  'rcl': 0.11538461538461536,\n",
       "  'prcrcl_ratio': -0.023049645390070816,\n",
       "  'prcrcl_avg': 0.1146515275504637,\n",
       "  'csi': 0.11143752448100275},\n",
       " 96: {'acc': 0.0,\n",
       "  'prc': 0.0,\n",
       "  'rcl': nan,\n",
       "  'prcrcl_ratio': nan,\n",
       "  'prcrcl_avg': nan,\n",
       "  'csi': 0.0},\n",
       " 97: {'acc': -0.02564102564102566,\n",
       "  'prc': -0.15384615384615385,\n",
       "  'rcl': -0.1428571428571429,\n",
       "  'prcrcl_ratio': 0.0,\n",
       "  'prcrcl_avg': -0.1483516483516485,\n",
       "  'csi': -0.15000000000000002},\n",
       " 98: {'acc': 0.02985074626865669,\n",
       "  'prc': 0.0,\n",
       "  'rcl': 0.0,\n",
       "  'prcrcl_ratio': nan,\n",
       "  'prcrcl_avg': nan,\n",
       "  'csi': 0.0},\n",
       " 99: {'acc': 0.0,\n",
       "  'prc': -0.4,\n",
       "  'rcl': -0.2857142857142857,\n",
       "  'prcrcl_ratio': nan,\n",
       "  'prcrcl_avg': nan,\n",
       "  'csi': -0.2},\n",
       " 100: {'acc': 0.006717850287907834,\n",
       "  'prc': 0.02749305489031517,\n",
       "  'rcl': 0.014598540145985384,\n",
       "  'prcrcl_ratio': 0.0196857936583964,\n",
       "  'prcrcl_avg': 0.021045797518150167,\n",
       "  'csi': 0.024384633080285267},\n",
       " 101: {'acc': 0.0006016847172082285,\n",
       "  'prc': 0.008522727272727293,\n",
       "  'rcl': -0.010000000000000009,\n",
       "  'prcrcl_ratio': 0.031565656565656575,\n",
       "  'prcrcl_avg': -0.000738636363636358,\n",
       "  'csi': -0.0009977419524234699},\n",
       " 102: {'acc': 0.04999999999999993,\n",
       "  'prc': nan,\n",
       "  'rcl': 0.0,\n",
       "  'prcrcl_ratio': nan,\n",
       "  'prcrcl_avg': nan,\n",
       "  'csi': 0.0},\n",
       " 103: {'acc': -0.09999999999999998,\n",
       "  'prc': nan,\n",
       "  'rcl': 0.0,\n",
       "  'prcrcl_ratio': nan,\n",
       "  'prcrcl_avg': nan,\n",
       "  'csi': 0.0},\n",
       " 104: {'acc': -0.009463722397476282,\n",
       "  'prc': -0.08181818181818179,\n",
       "  'rcl': -0.10344827586206895,\n",
       "  'prcrcl_ratio': 0.060839160839160966,\n",
       "  'prcrcl_avg': -0.09263322884012537,\n",
       "  'csi': -0.08553791887125217},\n",
       " 105: {'acc': -0.023255813953488413,\n",
       "  'prc': 0.0,\n",
       "  'rcl': -0.25,\n",
       "  'prcrcl_ratio': 2.0,\n",
       "  'prcrcl_avg': -0.125,\n",
       "  'csi': -0.25},\n",
       " 106: {'acc': 0.0,\n",
       "  'prc': 0.0025974025974025983,\n",
       "  'rcl': -0.020000000000000018,\n",
       "  'prcrcl_ratio': 0.08658008658008676,\n",
       "  'prcrcl_avg': -0.00870129870129871,\n",
       "  'csi': -0.010955710955710962},\n",
       " 107: {'acc': 0.011532125205930832,\n",
       "  'prc': 0.052238805970149294,\n",
       "  'rcl': 0.08571428571428574,\n",
       "  'prcrcl_ratio': -0.08425613866153103,\n",
       "  'prcrcl_avg': 0.06897654584221746,\n",
       "  'csi': 0.06306930693069307},\n",
       " 108: {'acc': -0.019867549668874163,\n",
       "  'prc': -0.08470588235294119,\n",
       "  'rcl': 0.0,\n",
       "  'prcrcl_ratio': -0.29647058823529415,\n",
       "  'prcrcl_avg': -0.04235294117647059,\n",
       "  'csi': -0.029629629629629645},\n",
       " 109: {'acc': 0.01008064516129037,\n",
       "  'prc': 0.0,\n",
       "  'rcl': 0.0,\n",
       "  'prcrcl_ratio': nan,\n",
       "  'prcrcl_avg': nan,\n",
       "  'csi': 0.0},\n",
       " 110: {'acc': -0.02801120448179273,\n",
       "  'prc': -0.3714285714285714,\n",
       "  'rcl': -0.05263157894736842,\n",
       "  'prcrcl_ratio': -1.4476190476190476,\n",
       "  'prcrcl_avg': -0.2120300751879699,\n",
       "  'csi': -0.08504398826979473},\n",
       " 111: {'acc': -0.007633587786259555,\n",
       "  'prc': -0.11929824561403501,\n",
       "  'rcl': 0.03703703703703698,\n",
       "  'prcrcl_ratio': -0.2526315789473681,\n",
       "  'prcrcl_avg': -0.04113060428849913,\n",
       "  'csi': -0.03947368421052633},\n",
       " 112: {'acc': 0.0,\n",
       "  'prc': 0.0,\n",
       "  'rcl': 0.0,\n",
       "  'prcrcl_ratio': 0.0,\n",
       "  'prcrcl_avg': 0.0,\n",
       "  'csi': 0.0},\n",
       " 113: {'acc': 0.009049773755656076,\n",
       "  'prc': 0.05548812207386855,\n",
       "  'rcl': 0.09195402298850575,\n",
       "  'prcrcl_ratio': -0.0905149991329981,\n",
       "  'prcrcl_avg': 0.0737210725311872,\n",
       "  'csi': 0.07683000604960677},\n",
       " 114: {'acc': 0.0,\n",
       "  'prc': 0.0,\n",
       "  'rcl': 0.0,\n",
       "  'prcrcl_ratio': nan,\n",
       "  'prcrcl_avg': nan,\n",
       "  'csi': 0.0},\n",
       " 115: {'acc': 0.00990099009900991,\n",
       "  'prc': 0.07843137254901955,\n",
       "  'rcl': 0.11764705882352944,\n",
       "  'prcrcl_ratio': -0.05555555555555569,\n",
       "  'prcrcl_avg': 0.0980392156862745,\n",
       "  'csi': 0.10507246376811591},\n",
       " 116: {'acc': -0.0010598834128245915,\n",
       "  'prc': -0.005712840665628605,\n",
       "  'rcl': 0.009066183136899442,\n",
       "  'prcrcl_ratio': -0.0148582842006586,\n",
       "  'prcrcl_avg': 0.0016766712356353075,\n",
       "  'csi': 0.0008978841623796807},\n",
       " 117: {'acc': -0.0013241525423728362,\n",
       "  'prc': -0.006250151050911534,\n",
       "  'rcl': 0.004170141784820669,\n",
       "  'prcrcl_ratio': -0.012074002862582645,\n",
       "  'prcrcl_avg': -0.0010400046330454327,\n",
       "  'csi': -0.001710845002603656},\n",
       " 118: {'acc': -0.010040160642570184,\n",
       "  'prc': -0.013859575066835439,\n",
       "  'rcl': -0.0092592592592593,\n",
       "  'prcrcl_ratio': -0.0050654284508231395,\n",
       "  'prcrcl_avg': -0.011559417163047314,\n",
       "  'csi': -0.017113319281340966},\n",
       " 119: {'acc': -0.003104625892579982,\n",
       "  'prc': -0.006683612671587902,\n",
       "  'rcl': 0.0038343558282207812,\n",
       "  'prcrcl_ratio': -0.012612779918597106,\n",
       "  'prcrcl_avg': -0.0014246284216834493,\n",
       "  'csi': -0.002551451950916994},\n",
       " 120: {'acc': -0.023846552617936778,\n",
       "  'prc': -0.05159720109522359,\n",
       "  'rcl': 0.01624815361890697,\n",
       "  'prcrcl_ratio': -0.08753422573775482,\n",
       "  'prcrcl_avg': -0.017674523738158365,\n",
       "  'csi': -0.02507929229240702},\n",
       " 121: {'acc': 0.007457469121416871,\n",
       "  'prc': 0.010804846038771965,\n",
       "  'rcl': 0.013254786450662803,\n",
       "  'prcrcl_ratio': -0.0029325434037479337,\n",
       "  'prcrcl_avg': 0.012029816244717328,\n",
       "  'csi': 0.01741023788404783},\n",
       " 122: {'acc': 0.025954198473282508,\n",
       "  'prc': 0.048155907161365086,\n",
       "  'rcl': 0.03125,\n",
       "  'prcrcl_ratio': 0.030872705220795105,\n",
       "  'prcrcl_avg': 0.03970295358068254,\n",
       "  'csi': 0.04537437870771205},\n",
       " 123: {'acc': -0.010514963602049066,\n",
       "  'prc': -0.02842121191828939,\n",
       "  'rcl': 0.02684563758389258,\n",
       "  'prcrcl_ratio': -0.06472553686830507,\n",
       "  'prcrcl_avg': -0.000787787167198406,\n",
       "  'csi': -0.005409898356606768},\n",
       " 124: {'acc': -0.02041447571914634,\n",
       "  'prc': -0.05665091374189779,\n",
       "  'rcl': 0.04677846425419241,\n",
       "  'prcrcl_ratio': -0.13201836155130187,\n",
       "  'prcrcl_avg': -0.004936224743852691,\n",
       "  'csi': -0.010643004510015541},\n",
       " 125: {'acc': -0.019828510182207992,\n",
       "  'prc': -0.025769872973601338,\n",
       "  'rcl': -0.024844720496894457,\n",
       "  'prcrcl_ratio': -0.005671450411796508,\n",
       "  'prcrcl_avg': -0.025307296735247897,\n",
       "  'csi': -0.032021482067456364},\n",
       " 126: {'acc': -0.008750437521876098,\n",
       "  'prc': -0.033341270786204746,\n",
       "  'rcl': 0.025147928994082802,\n",
       "  'prcrcl_ratio': -0.07914434258046599,\n",
       "  'prcrcl_avg': -0.004096670896061028,\n",
       "  'csi': -0.006603097860148677},\n",
       " 127: {'acc': -0.012432260121134853,\n",
       "  'prc': -0.022996599560651254,\n",
       "  'rcl': -0.011879049676025821,\n",
       "  'prcrcl_ratio': -0.01579047676366463,\n",
       "  'prcrcl_avg': -0.017437824618338538,\n",
       "  'csi': -0.022176857626610036},\n",
       " 128: {'acc': -0.02400000000000002,\n",
       "  'prc': -0.03346518987341762,\n",
       "  'rcl': -0.04069767441860461,\n",
       "  'prcrcl_ratio': 0.013607594936708933,\n",
       "  'prcrcl_avg': -0.03708143214601112,\n",
       "  'csi': -0.05256410256410249},\n",
       " 129: {'acc': -0.01078582434514641,\n",
       "  'prc': -0.027516034926152844,\n",
       "  'rcl': 0.008620689655172376,\n",
       "  'prcrcl_ratio': -0.045690645361306625,\n",
       "  'prcrcl_avg': -0.009447672635490179,\n",
       "  'csi': -0.013838849322720281},\n",
       " 130: {'acc': -0.006228589224540726,\n",
       "  'prc': 0.007360529715934816,\n",
       "  'rcl': -0.06553911205073992,\n",
       "  'prcrcl_ratio': 0.08760686614717317,\n",
       "  'prcrcl_avg': -0.029089291167402553,\n",
       "  'csi': -0.030052773973746616},\n",
       " 131: {'acc': -0.028960817717206155,\n",
       "  'prc': -0.024851485148514874,\n",
       "  'rcl': -0.0340136054421768,\n",
       "  'prcrcl_ratio': 0.0097029702970296,\n",
       "  'prcrcl_avg': -0.02943254529534578,\n",
       "  'csi': -0.04406679098152222},\n",
       " 132: {'acc': 0.025854383358098088,\n",
       "  'prc': 0.04493865871942082,\n",
       "  'rcl': 0.0010050251256281673,\n",
       "  'prcrcl_ratio': 0.0644304372204142,\n",
       "  'prcrcl_avg': 0.02297184192252455,\n",
       "  'csi': 0.02812621912792962},\n",
       " 133: {'acc': 0.004728132387706863,\n",
       "  'prc': 0.0263601922893254,\n",
       "  'rcl': 0.012084592145015116,\n",
       "  'prcrcl_ratio': 0.02810055925206667,\n",
       "  'prcrcl_avg': 0.019222392217170203,\n",
       "  'csi': 0.01646168810115639},\n",
       " 134: {'acc': 0.016918646508279345,\n",
       "  'prc': 0.03083468367039144,\n",
       "  'rcl': -0.011396011396011319,\n",
       "  'prcrcl_ratio': 0.05244428544371704,\n",
       "  'prcrcl_avg': 0.009719336137190004,\n",
       "  'csi': 0.015398479473282656},\n",
       " 135: {'acc': 0.0,\n",
       "  'prc': 0.00987387985396615,\n",
       "  'rcl': -0.028225806451612878,\n",
       "  'prcrcl_ratio': 0.048014160858501964,\n",
       "  'prcrcl_avg': -0.00917596329882342,\n",
       "  'csi': -0.009301055697124139},\n",
       " 136: {'acc': 0.012693935119887145,\n",
       "  'prc': 0.033134166214014105,\n",
       "  'rcl': 0.047413793103448176,\n",
       "  'prcrcl_ratio': -0.013623618186355713,\n",
       "  'prcrcl_avg': 0.04027397965873114,\n",
       "  'csi': 0.041727405247813376},\n",
       " 137: {'acc': -0.0013550135501355642,\n",
       "  'prc': 0.0,\n",
       "  'rcl': nan,\n",
       "  'prcrcl_ratio': nan,\n",
       "  'prcrcl_avg': nan,\n",
       "  'csi': 0.0}}"
      ]
     },
     "execution_count": 375,
     "metadata": {},
     "output_type": "execute_result"
    }
   ],
   "source": [
    "diff_dict = calculate_dict_differences(corrected_dict,not_corrected_dict) ;diff_dict"
   ]
  },
  {
   "cell_type": "code",
   "execution_count": 373,
   "id": "ffed312a",
   "metadata": {
    "collapsed": true,
    "jupyter": {
     "outputs_hidden": true
    }
   },
   "outputs": [
    {
     "data": {
      "text/plain": [
       "{'acc': {'mean': 0.00017161619159516408, 'std': 0.01917066023697661},\n",
       " 'prc': {'mean': 0.004025980311118418, 'std': 0.10991564634711191},\n",
       " 'rcl': {'mean': -0.008475519130204785, 'std': 0.11844144855081071},\n",
       " 'prcrcl_ratio': {'mean': 0.05321021262711517, 'std': 0.3206922523227906},\n",
       " 'prcrcl_avg': {'mean': 0.004790663052654472, 'std': 0.06841974338899759},\n",
       " 'csi': {'mean': -0.0021699684562278693, 'std': 0.0859009330024367}}"
      ]
     },
     "execution_count": 373,
     "metadata": {},
     "output_type": "execute_result"
    }
   ],
   "source": [
    "calculate_metric_stats(diff_dict)"
   ]
  },
  {
   "cell_type": "code",
   "execution_count": 387,
   "id": "723db437",
   "metadata": {
    "collapsed": true,
    "jupyter": {
     "outputs_hidden": true
    }
   },
   "outputs": [
    {
     "name": "stdout",
     "output_type": "stream",
     "text": [
      "Key: 18, prc: nan\n",
      "Key: 22, prc: nan\n",
      "Key: 25, prc: nan\n",
      "Key: 27, prc: 0.4\n",
      "Key: 49, prc: 0.3333333333333333\n",
      "Key: 33, prc: 0.18000000000000005\n",
      "Key: 29, prc: 0.16666666666666663\n",
      "Key: 41, prc: 0.11818181818181817\n",
      "Key: 0, prc: 0.10835913312693501\n",
      "Key: 46, prc: 0.10077519379844968\n",
      "Key: 35, prc: 0.10000000000000003\n",
      "Key: 20, prc: 0.08639587362991624\n",
      "Key: 17, prc: 0.07090909090909092\n",
      "Key: 32, prc: 0.05972515856236782\n",
      "Key: 21, prc: 0.04358974358974366\n",
      "Key: 14, prc: 0.0267857142857143\n",
      "Key: 6, prc: 0.018704579817587663\n",
      "Key: 24, prc: 0.018115942028985588\n",
      "Key: 12, prc: 0.01790995643385085\n",
      "Key: 23, prc: 0.008928571428571397\n",
      "Key: 11, prc: 0.00811965811965809\n",
      "Key: 19, prc: 0.0\n",
      "Key: 26, prc: 0.0\n",
      "Key: 8, prc: -0.0036438279627357684\n",
      "Key: 4, prc: -0.005404202856904461\n",
      "Key: 5, prc: -0.009175272333167062\n",
      "Key: 13, prc: -0.010863635285466855\n",
      "Key: 16, prc: -0.02398401065956024\n",
      "Key: 3, prc: -0.026108976597974176\n",
      "Key: 1, prc: -0.027282065814175915\n",
      "Key: 7, prc: -0.02815210302731108\n",
      "Key: 28, prc: -0.038095238095238126\n",
      "Key: 2, prc: -0.039433490697028506\n",
      "Key: 10, prc: -0.040576923076923066\n",
      "Key: 9, prc: -0.04237420158903249\n",
      "Key: 30, prc: -0.0935672514619883\n",
      "Key: 31, prc: -0.09999999999999998\n",
      "Key: 15, prc: -0.2142857142857143\n",
      "Key: 50, prc: nan\n",
      "Key: 56, prc: nan\n",
      "Key: 61, prc: nan\n",
      "Key: 62, prc: 0.09183673469387754\n",
      "Key: 59, prc: 0.08080808080808077\n",
      "Key: 44, prc: 0.0748792270531401\n",
      "Key: 54, prc: 0.06802721088435382\n",
      "Key: 39, prc: 0.05032467532467533\n",
      "Key: 38, prc: 0.04466041883605221\n",
      "Key: 55, prc: 0.039215686274509776\n",
      "Key: 53, prc: 0.0326797385620915\n",
      "Key: 67, prc: 0.02897395002658154\n",
      "Key: 65, prc: 0.020024028834601526\n",
      "Key: 43, prc: 0.010638297872340385\n",
      "Key: 42, prc: 0.0\n",
      "Key: 37, prc: -0.00512820512820511\n",
      "Key: 45, prc: -0.02128603104212856\n",
      "Key: 36, prc: -0.025069332944095746\n",
      "Key: 51, prc: -0.033518862090290646\n",
      "Key: 58, prc: -0.03888419273034649\n",
      "Key: 60, prc: -0.04719562243502051\n",
      "Key: 63, prc: -0.04864864864864871\n",
      "Key: 66, prc: -0.0535714285714286\n",
      "Key: 34, prc: -0.05978260869565216\n",
      "Key: 48, prc: -0.07114624505928857\n",
      "Key: 40, prc: -0.07289684050247436\n",
      "Key: 47, prc: -0.0822929936305733\n",
      "Key: 64, prc: -0.13333333333333341\n",
      "Key: 52, prc: -0.13804713804713803\n",
      "Key: 57, prc: -0.1412601626016261\n",
      "Key: 68, prc: nan\n",
      "Key: 79, prc: nan\n",
      "Key: 81, prc: 0.3333333333333333\n",
      "Key: 71, prc: 0.2142857142857143\n",
      "Key: 89, prc: 0.19811320754716977\n",
      "Key: 72, prc: 0.16666666666666669\n",
      "Key: 84, prc: 0.1333333333333333\n",
      "Key: 86, prc: 0.0980392156862745\n",
      "Key: 80, prc: 0.07142857142857145\n",
      "Key: 90, prc: nan\n",
      "Key: 95, prc: 0.1139184397163121\n",
      "Key: 93, prc: 0.07265306122448978\n",
      "Key: 91, prc: 0.06547619047619047\n",
      "Key: 88, prc: 0.06153846153846154\n",
      "Key: 85, prc: 0.051075268817204256\n",
      "Key: 83, prc: 0.036314984709480136\n",
      "Key: 100, prc: 0.02749305489031517\n",
      "Key: 75, prc: 0.020833333333333315\n",
      "Key: 70, prc: 0.016666666666666607\n",
      "Key: 101, prc: 0.008522727272727293\n",
      "Key: 73, prc: 0.0015957446808509967\n",
      "Key: 76, prc: 6.787944610375796e-05\n",
      "Key: 82, prc: 0.0\n",
      "Key: 94, prc: 0.0\n",
      "Key: 96, prc: 0.0\n",
      "Key: 98, prc: 0.0\n",
      "Key: 74, prc: -0.014011416709911795\n",
      "Key: 87, prc: -0.03447987977959588\n",
      "Key: 77, prc: -0.03755760368663591\n",
      "Key: 69, prc: -0.04097646033129898\n",
      "Key: 92, prc: -0.13859649122807016\n",
      "Key: 97, prc: -0.15384615384615385\n",
      "Key: 99, prc: -0.4\n",
      "Key: 78, prc: -0.5\n",
      "Key: 102, prc: nan\n",
      "Key: 103, prc: nan\n",
      "Key: 115, prc: 0.07843137254901955\n",
      "Key: 113, prc: 0.05548812207386855\n",
      "Key: 107, prc: 0.052238805970149294\n",
      "Key: 122, prc: 0.048155907161365086\n",
      "Key: 132, prc: 0.04493865871942082\n",
      "Key: 136, prc: 0.033134166214014105\n",
      "Key: 134, prc: 0.03083468367039144\n",
      "Key: 133, prc: 0.0263601922893254\n",
      "Key: 121, prc: 0.010804846038771965\n",
      "Key: 135, prc: 0.00987387985396615\n",
      "Key: 130, prc: 0.007360529715934816\n",
      "Key: 106, prc: 0.0025974025974025983\n",
      "Key: 105, prc: 0.0\n",
      "Key: 109, prc: 0.0\n",
      "Key: 112, prc: 0.0\n",
      "Key: 114, prc: 0.0\n",
      "Key: 137, prc: 0.0\n",
      "Key: 116, prc: -0.005712840665628605\n",
      "Key: 117, prc: -0.006250151050911534\n",
      "Key: 119, prc: -0.006683612671587902\n",
      "Key: 118, prc: -0.013859575066835439\n",
      "Key: 127, prc: -0.022996599560651254\n",
      "Key: 131, prc: -0.024851485148514874\n",
      "Key: 125, prc: -0.025769872973601338\n",
      "Key: 129, prc: -0.027516034926152844\n",
      "Key: 123, prc: -0.02842121191828939\n",
      "Key: 126, prc: -0.033341270786204746\n",
      "Key: 128, prc: -0.03346518987341762\n",
      "Key: 120, prc: -0.05159720109522359\n",
      "Key: 124, prc: -0.05665091374189779\n",
      "Key: 104, prc: -0.08181818181818179\n",
      "Key: 108, prc: -0.08470588235294119\n",
      "Key: 111, prc: -0.11929824561403501\n",
      "Key: 110, prc: -0.3714285714285714\n"
     ]
    }
   ],
   "source": [
    "sorted_items = sort_dict_by_inner_key(diff_dict, sort_key='prc')\n",
    "for key, value in sorted_items:\n",
    "    print(f\"Key: {key}, {sort_key}: {value[sort_key]}\")"
   ]
  },
  {
   "cell_type": "code",
   "execution_count": 406,
   "id": "43ed5857",
   "metadata": {},
   "outputs": [
    {
     "name": "stdout",
     "output_type": "stream",
     "text": [
      "[27, 49, 33, 29, 41, 0, 46, 35, 20, 17, 32, 21, 14, 6, 24, 12, 23, 11, 62, 59, 44, 54, 39, 38, 55]\n"
     ]
    }
   ],
   "source": [
    "top_k_keys = get_top_k_keys(sorted_items, 25,sort_key='prc')\n",
    "print(top_k_keys)"
   ]
  },
  {
   "cell_type": "markdown",
   "id": "166bc136",
   "metadata": {},
   "source": [
    "## Looking for specific time frames(seasons/etc)"
   ]
  },
  {
   "cell_type": "code",
   "execution_count": 200,
   "id": "a6e2da98",
   "metadata": {},
   "outputs": [],
   "source": [
    "from sklearn.metrics import confusion_matrix, classification_report\n",
    "\n",
    "net.eval()\n",
    "all_predictions = []\n",
    "all_labels = []\n",
    "all_input = []\n",
    "station_pred_label_dict = {}  # Store evaluation metrics for each station\n",
    "\n",
    "with torch.no_grad():\n",
    "    for inputs, labels in testloader:\n",
    "        inputs, labels = inputs.to(device), labels.to(device)\n",
    "        outputs = net(inputs) #batch, classes, stations\n",
    "        predicted_labels = torch.argmax(outputs, dim=1)\n",
    "        all_predictions.append(predicted_labels.cpu().numpy())\n",
    "        all_labels.append(labels.cpu().numpy())\n"
   ]
  },
  {
   "cell_type": "code",
   "execution_count": 201,
   "id": "dfc58c7a",
   "metadata": {},
   "outputs": [],
   "source": [
    "\n",
    "predictions_test_time_station = np.concatenate(all_predictions).reshape(-1, num_stations)\n",
    "ground_truth_test_time_station = np.concatenate(all_labels).reshape(-1, num_stations)\n"
   ]
  },
  {
   "cell_type": "code",
   "execution_count": 207,
   "id": "77df7bba",
   "metadata": {},
   "outputs": [],
   "source": [
    "\n",
    "results_df = pd.DataFrame(index=test_indices, columns=['accuracy','precision', 'recall', 'prcrcl_ratio','prcrcl_avg', 'csi'])\n",
    "\n",
    "# Loop over timestamps and compute metrics\n",
    "for idx, timestamp in enumerate(test_indices):\n",
    "   \n",
    "    metrics = get_metrics_binar(ground_truth_test_time_station[idx],predictions_test_time_station[idx],labels=[1,2],smallest_event_level=smallest_event_level)\n",
    "    results_df.loc[timestamp] = metrics\n",
    "results_df['index_in_timestamp_list'] = range(0, len(test_indices))\n",
    "results_df = results_df.sort_index()"
   ]
  },
  {
   "cell_type": "code",
   "execution_count": 209,
   "id": "e31462b7",
   "metadata": {},
   "outputs": [
    {
     "name": "stdout",
     "output_type": "stream",
     "text": [
      "Average Precision by Month:\n",
      " year  month\n",
      "2013  1        0.686558\n",
      "      2        0.625185\n",
      "      3        0.526114\n",
      "      4        0.612918\n",
      "      5        0.541032\n",
      "                 ...   \n",
      "2020  8        0.808642\n",
      "      9           0.376\n",
      "      10       0.511235\n",
      "      11       0.622701\n",
      "      12       0.569735\n",
      "Name: precision, Length: 96, dtype: object\n",
      "\n",
      "Average Precision by Year:\n",
      " year\n",
      "2013    0.600234\n",
      "2014    0.639003\n",
      "2015    0.642352\n",
      "2016     0.55349\n",
      "2017    0.566264\n",
      "2018    0.506327\n",
      "2019     0.42542\n",
      "2020    0.556314\n",
      "Name: precision, dtype: object\n",
      "\n",
      "Average Precision by Season:\n",
      " season\n",
      "fall       0.55733\n",
      "spring    0.508036\n",
      "summer    0.487478\n",
      "winter    0.670617\n",
      "Name: precision, dtype: object\n"
     ]
    }
   ],
   "source": [
    "\n",
    "\n",
    "\n",
    "def get_season(month):\n",
    "    if 3 <= month <= 5:\n",
    "        return 'spring'\n",
    "    elif 6 <= month <= 8:\n",
    "        return 'summer'\n",
    "    elif 9 <= month <= 11:\n",
    "        return 'fall'\n",
    "    else:\n",
    "        return 'winter'\n",
    "\n",
    "\n",
    "results_df.index = pd.to_datetime(results_df.index)\n",
    "results_df['year'] = results_df.index.year\n",
    "results_df['month'] = results_df.index.month\n",
    "results_df['season'] = results_df['month'].apply(get_season)\n",
    "\n",
    "\n",
    "avg_precision_by_month = results_df.groupby(['year', 'month'])['precision'].mean()\n",
    "avg_precision_by_year = results_df.groupby('year')['precision'].mean()\n",
    "avg_precision_by_season = results_df.groupby('season')['precision'].mean()\n",
    "\n",
    "\n",
    "print(\"Average Precision by Month:\\n\", avg_precision_by_month)\n",
    "print(\"\\nAverage Precision by Year:\\n\", avg_precision_by_year)\n",
    "print(\"\\nAverage Precision by Season:\\n\", avg_precision_by_season)"
   ]
  },
  {
   "cell_type": "code",
   "execution_count": null,
   "id": "a7d37b1d",
   "metadata": {},
   "outputs": [],
   "source": []
  },
  {
   "cell_type": "code",
   "execution_count": null,
   "id": "acf314cd",
   "metadata": {},
   "outputs": [],
   "source": []
  },
  {
   "cell_type": "code",
   "execution_count": null,
   "id": "3b11a34a",
   "metadata": {},
   "outputs": [],
   "source": []
  },
  {
   "cell_type": "markdown",
   "id": "a1a0d0d4",
   "metadata": {},
   "source": [
    "### Only training on the top 25 stations where the correction is better"
   ]
  },
  {
   "cell_type": "code",
   "execution_count": 422,
   "id": "f39f3dc1",
   "metadata": {},
   "outputs": [
    {
     "name": "stdout",
     "output_type": "stream",
     "text": [
      " len of train 7902, len of validation 878, len of test 2195\n",
      " total inputs = 10975\n"
     ]
    }
   ],
   "source": [
    "\n",
    "\n",
    "without_correction = False  # True means basic pm10, False means corrected\n",
    "tensor = (final_tensor[:,:1,:,:] if without_correction else final_tensor[:,1:,:,:])\n",
    "mapped_list = [result_dict[key] for key in top_k_keys]\n",
    "\n",
    "df = df_categories[mapped_list]\n",
    "\n",
    "rows_to_keep = df.loc[(df != 0).any(axis=1)].index\n",
    "\n",
    "\n",
    "\n",
    "filtered_input_tensor = tensor[rows_to_keep]\n",
    "\n",
    "filtered_target_dataframe = (\n",
    "                             df_categories[mapped_list+['time']]\n",
    "                             .loc[rows_to_keep]\n",
    "                             .pipe(lambda d:d.assign(time = pd.to_datetime(d.time)))\n",
    "                             .reset_index(drop=True)\n",
    "                            )\n",
    "\n",
    "filtered_target_dataframe = filtered_target_dataframe.astype({col: 'int' for col in df.columns if col != 'time'})\n",
    "\n",
    "\n",
    "label_tensor = torch.tensor(filtered_target_dataframe.drop('time',axis=1).values, dtype=torch.float32)\n",
    "\n",
    "original_dataset = CustomDataset(filtered_input_tensor,filtered_target_dataframe,label_tensor)\n",
    "\n",
    "\n",
    "filtered_data_X_y = []\n",
    "filtered_data_time = []\n",
    "\n",
    "# Filter and split the data\n",
    "for X, y, time in original_dataset:\n",
    "    if (not torch.all(X.eq(-999))) & (not torch.all(y.eq(0))):\n",
    "        filtered_data_X_y.append((X, y))\n",
    "        filtered_data_time.append(time)\n",
    "new_dataset =  SequentialDataset(filtered_data_X_y)\n",
    "\n",
    "# train_dataset, validation_dataset, test_dataset = split_dataset_by_size(filtered_data_X_y, train_percentage=0.7, validation_percentage=0.1, test_percentage=0.2)\n",
    "# train_dataset, validation_dataset, test_dataset = SequentialDataset(train_dataset), SequentialDataset(validation_dataset), SequentialDataset(test_dataset)\n",
    "train_dataset, test_dataset = train_test_split(new_dataset, test_size=0.2, random_state=42)\n",
    "train_dataset, validation_dataset = train_test_split(train_dataset, test_size=0.1, random_state=42)\n",
    "\n",
    "print(f' len of train {len(train_dataset)}, len of validation {len(validation_dataset)}, len of test {len(test_dataset)}')\n",
    "print(f' total inputs = {len(train_dataset) +len(validation_dataset) + len(test_dataset) }')\n",
    "\n",
    "# # Create data loaders\n",
    "batch_size = 32  # Set your desired batch size\n",
    "trainloader = DataLoader(train_dataset, batch_size=batch_size, shuffle=True)\n",
    "validationloader = DataLoader(validation_dataset, batch_size=batch_size, shuffle=False)\n",
    "testloader = DataLoader(test_dataset, batch_size=batch_size, shuffle=False)\n",
    "\n"
   ]
  },
  {
   "cell_type": "code",
   "execution_count": 423,
   "id": "5b738e42",
   "metadata": {
    "collapsed": true,
    "jupyter": {
     "outputs_hidden": true
    }
   },
   "outputs": [
    {
     "name": "stderr",
     "output_type": "stream",
     "text": [
      "247it [00:07, 34.68it/s]\n"
     ]
    },
    {
     "name": "stdout",
     "output_type": "stream",
     "text": [
      "Epoch [1/50] - \n",
      "              Train Loss: 0.5079,   Valid Loss: 4.4802 \n",
      "\n",
      " Train acc 0.824, Train percision 0.366, train recall 0.474\n",
      " Validation acc 0.881, Validation percision 0.589, Validation recall 0.312\n"
     ]
    },
    {
     "name": "stderr",
     "output_type": "stream",
     "text": [
      "247it [00:06, 38.27it/s]\n"
     ]
    },
    {
     "name": "stdout",
     "output_type": "stream",
     "text": [
      "Epoch [2/50] - \n",
      "              Train Loss: 0.4767,   Valid Loss: 4.2053 \n",
      "\n",
      " Train acc 0.862, Train percision 0.477, train recall 0.597\n",
      " Validation acc 0.870, Validation percision 0.505, Validation recall 0.619\n"
     ]
    },
    {
     "name": "stderr",
     "output_type": "stream",
     "text": [
      "247it [00:06, 38.47it/s]\n"
     ]
    },
    {
     "name": "stdout",
     "output_type": "stream",
     "text": [
      "Epoch [3/50] - \n",
      "              Train Loss: 0.4640,   Valid Loss: 4.0936 \n",
      "\n",
      " Train acc 0.869, Train percision 0.500, train recall 0.618\n",
      " Validation acc 0.884, Validation percision 0.565, Validation recall 0.518\n"
     ]
    },
    {
     "name": "stderr",
     "output_type": "stream",
     "text": [
      "247it [00:06, 39.03it/s]\n"
     ]
    },
    {
     "name": "stdout",
     "output_type": "stream",
     "text": [
      "Epoch [4/50] - \n",
      "              Train Loss: 0.4545,   Valid Loss: 4.0097 \n",
      "\n",
      " Train acc 0.877, Train percision 0.525, train recall 0.645\n",
      " Validation acc 0.889, Validation percision 0.596, Validation recall 0.494\n"
     ]
    },
    {
     "name": "stderr",
     "output_type": "stream",
     "text": [
      "247it [00:06, 38.30it/s]\n"
     ]
    },
    {
     "name": "stdout",
     "output_type": "stream",
     "text": [
      "Epoch [5/50] - \n",
      "              Train Loss: 0.4468,   Valid Loss: 3.9416 \n",
      "\n",
      " Train acc 0.881, Train percision 0.537, train recall 0.665\n",
      " Validation acc 0.883, Validation percision 0.553, Validation recall 0.574\n"
     ]
    },
    {
     "name": "stderr",
     "output_type": "stream",
     "text": [
      "247it [00:07, 35.08it/s]\n"
     ]
    },
    {
     "name": "stdout",
     "output_type": "stream",
     "text": [
      "Epoch [6/50] - \n",
      "              Train Loss: 0.4386,   Valid Loss: 3.8694 \n",
      "\n",
      " Train acc 0.887, Train percision 0.555, train recall 0.674\n",
      " Validation acc 0.878, Validation percision 0.530, Validation recall 0.660\n"
     ]
    },
    {
     "name": "stderr",
     "output_type": "stream",
     "text": [
      "247it [00:04, 49.99it/s]\n"
     ]
    },
    {
     "name": "stdout",
     "output_type": "stream",
     "text": [
      "Epoch [7/50] - \n",
      "              Train Loss: 0.4303,   Valid Loss: 3.7959 \n",
      "\n",
      " Train acc 0.892, Train percision 0.572, train recall 0.682\n",
      " Validation acc 0.864, Validation percision 0.491, Validation recall 0.732\n"
     ]
    },
    {
     "name": "stderr",
     "output_type": "stream",
     "text": [
      "247it [00:06, 38.20it/s]\n"
     ]
    },
    {
     "name": "stdout",
     "output_type": "stream",
     "text": [
      "Epoch [8/50] - \n",
      "              Train Loss: 0.4237,   Valid Loss: 3.7377 \n",
      "\n",
      " Train acc 0.898, Train percision 0.592, train recall 0.698\n",
      " Validation acc 0.896, Validation percision 0.596, Validation recall 0.653\n"
     ]
    },
    {
     "name": "stderr",
     "output_type": "stream",
     "text": [
      "247it [00:06, 35.33it/s]\n"
     ]
    },
    {
     "name": "stdout",
     "output_type": "stream",
     "text": [
      "Epoch [9/50] - \n",
      "              Train Loss: 0.4163,   Valid Loss: 3.6723 \n",
      "\n",
      " Train acc 0.902, Train percision 0.610, train recall 0.697\n",
      " Validation acc 0.900, Validation percision 0.611, Validation recall 0.663\n"
     ]
    },
    {
     "name": "stderr",
     "output_type": "stream",
     "text": [
      "247it [00:04, 50.59it/s]\n"
     ]
    },
    {
     "name": "stdout",
     "output_type": "stream",
     "text": [
      "Epoch [10/50] - \n",
      "              Train Loss: 0.4072,   Valid Loss: 3.5923 \n",
      "\n",
      " Train acc 0.907, Train percision 0.627, train recall 0.707\n",
      " Validation acc 0.903, Validation percision 0.621, Validation recall 0.673\n"
     ]
    },
    {
     "name": "stderr",
     "output_type": "stream",
     "text": [
      "247it [00:06, 40.09it/s]\n"
     ]
    },
    {
     "name": "stdout",
     "output_type": "stream",
     "text": [
      "Epoch [11/50] - \n",
      "              Train Loss: 0.4003,   Valid Loss: 3.5315 \n",
      "\n",
      " Train acc 0.912, Train percision 0.650, train recall 0.712\n",
      " Validation acc 0.892, Validation percision 0.573, Validation recall 0.713\n"
     ]
    },
    {
     "name": "stderr",
     "output_type": "stream",
     "text": [
      "247it [00:06, 37.41it/s]\n"
     ]
    },
    {
     "name": "stdout",
     "output_type": "stream",
     "text": [
      "Epoch [12/50] - \n",
      "              Train Loss: 0.3919,   Valid Loss: 3.4573 \n",
      "\n",
      " Train acc 0.912, Train percision 0.646, train recall 0.719\n",
      " Validation acc 0.909, Validation percision 0.648, Validation recall 0.673\n"
     ]
    },
    {
     "name": "stderr",
     "output_type": "stream",
     "text": [
      "247it [00:07, 34.11it/s]\n"
     ]
    },
    {
     "name": "stdout",
     "output_type": "stream",
     "text": [
      "Epoch [13/50] - \n",
      "              Train Loss: 0.3833,   Valid Loss: 3.3808 \n",
      "\n",
      " Train acc 0.916, Train percision 0.665, train recall 0.726\n",
      " Validation acc 0.907, Validation percision 0.634, Validation recall 0.691\n"
     ]
    },
    {
     "name": "stderr",
     "output_type": "stream",
     "text": [
      "247it [00:06, 38.42it/s]\n"
     ]
    },
    {
     "name": "stdout",
     "output_type": "stream",
     "text": [
      "Epoch [14/50] - \n",
      "              Train Loss: 0.3746,   Valid Loss: 3.3041 \n",
      "\n",
      " Train acc 0.919, Train percision 0.674, train recall 0.733\n",
      " Validation acc 0.909, Validation percision 0.645, Validation recall 0.688\n"
     ]
    },
    {
     "name": "stderr",
     "output_type": "stream",
     "text": [
      "247it [00:06, 35.70it/s]\n"
     ]
    },
    {
     "name": "stdout",
     "output_type": "stream",
     "text": [
      "Epoch [15/50] - \n",
      "              Train Loss: 0.3669,   Valid Loss: 3.2370 \n",
      "\n",
      " Train acc 0.922, Train percision 0.687, train recall 0.736\n",
      " Validation acc 0.894, Validation percision 0.575, Validation recall 0.764\n"
     ]
    },
    {
     "name": "stderr",
     "output_type": "stream",
     "text": [
      "247it [00:06, 37.76it/s]\n"
     ]
    },
    {
     "name": "stdout",
     "output_type": "stream",
     "text": [
      "Epoch [16/50] - \n",
      "              Train Loss: 0.3606,   Valid Loss: 3.1810 \n",
      "\n",
      " Train acc 0.922, Train percision 0.687, train recall 0.741\n",
      " Validation acc 0.914, Validation percision 0.658, Validation recall 0.719\n"
     ]
    },
    {
     "name": "stderr",
     "output_type": "stream",
     "text": [
      "247it [00:06, 35.32it/s]\n"
     ]
    },
    {
     "name": "stdout",
     "output_type": "stream",
     "text": [
      "Epoch [17/50] - \n",
      "              Train Loss: 0.3522,   Valid Loss: 3.1070 \n",
      "\n",
      " Train acc 0.925, Train percision 0.700, train recall 0.750\n",
      " Validation acc 0.904, Validation percision 0.612, Validation recall 0.737\n"
     ]
    },
    {
     "name": "stderr",
     "output_type": "stream",
     "text": [
      "247it [00:04, 50.46it/s]\n"
     ]
    },
    {
     "name": "stdout",
     "output_type": "stream",
     "text": [
      "Epoch [18/50] - \n",
      "              Train Loss: 0.3451,   Valid Loss: 3.0443 \n",
      "\n",
      " Train acc 0.929, Train percision 0.715, train recall 0.758\n",
      " Validation acc 0.910, Validation percision 0.632, Validation recall 0.756\n"
     ]
    },
    {
     "name": "stderr",
     "output_type": "stream",
     "text": [
      "247it [00:04, 50.94it/s]\n"
     ]
    },
    {
     "name": "stdout",
     "output_type": "stream",
     "text": [
      "Epoch [19/50] - \n",
      "              Train Loss: 0.3375,   Valid Loss: 2.9776 \n",
      "\n",
      " Train acc 0.931, Train percision 0.720, train recall 0.766\n",
      " Validation acc 0.910, Validation percision 0.637, Validation recall 0.733\n"
     ]
    },
    {
     "name": "stderr",
     "output_type": "stream",
     "text": [
      "247it [00:04, 50.93it/s]\n"
     ]
    },
    {
     "name": "stdout",
     "output_type": "stream",
     "text": [
      "Epoch [20/50] - \n",
      "              Train Loss: 0.3302,   Valid Loss: 2.9127 \n",
      "\n",
      " Train acc 0.932, Train percision 0.724, train recall 0.775\n",
      " Validation acc 0.915, Validation percision 0.675, Validation recall 0.680\n"
     ]
    },
    {
     "name": "stderr",
     "output_type": "stream",
     "text": [
      "247it [00:05, 44.01it/s]\n"
     ]
    },
    {
     "name": "stdout",
     "output_type": "stream",
     "text": [
      "Epoch [21/50] - \n",
      "              Train Loss: 0.3237,   Valid Loss: 2.8553 \n",
      "\n",
      " Train acc 0.934, Train percision 0.735, train recall 0.777\n",
      " Validation acc 0.919, Validation percision 0.719, Validation recall 0.633\n"
     ]
    },
    {
     "name": "stderr",
     "output_type": "stream",
     "text": [
      "247it [00:06, 38.42it/s]\n"
     ]
    },
    {
     "name": "stdout",
     "output_type": "stream",
     "text": [
      "Epoch [22/50] - \n",
      "              Train Loss: 0.3169,   Valid Loss: 2.7952 \n",
      "\n",
      " Train acc 0.936, Train percision 0.743, train recall 0.779\n",
      " Validation acc 0.910, Validation percision 0.638, Validation recall 0.732\n"
     ]
    },
    {
     "name": "stderr",
     "output_type": "stream",
     "text": [
      "247it [00:06, 35.53it/s]\n"
     ]
    },
    {
     "name": "stdout",
     "output_type": "stream",
     "text": [
      "Epoch [23/50] - \n",
      "              Train Loss: 0.3102,   Valid Loss: 2.7365 \n",
      "\n",
      " Train acc 0.937, Train percision 0.743, train recall 0.785\n",
      " Validation acc 0.919, Validation percision 0.699, Validation recall 0.671\n"
     ]
    },
    {
     "name": "stderr",
     "output_type": "stream",
     "text": [
      "247it [00:06, 38.75it/s]\n"
     ]
    },
    {
     "name": "stdout",
     "output_type": "stream",
     "text": [
      "Epoch [24/50] - \n",
      "              Train Loss: 0.3020,   Valid Loss: 2.6639 \n",
      "\n",
      " Train acc 0.940, Train percision 0.757, train recall 0.794\n",
      " Validation acc 0.893, Validation percision 0.568, Validation recall 0.787\n"
     ]
    },
    {
     "name": "stderr",
     "output_type": "stream",
     "text": [
      "247it [00:06, 37.59it/s]\n"
     ]
    },
    {
     "name": "stdout",
     "output_type": "stream",
     "text": [
      "Epoch [25/50] - \n",
      "              Train Loss: 0.2954,   Valid Loss: 2.6056 \n",
      "\n",
      " Train acc 0.941, Train percision 0.761, train recall 0.802\n",
      " Validation acc 0.914, Validation percision 0.653, Validation recall 0.740\n"
     ]
    },
    {
     "name": "stderr",
     "output_type": "stream",
     "text": [
      "247it [00:06, 38.07it/s]\n"
     ]
    },
    {
     "name": "stdout",
     "output_type": "stream",
     "text": [
      "Epoch [26/50] - \n",
      "              Train Loss: 0.2891,   Valid Loss: 2.5503 \n",
      "\n",
      " Train acc 0.943, Train percision 0.768, train recall 0.805\n",
      " Validation acc 0.913, Validation percision 0.660, Validation recall 0.699\n"
     ]
    },
    {
     "name": "stderr",
     "output_type": "stream",
     "text": [
      "247it [00:06, 40.56it/s]\n"
     ]
    },
    {
     "name": "stdout",
     "output_type": "stream",
     "text": [
      "Epoch 00027: reducing learning rate of group 0 to 1.0000e-03.\n",
      "Epoch [27/50] - \n",
      "              Train Loss: 0.2820,   Valid Loss: 2.4872 \n",
      "\n",
      " Train acc 0.945, Train percision 0.777, train recall 0.810\n",
      " Validation acc 0.905, Validation percision 0.609, Validation recall 0.771\n"
     ]
    },
    {
     "name": "stderr",
     "output_type": "stream",
     "text": [
      "247it [00:06, 39.80it/s]\n"
     ]
    },
    {
     "name": "stdout",
     "output_type": "stream",
     "text": [
      "Epoch [28/50] - \n",
      "              Train Loss: 0.2587,   Valid Loss: 2.2819 \n",
      "\n",
      " Train acc 0.949, Train percision 0.791, train recall 0.832\n",
      " Validation acc 0.919, Validation percision 0.691, Validation recall 0.698\n"
     ]
    },
    {
     "name": "stderr",
     "output_type": "stream",
     "text": [
      "247it [00:06, 40.86it/s]\n"
     ]
    },
    {
     "name": "stdout",
     "output_type": "stream",
     "text": [
      "Epoch [29/50] - \n",
      "              Train Loss: 0.2438,   Valid Loss: 2.1503 \n",
      "\n",
      " Train acc 0.955, Train percision 0.819, train recall 0.841\n",
      " Validation acc 0.918, Validation percision 0.674, Validation recall 0.733\n"
     ]
    },
    {
     "name": "stderr",
     "output_type": "stream",
     "text": [
      "247it [00:05, 42.50it/s]\n"
     ]
    },
    {
     "name": "stdout",
     "output_type": "stream",
     "text": [
      "Epoch [30/50] - \n",
      "              Train Loss: 0.2360,   Valid Loss: 2.0820 \n",
      "\n",
      " Train acc 0.955, Train percision 0.815, train recall 0.847\n",
      " Validation acc 0.918, Validation percision 0.685, Validation recall 0.694\n"
     ]
    },
    {
     "name": "stderr",
     "output_type": "stream",
     "text": [
      "247it [00:06, 41.14it/s]\n"
     ]
    },
    {
     "name": "stdout",
     "output_type": "stream",
     "text": [
      "Epoch [31/50] - \n",
      "              Train Loss: 0.2311,   Valid Loss: 2.0386 \n",
      "\n",
      " Train acc 0.957, Train percision 0.825, train recall 0.849\n",
      " Validation acc 0.922, Validation percision 0.701, Validation recall 0.709\n"
     ]
    },
    {
     "name": "stderr",
     "output_type": "stream",
     "text": [
      "247it [00:05, 41.39it/s]\n"
     ]
    },
    {
     "name": "stdout",
     "output_type": "stream",
     "text": [
      "Epoch [32/50] - \n",
      "              Train Loss: 0.2251,   Valid Loss: 1.9855 \n",
      "\n",
      " Train acc 0.958, Train percision 0.834, train recall 0.849\n",
      " Validation acc 0.919, Validation percision 0.681, Validation recall 0.733\n"
     ]
    },
    {
     "name": "stderr",
     "output_type": "stream",
     "text": [
      "247it [00:06, 41.06it/s]\n"
     ]
    },
    {
     "name": "stdout",
     "output_type": "stream",
     "text": [
      "Epoch 00033: reducing learning rate of group 0 to 5.0000e-04.\n",
      "Epoch [33/50] - \n",
      "              Train Loss: 0.2188,   Valid Loss: 1.9302 \n",
      "\n",
      " Train acc 0.960, Train percision 0.844, train recall 0.855\n",
      " Validation acc 0.920, Validation percision 0.693, Validation recall 0.709\n"
     ]
    },
    {
     "name": "stderr",
     "output_type": "stream",
     "text": [
      "247it [00:05, 41.21it/s]\n"
     ]
    },
    {
     "name": "stdout",
     "output_type": "stream",
     "text": [
      "Epoch [34/50] - \n",
      "              Train Loss: 0.2035,   Valid Loss: 1.7949 \n",
      "\n",
      " Train acc 0.964, Train percision 0.855, train recall 0.872\n",
      " Validation acc 0.921, Validation percision 0.695, Validation recall 0.716\n"
     ]
    },
    {
     "name": "stderr",
     "output_type": "stream",
     "text": [
      "247it [00:06, 40.76it/s]\n"
     ]
    },
    {
     "name": "stdout",
     "output_type": "stream",
     "text": [
      "Epoch [35/50] - \n",
      "              Train Loss: 0.1931,   Valid Loss: 1.7036 \n",
      "\n",
      " Train acc 0.965, Train percision 0.858, train recall 0.877\n",
      " Validation acc 0.918, Validation percision 0.682, Validation recall 0.712\n"
     ]
    },
    {
     "name": "stderr",
     "output_type": "stream",
     "text": [
      "247it [00:06, 39.94it/s]\n"
     ]
    },
    {
     "name": "stdout",
     "output_type": "stream",
     "text": [
      "Epoch [36/50] - \n",
      "              Train Loss: 0.1879,   Valid Loss: 1.6572 \n",
      "\n",
      " Train acc 0.967, Train percision 0.865, train recall 0.884\n",
      " Validation acc 0.919, Validation percision 0.691, Validation recall 0.701\n"
     ]
    },
    {
     "name": "stderr",
     "output_type": "stream",
     "text": [
      "247it [00:06, 40.91it/s]\n"
     ]
    },
    {
     "name": "stdout",
     "output_type": "stream",
     "text": [
      "Epoch [37/50] - \n",
      "              Train Loss: 0.1843,   Valid Loss: 1.6258 \n",
      "\n",
      " Train acc 0.967, Train percision 0.867, train recall 0.880\n",
      " Validation acc 0.924, Validation percision 0.714, Validation recall 0.702\n"
     ]
    },
    {
     "name": "stderr",
     "output_type": "stream",
     "text": [
      "247it [00:06, 39.88it/s]\n"
     ]
    },
    {
     "name": "stdout",
     "output_type": "stream",
     "text": [
      "Epoch [38/50] - \n",
      "              Train Loss: 0.1806,   Valid Loss: 1.5928 \n",
      "\n",
      " Train acc 0.968, Train percision 0.872, train recall 0.888\n",
      " Validation acc 0.919, Validation percision 0.689, Validation recall 0.702\n"
     ]
    },
    {
     "name": "stderr",
     "output_type": "stream",
     "text": [
      "247it [00:06, 40.21it/s]\n"
     ]
    },
    {
     "name": "stdout",
     "output_type": "stream",
     "text": [
      "Epoch 00039: reducing learning rate of group 0 to 2.5000e-04.\n",
      "Epoch [39/50] - \n",
      "              Train Loss: 0.1776,   Valid Loss: 1.5664 \n",
      "\n",
      " Train acc 0.969, Train percision 0.875, train recall 0.887\n",
      " Validation acc 0.920, Validation percision 0.699, Validation recall 0.685\n"
     ]
    },
    {
     "name": "stderr",
     "output_type": "stream",
     "text": [
      "247it [00:06, 40.07it/s]\n"
     ]
    },
    {
     "name": "stdout",
     "output_type": "stream",
     "text": [
      "Epoch [40/50] - \n",
      "              Train Loss: 0.1693,   Valid Loss: 1.4937 \n",
      "\n",
      " Train acc 0.972, Train percision 0.888, train recall 0.898\n",
      " Validation acc 0.919, Validation percision 0.688, Validation recall 0.704\n"
     ]
    },
    {
     "name": "stderr",
     "output_type": "stream",
     "text": [
      "247it [00:06, 40.27it/s]\n"
     ]
    },
    {
     "name": "stdout",
     "output_type": "stream",
     "text": [
      "Epoch [41/50] - \n",
      "              Train Loss: 0.1639,   Valid Loss: 1.4461 \n",
      "\n",
      " Train acc 0.973, Train percision 0.889, train recall 0.905\n",
      " Validation acc 0.921, Validation percision 0.700, Validation recall 0.701\n"
     ]
    },
    {
     "name": "stderr",
     "output_type": "stream",
     "text": [
      "247it [00:06, 39.45it/s]\n"
     ]
    },
    {
     "name": "stdout",
     "output_type": "stream",
     "text": [
      "Epoch [42/50] - \n",
      "              Train Loss: 0.1617,   Valid Loss: 1.4262 \n",
      "\n",
      " Train acc 0.973, Train percision 0.891, train recall 0.904\n",
      " Validation acc 0.921, Validation percision 0.697, Validation recall 0.708\n"
     ]
    },
    {
     "name": "stderr",
     "output_type": "stream",
     "text": [
      "247it [00:06, 40.28it/s]\n"
     ]
    },
    {
     "name": "stdout",
     "output_type": "stream",
     "text": [
      "Epoch [43/50] - \n",
      "              Train Loss: 0.1586,   Valid Loss: 1.3987 \n",
      "\n",
      " Train acc 0.973, Train percision 0.890, train recall 0.904\n",
      " Validation acc 0.921, Validation percision 0.696, Validation recall 0.705\n"
     ]
    },
    {
     "name": "stderr",
     "output_type": "stream",
     "text": [
      "247it [00:07, 34.12it/s]\n"
     ]
    },
    {
     "name": "stdout",
     "output_type": "stream",
     "text": [
      "Epoch [44/50] - \n",
      "              Train Loss: 0.1557,   Valid Loss: 1.3731 \n",
      "\n",
      " Train acc 0.974, Train percision 0.896, train recall 0.908\n",
      " Validation acc 0.920, Validation percision 0.692, Validation recall 0.705\n"
     ]
    },
    {
     "name": "stderr",
     "output_type": "stream",
     "text": [
      "247it [00:06, 37.33it/s]\n"
     ]
    },
    {
     "name": "stdout",
     "output_type": "stream",
     "text": [
      "Epoch 00045: reducing learning rate of group 0 to 1.2500e-04.\n",
      "Epoch [45/50] - \n",
      "              Train Loss: 0.1542,   Valid Loss: 1.3598 \n",
      "\n",
      " Train acc 0.975, Train percision 0.903, train recall 0.910\n",
      " Validation acc 0.920, Validation percision 0.701, Validation recall 0.690\n"
     ]
    },
    {
     "name": "stderr",
     "output_type": "stream",
     "text": [
      "247it [00:07, 34.81it/s]\n"
     ]
    },
    {
     "name": "stdout",
     "output_type": "stream",
     "text": [
      "Epoch [46/50] - \n",
      "              Train Loss: 0.1503,   Valid Loss: 1.3258 \n",
      "\n",
      " Train acc 0.976, Train percision 0.905, train recall 0.913\n",
      " Validation acc 0.920, Validation percision 0.697, Validation recall 0.695\n"
     ]
    },
    {
     "name": "stderr",
     "output_type": "stream",
     "text": [
      "247it [00:06, 39.00it/s]\n"
     ]
    },
    {
     "name": "stdout",
     "output_type": "stream",
     "text": [
      "Epoch [47/50] - \n",
      "              Train Loss: 0.1478,   Valid Loss: 1.3042 \n",
      "\n",
      " Train acc 0.976, Train percision 0.903, train recall 0.915\n",
      " Validation acc 0.920, Validation percision 0.699, Validation recall 0.694\n"
     ]
    },
    {
     "name": "stderr",
     "output_type": "stream",
     "text": [
      "247it [00:06, 35.86it/s]\n"
     ]
    },
    {
     "name": "stdout",
     "output_type": "stream",
     "text": [
      "Epoch [48/50] - \n",
      "              Train Loss: 0.1469,   Valid Loss: 1.2956 \n",
      "\n",
      " Train acc 0.977, Train percision 0.912, train recall 0.915\n",
      " Validation acc 0.922, Validation percision 0.703, Validation recall 0.708\n"
     ]
    },
    {
     "name": "stderr",
     "output_type": "stream",
     "text": [
      "247it [00:06, 40.18it/s]\n"
     ]
    },
    {
     "name": "stdout",
     "output_type": "stream",
     "text": [
      "Epoch [49/50] - \n",
      "              Train Loss: 0.1451,   Valid Loss: 1.2800 \n",
      "\n",
      " Train acc 0.977, Train percision 0.911, train recall 0.915\n",
      " Validation acc 0.919, Validation percision 0.694, Validation recall 0.687\n"
     ]
    },
    {
     "name": "stderr",
     "output_type": "stream",
     "text": [
      "247it [00:06, 40.09it/s]\n"
     ]
    },
    {
     "name": "stdout",
     "output_type": "stream",
     "text": [
      "Epoch [50/50] - \n",
      "              Train Loss: 0.1437,   Valid Loss: 1.2679 \n",
      "\n",
      " Train acc 0.978, Train percision 0.912, train recall 0.919\n",
      " Validation acc 0.920, Validation percision 0.698, Validation recall 0.691\n",
      "Training Done\n"
     ]
    }
   ],
   "source": [
    "num_stations = df.shape[1]\n",
    "\n",
    "net = ClassificationResNet(input_shape,num_stations,11).to(device)\n",
    "\n",
    "optimizer = torch.optim.Adam(net.parameters(), lr=2e-3) \n",
    "\n",
    "class_weights = torch.tensor([0,1,1,1,1,1,1,1,1,1,1.]).to(device)\n",
    "\n",
    "criterion = nn.CrossEntropyLoss(reduction = 'none',weight=class_weights)\n",
    "\n",
    "scheduler = ReduceLROnPlateau(optimizer, mode='max', factor=0.5, patience=5, verbose=True)\n",
    "\n",
    "smallest_event_level = 9\n",
    "#stations_weights\n",
    "w = torch.ones(num_stations).to(device)\n",
    "\n",
    "\n",
    "train_running_loss = []\n",
    "validation_running_loss = []\n",
    "train_f1_scores = []\n",
    "valid_f1_scores = []\n",
    "\n",
    "labels_to_use = [1,2,3,4,5,6,7,8,9,10]\n",
    "\n",
    "num_epochs = 50\n",
    "for epoch in range(num_epochs):\n",
    "    net.train() \n",
    "    running_loss = 0.0\n",
    "    y_true_train = []\n",
    "    y_pred_train = []\n",
    "\n",
    "    for i, data in tqdm(enumerate(trainloader, 0)):\n",
    "        inputs, labels = data[0].to(device), data[1].to(device)\n",
    "\n",
    "        optimizer.zero_grad()\n",
    "\n",
    "#         ordinal_labels = convert_to_ordinal_labels(labels, num_classes=12).to(device)\n",
    "\n",
    "        outputs = net(inputs)\n",
    "        labels = labels.type(torch.LongTensor).to(device)\n",
    "        loss = ((criterion(outputs, labels) * (labels>0) * w).mean(0)).mean()\n",
    "        loss.backward()\n",
    "\n",
    "        optimizer.step()\n",
    "        running_loss += loss.item()\n",
    "        \n",
    "        predicted = torch.argmax(outputs, dim=1)\n",
    "        y_true_train.extend(labels.cpu().numpy())\n",
    "        y_pred_train.extend(predicted.cpu().numpy())\n",
    "        \n",
    "        \n",
    "    train_loss = running_loss / len(trainloader)\n",
    "    train_running_loss.append(train_loss)\n",
    "            \n",
    "\n",
    "    # Reshape the tensors to merge batch and class dimensions\n",
    "    predictions_train = np.concatenate(y_pred_train).reshape(-1, num_stations).flatten()\n",
    "    ground_truth_train = np.concatenate(y_true_train).reshape(-1, num_stations).flatten()\n",
    "    \n",
    "    acc, prc, rcl, prcrcl_ratio, prcrcl_avg, csi = get_metrics_binar(ground_truth_train,predictions_train,labels=[1,2],smallest_event_level=smallest_event_level)\n",
    "\n",
    "    train_f1_scores.append(csi)\n",
    "\n",
    "    # Validation loop\n",
    "    net.eval()  # Set the model to evaluation mode\n",
    "    y_true_valid = []\n",
    "    y_pred_valid = []\n",
    "\n",
    "    with torch.no_grad():\n",
    "        for i, data in enumerate(validationloader, 0):\n",
    "            inputs, labels =data[0].to(device), data[1].to(device)\n",
    "            outputs = net(inputs)\n",
    "            outputs = torch.argmax(outputs, dim=1)\n",
    "            y_true_valid.extend(labels.cpu().numpy())\n",
    "            y_pred_valid.extend(outputs.cpu().numpy())\n",
    "    \n",
    "    # Concatenate predictions and labels along batch dimension\n",
    "    predictions_valid = np.concatenate(y_pred_valid).reshape(-1, num_stations).flatten()\n",
    "    ground_truth_valid = np.concatenate(y_true_valid).reshape(-1, num_stations).flatten()\n",
    "\n",
    "    acc_test, prc_test, rcl_test, prcrcl_ratio_test, prcrcl_avg_test, csi_test = get_metrics_binar(ground_truth_valid,predictions_valid,labels=[1,2],smallest_event_level=smallest_event_level)\n",
    "\n",
    "    valid_loss = running_loss / len(validationloader)\n",
    "    validation_running_loss.append(valid_loss)\n",
    "    # Calculate the average validation loss for this epoch\n",
    "    valid_f1_scores.append(csi_test)\n",
    "    scheduler.step(prc_test)\n",
    "\n",
    "    num_classes = len(labels_to_use)\n",
    "\n",
    "\n",
    "#     class_labels = [f'Class {i+1}' for i in range(num_classes)]\n",
    "\n",
    "\n",
    "    f_string_template = f'''Epoch [{epoch+1}/{num_epochs}] - \n",
    "              Train Loss: {train_loss:.4f},   Valid Loss: {valid_loss:.4f} \\n'''\n",
    "    \n",
    "    train_string = f' Train acc {acc:.3f}, Train percision {prc:.3f}, train recall {rcl:.3f}'\n",
    "    test_string = f' Validation acc {acc_test:.3f}, Validation percision {prc_test:.3f}, Validation recall {rcl_test:.3f}'\n",
    "    \n",
    "    print(f_string_template + '\\n' + train_string  + '\\n' + test_string)\n",
    "  \n",
    "    \n",
    "\n",
    "#     for i in range(num_classes):\n",
    "#         f_string_template += f'''\n",
    "#               Train F1: {class_labels[i]} - {fscore_classes[i]:.4f}, Validation F1: {class_labels[i]}: {fscore_valid_classes[i]:.4f}\n",
    "#               Train Precision: {class_labels[i]}: {precision1[i]:.4f}, Valid Precision: {class_labels[i]}: {precision2[i]:.4f}\n",
    "#               Train Recall: {class_labels[i]}: {recall1[i]:.4f}, Valid Recall: {class_labels[i]}: {recall2[i]:.4f}\n",
    "#         '''\n",
    "\n",
    "    \n",
    "\n",
    "print('Training Done')\n",
    "# torch.save(net.state_dict(),\"/home/labs/rudich/sagima/station_vs_satellite/model_10_levels.pth\")"
   ]
  },
  {
   "cell_type": "code",
   "execution_count": 424,
   "id": "bf39d31a",
   "metadata": {},
   "outputs": [],
   "source": [
    "\n",
    "from sklearn.metrics import confusion_matrix\n",
    "    \n",
    "net.eval()\n",
    "all_predictions = []\n",
    "all_labels = []\n",
    "all_input = []\n",
    "with torch.no_grad():\n",
    "    for inputs, labels in testloader:\n",
    "        inputs, labels = inputs.to(device), labels.to(device)\n",
    "        outputs = net(inputs)\n",
    "        outputs = torch.argmax(outputs, dim=1)\n",
    "        all_predictions.append(outputs.cpu().numpy())\n",
    "        all_labels.append(labels.cpu().numpy())\n",
    "\n",
    "# Reshape the tensors to merge batch and class dimensions\n",
    "predictions_test = np.concatenate(all_predictions).reshape(-1, num_stations).flatten()\n",
    "ground_truth_test = np.concatenate(all_labels).reshape(-1, num_stations).flatten()\n"
   ]
  },
  {
   "cell_type": "code",
   "execution_count": 421,
   "id": "1c3dced3",
   "metadata": {},
   "outputs": [
    {
     "name": "stdout",
     "output_type": "stream",
     "text": [
      " Test acc 0.918, Test precision 0.689, Test recall 0.698\n"
     ]
    }
   ],
   "source": [
    "acc_test, prc_test, rcl_test, prcrcl_ratio_test, prcrcl_avg_test, csi_test = get_metrics_binar(ground_truth_test,predictions_test,labels=[1,2],smallest_event_level=smallest_event_level)\n",
    "print(f' Test acc {acc_test:.3f}, Test precision {prc_test:.3f}, Test recall {rcl_test:.3f}')\n",
    "    "
   ]
  },
  {
   "cell_type": "code",
   "execution_count": 425,
   "id": "e9eaf2e0",
   "metadata": {},
   "outputs": [
    {
     "name": "stdout",
     "output_type": "stream",
     "text": [
      " Test acc 0.920, Test precision 0.695, Test recall 0.712\n"
     ]
    }
   ],
   "source": [
    "acc_test, prc_test, rcl_test, prcrcl_ratio_test, prcrcl_avg_test, csi_test = get_metrics_binar(ground_truth_test,predictions_test,labels=[1,2],smallest_event_level=smallest_event_level)\n",
    "print(f' Test acc {acc_test:.3f}, Test precision {prc_test:.3f}, Test recall {rcl_test:.3f}')\n",
    "    "
   ]
  },
  {
   "cell_type": "markdown",
   "id": "0db2edb0",
   "metadata": {},
   "source": [
    "## Adding the corrected PM10 as a new channel"
   ]
  },
  {
   "cell_type": "code",
   "execution_count": 98,
   "id": "27e51747",
   "metadata": {},
   "outputs": [],
   "source": [
    "\n",
    "\n",
    "    \n",
    "class CustomDataset_for_both_channels_together(Dataset):\n",
    "    def __init__(self, tensor_input, dataframe_target,label_tensor):\n",
    "        self.tensor_input = tensor_input\n",
    "        self.dataframe_target = dataframe_target\n",
    "        self.label_tensor = label_tensor\n",
    "\n",
    "    def __len__(self):\n",
    "        return self.tensor_input.shape[0]  # Number of samples\n",
    "\n",
    "    def __getitem__(self, index,time_to_predict=24,lookback_num=8):\n",
    "        \n",
    "        # Check the condition for the current index\n",
    "        if index >= lookback_num: \n",
    "            \n",
    "            a = filtered_target_dataframe.loc[index-lookback_num:index-2,'time'].values\n",
    "            t = np.append(a,filtered_target_dataframe.loc[index-1,'time'].to_numpy())\n",
    "            \n",
    "            if check_timestamps(t[::-1]):\n",
    "                c = np.arange(index-lookback_num,index+1)\n",
    "                input_data = self.tensor_input[c,:,:,:]\n",
    "                input_data =   input_data = input_data.view(len(c) * 2,input_data.shape[2], input_data.shape[3])\n",
    "\n",
    "        if index < lookback_num or not check_timestamps(t[::-1]):\n",
    "            input_data = torch.full((1,1),-999) #error indicator\n",
    "\n",
    "\n",
    "        \n",
    "        #handling Target data\n",
    "        \n",
    "        X_timestamp = self.dataframe_target.loc[index,'time']\n",
    "        target_timestamp = X_timestamp + pd.DateOffset(hours=time_to_predict)\n",
    "        matching_row = self.dataframe_target[self.dataframe_target['time'] == target_timestamp]\n",
    "\n",
    "        if len(matching_row) > 0:\n",
    "\n",
    "            matching_row = matching_row.index.values[0]\n",
    "            target_data = self.label_tensor[matching_row]\n",
    "#             print(f' if_point {target_data.shape}')\n",
    "            \n",
    "        else:\n",
    "#             print(f' X timestamp {X_timestamp}, no corresponding futuretimestamp')\n",
    "            target_data = torch.full((1,self.label_tensor.shape[1]), 0)[0]\n",
    "#             print(f'else_point {target_data.shape}')\n",
    "        \n",
    "        time = filtered_target_dataframe.loc[index,'time']\n",
    "        return input_data, target_data, time\n",
    "\n",
    "\n",
    "class SequentialDataset(Dataset):\n",
    "    def __init__(self, data):\n",
    "        self.data = data\n",
    "    \n",
    "    def __getitem__(self, index):\n",
    "        X, y = self.data[index]\n",
    "        return X, y\n",
    "\n",
    "    def __len__(self):\n",
    "        return len(self.data)\n",
    "    \n",
    "    \n",
    "    \n",
    "device = torch.device('cuda:0' if torch.cuda.is_available() else 'cpu')"
   ]
  },
  {
   "cell_type": "code",
   "execution_count": 99,
   "id": "531a151b",
   "metadata": {},
   "outputs": [],
   "source": [
    "\n",
    "df = df_categories.drop('time',axis=1)\n",
    "\n",
    "rows_to_keep = df.loc[(df != 0).any(axis=1)].index\n",
    "\n",
    "\n",
    "\n",
    "filtered_input_tensor = final_tensor[rows_to_keep]\n",
    "\n",
    "filtered_target_dataframe = (\n",
    "                             df_categories.loc[rows_to_keep]\n",
    "                             .pipe(lambda d:d.assign(time = pd.to_datetime(d.time)))\n",
    "                             .reset_index(drop=True)\n",
    "                            )\n",
    "\n",
    "filtered_target_dataframe = filtered_target_dataframe.astype({col: 'int' for col in df.columns if col != 'time'})\n",
    "\n",
    "\n",
    "label_tensor = torch.tensor(filtered_target_dataframe.drop('time',axis=1).values, dtype=torch.float32)\n"
   ]
  },
  {
   "cell_type": "code",
   "execution_count": null,
   "id": "2f3024ff",
   "metadata": {},
   "outputs": [],
   "source": []
  },
  {
   "cell_type": "code",
   "execution_count": 100,
   "id": "d3cb2459",
   "metadata": {},
   "outputs": [],
   "source": [
    "\n",
    "\n",
    "\n",
    "original_dataset = CustomDataset_for_both_channels_together(filtered_input_tensor,filtered_target_dataframe,label_tensor)\n",
    "\n",
    "\n",
    "filtered_data_X_y = []\n",
    "filtered_data_time = []\n",
    "\n",
    "# Filter and split the data\n",
    "for X, y, time in original_dataset:\n",
    "    if (not torch.all(X.eq(-999))) & (not torch.all(y.eq(0))):\n",
    "        filtered_data_X_y.append((X, y))\n",
    "        filtered_data_time.append(time)\n",
    "new_dataset =  SequentialDataset(filtered_data_X_y)\n",
    "\n",
    "# train_dataset, validation_dataset, test_dataset = split_dataset_by_size(filtered_data_X_y, train_percentage=0.7, validation_percentage=0.1, test_percentage=0.2)\n",
    "# train_dataset, validation_dataset, test_dataset = SequentialDataset(train_dataset), SequentialDataset(validation_dataset), SequentialDataset(test_dataset)\n",
    "# train_dataset, test_dataset = train_test_split(new_dataset, test_size=0.2, random_state=42)\n",
    "# train_dataset, validation_dataset = train_test_split(train_dataset, test_size=0.1, random_state=42)\n",
    "\n",
    "train_dataset, test_dataset, train_indices, test_indices = train_test_split(new_dataset,filtered_data_time, test_size=0.2, random_state=42)\n",
    "train_dataset, validation_dataset , train_indices, validation_indices = train_test_split(train_dataset,train_indices, test_size=0.1, random_state=42)\n",
    "\n",
    "\n",
    "\n"
   ]
  },
  {
   "cell_type": "code",
   "execution_count": 101,
   "id": "bbbee392",
   "metadata": {},
   "outputs": [
    {
     "name": "stdout",
     "output_type": "stream",
     "text": [
      " len of train 16665, len of validation 1852, len of test 4630\n",
      " total inputs = 23147\n"
     ]
    }
   ],
   "source": [
    "\n",
    "print(f' len of train {len(train_dataset)}, len of validation {len(validation_dataset)}, len of test {len(test_dataset)}')\n",
    "print(f' total inputs = {len(train_dataset) +len(validation_dataset) + len(test_dataset) }')\n",
    "\n",
    "# # Create data loaders\n",
    "batch_size = 32  # Set your desired batch size\n",
    "trainloader = DataLoader(train_dataset, batch_size=batch_size, shuffle=True)\n",
    "validationloader = DataLoader(validation_dataset, batch_size=batch_size, shuffle=False)\n",
    "testloader = DataLoader(test_dataset, batch_size=batch_size, shuffle=False)\n",
    "\n"
   ]
  },
  {
   "cell_type": "code",
   "execution_count": null,
   "id": "c7897fb0",
   "metadata": {},
   "outputs": [],
   "source": []
  },
  {
   "cell_type": "code",
   "execution_count": null,
   "id": "dac97462",
   "metadata": {},
   "outputs": [],
   "source": []
  },
  {
   "cell_type": "code",
   "execution_count": 102,
   "id": "5d1f6852",
   "metadata": {},
   "outputs": [],
   "source": [
    "past_times, lat_size, lon_size = 8, 65, 67\n",
    "# Set the input shape and number of labels\n",
    "input_shape = ((past_times+1) * 2 , lat_size, lon_size)"
   ]
  },
  {
   "cell_type": "code",
   "execution_count": 105,
   "id": "101995d3",
   "metadata": {},
   "outputs": [],
   "source": [
    "\n",
    "class ResidualBlock(nn.Module):\n",
    "    def __init__(self, in_channels, out_channels, stride=1):\n",
    "        super(ResidualBlock, self).__init__()\n",
    "\n",
    "        self.conv1 = nn.Conv2d(in_channels, out_channels, kernel_size=3, stride=stride, padding=1, bias=False)\n",
    "        self.bn1 = nn.BatchNorm2d(out_channels)\n",
    "        self.relu = nn.ReLU(inplace=True)\n",
    "        self.conv2 = nn.Conv2d(out_channels, out_channels, kernel_size=3, stride=1, padding=1, bias=False)\n",
    "        self.bn2 = nn.BatchNorm2d(out_channels)\n",
    "\n",
    "        if stride != 1 or in_channels != out_channels:\n",
    "            self.shortcut = nn.Sequential(\n",
    "                nn.Conv2d(in_channels, out_channels, kernel_size=1, stride=stride, bias=False),\n",
    "                nn.BatchNorm2d(out_channels)\n",
    "            )\n",
    "        else:\n",
    "            self.shortcut = nn.Identity()\n",
    "\n",
    "    def forward(self, x):\n",
    "        identity = self.shortcut(x)\n",
    "\n",
    "        out = self.conv1(x)\n",
    "        out = self.bn1(out)\n",
    "        out = self.relu(out)\n",
    "\n",
    "        out = self.conv2(out)\n",
    "        out = self.bn2(out)\n",
    "\n",
    "        out += identity\n",
    "        out = self.relu(out)\n",
    "\n",
    "        return out\n",
    "\n",
    "class ClassificationResNet(nn.Module):\n",
    "    def __init__(self, input_shape, num_classes, num_stations):\n",
    "        super(ClassificationResNet, self).__init__()\n",
    "\n",
    "        channel, lat_index, lon_index = input_shape\n",
    "\n",
    "        self.conv1 = nn.Conv2d(channel, 64, kernel_size=7, stride=2, padding=3, bias=False)\n",
    "        self.bn1 = nn.BatchNorm2d(64)\n",
    "        self.relu = nn.ReLU(inplace=True)\n",
    "        self.maxpool = nn.MaxPool2d(kernel_size=3, stride=2, padding=1)\n",
    "\n",
    "        self.stage1 = self.make_stage(64, 64, num_blocks=1, stride=1)\n",
    "        self.stage2 = self.make_stage(64, 128, num_blocks=2, stride=2)\n",
    "        self.stage3 = self.make_stage(128, 256, num_blocks=2, stride=2)\n",
    "        self.stage4 = self.make_stage(256, 512, num_blocks=2, stride=2)\n",
    "\n",
    "        self.avgpool = nn.AdaptiveAvgPool2d((1, 1))\n",
    "        self.fc1 = nn.Linear(512, 480)\n",
    "        self.dropout1 = nn.Dropout(0.5)\n",
    "        self.fc2 = nn.Linear(480, 460)\n",
    "        self.fc3 = nn.Linear(460, num_stations * num_classes)\n",
    "        self.num_stations = num_stations\n",
    "        self.num_classes = num_classes\n",
    "\n",
    "    def make_stage(self, in_channels, out_channels, num_blocks, stride):\n",
    "        layers = []\n",
    "        layers.append(ResidualBlock(in_channels, out_channels, stride=stride))\n",
    "        for _ in range(1, num_blocks):\n",
    "            layers.append(ResidualBlock(out_channels, out_channels))\n",
    "\n",
    "        return nn.Sequential(*layers)\n",
    "\n",
    "    def forward(self, x):\n",
    "        out = self.conv1(x)\n",
    "        out = self.bn1(out)\n",
    "        out = self.relu(out)\n",
    "        out = self.maxpool(out)\n",
    "        out = self.stage1(out)\n",
    "        out = self.stage2(out)\n",
    "        out = self.stage3(out)\n",
    "        out = self.stage4(out)\n",
    "        out = self.avgpool(out)\n",
    "        out = torch.flatten(out, 1)\n",
    "        out = self.fc1(out)\n",
    "        out = self.relu(out)\n",
    "        out = self.fc2(out)\n",
    "        out = self.relu(out)\n",
    "        out = self.fc3(out)\n",
    "        out = out.view(-1, self.num_classes, self.num_stations)\n",
    "        out = out.permute(0, 2, 1)\n",
    "        return out\n",
    "\n",
    "past_times, lat_size, lon_size = 8, 65, 67\n",
    "# Set the input shape and number of labels\n",
    "input_shape = ((past_times+1) * 2, lat_size, lon_size) #channels 1+lookback number\n",
    "w = torch.ones(num_stations)\n",
    "\n",
    "# Create the regression ResNet model\n",
    "\n",
    "# summary(net,input_shape)"
   ]
  },
  {
   "cell_type": "code",
   "execution_count": 107,
   "id": "ccfa3c58",
   "metadata": {},
   "outputs": [
    {
     "name": "stderr",
     "output_type": "stream",
     "text": [
      "521it [00:14, 36.78it/s]\n"
     ]
    },
    {
     "name": "stdout",
     "output_type": "stream",
     "text": [
      "Epoch [1/100] - \n",
      "              Train Loss: 0.4084,   Valid Loss: 3.6688 \n",
      "\n",
      " Train acc 0.771, Train percision 0.447, train recall 0.665\n",
      " Validation acc 0.771, Validation percision 0.461, Validation recall 0.758\n"
     ]
    },
    {
     "name": "stderr",
     "output_type": "stream",
     "text": [
      "521it [00:14, 35.11it/s]\n"
     ]
    },
    {
     "name": "stdout",
     "output_type": "stream",
     "text": [
      "Epoch [2/100] - \n",
      "              Train Loss: 0.3905,   Valid Loss: 3.5079 \n",
      "\n",
      " Train acc 0.797, Train percision 0.491, train recall 0.701\n",
      " Validation acc 0.809, Validation percision 0.523, Validation recall 0.709\n"
     ]
    },
    {
     "name": "stderr",
     "output_type": "stream",
     "text": [
      "521it [00:14, 35.48it/s]\n"
     ]
    },
    {
     "name": "stdout",
     "output_type": "stream",
     "text": [
      "Epoch [3/100] - \n",
      "              Train Loss: 0.3833,   Valid Loss: 3.4435 \n",
      "\n",
      " Train acc 0.804, Train percision 0.504, train recall 0.714\n",
      " Validation acc 0.817, Validation percision 0.538, Validation recall 0.703\n"
     ]
    },
    {
     "name": "stderr",
     "output_type": "stream",
     "text": [
      "521it [00:14, 35.59it/s]\n"
     ]
    },
    {
     "name": "stdout",
     "output_type": "stream",
     "text": [
      "Epoch [4/100] - \n",
      "              Train Loss: 0.3779,   Valid Loss: 3.3949 \n",
      "\n",
      " Train acc 0.811, Train percision 0.516, train recall 0.718\n",
      " Validation acc 0.811, Validation percision 0.525, Validation recall 0.711\n"
     ]
    },
    {
     "name": "stderr",
     "output_type": "stream",
     "text": [
      "521it [00:14, 34.74it/s]\n"
     ]
    },
    {
     "name": "stdout",
     "output_type": "stream",
     "text": [
      "Epoch [5/100] - \n",
      "              Train Loss: 0.3726,   Valid Loss: 3.3468 \n",
      "\n",
      " Train acc 0.820, Train percision 0.533, train recall 0.724\n",
      " Validation acc 0.821, Validation percision 0.543, Validation recall 0.735\n"
     ]
    },
    {
     "name": "stderr",
     "output_type": "stream",
     "text": [
      "521it [00:14, 36.99it/s]\n"
     ]
    },
    {
     "name": "stdout",
     "output_type": "stream",
     "text": [
      "Epoch [6/100] - \n",
      "              Train Loss: 0.3666,   Valid Loss: 3.2928 \n",
      "\n",
      " Train acc 0.828, Train percision 0.548, train recall 0.733\n",
      " Validation acc 0.816, Validation percision 0.532, Validation recall 0.789\n"
     ]
    },
    {
     "name": "stderr",
     "output_type": "stream",
     "text": [
      "521it [00:14, 36.54it/s]\n"
     ]
    },
    {
     "name": "stdout",
     "output_type": "stream",
     "text": [
      "Epoch [7/100] - \n",
      "              Train Loss: 0.3607,   Valid Loss: 3.2398 \n",
      "\n",
      " Train acc 0.835, Train percision 0.564, train recall 0.738\n",
      " Validation acc 0.829, Validation percision 0.558, Validation recall 0.762\n"
     ]
    },
    {
     "name": "stderr",
     "output_type": "stream",
     "text": [
      "521it [00:14, 35.58it/s]\n"
     ]
    },
    {
     "name": "stdout",
     "output_type": "stream",
     "text": [
      "Epoch [8/100] - \n",
      "              Train Loss: 0.3537,   Valid Loss: 3.1771 \n",
      "\n",
      " Train acc 0.844, Train percision 0.582, train recall 0.740\n",
      " Validation acc 0.813, Validation percision 0.526, Validation recall 0.813\n"
     ]
    },
    {
     "name": "stderr",
     "output_type": "stream",
     "text": [
      "521it [00:13, 37.24it/s]\n"
     ]
    },
    {
     "name": "stdout",
     "output_type": "stream",
     "text": [
      "Epoch [9/100] - \n",
      "              Train Loss: 0.3475,   Valid Loss: 3.1215 \n",
      "\n",
      " Train acc 0.849, Train percision 0.595, train recall 0.747\n",
      " Validation acc 0.820, Validation percision 0.538, Validation recall 0.805\n"
     ]
    },
    {
     "name": "stderr",
     "output_type": "stream",
     "text": [
      "521it [00:15, 33.57it/s]\n"
     ]
    },
    {
     "name": "stdout",
     "output_type": "stream",
     "text": [
      "Epoch [10/100] - \n",
      "              Train Loss: 0.3421,   Valid Loss: 3.0727 \n",
      "\n",
      " Train acc 0.855, Train percision 0.607, train recall 0.751\n",
      " Validation acc 0.849, Validation percision 0.604, Validation recall 0.748\n"
     ]
    },
    {
     "name": "stderr",
     "output_type": "stream",
     "text": [
      "521it [00:14, 36.29it/s]\n"
     ]
    },
    {
     "name": "stdout",
     "output_type": "stream",
     "text": [
      "Epoch [11/100] - \n",
      "              Train Loss: 0.3368,   Valid Loss: 3.0256 \n",
      "\n",
      " Train acc 0.860, Train percision 0.621, train recall 0.754\n",
      " Validation acc 0.856, Validation percision 0.619, Validation recall 0.756\n"
     ]
    },
    {
     "name": "stderr",
     "output_type": "stream",
     "text": [
      "521it [00:14, 36.28it/s]\n"
     ]
    },
    {
     "name": "stdout",
     "output_type": "stream",
     "text": [
      "Epoch [12/100] - \n",
      "              Train Loss: 0.3317,   Valid Loss: 2.9792 \n",
      "\n",
      " Train acc 0.864, Train percision 0.628, train recall 0.759\n",
      " Validation acc 0.838, Validation percision 0.571, Validation recall 0.814\n"
     ]
    },
    {
     "name": "stderr",
     "output_type": "stream",
     "text": [
      "521it [00:13, 37.73it/s]\n"
     ]
    },
    {
     "name": "stdout",
     "output_type": "stream",
     "text": [
      "Epoch [13/100] - \n",
      "              Train Loss: 0.3273,   Valid Loss: 2.9399 \n",
      "\n",
      " Train acc 0.868, Train percision 0.639, train recall 0.765\n",
      " Validation acc 0.849, Validation percision 0.598, Validation recall 0.785\n"
     ]
    },
    {
     "name": "stderr",
     "output_type": "stream",
     "text": [
      "521it [00:14, 35.24it/s]\n"
     ]
    },
    {
     "name": "stdout",
     "output_type": "stream",
     "text": [
      "Epoch [14/100] - \n",
      "              Train Loss: 0.3231,   Valid Loss: 2.9026 \n",
      "\n",
      " Train acc 0.871, Train percision 0.646, train recall 0.768\n",
      " Validation acc 0.863, Validation percision 0.640, Validation recall 0.751\n"
     ]
    },
    {
     "name": "stderr",
     "output_type": "stream",
     "text": [
      "521it [00:14, 36.69it/s]\n"
     ]
    },
    {
     "name": "stdout",
     "output_type": "stream",
     "text": [
      "Epoch [15/100] - \n",
      "              Train Loss: 0.3191,   Valid Loss: 2.8667 \n",
      "\n",
      " Train acc 0.874, Train percision 0.654, train recall 0.771\n",
      " Validation acc 0.861, Validation percision 0.629, Validation recall 0.774\n"
     ]
    },
    {
     "name": "stderr",
     "output_type": "stream",
     "text": [
      "521it [00:15, 33.48it/s]\n"
     ]
    },
    {
     "name": "stdout",
     "output_type": "stream",
     "text": [
      "Epoch [16/100] - \n",
      "              Train Loss: 0.3150,   Valid Loss: 2.8296 \n",
      "\n",
      " Train acc 0.876, Train percision 0.659, train recall 0.775\n",
      " Validation acc 0.872, Validation percision 0.664, Validation recall 0.753\n"
     ]
    },
    {
     "name": "stderr",
     "output_type": "stream",
     "text": [
      "521it [00:15, 34.46it/s]\n"
     ]
    },
    {
     "name": "stdout",
     "output_type": "stream",
     "text": [
      "Epoch [17/100] - \n",
      "              Train Loss: 0.3111,   Valid Loss: 2.7942 \n",
      "\n",
      " Train acc 0.879, Train percision 0.666, train recall 0.780\n",
      " Validation acc 0.868, Validation percision 0.646, Validation recall 0.773\n"
     ]
    },
    {
     "name": "stderr",
     "output_type": "stream",
     "text": [
      "521it [00:14, 37.21it/s]\n"
     ]
    },
    {
     "name": "stdout",
     "output_type": "stream",
     "text": [
      "Epoch [18/100] - \n",
      "              Train Loss: 0.3074,   Valid Loss: 2.7615 \n",
      "\n",
      " Train acc 0.882, Train percision 0.674, train recall 0.782\n",
      " Validation acc 0.875, Validation percision 0.677, Validation recall 0.731\n"
     ]
    },
    {
     "name": "stderr",
     "output_type": "stream",
     "text": [
      "521it [00:14, 37.10it/s]\n"
     ]
    },
    {
     "name": "stdout",
     "output_type": "stream",
     "text": [
      "Epoch [19/100] - \n",
      "              Train Loss: 0.3040,   Valid Loss: 2.7306 \n",
      "\n",
      " Train acc 0.885, Train percision 0.681, train recall 0.785\n",
      " Validation acc 0.866, Validation percision 0.638, Validation recall 0.785\n"
     ]
    },
    {
     "name": "stderr",
     "output_type": "stream",
     "text": [
      "521it [00:15, 34.57it/s]\n"
     ]
    },
    {
     "name": "stdout",
     "output_type": "stream",
     "text": [
      "Epoch [20/100] - \n",
      "              Train Loss: 0.3010,   Valid Loss: 2.7035 \n",
      "\n",
      " Train acc 0.886, Train percision 0.684, train recall 0.789\n",
      " Validation acc 0.877, Validation percision 0.681, Validation recall 0.745\n"
     ]
    },
    {
     "name": "stderr",
     "output_type": "stream",
     "text": [
      "521it [00:14, 34.89it/s]\n"
     ]
    },
    {
     "name": "stdout",
     "output_type": "stream",
     "text": [
      "Epoch [21/100] - \n",
      "              Train Loss: 0.2975,   Valid Loss: 2.6725 \n",
      "\n",
      " Train acc 0.889, Train percision 0.691, train recall 0.791\n",
      " Validation acc 0.873, Validation percision 0.658, Validation recall 0.775\n"
     ]
    },
    {
     "name": "stderr",
     "output_type": "stream",
     "text": [
      "521it [00:13, 37.23it/s]\n"
     ]
    },
    {
     "name": "stdout",
     "output_type": "stream",
     "text": [
      "Epoch [22/100] - \n",
      "              Train Loss: 0.2943,   Valid Loss: 2.6436 \n",
      "\n",
      " Train acc 0.891, Train percision 0.696, train recall 0.792\n",
      " Validation acc 0.873, Validation percision 0.661, Validation recall 0.770\n"
     ]
    },
    {
     "name": "stderr",
     "output_type": "stream",
     "text": [
      "521it [00:15, 33.26it/s]\n"
     ]
    },
    {
     "name": "stdout",
     "output_type": "stream",
     "text": [
      "Epoch [23/100] - \n",
      "              Train Loss: 0.2918,   Valid Loss: 2.6213 \n",
      "\n",
      " Train acc 0.892, Train percision 0.701, train recall 0.796\n",
      " Validation acc 0.874, Validation percision 0.664, Validation recall 0.772\n"
     ]
    },
    {
     "name": "stderr",
     "output_type": "stream",
     "text": [
      "521it [00:14, 34.76it/s]\n"
     ]
    },
    {
     "name": "stdout",
     "output_type": "stream",
     "text": [
      "Epoch [24/100] - \n",
      "              Train Loss: 0.2888,   Valid Loss: 2.5941 \n",
      "\n",
      " Train acc 0.894, Train percision 0.706, train recall 0.798\n",
      " Validation acc 0.872, Validation percision 0.656, Validation recall 0.776\n"
     ]
    },
    {
     "name": "stderr",
     "output_type": "stream",
     "text": [
      "521it [00:13, 37.38it/s]\n"
     ]
    },
    {
     "name": "stdout",
     "output_type": "stream",
     "text": [
      "Epoch [25/100] - \n",
      "              Train Loss: 0.2865,   Valid Loss: 2.5735 \n",
      "\n",
      " Train acc 0.895, Train percision 0.710, train recall 0.798\n",
      " Validation acc 0.874, Validation percision 0.660, Validation recall 0.783\n"
     ]
    },
    {
     "name": "stderr",
     "output_type": "stream",
     "text": [
      "521it [00:14, 36.08it/s]\n"
     ]
    },
    {
     "name": "stdout",
     "output_type": "stream",
     "text": [
      "Epoch 00026: reducing learning rate of group 0 to 1.0000e-03.\n",
      "Epoch [26/100] - \n",
      "              Train Loss: 0.2841,   Valid Loss: 2.5517 \n",
      "\n",
      " Train acc 0.897, Train percision 0.715, train recall 0.800\n",
      " Validation acc 0.866, Validation percision 0.633, Validation recall 0.807\n"
     ]
    },
    {
     "name": "stderr",
     "output_type": "stream",
     "text": [
      "521it [00:14, 35.76it/s]\n"
     ]
    },
    {
     "name": "stdout",
     "output_type": "stream",
     "text": [
      "Epoch [27/100] - \n",
      "              Train Loss: 0.2747,   Valid Loss: 2.4676 \n",
      "\n",
      " Train acc 0.902, Train percision 0.728, train recall 0.809\n",
      " Validation acc 0.874, Validation percision 0.657, Validation recall 0.795\n"
     ]
    },
    {
     "name": "stderr",
     "output_type": "stream",
     "text": [
      "521it [00:13, 38.08it/s]\n"
     ]
    },
    {
     "name": "stdout",
     "output_type": "stream",
     "text": [
      "Epoch [28/100] - \n",
      "              Train Loss: 0.2700,   Valid Loss: 2.4250 \n",
      "\n",
      " Train acc 0.905, Train percision 0.734, train recall 0.815\n",
      " Validation acc 0.878, Validation percision 0.675, Validation recall 0.774\n"
     ]
    },
    {
     "name": "stderr",
     "output_type": "stream",
     "text": [
      "521it [00:13, 38.06it/s]\n"
     ]
    },
    {
     "name": "stdout",
     "output_type": "stream",
     "text": [
      "Epoch [29/100] - \n",
      "              Train Loss: 0.2677,   Valid Loss: 2.4050 \n",
      "\n",
      " Train acc 0.906, Train percision 0.739, train recall 0.814\n",
      " Validation acc 0.883, Validation percision 0.703, Validation recall 0.736\n"
     ]
    },
    {
     "name": "stderr",
     "output_type": "stream",
     "text": [
      "521it [00:14, 36.75it/s]\n"
     ]
    },
    {
     "name": "stdout",
     "output_type": "stream",
     "text": [
      "Epoch [30/100] - \n",
      "              Train Loss: 0.2656,   Valid Loss: 2.3855 \n",
      "\n",
      " Train acc 0.908, Train percision 0.743, train recall 0.815\n",
      " Validation acc 0.879, Validation percision 0.676, Validation recall 0.775\n"
     ]
    },
    {
     "name": "stderr",
     "output_type": "stream",
     "text": [
      "521it [00:13, 37.65it/s]\n"
     ]
    },
    {
     "name": "stdout",
     "output_type": "stream",
     "text": [
      "Epoch [31/100] - \n",
      "              Train Loss: 0.2641,   Valid Loss: 2.3722 \n",
      "\n",
      " Train acc 0.908, Train percision 0.743, train recall 0.816\n",
      " Validation acc 0.880, Validation percision 0.684, Validation recall 0.765\n"
     ]
    },
    {
     "name": "stderr",
     "output_type": "stream",
     "text": [
      "521it [00:13, 39.32it/s]\n"
     ]
    },
    {
     "name": "stdout",
     "output_type": "stream",
     "text": [
      "Epoch [32/100] - \n",
      "              Train Loss: 0.2623,   Valid Loss: 2.3559 \n",
      "\n",
      " Train acc 0.910, Train percision 0.749, train recall 0.818\n",
      " Validation acc 0.881, Validation percision 0.692, Validation recall 0.748\n"
     ]
    },
    {
     "name": "stderr",
     "output_type": "stream",
     "text": [
      "521it [00:14, 36.74it/s]\n"
     ]
    },
    {
     "name": "stdout",
     "output_type": "stream",
     "text": [
      "Epoch [33/100] - \n",
      "              Train Loss: 0.2606,   Valid Loss: 2.3413 \n",
      "\n",
      " Train acc 0.910, Train percision 0.749, train recall 0.818\n",
      " Validation acc 0.879, Validation percision 0.679, Validation recall 0.770\n"
     ]
    },
    {
     "name": "stderr",
     "output_type": "stream",
     "text": [
      "521it [00:13, 37.35it/s]\n"
     ]
    },
    {
     "name": "stdout",
     "output_type": "stream",
     "text": [
      "Epoch [34/100] - \n",
      "              Train Loss: 0.2590,   Valid Loss: 2.3265 \n",
      "\n",
      " Train acc 0.911, Train percision 0.753, train recall 0.820\n",
      " Validation acc 0.882, Validation percision 0.687, Validation recall 0.768\n"
     ]
    },
    {
     "name": "stderr",
     "output_type": "stream",
     "text": [
      "521it [00:13, 37.91it/s]\n"
     ]
    },
    {
     "name": "stdout",
     "output_type": "stream",
     "text": [
      "Epoch 00035: reducing learning rate of group 0 to 5.0000e-04.\n",
      "Epoch [35/100] - \n",
      "              Train Loss: 0.2575,   Valid Loss: 2.3127 \n",
      "\n",
      " Train acc 0.912, Train percision 0.755, train recall 0.822\n",
      " Validation acc 0.881, Validation percision 0.685, Validation recall 0.763\n"
     ]
    },
    {
     "name": "stderr",
     "output_type": "stream",
     "text": [
      "521it [00:14, 37.14it/s]\n"
     ]
    },
    {
     "name": "stdout",
     "output_type": "stream",
     "text": [
      "Epoch [36/100] - \n",
      "              Train Loss: 0.2518,   Valid Loss: 2.2619 \n",
      "\n",
      " Train acc 0.915, Train percision 0.764, train recall 0.826\n",
      " Validation acc 0.881, Validation percision 0.682, Validation recall 0.775\n"
     ]
    },
    {
     "name": "stderr",
     "output_type": "stream",
     "text": [
      "521it [00:14, 36.49it/s]\n"
     ]
    },
    {
     "name": "stdout",
     "output_type": "stream",
     "text": [
      "Epoch [37/100] - \n",
      "              Train Loss: 0.2492,   Valid Loss: 2.2388 \n",
      "\n",
      " Train acc 0.916, Train percision 0.765, train recall 0.828\n",
      " Validation acc 0.882, Validation percision 0.693, Validation recall 0.756\n"
     ]
    },
    {
     "name": "stderr",
     "output_type": "stream",
     "text": [
      "521it [00:13, 37.46it/s]\n"
     ]
    },
    {
     "name": "stdout",
     "output_type": "stream",
     "text": [
      "Epoch [38/100] - \n",
      "              Train Loss: 0.2480,   Valid Loss: 2.2273 \n",
      "\n",
      " Train acc 0.917, Train percision 0.767, train recall 0.830\n",
      " Validation acc 0.880, Validation percision 0.682, Validation recall 0.772\n"
     ]
    },
    {
     "name": "stderr",
     "output_type": "stream",
     "text": [
      "521it [00:13, 37.47it/s]\n"
     ]
    },
    {
     "name": "stdout",
     "output_type": "stream",
     "text": [
      "Epoch [39/100] - \n",
      "              Train Loss: 0.2468,   Valid Loss: 2.2167 \n",
      "\n",
      " Train acc 0.917, Train percision 0.768, train recall 0.830\n",
      " Validation acc 0.883, Validation percision 0.694, Validation recall 0.758\n"
     ]
    },
    {
     "name": "stderr",
     "output_type": "stream",
     "text": [
      "521it [00:14, 35.75it/s]\n"
     ]
    },
    {
     "name": "stdout",
     "output_type": "stream",
     "text": [
      "Epoch [40/100] - \n",
      "              Train Loss: 0.2457,   Valid Loss: 2.2070 \n",
      "\n",
      " Train acc 0.918, Train percision 0.771, train recall 0.831\n",
      " Validation acc 0.882, Validation percision 0.690, Validation recall 0.762\n"
     ]
    },
    {
     "name": "stderr",
     "output_type": "stream",
     "text": [
      "521it [00:14, 37.00it/s]\n"
     ]
    },
    {
     "name": "stdout",
     "output_type": "stream",
     "text": [
      "Epoch 00041: reducing learning rate of group 0 to 2.5000e-04.\n",
      "Epoch [41/100] - \n",
      "              Train Loss: 0.2444,   Valid Loss: 2.1957 \n",
      "\n",
      " Train acc 0.918, Train percision 0.772, train recall 0.832\n",
      " Validation acc 0.882, Validation percision 0.691, Validation recall 0.760\n"
     ]
    },
    {
     "name": "stderr",
     "output_type": "stream",
     "text": [
      "521it [00:14, 36.56it/s]\n"
     ]
    },
    {
     "name": "stdout",
     "output_type": "stream",
     "text": [
      "Epoch [42/100] - \n",
      "              Train Loss: 0.2413,   Valid Loss: 2.1679 \n",
      "\n",
      " Train acc 0.919, Train percision 0.776, train recall 0.833\n",
      " Validation acc 0.884, Validation percision 0.699, Validation recall 0.754\n"
     ]
    },
    {
     "name": "stderr",
     "output_type": "stream",
     "text": [
      "521it [00:16, 31.81it/s]\n"
     ]
    },
    {
     "name": "stdout",
     "output_type": "stream",
     "text": [
      "Epoch [43/100] - \n",
      "              Train Loss: 0.2400,   Valid Loss: 2.1559 \n",
      "\n",
      " Train acc 0.921, Train percision 0.779, train recall 0.834\n",
      " Validation acc 0.883, Validation percision 0.694, Validation recall 0.758\n"
     ]
    },
    {
     "name": "stderr",
     "output_type": "stream",
     "text": [
      "521it [00:15, 32.96it/s]\n"
     ]
    },
    {
     "name": "stdout",
     "output_type": "stream",
     "text": [
      "Epoch [44/100] - \n",
      "              Train Loss: 0.2393,   Valid Loss: 2.1491 \n",
      "\n",
      " Train acc 0.920, Train percision 0.778, train recall 0.835\n",
      " Validation acc 0.882, Validation percision 0.691, Validation recall 0.761\n"
     ]
    },
    {
     "name": "stderr",
     "output_type": "stream",
     "text": [
      "521it [00:15, 32.99it/s]\n"
     ]
    },
    {
     "name": "stdout",
     "output_type": "stream",
     "text": [
      "Epoch [45/100] - \n",
      "              Train Loss: 0.2385,   Valid Loss: 2.1426 \n",
      "\n",
      " Train acc 0.921, Train percision 0.779, train recall 0.836\n",
      " Validation acc 0.883, Validation percision 0.698, Validation recall 0.752\n"
     ]
    },
    {
     "name": "stderr",
     "output_type": "stream",
     "text": [
      "521it [00:15, 33.91it/s]\n"
     ]
    },
    {
     "name": "stdout",
     "output_type": "stream",
     "text": [
      "Epoch [46/100] - \n",
      "              Train Loss: 0.2377,   Valid Loss: 2.1354 \n",
      "\n",
      " Train acc 0.921, Train percision 0.781, train recall 0.837\n",
      " Validation acc 0.883, Validation percision 0.693, Validation recall 0.759\n"
     ]
    },
    {
     "name": "stderr",
     "output_type": "stream",
     "text": [
      "521it [00:14, 35.06it/s]\n"
     ]
    },
    {
     "name": "stdout",
     "output_type": "stream",
     "text": [
      "Epoch 00047: reducing learning rate of group 0 to 1.2500e-04.\n",
      "Epoch [47/100] - \n",
      "              Train Loss: 0.2374,   Valid Loss: 2.1322 \n",
      "\n",
      " Train acc 0.922, Train percision 0.782, train recall 0.837\n",
      " Validation acc 0.884, Validation percision 0.700, Validation recall 0.749\n"
     ]
    },
    {
     "name": "stderr",
     "output_type": "stream",
     "text": [
      "521it [00:14, 34.93it/s]\n"
     ]
    },
    {
     "name": "stdout",
     "output_type": "stream",
     "text": [
      "Epoch [48/100] - \n",
      "              Train Loss: 0.2355,   Valid Loss: 2.1154 \n",
      "\n",
      " Train acc 0.922, Train percision 0.783, train recall 0.838\n",
      " Validation acc 0.883, Validation percision 0.696, Validation recall 0.756\n"
     ]
    },
    {
     "name": "stderr",
     "output_type": "stream",
     "text": [
      "521it [00:15, 34.60it/s]\n"
     ]
    },
    {
     "name": "stdout",
     "output_type": "stream",
     "text": [
      "Epoch [49/100] - \n",
      "              Train Loss: 0.2348,   Valid Loss: 2.1095 \n",
      "\n",
      " Train acc 0.923, Train percision 0.785, train recall 0.839\n",
      " Validation acc 0.883, Validation percision 0.698, Validation recall 0.751\n"
     ]
    },
    {
     "name": "stderr",
     "output_type": "stream",
     "text": [
      "521it [00:15, 34.19it/s]\n"
     ]
    },
    {
     "name": "stdout",
     "output_type": "stream",
     "text": [
      "Epoch [50/100] - \n",
      "              Train Loss: 0.2346,   Valid Loss: 2.1070 \n",
      "\n",
      " Train acc 0.922, Train percision 0.784, train recall 0.838\n",
      " Validation acc 0.883, Validation percision 0.697, Validation recall 0.755\n"
     ]
    },
    {
     "name": "stderr",
     "output_type": "stream",
     "text": [
      "521it [00:15, 33.40it/s]\n"
     ]
    },
    {
     "name": "stdout",
     "output_type": "stream",
     "text": [
      "Epoch [51/100] - \n",
      "              Train Loss: 0.2341,   Valid Loss: 2.1024 \n",
      "\n",
      " Train acc 0.923, Train percision 0.786, train recall 0.839\n",
      " Validation acc 0.882, Validation percision 0.693, Validation recall 0.753\n"
     ]
    },
    {
     "name": "stderr",
     "output_type": "stream",
     "text": [
      "521it [00:14, 35.17it/s]\n"
     ]
    },
    {
     "name": "stdout",
     "output_type": "stream",
     "text": [
      "Epoch [52/100] - \n",
      "              Train Loss: 0.2337,   Valid Loss: 2.0994 \n",
      "\n",
      " Train acc 0.923, Train percision 0.787, train recall 0.840\n",
      " Validation acc 0.881, Validation percision 0.689, Validation recall 0.758\n"
     ]
    },
    {
     "name": "stderr",
     "output_type": "stream",
     "text": [
      "521it [00:14, 34.83it/s]\n"
     ]
    },
    {
     "name": "stdout",
     "output_type": "stream",
     "text": [
      "Epoch 00053: reducing learning rate of group 0 to 6.2500e-05.\n",
      "Epoch [53/100] - \n",
      "              Train Loss: 0.2333,   Valid Loss: 2.0955 \n",
      "\n",
      " Train acc 0.923, Train percision 0.788, train recall 0.839\n",
      " Validation acc 0.883, Validation percision 0.698, Validation recall 0.747\n"
     ]
    },
    {
     "name": "stderr",
     "output_type": "stream",
     "text": [
      "521it [00:14, 35.94it/s]\n"
     ]
    },
    {
     "name": "stdout",
     "output_type": "stream",
     "text": [
      "Epoch [54/100] - \n",
      "              Train Loss: 0.2323,   Valid Loss: 2.0863 \n",
      "\n",
      " Train acc 0.924, Train percision 0.788, train recall 0.841\n",
      " Validation acc 0.883, Validation percision 0.697, Validation recall 0.752\n"
     ]
    },
    {
     "name": "stderr",
     "output_type": "stream",
     "text": [
      "521it [00:14, 35.48it/s]\n"
     ]
    },
    {
     "name": "stdout",
     "output_type": "stream",
     "text": [
      "Epoch [55/100] - \n",
      "              Train Loss: 0.2322,   Valid Loss: 2.0857 \n",
      "\n",
      " Train acc 0.924, Train percision 0.789, train recall 0.840\n",
      " Validation acc 0.882, Validation percision 0.694, Validation recall 0.753\n"
     ]
    },
    {
     "name": "stderr",
     "output_type": "stream",
     "text": [
      "521it [00:14, 35.02it/s]\n"
     ]
    },
    {
     "name": "stdout",
     "output_type": "stream",
     "text": [
      "Epoch [56/100] - \n",
      "              Train Loss: 0.2317,   Valid Loss: 2.0815 \n",
      "\n",
      " Train acc 0.924, Train percision 0.789, train recall 0.841\n",
      " Validation acc 0.883, Validation percision 0.696, Validation recall 0.754\n"
     ]
    },
    {
     "name": "stderr",
     "output_type": "stream",
     "text": [
      "521it [00:14, 35.80it/s]\n"
     ]
    },
    {
     "name": "stdout",
     "output_type": "stream",
     "text": [
      "Epoch [57/100] - \n",
      "              Train Loss: 0.2318,   Valid Loss: 2.0818 \n",
      "\n",
      " Train acc 0.924, Train percision 0.790, train recall 0.841\n",
      " Validation acc 0.882, Validation percision 0.695, Validation recall 0.751\n"
     ]
    },
    {
     "name": "stderr",
     "output_type": "stream",
     "text": [
      "521it [00:14, 35.89it/s]\n"
     ]
    },
    {
     "name": "stdout",
     "output_type": "stream",
     "text": [
      "Epoch [58/100] - \n",
      "              Train Loss: 0.2315,   Valid Loss: 2.0792 \n",
      "\n",
      " Train acc 0.924, Train percision 0.790, train recall 0.840\n",
      " Validation acc 0.882, Validation percision 0.694, Validation recall 0.752\n"
     ]
    },
    {
     "name": "stderr",
     "output_type": "stream",
     "text": [
      "521it [00:14, 34.74it/s]\n"
     ]
    },
    {
     "name": "stdout",
     "output_type": "stream",
     "text": [
      "Epoch 00059: reducing learning rate of group 0 to 3.1250e-05.\n",
      "Epoch [59/100] - \n",
      "              Train Loss: 0.2312,   Valid Loss: 2.0771 \n",
      "\n",
      " Train acc 0.924, Train percision 0.789, train recall 0.841\n",
      " Validation acc 0.882, Validation percision 0.693, Validation recall 0.754\n"
     ]
    },
    {
     "name": "stderr",
     "output_type": "stream",
     "text": [
      "521it [00:14, 35.77it/s]\n"
     ]
    },
    {
     "name": "stdout",
     "output_type": "stream",
     "text": [
      "Epoch [60/100] - \n",
      "              Train Loss: 0.2309,   Valid Loss: 2.0737 \n",
      "\n",
      " Train acc 0.925, Train percision 0.791, train recall 0.841\n",
      " Validation acc 0.882, Validation percision 0.694, Validation recall 0.752\n"
     ]
    },
    {
     "name": "stderr",
     "output_type": "stream",
     "text": [
      "521it [00:14, 36.00it/s]\n"
     ]
    },
    {
     "name": "stdout",
     "output_type": "stream",
     "text": [
      "Epoch [61/100] - \n",
      "              Train Loss: 0.2308,   Valid Loss: 2.0729 \n",
      "\n",
      " Train acc 0.924, Train percision 0.791, train recall 0.841\n",
      " Validation acc 0.882, Validation percision 0.695, Validation recall 0.752\n"
     ]
    },
    {
     "name": "stderr",
     "output_type": "stream",
     "text": [
      "521it [00:14, 35.13it/s]\n"
     ]
    },
    {
     "name": "stdout",
     "output_type": "stream",
     "text": [
      "Epoch [62/100] - \n",
      "              Train Loss: 0.2306,   Valid Loss: 2.0714 \n",
      "\n",
      " Train acc 0.925, Train percision 0.790, train recall 0.842\n",
      " Validation acc 0.883, Validation percision 0.694, Validation recall 0.755\n"
     ]
    },
    {
     "name": "stderr",
     "output_type": "stream",
     "text": [
      "521it [00:14, 35.22it/s]\n"
     ]
    },
    {
     "name": "stdout",
     "output_type": "stream",
     "text": [
      "Epoch [63/100] - \n",
      "              Train Loss: 0.2304,   Valid Loss: 2.0699 \n",
      "\n",
      " Train acc 0.925, Train percision 0.791, train recall 0.841\n",
      " Validation acc 0.883, Validation percision 0.695, Validation recall 0.754\n"
     ]
    },
    {
     "name": "stderr",
     "output_type": "stream",
     "text": [
      "521it [00:14, 36.08it/s]\n"
     ]
    },
    {
     "name": "stdout",
     "output_type": "stream",
     "text": [
      "Epoch [64/100] - \n",
      "              Train Loss: 0.2305,   Valid Loss: 2.0709 \n",
      "\n",
      " Train acc 0.924, Train percision 0.790, train recall 0.841\n",
      " Validation acc 0.883, Validation percision 0.695, Validation recall 0.753\n"
     ]
    },
    {
     "name": "stderr",
     "output_type": "stream",
     "text": [
      "521it [00:14, 35.10it/s]\n"
     ]
    },
    {
     "name": "stdout",
     "output_type": "stream",
     "text": [
      "Epoch 00065: reducing learning rate of group 0 to 1.5625e-05.\n",
      "Epoch [65/100] - \n",
      "              Train Loss: 0.2304,   Valid Loss: 2.0700 \n",
      "\n",
      " Train acc 0.925, Train percision 0.791, train recall 0.842\n",
      " Validation acc 0.883, Validation percision 0.696, Validation recall 0.751\n"
     ]
    },
    {
     "name": "stderr",
     "output_type": "stream",
     "text": [
      "521it [00:14, 35.75it/s]\n"
     ]
    },
    {
     "name": "stdout",
     "output_type": "stream",
     "text": [
      "Epoch [66/100] - \n",
      "              Train Loss: 0.2300,   Valid Loss: 2.0665 \n",
      "\n",
      " Train acc 0.925, Train percision 0.791, train recall 0.841\n",
      " Validation acc 0.883, Validation percision 0.697, Validation recall 0.751\n"
     ]
    },
    {
     "name": "stderr",
     "output_type": "stream",
     "text": [
      "521it [00:14, 36.10it/s]\n"
     ]
    },
    {
     "name": "stdout",
     "output_type": "stream",
     "text": [
      "Epoch [67/100] - \n",
      "              Train Loss: 0.2301,   Valid Loss: 2.0665 \n",
      "\n",
      " Train acc 0.925, Train percision 0.791, train recall 0.842\n",
      " Validation acc 0.882, Validation percision 0.692, Validation recall 0.755\n"
     ]
    },
    {
     "name": "stderr",
     "output_type": "stream",
     "text": [
      "521it [00:14, 34.89it/s]\n"
     ]
    },
    {
     "name": "stdout",
     "output_type": "stream",
     "text": [
      "Epoch [68/100] - \n",
      "              Train Loss: 0.2299,   Valid Loss: 2.0656 \n",
      "\n",
      " Train acc 0.925, Train percision 0.791, train recall 0.841\n",
      " Validation acc 0.882, Validation percision 0.695, Validation recall 0.750\n"
     ]
    },
    {
     "name": "stderr",
     "output_type": "stream",
     "text": [
      "521it [00:15, 34.21it/s]\n"
     ]
    },
    {
     "name": "stdout",
     "output_type": "stream",
     "text": [
      "Epoch [69/100] - \n",
      "              Train Loss: 0.2299,   Valid Loss: 2.0650 \n",
      "\n",
      " Train acc 0.925, Train percision 0.791, train recall 0.842\n",
      " Validation acc 0.882, Validation percision 0.694, Validation recall 0.753\n"
     ]
    },
    {
     "name": "stderr",
     "output_type": "stream",
     "text": [
      "521it [00:14, 35.42it/s]\n"
     ]
    },
    {
     "name": "stdout",
     "output_type": "stream",
     "text": [
      "Epoch [70/100] - \n",
      "              Train Loss: 0.2299,   Valid Loss: 2.0652 \n",
      "\n",
      " Train acc 0.924, Train percision 0.790, train recall 0.841\n",
      " Validation acc 0.882, Validation percision 0.694, Validation recall 0.751\n"
     ]
    },
    {
     "name": "stderr",
     "output_type": "stream",
     "text": [
      "521it [00:15, 33.18it/s]\n"
     ]
    },
    {
     "name": "stdout",
     "output_type": "stream",
     "text": [
      "Epoch 00071: reducing learning rate of group 0 to 7.8125e-06.\n",
      "Epoch [71/100] - \n",
      "              Train Loss: 0.2298,   Valid Loss: 2.0640 \n",
      "\n",
      " Train acc 0.925, Train percision 0.792, train recall 0.842\n",
      " Validation acc 0.883, Validation percision 0.696, Validation recall 0.751\n"
     ]
    },
    {
     "name": "stderr",
     "output_type": "stream",
     "text": [
      "521it [00:15, 32.92it/s]\n"
     ]
    },
    {
     "name": "stdout",
     "output_type": "stream",
     "text": [
      "Epoch [72/100] - \n",
      "              Train Loss: 0.2296,   Valid Loss: 2.0629 \n",
      "\n",
      " Train acc 0.925, Train percision 0.792, train recall 0.842\n",
      " Validation acc 0.883, Validation percision 0.694, Validation recall 0.754\n"
     ]
    },
    {
     "name": "stderr",
     "output_type": "stream",
     "text": [
      "521it [00:14, 35.30it/s]\n"
     ]
    },
    {
     "name": "stdout",
     "output_type": "stream",
     "text": [
      "Epoch [73/100] - \n",
      "              Train Loss: 0.2295,   Valid Loss: 2.0616 \n",
      "\n",
      " Train acc 0.925, Train percision 0.792, train recall 0.842\n",
      " Validation acc 0.882, Validation percision 0.695, Validation recall 0.751\n"
     ]
    },
    {
     "name": "stderr",
     "output_type": "stream",
     "text": [
      "521it [00:14, 35.05it/s]\n"
     ]
    },
    {
     "name": "stdout",
     "output_type": "stream",
     "text": [
      "Epoch [74/100] - \n",
      "              Train Loss: 0.2296,   Valid Loss: 2.0621 \n",
      "\n",
      " Train acc 0.925, Train percision 0.792, train recall 0.842\n",
      " Validation acc 0.882, Validation percision 0.693, Validation recall 0.750\n"
     ]
    },
    {
     "name": "stderr",
     "output_type": "stream",
     "text": [
      "521it [00:15, 33.08it/s]\n"
     ]
    },
    {
     "name": "stdout",
     "output_type": "stream",
     "text": [
      "Epoch [75/100] - \n",
      "              Train Loss: 0.2296,   Valid Loss: 2.0627 \n",
      "\n",
      " Train acc 0.925, Train percision 0.792, train recall 0.842\n",
      " Validation acc 0.882, Validation percision 0.694, Validation recall 0.751\n"
     ]
    },
    {
     "name": "stderr",
     "output_type": "stream",
     "text": [
      "521it [00:15, 33.53it/s]\n"
     ]
    },
    {
     "name": "stdout",
     "output_type": "stream",
     "text": [
      "Epoch [76/100] - \n",
      "              Train Loss: 0.2296,   Valid Loss: 2.0627 \n",
      "\n",
      " Train acc 0.925, Train percision 0.793, train recall 0.843\n",
      " Validation acc 0.883, Validation percision 0.695, Validation recall 0.753\n"
     ]
    },
    {
     "name": "stderr",
     "output_type": "stream",
     "text": [
      "521it [00:14, 35.00it/s]\n"
     ]
    },
    {
     "name": "stdout",
     "output_type": "stream",
     "text": [
      "Epoch 00077: reducing learning rate of group 0 to 3.9063e-06.\n",
      "Epoch [77/100] - \n",
      "              Train Loss: 0.2294,   Valid Loss: 2.0607 \n",
      "\n",
      " Train acc 0.925, Train percision 0.793, train recall 0.842\n",
      " Validation acc 0.882, Validation percision 0.694, Validation recall 0.754\n"
     ]
    },
    {
     "name": "stderr",
     "output_type": "stream",
     "text": [
      "521it [00:15, 34.30it/s]\n"
     ]
    },
    {
     "name": "stdout",
     "output_type": "stream",
     "text": [
      "Epoch [78/100] - \n",
      "              Train Loss: 0.2294,   Valid Loss: 2.0604 \n",
      "\n",
      " Train acc 0.925, Train percision 0.793, train recall 0.842\n",
      " Validation acc 0.883, Validation percision 0.696, Validation recall 0.750\n"
     ]
    },
    {
     "name": "stderr",
     "output_type": "stream",
     "text": [
      "521it [00:14, 34.81it/s]\n"
     ]
    },
    {
     "name": "stdout",
     "output_type": "stream",
     "text": [
      "Epoch [79/100] - \n",
      "              Train Loss: 0.2295,   Valid Loss: 2.0615 \n",
      "\n",
      " Train acc 0.925, Train percision 0.792, train recall 0.843\n",
      " Validation acc 0.882, Validation percision 0.691, Validation recall 0.758\n"
     ]
    },
    {
     "name": "stderr",
     "output_type": "stream",
     "text": [
      "521it [00:15, 34.64it/s]\n"
     ]
    },
    {
     "name": "stdout",
     "output_type": "stream",
     "text": [
      "Epoch [80/100] - \n",
      "              Train Loss: 0.2294,   Valid Loss: 2.0611 \n",
      "\n",
      " Train acc 0.925, Train percision 0.793, train recall 0.842\n",
      " Validation acc 0.883, Validation percision 0.698, Validation recall 0.750\n"
     ]
    },
    {
     "name": "stderr",
     "output_type": "stream",
     "text": [
      "218it [00:06, 34.28it/s]\n"
     ]
    },
    {
     "ename": "KeyboardInterrupt",
     "evalue": "",
     "output_type": "error",
     "traceback": [
      "\u001b[0;31m---------------------------------------------------------------------------\u001b[0m",
      "\u001b[0;31mKeyboardInterrupt\u001b[0m                         Traceback (most recent call last)",
      "Cell \u001b[0;32mIn[107], line 38\u001b[0m\n\u001b[1;32m     34\u001b[0m         optimizer\u001b[38;5;241m.\u001b[39mzero_grad()\n\u001b[1;32m     36\u001b[0m \u001b[38;5;66;03m#         ordinal_labels = convert_to_ordinal_labels(labels, num_classes=12).to(device)\u001b[39;00m\n\u001b[0;32m---> 38\u001b[0m         outputs \u001b[38;5;241m=\u001b[39m \u001b[43mnet\u001b[49m\u001b[43m(\u001b[49m\u001b[43minputs\u001b[49m\u001b[43m)\u001b[49m\n\u001b[1;32m     39\u001b[0m         labels \u001b[38;5;241m=\u001b[39m labels\u001b[38;5;241m.\u001b[39mtype(torch\u001b[38;5;241m.\u001b[39mLongTensor)\u001b[38;5;241m.\u001b[39mto(device)\n\u001b[1;32m     40\u001b[0m         loss \u001b[38;5;241m=\u001b[39m ((criterion(outputs, labels) \u001b[38;5;241m*\u001b[39m (labels\u001b[38;5;241m>\u001b[39m\u001b[38;5;241m0\u001b[39m) \u001b[38;5;241m*\u001b[39m w)\u001b[38;5;241m.\u001b[39mmean(\u001b[38;5;241m0\u001b[39m))\u001b[38;5;241m.\u001b[39mmean()\n",
      "File \u001b[0;32m~/.conda/envs/sagi_base/lib/python3.10/site-packages/torch/nn/modules/module.py:1194\u001b[0m, in \u001b[0;36mModule._call_impl\u001b[0;34m(self, *input, **kwargs)\u001b[0m\n\u001b[1;32m   1190\u001b[0m \u001b[38;5;66;03m# If we don't have any hooks, we want to skip the rest of the logic in\u001b[39;00m\n\u001b[1;32m   1191\u001b[0m \u001b[38;5;66;03m# this function, and just call forward.\u001b[39;00m\n\u001b[1;32m   1192\u001b[0m \u001b[38;5;28;01mif\u001b[39;00m \u001b[38;5;129;01mnot\u001b[39;00m (\u001b[38;5;28mself\u001b[39m\u001b[38;5;241m.\u001b[39m_backward_hooks \u001b[38;5;129;01mor\u001b[39;00m \u001b[38;5;28mself\u001b[39m\u001b[38;5;241m.\u001b[39m_forward_hooks \u001b[38;5;129;01mor\u001b[39;00m \u001b[38;5;28mself\u001b[39m\u001b[38;5;241m.\u001b[39m_forward_pre_hooks \u001b[38;5;129;01mor\u001b[39;00m _global_backward_hooks\n\u001b[1;32m   1193\u001b[0m         \u001b[38;5;129;01mor\u001b[39;00m _global_forward_hooks \u001b[38;5;129;01mor\u001b[39;00m _global_forward_pre_hooks):\n\u001b[0;32m-> 1194\u001b[0m     \u001b[38;5;28;01mreturn\u001b[39;00m \u001b[43mforward_call\u001b[49m\u001b[43m(\u001b[49m\u001b[38;5;241;43m*\u001b[39;49m\u001b[38;5;28;43minput\u001b[39;49m\u001b[43m,\u001b[49m\u001b[43m \u001b[49m\u001b[38;5;241;43m*\u001b[39;49m\u001b[38;5;241;43m*\u001b[39;49m\u001b[43mkwargs\u001b[49m\u001b[43m)\u001b[49m\n\u001b[1;32m   1195\u001b[0m \u001b[38;5;66;03m# Do not call functions when jit is used\u001b[39;00m\n\u001b[1;32m   1196\u001b[0m full_backward_hooks, non_full_backward_hooks \u001b[38;5;241m=\u001b[39m [], []\n",
      "Cell \u001b[0;32mIn[105], line 71\u001b[0m, in \u001b[0;36mClassificationResNet.forward\u001b[0;34m(self, x)\u001b[0m\n\u001b[1;32m     69\u001b[0m out \u001b[38;5;241m=\u001b[39m \u001b[38;5;28mself\u001b[39m\u001b[38;5;241m.\u001b[39mrelu(out)\n\u001b[1;32m     70\u001b[0m out \u001b[38;5;241m=\u001b[39m \u001b[38;5;28mself\u001b[39m\u001b[38;5;241m.\u001b[39mmaxpool(out)\n\u001b[0;32m---> 71\u001b[0m out \u001b[38;5;241m=\u001b[39m \u001b[38;5;28;43mself\u001b[39;49m\u001b[38;5;241;43m.\u001b[39;49m\u001b[43mstage1\u001b[49m\u001b[43m(\u001b[49m\u001b[43mout\u001b[49m\u001b[43m)\u001b[49m\n\u001b[1;32m     72\u001b[0m out \u001b[38;5;241m=\u001b[39m \u001b[38;5;28mself\u001b[39m\u001b[38;5;241m.\u001b[39mstage2(out)\n\u001b[1;32m     73\u001b[0m out \u001b[38;5;241m=\u001b[39m \u001b[38;5;28mself\u001b[39m\u001b[38;5;241m.\u001b[39mstage3(out)\n",
      "File \u001b[0;32m~/.conda/envs/sagi_base/lib/python3.10/site-packages/torch/nn/modules/module.py:1194\u001b[0m, in \u001b[0;36mModule._call_impl\u001b[0;34m(self, *input, **kwargs)\u001b[0m\n\u001b[1;32m   1190\u001b[0m \u001b[38;5;66;03m# If we don't have any hooks, we want to skip the rest of the logic in\u001b[39;00m\n\u001b[1;32m   1191\u001b[0m \u001b[38;5;66;03m# this function, and just call forward.\u001b[39;00m\n\u001b[1;32m   1192\u001b[0m \u001b[38;5;28;01mif\u001b[39;00m \u001b[38;5;129;01mnot\u001b[39;00m (\u001b[38;5;28mself\u001b[39m\u001b[38;5;241m.\u001b[39m_backward_hooks \u001b[38;5;129;01mor\u001b[39;00m \u001b[38;5;28mself\u001b[39m\u001b[38;5;241m.\u001b[39m_forward_hooks \u001b[38;5;129;01mor\u001b[39;00m \u001b[38;5;28mself\u001b[39m\u001b[38;5;241m.\u001b[39m_forward_pre_hooks \u001b[38;5;129;01mor\u001b[39;00m _global_backward_hooks\n\u001b[1;32m   1193\u001b[0m         \u001b[38;5;129;01mor\u001b[39;00m _global_forward_hooks \u001b[38;5;129;01mor\u001b[39;00m _global_forward_pre_hooks):\n\u001b[0;32m-> 1194\u001b[0m     \u001b[38;5;28;01mreturn\u001b[39;00m \u001b[43mforward_call\u001b[49m\u001b[43m(\u001b[49m\u001b[38;5;241;43m*\u001b[39;49m\u001b[38;5;28;43minput\u001b[39;49m\u001b[43m,\u001b[49m\u001b[43m \u001b[49m\u001b[38;5;241;43m*\u001b[39;49m\u001b[38;5;241;43m*\u001b[39;49m\u001b[43mkwargs\u001b[49m\u001b[43m)\u001b[49m\n\u001b[1;32m   1195\u001b[0m \u001b[38;5;66;03m# Do not call functions when jit is used\u001b[39;00m\n\u001b[1;32m   1196\u001b[0m full_backward_hooks, non_full_backward_hooks \u001b[38;5;241m=\u001b[39m [], []\n",
      "File \u001b[0;32m~/.conda/envs/sagi_base/lib/python3.10/site-packages/torch/nn/modules/container.py:204\u001b[0m, in \u001b[0;36mSequential.forward\u001b[0;34m(self, input)\u001b[0m\n\u001b[1;32m    202\u001b[0m \u001b[38;5;28;01mdef\u001b[39;00m \u001b[38;5;21mforward\u001b[39m(\u001b[38;5;28mself\u001b[39m, \u001b[38;5;28minput\u001b[39m):\n\u001b[1;32m    203\u001b[0m     \u001b[38;5;28;01mfor\u001b[39;00m module \u001b[38;5;129;01min\u001b[39;00m \u001b[38;5;28mself\u001b[39m:\n\u001b[0;32m--> 204\u001b[0m         \u001b[38;5;28minput\u001b[39m \u001b[38;5;241m=\u001b[39m \u001b[43mmodule\u001b[49m\u001b[43m(\u001b[49m\u001b[38;5;28;43minput\u001b[39;49m\u001b[43m)\u001b[49m\n\u001b[1;32m    205\u001b[0m     \u001b[38;5;28;01mreturn\u001b[39;00m \u001b[38;5;28minput\u001b[39m\n",
      "File \u001b[0;32m~/.conda/envs/sagi_base/lib/python3.10/site-packages/torch/nn/modules/module.py:1194\u001b[0m, in \u001b[0;36mModule._call_impl\u001b[0;34m(self, *input, **kwargs)\u001b[0m\n\u001b[1;32m   1190\u001b[0m \u001b[38;5;66;03m# If we don't have any hooks, we want to skip the rest of the logic in\u001b[39;00m\n\u001b[1;32m   1191\u001b[0m \u001b[38;5;66;03m# this function, and just call forward.\u001b[39;00m\n\u001b[1;32m   1192\u001b[0m \u001b[38;5;28;01mif\u001b[39;00m \u001b[38;5;129;01mnot\u001b[39;00m (\u001b[38;5;28mself\u001b[39m\u001b[38;5;241m.\u001b[39m_backward_hooks \u001b[38;5;129;01mor\u001b[39;00m \u001b[38;5;28mself\u001b[39m\u001b[38;5;241m.\u001b[39m_forward_hooks \u001b[38;5;129;01mor\u001b[39;00m \u001b[38;5;28mself\u001b[39m\u001b[38;5;241m.\u001b[39m_forward_pre_hooks \u001b[38;5;129;01mor\u001b[39;00m _global_backward_hooks\n\u001b[1;32m   1193\u001b[0m         \u001b[38;5;129;01mor\u001b[39;00m _global_forward_hooks \u001b[38;5;129;01mor\u001b[39;00m _global_forward_pre_hooks):\n\u001b[0;32m-> 1194\u001b[0m     \u001b[38;5;28;01mreturn\u001b[39;00m \u001b[43mforward_call\u001b[49m\u001b[43m(\u001b[49m\u001b[38;5;241;43m*\u001b[39;49m\u001b[38;5;28;43minput\u001b[39;49m\u001b[43m,\u001b[49m\u001b[43m \u001b[49m\u001b[38;5;241;43m*\u001b[39;49m\u001b[38;5;241;43m*\u001b[39;49m\u001b[43mkwargs\u001b[49m\u001b[43m)\u001b[49m\n\u001b[1;32m   1195\u001b[0m \u001b[38;5;66;03m# Do not call functions when jit is used\u001b[39;00m\n\u001b[1;32m   1196\u001b[0m full_backward_hooks, non_full_backward_hooks \u001b[38;5;241m=\u001b[39m [], []\n",
      "Cell \u001b[0;32mIn[105], line 23\u001b[0m, in \u001b[0;36mResidualBlock.forward\u001b[0;34m(self, x)\u001b[0m\n\u001b[1;32m     20\u001b[0m identity \u001b[38;5;241m=\u001b[39m \u001b[38;5;28mself\u001b[39m\u001b[38;5;241m.\u001b[39mshortcut(x)\n\u001b[1;32m     22\u001b[0m out \u001b[38;5;241m=\u001b[39m \u001b[38;5;28mself\u001b[39m\u001b[38;5;241m.\u001b[39mconv1(x)\n\u001b[0;32m---> 23\u001b[0m out \u001b[38;5;241m=\u001b[39m \u001b[38;5;28;43mself\u001b[39;49m\u001b[38;5;241;43m.\u001b[39;49m\u001b[43mbn1\u001b[49m\u001b[43m(\u001b[49m\u001b[43mout\u001b[49m\u001b[43m)\u001b[49m\n\u001b[1;32m     24\u001b[0m out \u001b[38;5;241m=\u001b[39m \u001b[38;5;28mself\u001b[39m\u001b[38;5;241m.\u001b[39mrelu(out)\n\u001b[1;32m     26\u001b[0m out \u001b[38;5;241m=\u001b[39m \u001b[38;5;28mself\u001b[39m\u001b[38;5;241m.\u001b[39mconv2(out)\n",
      "File \u001b[0;32m~/.conda/envs/sagi_base/lib/python3.10/site-packages/torch/nn/modules/module.py:1194\u001b[0m, in \u001b[0;36mModule._call_impl\u001b[0;34m(self, *input, **kwargs)\u001b[0m\n\u001b[1;32m   1190\u001b[0m \u001b[38;5;66;03m# If we don't have any hooks, we want to skip the rest of the logic in\u001b[39;00m\n\u001b[1;32m   1191\u001b[0m \u001b[38;5;66;03m# this function, and just call forward.\u001b[39;00m\n\u001b[1;32m   1192\u001b[0m \u001b[38;5;28;01mif\u001b[39;00m \u001b[38;5;129;01mnot\u001b[39;00m (\u001b[38;5;28mself\u001b[39m\u001b[38;5;241m.\u001b[39m_backward_hooks \u001b[38;5;129;01mor\u001b[39;00m \u001b[38;5;28mself\u001b[39m\u001b[38;5;241m.\u001b[39m_forward_hooks \u001b[38;5;129;01mor\u001b[39;00m \u001b[38;5;28mself\u001b[39m\u001b[38;5;241m.\u001b[39m_forward_pre_hooks \u001b[38;5;129;01mor\u001b[39;00m _global_backward_hooks\n\u001b[1;32m   1193\u001b[0m         \u001b[38;5;129;01mor\u001b[39;00m _global_forward_hooks \u001b[38;5;129;01mor\u001b[39;00m _global_forward_pre_hooks):\n\u001b[0;32m-> 1194\u001b[0m     \u001b[38;5;28;01mreturn\u001b[39;00m \u001b[43mforward_call\u001b[49m\u001b[43m(\u001b[49m\u001b[38;5;241;43m*\u001b[39;49m\u001b[38;5;28;43minput\u001b[39;49m\u001b[43m,\u001b[49m\u001b[43m \u001b[49m\u001b[38;5;241;43m*\u001b[39;49m\u001b[38;5;241;43m*\u001b[39;49m\u001b[43mkwargs\u001b[49m\u001b[43m)\u001b[49m\n\u001b[1;32m   1195\u001b[0m \u001b[38;5;66;03m# Do not call functions when jit is used\u001b[39;00m\n\u001b[1;32m   1196\u001b[0m full_backward_hooks, non_full_backward_hooks \u001b[38;5;241m=\u001b[39m [], []\n",
      "File \u001b[0;32m~/.conda/envs/sagi_base/lib/python3.10/site-packages/torch/nn/modules/batchnorm.py:171\u001b[0m, in \u001b[0;36m_BatchNorm.forward\u001b[0;34m(self, input)\u001b[0m\n\u001b[1;32m    164\u001b[0m     bn_training \u001b[38;5;241m=\u001b[39m (\u001b[38;5;28mself\u001b[39m\u001b[38;5;241m.\u001b[39mrunning_mean \u001b[38;5;129;01mis\u001b[39;00m \u001b[38;5;28;01mNone\u001b[39;00m) \u001b[38;5;129;01mand\u001b[39;00m (\u001b[38;5;28mself\u001b[39m\u001b[38;5;241m.\u001b[39mrunning_var \u001b[38;5;129;01mis\u001b[39;00m \u001b[38;5;28;01mNone\u001b[39;00m)\n\u001b[1;32m    166\u001b[0m \u001b[38;5;124mr\u001b[39m\u001b[38;5;124;03m\"\"\"\u001b[39;00m\n\u001b[1;32m    167\u001b[0m \u001b[38;5;124;03mBuffers are only updated if they are to be tracked and we are in training mode. Thus they only need to be\u001b[39;00m\n\u001b[1;32m    168\u001b[0m \u001b[38;5;124;03mpassed when the update should occur (i.e. in training mode when they are tracked), or when buffer stats are\u001b[39;00m\n\u001b[1;32m    169\u001b[0m \u001b[38;5;124;03mused for normalization (i.e. in eval mode when buffers are not None).\u001b[39;00m\n\u001b[1;32m    170\u001b[0m \u001b[38;5;124;03m\"\"\"\u001b[39;00m\n\u001b[0;32m--> 171\u001b[0m \u001b[38;5;28;01mreturn\u001b[39;00m \u001b[43mF\u001b[49m\u001b[38;5;241;43m.\u001b[39;49m\u001b[43mbatch_norm\u001b[49m\u001b[43m(\u001b[49m\n\u001b[1;32m    172\u001b[0m \u001b[43m    \u001b[49m\u001b[38;5;28;43minput\u001b[39;49m\u001b[43m,\u001b[49m\n\u001b[1;32m    173\u001b[0m \u001b[43m    \u001b[49m\u001b[38;5;66;43;03m# If buffers are not to be tracked, ensure that they won't be updated\u001b[39;49;00m\n\u001b[1;32m    174\u001b[0m \u001b[43m    \u001b[49m\u001b[38;5;28;43mself\u001b[39;49m\u001b[38;5;241;43m.\u001b[39;49m\u001b[43mrunning_mean\u001b[49m\n\u001b[1;32m    175\u001b[0m \u001b[43m    \u001b[49m\u001b[38;5;28;43;01mif\u001b[39;49;00m\u001b[43m \u001b[49m\u001b[38;5;129;43;01mnot\u001b[39;49;00m\u001b[43m \u001b[49m\u001b[38;5;28;43mself\u001b[39;49m\u001b[38;5;241;43m.\u001b[39;49m\u001b[43mtraining\u001b[49m\u001b[43m \u001b[49m\u001b[38;5;129;43;01mor\u001b[39;49;00m\u001b[43m \u001b[49m\u001b[38;5;28;43mself\u001b[39;49m\u001b[38;5;241;43m.\u001b[39;49m\u001b[43mtrack_running_stats\u001b[49m\n\u001b[1;32m    176\u001b[0m \u001b[43m    \u001b[49m\u001b[38;5;28;43;01melse\u001b[39;49;00m\u001b[43m \u001b[49m\u001b[38;5;28;43;01mNone\u001b[39;49;00m\u001b[43m,\u001b[49m\n\u001b[1;32m    177\u001b[0m \u001b[43m    \u001b[49m\u001b[38;5;28;43mself\u001b[39;49m\u001b[38;5;241;43m.\u001b[39;49m\u001b[43mrunning_var\u001b[49m\u001b[43m \u001b[49m\u001b[38;5;28;43;01mif\u001b[39;49;00m\u001b[43m \u001b[49m\u001b[38;5;129;43;01mnot\u001b[39;49;00m\u001b[43m \u001b[49m\u001b[38;5;28;43mself\u001b[39;49m\u001b[38;5;241;43m.\u001b[39;49m\u001b[43mtraining\u001b[49m\u001b[43m \u001b[49m\u001b[38;5;129;43;01mor\u001b[39;49;00m\u001b[43m \u001b[49m\u001b[38;5;28;43mself\u001b[39;49m\u001b[38;5;241;43m.\u001b[39;49m\u001b[43mtrack_running_stats\u001b[49m\u001b[43m \u001b[49m\u001b[38;5;28;43;01melse\u001b[39;49;00m\u001b[43m \u001b[49m\u001b[38;5;28;43;01mNone\u001b[39;49;00m\u001b[43m,\u001b[49m\n\u001b[1;32m    178\u001b[0m \u001b[43m    \u001b[49m\u001b[38;5;28;43mself\u001b[39;49m\u001b[38;5;241;43m.\u001b[39;49m\u001b[43mweight\u001b[49m\u001b[43m,\u001b[49m\n\u001b[1;32m    179\u001b[0m \u001b[43m    \u001b[49m\u001b[38;5;28;43mself\u001b[39;49m\u001b[38;5;241;43m.\u001b[39;49m\u001b[43mbias\u001b[49m\u001b[43m,\u001b[49m\n\u001b[1;32m    180\u001b[0m \u001b[43m    \u001b[49m\u001b[43mbn_training\u001b[49m\u001b[43m,\u001b[49m\n\u001b[1;32m    181\u001b[0m \u001b[43m    \u001b[49m\u001b[43mexponential_average_factor\u001b[49m\u001b[43m,\u001b[49m\n\u001b[1;32m    182\u001b[0m \u001b[43m    \u001b[49m\u001b[38;5;28;43mself\u001b[39;49m\u001b[38;5;241;43m.\u001b[39;49m\u001b[43meps\u001b[49m\u001b[43m,\u001b[49m\n\u001b[1;32m    183\u001b[0m \u001b[43m\u001b[49m\u001b[43m)\u001b[49m\n",
      "File \u001b[0;32m~/.conda/envs/sagi_base/lib/python3.10/site-packages/torch/nn/functional.py:2450\u001b[0m, in \u001b[0;36mbatch_norm\u001b[0;34m(input, running_mean, running_var, weight, bias, training, momentum, eps)\u001b[0m\n\u001b[1;32m   2447\u001b[0m \u001b[38;5;28;01mif\u001b[39;00m training:\n\u001b[1;32m   2448\u001b[0m     _verify_batch_size(\u001b[38;5;28minput\u001b[39m\u001b[38;5;241m.\u001b[39msize())\n\u001b[0;32m-> 2450\u001b[0m \u001b[38;5;28;01mreturn\u001b[39;00m \u001b[43mtorch\u001b[49m\u001b[38;5;241;43m.\u001b[39;49m\u001b[43mbatch_norm\u001b[49m\u001b[43m(\u001b[49m\n\u001b[1;32m   2451\u001b[0m \u001b[43m    \u001b[49m\u001b[38;5;28;43minput\u001b[39;49m\u001b[43m,\u001b[49m\u001b[43m \u001b[49m\u001b[43mweight\u001b[49m\u001b[43m,\u001b[49m\u001b[43m \u001b[49m\u001b[43mbias\u001b[49m\u001b[43m,\u001b[49m\u001b[43m \u001b[49m\u001b[43mrunning_mean\u001b[49m\u001b[43m,\u001b[49m\u001b[43m \u001b[49m\u001b[43mrunning_var\u001b[49m\u001b[43m,\u001b[49m\u001b[43m \u001b[49m\u001b[43mtraining\u001b[49m\u001b[43m,\u001b[49m\u001b[43m \u001b[49m\u001b[43mmomentum\u001b[49m\u001b[43m,\u001b[49m\u001b[43m \u001b[49m\u001b[43meps\u001b[49m\u001b[43m,\u001b[49m\u001b[43m \u001b[49m\u001b[43mtorch\u001b[49m\u001b[38;5;241;43m.\u001b[39;49m\u001b[43mbackends\u001b[49m\u001b[38;5;241;43m.\u001b[39;49m\u001b[43mcudnn\u001b[49m\u001b[38;5;241;43m.\u001b[39;49m\u001b[43menabled\u001b[49m\n\u001b[1;32m   2452\u001b[0m \u001b[43m\u001b[49m\u001b[43m)\u001b[49m\n",
      "\u001b[0;31mKeyboardInterrupt\u001b[0m: "
     ]
    }
   ],
   "source": [
    "num_stations = 138\n",
    "net = ClassificationResNet(input_shape,num_stations,11).to(device)\n",
    "\n",
    "optimizer = torch.optim.Adam(net.parameters(), lr=2e-3) \n",
    "\n",
    "class_weights = torch.tensor([0,1,1,1,1,1,1,1,1,1,1.]).to(device)\n",
    "\n",
    "criterion = nn.CrossEntropyLoss(reduction = 'none',weight=class_weights)\n",
    "\n",
    "scheduler = ReduceLROnPlateau(optimizer, mode='max', factor=0.5, patience=5, verbose=True)\n",
    "\n",
    "smallest_event_level = 9\n",
    "#stations_weights\n",
    "w = torch.ones(num_stations).to(device)\n",
    "\n",
    "\n",
    "train_running_loss = []\n",
    "validation_running_loss = []\n",
    "train_f1_scores = []\n",
    "valid_f1_scores = []\n",
    "\n",
    "labels_to_use = [1,2,3,4,5,6,7,8,9,10]\n",
    "\n",
    "num_epochs = 100\n",
    "for epoch in range(num_epochs):\n",
    "    net.train() \n",
    "    running_loss = 0.0\n",
    "    y_true_train = []\n",
    "    y_pred_train = []\n",
    "\n",
    "    for i, data in tqdm(enumerate(trainloader, 0)):\n",
    "        inputs, labels = data[0].to(device), data[1].to(device)\n",
    "\n",
    "        optimizer.zero_grad()\n",
    "\n",
    "#         ordinal_labels = convert_to_ordinal_labels(labels, num_classes=12).to(device)\n",
    "\n",
    "        outputs = net(inputs)\n",
    "        labels = labels.type(torch.LongTensor).to(device)\n",
    "        loss = ((criterion(outputs, labels) * (labels>0) * w).mean(0)).mean()\n",
    "        loss.backward()\n",
    "\n",
    "        optimizer.step()\n",
    "        running_loss += loss.item()\n",
    "        \n",
    "        predicted = torch.argmax(outputs, dim=1)\n",
    "        y_true_train.extend(labels.cpu().numpy())\n",
    "        y_pred_train.extend(predicted.cpu().numpy())\n",
    "        \n",
    "        \n",
    "    train_loss = running_loss / len(trainloader)\n",
    "    train_running_loss.append(train_loss)\n",
    "            \n",
    "\n",
    "    # Reshape the tensors to merge batch and class dimensions\n",
    "    predictions_train = np.concatenate(y_pred_train).reshape(-1, num_stations).flatten()\n",
    "    ground_truth_train = np.concatenate(y_true_train).reshape(-1, num_stations).flatten()\n",
    "    \n",
    "    acc, prc, rcl, prcrcl_ratio, prcrcl_avg, csi = get_metrics_binar(ground_truth_train,predictions_train,labels=[1,2],smallest_event_level=smallest_event_level)\n",
    "\n",
    "    train_f1_scores.append(csi)\n",
    "\n",
    "    # Validation loop\n",
    "    net.eval()  # Set the model to evaluation mode\n",
    "    y_true_valid = []\n",
    "    y_pred_valid = []\n",
    "\n",
    "    with torch.no_grad():\n",
    "        for i, data in enumerate(validationloader, 0):\n",
    "            inputs, labels =data[0].to(device), data[1].to(device)\n",
    "            outputs = net(inputs)\n",
    "            outputs = torch.argmax(outputs, dim=1)\n",
    "            y_true_valid.extend(labels.cpu().numpy())\n",
    "            y_pred_valid.extend(outputs.cpu().numpy())\n",
    "    \n",
    "    # Concatenate predictions and labels along batch dimension\n",
    "    predictions_valid = np.concatenate(y_pred_valid).reshape(-1, num_stations).flatten()\n",
    "    ground_truth_valid = np.concatenate(y_true_valid).reshape(-1, num_stations).flatten()\n",
    "\n",
    "    acc_test, prc_test, rcl_test, prcrcl_ratio_test, prcrcl_avg_test, csi_test = get_metrics_binar(ground_truth_valid,predictions_valid,labels=[1,2],smallest_event_level=smallest_event_level)\n",
    "\n",
    "    valid_loss = running_loss / len(validationloader)\n",
    "    validation_running_loss.append(valid_loss)\n",
    "    # Calculate the average validation loss for this epoch\n",
    "    valid_f1_scores.append(csi_test)\n",
    "    scheduler.step(prc_test)\n",
    "\n",
    "    num_classes = len(labels_to_use)\n",
    "\n",
    "\n",
    "#     class_labels = [f'Class {i+1}' for i in range(num_classes)]\n",
    "\n",
    "\n",
    "    f_string_template = f'''Epoch [{epoch+1}/{num_epochs}] - \n",
    "              Train Loss: {train_loss:.4f},   Valid Loss: {valid_loss:.4f} \\n'''\n",
    "    \n",
    "    train_string = f' Train acc {acc:.3f}, Train percision {prc:.3f}, train recall {rcl:.3f}'\n",
    "    test_string = f' Validation acc {acc_test:.3f}, Validation percision {prc_test:.3f}, Validation recall {rcl_test:.3f}'\n",
    "    \n",
    "    print(f_string_template + '\\n' + train_string  + '\\n' + test_string)\n",
    "  \n",
    "    \n",
    "\n",
    "#     for i in range(num_classes):\n",
    "#         f_string_template += f'''\n",
    "#               Train F1: {class_labels[i]} - {fscore_classes[i]:.4f}, Validation F1: {class_labels[i]}: {fscore_valid_classes[i]:.4f}\n",
    "#               Train Precision: {class_labels[i]}: {precision1[i]:.4f}, Valid Precision: {class_labels[i]}: {precision2[i]:.4f}\n",
    "#               Train Recall: {class_labels[i]}: {recall1[i]:.4f}, Valid Recall: {class_labels[i]}: {recall2[i]:.4f}\n",
    "#         '''\n",
    "\n",
    "    \n",
    "\n",
    "print('Training Done')\n",
    "# torch.save(net.state_dict(),\"/home/labs/rudich/sagima/station_vs_satellite/model_10_levels.pth\")"
   ]
  },
  {
   "cell_type": "code",
   "execution_count": 108,
   "id": "0995498b",
   "metadata": {},
   "outputs": [],
   "source": [
    "\n",
    "from sklearn.metrics import confusion_matrix\n",
    "    \n",
    "net.eval()\n",
    "all_predictions = []\n",
    "all_labels = []\n",
    "all_input = []\n",
    "with torch.no_grad():\n",
    "    for inputs, labels in testloader:\n",
    "        inputs, labels = inputs.to(device), labels.to(device)\n",
    "        outputs = net(inputs)\n",
    "        outputs = torch.argmax(outputs, dim=1)\n",
    "        all_predictions.append(outputs.cpu().numpy())\n",
    "        all_labels.append(labels.cpu().numpy())\n",
    "\n",
    "# Reshape the tensors to merge batch and class dimensions\n",
    "predictions_test = np.concatenate(all_predictions).reshape(-1, num_stations).flatten()\n",
    "ground_truth_test = np.concatenate(all_labels).reshape(-1, num_stations).flatten()\n"
   ]
  },
  {
   "cell_type": "code",
   "execution_count": 150,
   "id": "b55ea977",
   "metadata": {},
   "outputs": [
    {
     "data": {
      "text/plain": [
       "(638940,)"
      ]
     },
     "execution_count": 150,
     "metadata": {},
     "output_type": "execute_result"
    }
   ],
   "source": [
    "ground_truth_test.shape"
   ]
  },
  {
   "cell_type": "code",
   "execution_count": 109,
   "id": "0a582a54",
   "metadata": {},
   "outputs": [
    {
     "name": "stdout",
     "output_type": "stream",
     "text": [
      " Test acc 0.881, Test precision 0.693, Test recall 0.750\n"
     ]
    }
   ],
   "source": [
    "acc_test, prc_test, rcl_test, prcrcl_ratio_test, prcrcl_avg_test, csi_test = get_metrics_binar(ground_truth_test,predictions_test,labels=[1,2],smallest_event_level=smallest_event_level)\n",
    "print(f' Test acc {acc_test:.3f}, Test precision {prc_test:.3f}, Test recall {rcl_test:.3f}')\n",
    "    "
   ]
  },
  {
   "cell_type": "markdown",
   "id": "6e83b005",
   "metadata": {},
   "source": [
    "# Classification"
   ]
  },
  {
   "cell_type": "code",
   "execution_count": 30,
   "id": "a3758a8c",
   "metadata": {
    "ExecuteTime": {
     "end_time": "2023-07-30T11:28:34.057783Z",
     "start_time": "2023-07-30T11:28:34.048457Z"
    }
   },
   "outputs": [],
   "source": [
    "\n",
    "\n",
    "    \n",
    "class CustomDataset(Dataset):\n",
    "    def __init__(self, tensor_input, dataframe_target,label_tensor):\n",
    "        self.tensor_input = tensor_input\n",
    "        self.dataframe_target = dataframe_target\n",
    "        self.label_tensor = label_tensor\n",
    "\n",
    "    def __len__(self):\n",
    "        return self.tensor_input.shape[0]  # Number of samples\n",
    "\n",
    "    def __getitem__(self, index,time_to_predict=24,lookback_num=8):\n",
    "        \n",
    "        # Check the condition for the current index\n",
    "        if index >= lookback_num: \n",
    "            a = filtered_target_dataframe.loc[index-lookback_num:index-2,'time'].values\n",
    "            t = np.append(a,filtered_target_dataframe.loc[index-1,'time'].to_numpy())\n",
    "            if check_timestamps(t[::-1]):\n",
    "                c = np.arange(index-lookback_num,index+1)\n",
    "                input_data = self.tensor_input[c,:,:,:]\n",
    "                input_data = input_data.view(len(c),input_data.shape[2], input_data.shape[3])\n",
    "\n",
    "        if index < lookback_num or not check_timestamps(t[::-1]):\n",
    "            input_data = torch.full((1,1),-999) #error indicator\n",
    "\n",
    "\n",
    "        \n",
    "        #handling Target data\n",
    "        \n",
    "        X_timestamp = self.dataframe_target.loc[index,'time']\n",
    "        target_timestamp = X_timestamp + pd.DateOffset(hours=time_to_predict)\n",
    "        matching_row = self.dataframe_target[self.dataframe_target['time'] == target_timestamp]\n",
    "\n",
    "        if len(matching_row) > 0:\n",
    "\n",
    "            matching_row = matching_row.index.values[0]\n",
    "            target_data = self.label_tensor[matching_row]\n",
    "#             print(f' if_point {target_data.shape}')\n",
    "            \n",
    "        else:\n",
    "#             print(f' X timestamp {X_timestamp}, no corresponding futuretimestamp')\n",
    "            target_data = torch.full((1,self.label_tensor.shape[1]), 0)[0]\n",
    "#             print(f'else_point {target_data.shape}')\n",
    "        \n",
    "        time = filtered_target_dataframe.loc[index,'time']\n",
    "        return input_data, target_data, time\n",
    "\n",
    "\n",
    "class SequentialDataset(Dataset):\n",
    "    def __init__(self, data):\n",
    "        self.data = data\n",
    "    \n",
    "    def __getitem__(self, index):\n",
    "        X, y = self.data[index]\n",
    "        return X, y\n",
    "\n",
    "    def __len__(self):\n",
    "        return len(self.data)\n",
    "    \n",
    "    \n",
    "    \n",
    "device = torch.device('cuda:0' if torch.cuda.is_available() else 'cpu')"
   ]
  },
  {
   "cell_type": "code",
   "execution_count": 427,
   "id": "414852d5",
   "metadata": {
    "ExecuteTime": {
     "end_time": "2023-07-30T11:28:35.301311Z",
     "start_time": "2023-07-30T11:28:35.297169Z"
    }
   },
   "outputs": [],
   "source": [
    "def split_dataset_by_size(dataset, train_percentage, validation_percentage, test_percentage):\n",
    "    total_size = len(dataset)\n",
    "    \n",
    "    train_size = int(total_size * train_percentage)\n",
    "    validation_size = int(total_size * validation_percentage)\n",
    "    test_size = total_size - train_size - validation_size\n",
    "\n",
    "    train_set = dataset[:train_size]\n",
    "    validation_set = dataset[train_size:train_size + validation_size]\n",
    "    test_set = dataset[train_size + validation_size:]\n",
    "\n",
    "    return train_set, validation_set, test_set"
   ]
  },
  {
   "cell_type": "code",
   "execution_count": 93,
   "id": "b730006c",
   "metadata": {
    "ExecuteTime": {
     "end_time": "2023-08-07T09:42:15.044876Z",
     "start_time": "2023-08-07T09:41:47.457060Z"
    }
   },
   "outputs": [
    {
     "name": "stdout",
     "output_type": "stream",
     "text": [
      " len of train 16665, len of validation 1852, len of test 4630\n",
      " total inputs = 23147\n"
     ]
    }
   ],
   "source": [
    "df = greecee_stations_classification.drop('time',axis=1)\n",
    "rows_to_keep = df.loc[(df != 0).any(axis=1)].index\n",
    "\n",
    "# Filter tensor input and target dataframe\n",
    "filtered_input_tensor = tensor[rows_to_keep][:,:1,:,:]\n",
    "\n",
    "filtered_target_dataframe = (greecee_stations_classification.loc[rows_to_keep]\n",
    "                             .pipe(lambda d:d.assign(time = pd.to_datetime(d.time)))\n",
    "                             .reset_index(drop=True)\n",
    "                            )\n",
    "\n",
    "label_tensor = torch.tensor(filtered_target_dataframe.drop('time',axis=1).values, dtype=torch.float32)\n",
    "\n",
    "original_dataset = CustomDataset(filtered_input_tensor,filtered_target_dataframe,label_tensor)\n",
    "\n",
    "\n",
    "filtered_data_X_y = []\n",
    "filtered_data_time = []\n",
    "\n",
    "# Filter and split the data\n",
    "for X, y, time in original_dataset:\n",
    "    if (not torch.all(X.eq(-999))) & (not torch.all(y.eq(0))):\n",
    "        filtered_data_X_y.append((X, y))\n",
    "        filtered_data_time.append(time)\n",
    "new_dataset =  SequentialDataset(filtered_data_X_y)\n",
    "# train_dataset, validation_dataset, test_dataset = split_dataset_by_size(filtered_data_X_y, train_percentage=0.7, validation_percentage=0.1, test_percentage=0.2)\n",
    "# train_dataset, validation_dataset, test_dataset = SequentialDataset(train_dataset), SequentialDataset(validation_dataset), SequentialDataset(test_dataset)\n",
    "train_dataset, test_dataset = train_test_split(new_dataset, test_size=0.2, random_state=42)\n",
    "train_dataset, validation_dataset = train_test_split(train_dataset, test_size=0.1, random_state=42)\n",
    "print(f' len of train {len(train_dataset)}, len of validation {len(validation_dataset)}, len of test {len(test_dataset)}')\n",
    "print(f' total inputs = {len(train_dataset) +len(validation_dataset) + len(test_dataset) }')\n",
    "\n",
    "# # Create data loaders\n",
    "batch_size = 32  # Set your desired batch size\n",
    "trainloader = DataLoader(train_dataset, batch_size=batch_size, shuffle=True)\n",
    "validationloader = DataLoader(validation_dataset, batch_size=batch_size, shuffle=False)\n",
    "testloader = DataLoader(test_dataset, batch_size=batch_size, shuffle=False)\n",
    "\n",
    "\n",
    "#Trying Weighted Sampling :\n",
    "\n",
    "\n",
    "\n",
    "# Print a few batches from the train loader\n",
    "# print(\"Train Loader:\")\n",
    "# for batch_idx, (images, labels) in enumerate(trainloader):\n",
    "#     print(f\"Batch {batch_idx}:\")\n",
    "#     print(\"Images shape:\", images.shape)\n",
    "#     print(\"Labels shape:\", labels.shape)\n",
    "#     print()\n",
    "\n",
    "# # Print a few batches from the test loader\n",
    "# print(\"Test Loader:\")\n",
    "# for batch_idx, (images, labels) in enumerate(testloader):\n",
    "#     print(f\"Batch {batch_idx}:\")\n",
    "#     print(\"Images shape:\", images.shape)\n",
    "#     print(\"Labels shape:\", labels.shape)\n",
    "#     print()"
   ]
  },
  {
   "cell_type": "code",
   "execution_count": 94,
   "id": "bddc8b17",
   "metadata": {
    "ExecuteTime": {
     "end_time": "2023-08-07T09:42:15.265374Z",
     "start_time": "2023-08-07T09:42:15.049984Z"
    }
   },
   "outputs": [],
   "source": [
    "from torch.utils.data import DataLoader, WeightedRandomSampler\n",
    "\n",
    "stacked_series = filtered_target_dataframe.drop('time', axis=1).stack()\n",
    "\n",
    "# Perform the value count on the entire DataFrame\n",
    "value_counts_df = stacked_series.value_counts()\n",
    "class_weights = 1.0 / torch.tensor(value_counts_df, dtype=torch.float32)\n",
    "total_samples = value_counts_df.values.sum()\n",
    "\n",
    "weight_class_0 = 0.01  # Very low weight for class 0\n",
    "weight_class_1 = total_samples / (2 * value_counts_df.values.tolist()[1])  # Normal weight for class 1\n",
    "weight_class_2 = total_samples / (2 * value_counts_df.values.tolist()[2])\n",
    "\n",
    "\n",
    "\n",
    "class_weights = torch.tensor([weight_class_0, weight_class_1, weight_class_2], dtype=torch.float32)\n",
    "\n",
    "train_targets = torch.cat([y.unsqueeze(0) for _, y in train_dataset], dim=0)\n",
    "has_class_2 = torch.any(train_targets == 2, dim=1).float()\n",
    "has_class_2_bool = has_class_2 > 0.5\n",
    "\n",
    "sample_weights = torch.where(has_class_2_bool, torch.tensor(weight_class_2), torch.tensor(weight_class_0))\n",
    "\n",
    "# Convert sample_weights to a numpy array for WeightedRandomSampler\n",
    "sample_weights = sample_weights.numpy()\n",
    "batch_size = 32\n",
    "# Create data loaders with the weighted random sampler\n",
    "trainloader = DataLoader(train_dataset, batch_size=batch_size, sampler=WeightedRandomSampler(sample_weights, len(sample_weights)), drop_last=True)\n",
    "validationloader = DataLoader(validation_dataset, batch_size=batch_size, shuffle=False)\n",
    "testloader = DataLoader(test_dataset, batch_size=batch_size, shuffle=False)\n",
    "\n"
   ]
  },
  {
   "cell_type": "code",
   "execution_count": 34,
   "id": "77810a7a",
   "metadata": {
    "ExecuteTime": {
     "end_time": "2023-07-30T11:29:13.608304Z",
     "start_time": "2023-07-30T11:29:13.374862Z"
    },
    "scrolled": true
   },
   "outputs": [
    {
     "name": "stdout",
     "output_type": "stream",
     "text": [
      "----------------------------------------------------------------\n",
      "        Layer (type)               Output Shape         Param #\n",
      "================================================================\n",
      "            Conv2d-1           [-1, 64, 18, 19]          28,224\n",
      "       BatchNorm2d-2           [-1, 64, 18, 19]             128\n",
      "              ReLU-3           [-1, 64, 18, 19]               0\n",
      "         MaxPool2d-4            [-1, 64, 9, 10]               0\n",
      "          Identity-5            [-1, 64, 9, 10]               0\n",
      "            Conv2d-6            [-1, 64, 9, 10]          36,864\n",
      "       BatchNorm2d-7            [-1, 64, 9, 10]             128\n",
      "              ReLU-8            [-1, 64, 9, 10]               0\n",
      "            Conv2d-9            [-1, 64, 9, 10]          36,864\n",
      "      BatchNorm2d-10            [-1, 64, 9, 10]             128\n",
      "             ReLU-11            [-1, 64, 9, 10]               0\n",
      "    ResidualBlock-12            [-1, 64, 9, 10]               0\n",
      "           Conv2d-13            [-1, 128, 5, 5]           8,192\n",
      "      BatchNorm2d-14            [-1, 128, 5, 5]             256\n",
      "           Conv2d-15            [-1, 128, 5, 5]          73,728\n",
      "      BatchNorm2d-16            [-1, 128, 5, 5]             256\n",
      "             ReLU-17            [-1, 128, 5, 5]               0\n",
      "           Conv2d-18            [-1, 128, 5, 5]         147,456\n",
      "      BatchNorm2d-19            [-1, 128, 5, 5]             256\n",
      "             ReLU-20            [-1, 128, 5, 5]               0\n",
      "    ResidualBlock-21            [-1, 128, 5, 5]               0\n",
      "         Identity-22            [-1, 128, 5, 5]               0\n",
      "           Conv2d-23            [-1, 128, 5, 5]         147,456\n",
      "      BatchNorm2d-24            [-1, 128, 5, 5]             256\n",
      "             ReLU-25            [-1, 128, 5, 5]               0\n",
      "           Conv2d-26            [-1, 128, 5, 5]         147,456\n",
      "      BatchNorm2d-27            [-1, 128, 5, 5]             256\n",
      "             ReLU-28            [-1, 128, 5, 5]               0\n",
      "    ResidualBlock-29            [-1, 128, 5, 5]               0\n",
      "           Conv2d-30            [-1, 256, 3, 3]          32,768\n",
      "      BatchNorm2d-31            [-1, 256, 3, 3]             512\n",
      "           Conv2d-32            [-1, 256, 3, 3]         294,912\n",
      "      BatchNorm2d-33            [-1, 256, 3, 3]             512\n",
      "             ReLU-34            [-1, 256, 3, 3]               0\n",
      "           Conv2d-35            [-1, 256, 3, 3]         589,824\n",
      "      BatchNorm2d-36            [-1, 256, 3, 3]             512\n",
      "             ReLU-37            [-1, 256, 3, 3]               0\n",
      "    ResidualBlock-38            [-1, 256, 3, 3]               0\n",
      "         Identity-39            [-1, 256, 3, 3]               0\n",
      "           Conv2d-40            [-1, 256, 3, 3]         589,824\n",
      "      BatchNorm2d-41            [-1, 256, 3, 3]             512\n",
      "             ReLU-42            [-1, 256, 3, 3]               0\n",
      "           Conv2d-43            [-1, 256, 3, 3]         589,824\n",
      "      BatchNorm2d-44            [-1, 256, 3, 3]             512\n",
      "             ReLU-45            [-1, 256, 3, 3]               0\n",
      "    ResidualBlock-46            [-1, 256, 3, 3]               0\n",
      "           Conv2d-47            [-1, 512, 2, 2]         131,072\n",
      "      BatchNorm2d-48            [-1, 512, 2, 2]           1,024\n",
      "           Conv2d-49            [-1, 512, 2, 2]       1,179,648\n",
      "      BatchNorm2d-50            [-1, 512, 2, 2]           1,024\n",
      "             ReLU-51            [-1, 512, 2, 2]               0\n",
      "           Conv2d-52            [-1, 512, 2, 2]       2,359,296\n",
      "      BatchNorm2d-53            [-1, 512, 2, 2]           1,024\n",
      "             ReLU-54            [-1, 512, 2, 2]               0\n",
      "    ResidualBlock-55            [-1, 512, 2, 2]               0\n",
      "         Identity-56            [-1, 512, 2, 2]               0\n",
      "           Conv2d-57            [-1, 512, 2, 2]       2,359,296\n",
      "      BatchNorm2d-58            [-1, 512, 2, 2]           1,024\n",
      "             ReLU-59            [-1, 512, 2, 2]               0\n",
      "           Conv2d-60            [-1, 512, 2, 2]       2,359,296\n",
      "      BatchNorm2d-61            [-1, 512, 2, 2]           1,024\n",
      "             ReLU-62            [-1, 512, 2, 2]               0\n",
      "    ResidualBlock-63            [-1, 512, 2, 2]               0\n",
      "AdaptiveAvgPool2d-64            [-1, 512, 1, 1]               0\n",
      "           Linear-65                  [-1, 480]         246,240\n",
      "             ReLU-66                  [-1, 480]               0\n",
      "           Linear-67                  [-1, 460]         221,260\n",
      "             ReLU-68                  [-1, 460]               0\n",
      "           Linear-69                  [-1, 414]         190,854\n",
      "ClassificationResNet-70               [-1, 3, 138]               0\n",
      "================================================================\n",
      "Total params: 11,779,698\n",
      "Trainable params: 11,779,698\n",
      "Non-trainable params: 0\n",
      "----------------------------------------------------------------\n",
      "Input size (MB): 0.04\n",
      "Forward/backward pass size (MB): 1.90\n",
      "Params size (MB): 44.94\n",
      "Estimated Total Size (MB): 46.88\n",
      "----------------------------------------------------------------\n",
      "\n"
     ]
    },
    {
     "data": {
      "text/plain": [
       "(tensor(11779698), tensor(11779698))"
      ]
     },
     "execution_count": 34,
     "metadata": {},
     "output_type": "execute_result"
    }
   ],
   "source": [
    "class ResidualBlock(nn.Module):\n",
    "    def __init__(self, in_channels, out_channels, stride=1):\n",
    "        super(ResidualBlock, self).__init__()\n",
    "\n",
    "        self.conv1 = nn.Conv2d(in_channels, out_channels, kernel_size=3, stride=stride, padding=1, bias=False)\n",
    "        self.bn1 = nn.BatchNorm2d(out_channels)\n",
    "        self.relu = nn.ReLU(inplace=True)\n",
    "        self.conv2 = nn.Conv2d(out_channels, out_channels, kernel_size=3, stride=1, padding=1, bias=False)\n",
    "        self.bn2 = nn.BatchNorm2d(out_channels)\n",
    "\n",
    "        if stride != 1 or in_channels != out_channels:\n",
    "            self.shortcut = nn.Sequential(\n",
    "                nn.Conv2d(in_channels, out_channels, kernel_size=1, stride=stride, bias=False),\n",
    "                nn.BatchNorm2d(out_channels)\n",
    "            )\n",
    "        else:\n",
    "            self.shortcut = nn.Identity()\n",
    "\n",
    "    def forward(self, x):\n",
    "        identity = self.shortcut(x)\n",
    "\n",
    "        out = self.conv1(x)\n",
    "        out = self.bn1(out)\n",
    "        out = self.relu(out)\n",
    "\n",
    "        out = self.conv2(out)\n",
    "        out = self.bn2(out)\n",
    "\n",
    "        out += identity\n",
    "        out = self.relu(out)\n",
    "\n",
    "        return out\n",
    "\n",
    "# Define the Regression ResNet model\n",
    "class ClassificationResNet(nn.Module):\n",
    "    def __init__(self, input_shape, num_classes, num_stations):\n",
    "        super(ClassificationResNet, self).__init__()\n",
    "\n",
    "        channel, lat_index, lon_index = input_shape\n",
    "\n",
    "        self.conv1 = nn.Conv2d(channel, 64, kernel_size=7, stride=2, padding=3, bias=False)\n",
    "        self.bn1 = nn.BatchNorm2d(64)\n",
    "        self.relu = nn.ReLU(inplace=True)\n",
    "        self.maxpool = nn.MaxPool2d(kernel_size=3, stride=2, padding=1)\n",
    "\n",
    "        self.stage1 = self.make_stage(64, 64, num_blocks=1, stride=1)\n",
    "        self.stage2 = self.make_stage(64, 128, num_blocks=2, stride=2)\n",
    "        self.stage3 = self.make_stage(128, 256, num_blocks=2, stride=2)\n",
    "        self.stage4 = self.make_stage(256, 512, num_blocks=2, stride=2)\n",
    "\n",
    "        self.avgpool = nn.AdaptiveAvgPool2d((1, 1))\n",
    "        self.fc1 = nn.Linear(512, 480)\n",
    "        self.dropout1 = nn.Dropout(0.5)\n",
    "        self.fc2 = nn.Linear(480, 460)\n",
    "        self.fc3 = nn.Linear(460, num_stations * num_classes)\n",
    "        self.num_stations = num_stations\n",
    "        self.num_classes = num_classes\n",
    "\n",
    "    def make_stage(self, in_channels, out_channels, num_blocks, stride):\n",
    "        layers = []\n",
    "        layers.append(ResidualBlock(in_channels, out_channels, stride=stride))\n",
    "        for _ in range(1, num_blocks):\n",
    "            layers.append(ResidualBlock(out_channels, out_channels))\n",
    "\n",
    "        return nn.Sequential(*layers)\n",
    "\n",
    "    def forward(self, x):\n",
    "        out = self.conv1(x)\n",
    "        out = self.bn1(out)\n",
    "        out = self.relu(out)\n",
    "        out = self.maxpool(out)\n",
    "        out = self.stage1(out)\n",
    "        out = self.stage2(out)\n",
    "        out = self.stage3(out)\n",
    "        out = self.stage4(out)\n",
    "        out = self.avgpool(out)\n",
    "        out = torch.flatten(out, 1)\n",
    "        out = self.fc1(out)\n",
    "        out = self.relu(out)\n",
    "        out = self.fc2(out)\n",
    "        out = self.relu(out)\n",
    "        out = self.fc3(out)\n",
    "        out = out.view(-1, self.num_classes, self.num_stations)\n",
    "        out = out.permute(0, 2, 1)\n",
    "        return out\n",
    "\n",
    "\n",
    "# Set the input shape and number of labels\n",
    "input_shape = (9, 35, 37) #channels 1+lookback number\n",
    "w = torch.ones(num_stations)\n",
    "\n",
    "# Create the regression ResNet model\n",
    "net = ClassificationResNet(input_shape,num_stations,3).to(device)\n",
    "from torchsummary import summary\n",
    "summary(net,input_shape)"
   ]
  },
  {
   "cell_type": "code",
   "execution_count": 18,
   "id": "9278a596",
   "metadata": {
    "ExecuteTime": {
     "end_time": "2023-07-25T06:52:44.717921Z",
     "start_time": "2023-07-25T06:52:44.712757Z"
    }
   },
   "outputs": [],
   "source": [
    "# def get_metrics_binar(o,p,labels=[1,2],smallest_event_level=None):\n",
    "#     if type(o)!=np.ndarray:\n",
    "#         o = o.detach().cpu().numpy()\n",
    "#         p =  p.detach().cpu().numpy()\n",
    "#     if smallest_event_level is not None:\n",
    "#         o[o>=smallest_event_level]=2\n",
    "#         p[p>=smallest_event_level]=2\n",
    "#     tn, fp, fn, tp = confusion_matrix(o,p,labels=labels).ravel()\n",
    "#     acc = (tp+tn)/(tp+fp+tn+fn)\n",
    "#     if tp+fp==0:\n",
    "#         prc = np.nan\n",
    "#     else:\n",
    "#         prc = tp/(tp+fp)\n",
    "#     if tp+fn==0:\n",
    "#         rcl = np.nan\n",
    "#     else:\n",
    "#         rcl = tp/(tp+fn)\n",
    "#     if rcl==np.nan or prc==np.nan or rcl==0:\n",
    "#         prcrcl_ratio = np.nan\n",
    "#         prcrcl_avg = np.nan\n",
    "#     else:\n",
    "#         prcrcl_ratio = prc/rcl\n",
    "#         prcrcl_avg = (prc+rcl)/2\n",
    "#     if tp+fp+fn==0:\n",
    "#         csi = np.nan\n",
    "#     else:\n",
    "#         csi = tp/(tp+fp+fn)\n",
    "\n",
    "#     return [acc, prc, rcl, prcrcl_ratio, prcrcl_avg, csi]       "
   ]
  },
  {
   "cell_type": "markdown",
   "id": "3a517888",
   "metadata": {},
   "source": [
    "## Validation Loop"
   ]
  },
  {
   "cell_type": "code",
   "execution_count": 35,
   "id": "43e89bfb",
   "metadata": {
    "ExecuteTime": {
     "end_time": "2023-07-30T11:29:17.174921Z",
     "start_time": "2023-07-30T11:29:13.610941Z"
    }
   },
   "outputs": [
    {
     "name": "stderr",
     "output_type": "stream",
     "text": [
      "131it [00:03, 39.92it/s]\n"
     ]
    },
    {
     "ename": "RuntimeError",
     "evalue": "CUDA error: CUBLAS_STATUS_EXECUTION_FAILED when calling `cublasSgemm( handle, opa, opb, m, n, k, &alpha, a, lda, b, ldb, &beta, c, ldc)`",
     "output_type": "error",
     "traceback": [
      "\u001b[0;31m---------------------------------------------------------------------------\u001b[0m",
      "\u001b[0;31mRuntimeError\u001b[0m                              Traceback (most recent call last)",
      "Cell \u001b[0;32mIn[35], line 32\u001b[0m\n\u001b[1;32m     30\u001b[0m labels \u001b[38;5;241m=\u001b[39m labels\u001b[38;5;241m.\u001b[39mtype(torch\u001b[38;5;241m.\u001b[39mLongTensor)\u001b[38;5;241m.\u001b[39mto(device)\n\u001b[1;32m     31\u001b[0m loss \u001b[38;5;241m=\u001b[39m ((criterion(outputs, labels) \u001b[38;5;241m*\u001b[39m (labels\u001b[38;5;241m>\u001b[39m\u001b[38;5;241m0\u001b[39m) \u001b[38;5;241m*\u001b[39m w)\u001b[38;5;241m.\u001b[39mmean(\u001b[38;5;241m0\u001b[39m))\u001b[38;5;241m.\u001b[39mmean()\n\u001b[0;32m---> 32\u001b[0m \u001b[43mloss\u001b[49m\u001b[38;5;241;43m.\u001b[39;49m\u001b[43mbackward\u001b[49m\u001b[43m(\u001b[49m\u001b[43m)\u001b[49m\n\u001b[1;32m     34\u001b[0m optimizer\u001b[38;5;241m.\u001b[39mstep()\n\u001b[1;32m     35\u001b[0m running_loss \u001b[38;5;241m+\u001b[39m\u001b[38;5;241m=\u001b[39m loss\u001b[38;5;241m.\u001b[39mitem()\n",
      "File \u001b[0;32m~/.conda/envs/sagi_base/lib/python3.10/site-packages/torch/_tensor.py:488\u001b[0m, in \u001b[0;36mTensor.backward\u001b[0;34m(self, gradient, retain_graph, create_graph, inputs)\u001b[0m\n\u001b[1;32m    478\u001b[0m \u001b[38;5;28;01mif\u001b[39;00m has_torch_function_unary(\u001b[38;5;28mself\u001b[39m):\n\u001b[1;32m    479\u001b[0m     \u001b[38;5;28;01mreturn\u001b[39;00m handle_torch_function(\n\u001b[1;32m    480\u001b[0m         Tensor\u001b[38;5;241m.\u001b[39mbackward,\n\u001b[1;32m    481\u001b[0m         (\u001b[38;5;28mself\u001b[39m,),\n\u001b[0;32m   (...)\u001b[0m\n\u001b[1;32m    486\u001b[0m         inputs\u001b[38;5;241m=\u001b[39minputs,\n\u001b[1;32m    487\u001b[0m     )\n\u001b[0;32m--> 488\u001b[0m \u001b[43mtorch\u001b[49m\u001b[38;5;241;43m.\u001b[39;49m\u001b[43mautograd\u001b[49m\u001b[38;5;241;43m.\u001b[39;49m\u001b[43mbackward\u001b[49m\u001b[43m(\u001b[49m\n\u001b[1;32m    489\u001b[0m \u001b[43m    \u001b[49m\u001b[38;5;28;43mself\u001b[39;49m\u001b[43m,\u001b[49m\u001b[43m \u001b[49m\u001b[43mgradient\u001b[49m\u001b[43m,\u001b[49m\u001b[43m \u001b[49m\u001b[43mretain_graph\u001b[49m\u001b[43m,\u001b[49m\u001b[43m \u001b[49m\u001b[43mcreate_graph\u001b[49m\u001b[43m,\u001b[49m\u001b[43m \u001b[49m\u001b[43minputs\u001b[49m\u001b[38;5;241;43m=\u001b[39;49m\u001b[43minputs\u001b[49m\n\u001b[1;32m    490\u001b[0m \u001b[43m\u001b[49m\u001b[43m)\u001b[49m\n",
      "File \u001b[0;32m~/.conda/envs/sagi_base/lib/python3.10/site-packages/torch/autograd/__init__.py:197\u001b[0m, in \u001b[0;36mbackward\u001b[0;34m(tensors, grad_tensors, retain_graph, create_graph, grad_variables, inputs)\u001b[0m\n\u001b[1;32m    192\u001b[0m     retain_graph \u001b[38;5;241m=\u001b[39m create_graph\n\u001b[1;32m    194\u001b[0m \u001b[38;5;66;03m# The reason we repeat same the comment below is that\u001b[39;00m\n\u001b[1;32m    195\u001b[0m \u001b[38;5;66;03m# some Python versions print out the first line of a multi-line function\u001b[39;00m\n\u001b[1;32m    196\u001b[0m \u001b[38;5;66;03m# calls in the traceback and some print out the last line\u001b[39;00m\n\u001b[0;32m--> 197\u001b[0m \u001b[43mVariable\u001b[49m\u001b[38;5;241;43m.\u001b[39;49m\u001b[43m_execution_engine\u001b[49m\u001b[38;5;241;43m.\u001b[39;49m\u001b[43mrun_backward\u001b[49m\u001b[43m(\u001b[49m\u001b[43m  \u001b[49m\u001b[38;5;66;43;03m# Calls into the C++ engine to run the backward pass\u001b[39;49;00m\n\u001b[1;32m    198\u001b[0m \u001b[43m    \u001b[49m\u001b[43mtensors\u001b[49m\u001b[43m,\u001b[49m\u001b[43m \u001b[49m\u001b[43mgrad_tensors_\u001b[49m\u001b[43m,\u001b[49m\u001b[43m \u001b[49m\u001b[43mretain_graph\u001b[49m\u001b[43m,\u001b[49m\u001b[43m \u001b[49m\u001b[43mcreate_graph\u001b[49m\u001b[43m,\u001b[49m\u001b[43m \u001b[49m\u001b[43minputs\u001b[49m\u001b[43m,\u001b[49m\n\u001b[1;32m    199\u001b[0m \u001b[43m    \u001b[49m\u001b[43mallow_unreachable\u001b[49m\u001b[38;5;241;43m=\u001b[39;49m\u001b[38;5;28;43;01mTrue\u001b[39;49;00m\u001b[43m,\u001b[49m\u001b[43m \u001b[49m\u001b[43maccumulate_grad\u001b[49m\u001b[38;5;241;43m=\u001b[39;49m\u001b[38;5;28;43;01mTrue\u001b[39;49;00m\u001b[43m)\u001b[49m\n",
      "\u001b[0;31mRuntimeError\u001b[0m: CUDA error: CUBLAS_STATUS_EXECUTION_FAILED when calling `cublasSgemm( handle, opa, opb, m, n, k, &alpha, a, lda, b, ldb, &beta, c, ldc)`"
     ]
    }
   ],
   "source": [
    "from sklearn.metrics import precision_recall_fscore_support\n",
    "from torch.optim.lr_scheduler import ReduceLROnPlateau\n",
    "optimizer = torch.optim.Adam(net.parameters(), lr=3e-4) #0.001\n",
    "\n",
    "class_weights = torch.tensor([0,1,3.]).to(device)\n",
    "criterion = nn.CrossEntropyLoss(reduction = 'none',weight=class_weights)\n",
    "# criterion = nn.CrossEntropyLoss(reduction = 'none')\n",
    "scheduler = ReduceLROnPlateau(optimizer, mode='max', factor=0.5, patience=5, verbose=True)\n",
    "\n",
    "#stations_weights\n",
    "w = torch.ones(num_stations).to(device)\n",
    "train_running_loss = []\n",
    "validation_running_loss = []\n",
    "train_f1_scores = []\n",
    "valid_f1_scores = []\n",
    "\n",
    "num_epochs = 100\n",
    "for epoch in range(num_epochs):\n",
    "    net.train() \n",
    "    running_loss = 0.0\n",
    "    y_true_train = []\n",
    "    y_pred_train = []\n",
    "\n",
    "    for i, data in tqdm(enumerate(trainloader, 0)):\n",
    "        inputs, labels = data[0].to(device), data[1].to(device)\n",
    "        optimizer.zero_grad()\n",
    "\n",
    "       \n",
    "        outputs = net(inputs)\n",
    "        labels = labels.type(torch.LongTensor).to(device)\n",
    "        loss = ((criterion(outputs, labels) * (labels>0) * w).mean(0)).mean()\n",
    "        loss.backward()\n",
    "\n",
    "        optimizer.step()\n",
    "        running_loss += loss.item()\n",
    "        \n",
    "        # Calculate training F1 score\n",
    "        predicted = torch.argmax(outputs, dim=1)\n",
    "        y_true_train.extend(labels.cpu().numpy())\n",
    "        y_pred_train.extend(predicted.cpu().numpy())\n",
    "    train_loss = running_loss / len(trainloader)\n",
    "    train_running_loss.append(train_loss)\n",
    "            \n",
    "    # Concatenate predictions and labels along batch dimension\n",
    "    predictions = np.concatenate(y_pred_train)\n",
    "    ground_truth = np.concatenate(y_true_train)\n",
    "\n",
    "    # Reshape the tensors to merge batch and class dimensions\n",
    "    predictions = predictions.reshape(-1, 138)\n",
    "    ground_truth = ground_truth.reshape(-1, 138)\n",
    "\n",
    "    \n",
    "    predictions_flat = predictions.flatten()\n",
    "    ground_truth_flat = ground_truth.flatten()\n",
    "\n",
    "    precision_val_train, _, fscore, _ = precision_recall_fscore_support(ground_truth_flat, predictions_flat,labels=[1, 2], average='weighted')\n",
    "    precision1, recall1, fscore_classes, _ = precision_recall_fscore_support(ground_truth_flat, predictions_flat,labels=[1, 2], average=None)\n",
    "#     _,precision1, recall1, _, fscore, _  = get_metrics_binar(o,p,labels=[1,2])\n",
    "    train_f1_scores.append(fscore)\n",
    "\n",
    "    # Validation loop\n",
    "    net.eval()  # Set the model to evaluation mode\n",
    "    y_true_valid = []\n",
    "    y_pred_valid = []\n",
    "\n",
    "    with torch.no_grad():\n",
    "        for i, data in enumerate(validationloader, 0):\n",
    "            inputs, labels =data[0].to(device), data[1].to(device)\n",
    "            outputs = net(inputs)\n",
    "            outputs = torch.argmax(outputs, dim=1)\n",
    "            y_true_valid.extend(labels.cpu().numpy())\n",
    "            y_pred_valid.extend(outputs.cpu().numpy())\n",
    "    \n",
    "    # Concatenate predictions and labels along batch dimension\n",
    "    predictions = np.concatenate(y_pred_train)\n",
    "    ground_truth = np.concatenate(y_true_train)\n",
    "\n",
    "    # Reshape the tensors to merge batch and class dimensions\n",
    "    predictions = predictions.reshape(-1, num_stations)\n",
    "    ground_truth = ground_truth.reshape(-1, num_stations)\n",
    "    #change averge to None after testing\n",
    "    precision_val, _, fscore_valid, _ = precision_recall_fscore_support(ground_truth_flat, predictions_flat,labels=[1,2], average='weighted')\n",
    "    precision2, recall2, fscore_valid_classes, _ = precision_recall_fscore_support(ground_truth_flat, predictions_flat,labels=[1,2], average=None)\n",
    "#     _,precision2, recall2, _, fscore_valid, _  = get_metrics_binar(o,p,labels=[1,2])\n",
    "\n",
    "    valid_loss = running_loss / len(validationloader)\n",
    "    validation_running_loss.append(valid_loss)\n",
    "    # Calculate the average validation loss for this epoch\n",
    "    valid_f1_scores.append(fscore_valid)\n",
    "    scheduler.step(precision_val)\n",
    "\n",
    "    print(f'''Epoch [{epoch+1}/{num_epochs}] - \n",
    "          Train Loss: {train_loss:.4f},   Valid Loss: {valid_loss:.4f} \\n\n",
    "          Train F1: Class 1 - {fscore_classes[0]:.4f}, Class 2: {fscore_classes[1]:.4f}, Validation F1: Class 1:{fscore_valid_classes[0]:.4f}, Class 2: {fscore_valid_classes[1]:.4f}\\n\n",
    "          Train Precision: Class 1:{precision1[0]:.4f}, Class 2: {precision1[0]:.4f}.  Valid Precision: Class 1: {precision2[0]:.4f}, Class 2: {precision2[1]:.4f}\\n\n",
    "          Train Recall: Class 1: {recall1[0]:.4f},  Class 2: {recall1[1]:.4f}, Valid Recall: Class 1: {recall2[0]:.4f}. Class 2: {recall2[1]:.4f}\\n\n",
    "     ''')\n",
    "print('Training Done')\n",
    "torch.save(net.state_dict(),\"/home/labs/rudich/sagima/station_vs_satellite/model.pth\")"
   ]
  },
  {
   "cell_type": "code",
   "execution_count": 92,
   "id": "7f6b6b03",
   "metadata": {
    "ExecuteTime": {
     "end_time": "2023-07-27T08:44:17.441842Z",
     "start_time": "2023-07-27T08:44:17.291187Z"
    }
   },
   "outputs": [
    {
     "data": {
      "image/png": "[encoded data removed]",
      "text/plain": [
       "<Figure size 640x480 with 1 Axes>"
      ]
     },
     "metadata": {},
     "output_type": "display_data"
    }
   ],
   "source": [
    "plt.plot(train_running_loss,label='train')\n",
    "plt.plot(validation_running_loss,label='validation')\n",
    "\n",
    "plt.xlabel('Epoch')\n",
    "plt.ylabel('Loss')\n",
    "plt.title('Training Loss Over Time')\n",
    "plt.legend()\n",
    "plt.show()"
   ]
  },
  {
   "cell_type": "markdown",
   "id": "4a806622",
   "metadata": {
    "heading_collapsed": true
   },
   "source": [
    "##  Basic T"
   ]
  },
  {
   "cell_type": "code",
   "execution_count": 84,
   "id": "28fcd674",
   "metadata": {
    "ExecuteTime": {
     "end_time": "2023-07-27T08:20:31.625049Z",
     "start_time": "2023-07-27T08:20:10.834238Z"
    },
    "hidden": true
   },
   "outputs": [
    {
     "name": "stderr",
     "output_type": "stream",
     "text": [
      "100%|█████████████████████████████████████████████████████████████████████████████████| 3/3 [00:20<00:00,  6.93s/it]"
     ]
    },
    {
     "name": "stdout",
     "output_type": "stream",
     "text": [
      "Finished Training\n"
     ]
    },
    {
     "name": "stderr",
     "output_type": "stream",
     "text": [
      "\n"
     ]
    }
   ],
   "source": [
    "optimizer = torch.optim.Adam(net.parameters(), lr=0.001)\n",
    "# scheduler = ReduceLROnPlateau(optimizer, 'min') to task \n",
    "criterion = nn.CrossEntropyLoss(reduction = 'none',weight=torch.tensor([0,10.,1.]).to(device))\n",
    "\n",
    "loss_values = []\n",
    "list_of_invalid  = []\n",
    "epochs = 3\n",
    "net.train()\n",
    "for epoch in tqdm(range(epochs)):  # loop over the dataset multiple times\n",
    "\n",
    "    running_loss = 0.0\n",
    "    for i, data in enumerate(trainloader, 0):\n",
    "        # get the inputs; data is a list of [inputs, labels]\n",
    "        inputs, labels = data[0].to(device), data[1].to(device)\n",
    "        \n",
    "        if torch.isnan(inputs).any()  :\n",
    "            print('invalid input detected at iteration ', i)\n",
    "        if torch.isnan(labels).any() : \n",
    "            print('invalid labels detected at iteration ', i)\n",
    "            list_of_invalid.append(labels)\n",
    "            \n",
    "        optimizer.zero_grad()\n",
    "\n",
    "        outputs = net(inputs)\n",
    "        labels = labels.type(torch.LongTensor).to(device)\n",
    "\n",
    "        loss = ((criterion(outputs, labels) * (labels>0)).mean(0)).mean()\n",
    "\n",
    "              \n",
    "        loss.backward()\n",
    "        optimizer.step()\n",
    "    \n",
    "\n",
    "        # print statistics\n",
    "        running_loss += loss.item()\n",
    "        if i % 1000 == 999:    # print every 20 mini-batches\n",
    "            print(f'[{epoch + 1}, {i + 1:5d}] loss: {running_loss / 1000}')\n",
    "            running_loss = 0.0\n",
    "    average_loss = running_loss / len(trainloader)\n",
    "    loss_values.append(average_loss)\n",
    "\n",
    "print('Finished Training')\n",
    "    "
   ]
  },
  {
   "cell_type": "code",
   "execution_count": null,
   "id": "e4587770",
   "metadata": {
    "ExecuteTime": {
     "end_time": "2023-07-23T07:28:09.308105Z",
     "start_time": "2023-07-23T07:28:09.304977Z"
    },
    "hidden": true
   },
   "outputs": [],
   "source": [
    "len(loss_values)"
   ]
  },
  {
   "cell_type": "markdown",
   "id": "af9efc17",
   "metadata": {
    "heading_collapsed": true
   },
   "source": [
    "# Testing"
   ]
  },
  {
   "cell_type": "code",
   "execution_count": 93,
   "id": "7c3be9fa",
   "metadata": {
    "ExecuteTime": {
     "end_time": "2023-07-27T08:44:24.629270Z",
     "start_time": "2023-07-27T08:44:24.474391Z"
    },
    "hidden": true
   },
   "outputs": [
    {
     "data": {
      "image/png": "[encoded data removed]",
      "text/plain": [
       "<Figure size 800x500 with 1 Axes>"
      ]
     },
     "metadata": {},
     "output_type": "display_data"
    }
   ],
   "source": [
    "# plt.plot(range(1, epochs + 1), loss_values, label='Training Loss')\n",
    "# plt.xlabel('Epoch')\n",
    "# plt.ylabel('Loss')\n",
    "# plt.title('Training Loss Over Time')\n",
    "# plt.legend()\n",
    "# plt.show()\n",
    "\n",
    "# Plot the F1 score over time\n",
    "plt.figure(figsize=(8, 5))\n",
    "plt.plot(range(1, num_epochs + 1), train_f1_scores, label=\"Training F1 Score\")\n",
    "plt.plot(range(1, num_epochs + 1), valid_f1_scores, label=\"Validation F1 Score\",alpha=0.5)\n",
    "plt.xlabel(\"Epochs\")\n",
    "plt.ylabel(\"F1 Score\")\n",
    "plt.title(\"Training and Validation F1 Score over Time\")\n",
    "plt.legend()\n",
    "plt.grid(True)\n",
    "plt.show()"
   ]
  },
  {
   "cell_type": "code",
   "execution_count": 90,
   "id": "e2c8abba",
   "metadata": {
    "ExecuteTime": {
     "end_time": "2023-07-27T08:38:12.826863Z",
     "start_time": "2023-07-27T08:38:12.344005Z"
    },
    "hidden": true
   },
   "outputs": [],
   "source": [
    "\n",
    "from sklearn.metrics import confusion_matrix\n",
    "    \n",
    "net.eval()\n",
    "all_predictions = []\n",
    "all_labels = []\n",
    "all_input = []\n",
    "with torch.no_grad():\n",
    "    for inputs, labels in testloader:\n",
    "        inputs, labels = inputs.to(device), labels.to(device)\n",
    "\n",
    "        outputs = net(inputs)\n",
    "        outputs = torch.argmax(outputs, dim=1)\n",
    "        all_predictions.append(outputs.cpu().numpy())\n",
    "        all_labels.append(labels.cpu().numpy())\n",
    "        \n",
    "        \n",
    "# Concatenate predictions and labels along batch dimension\n",
    "predictions = np.concatenate(all_predictions)\n",
    "ground_truth = np.concatenate(all_labels)\n",
    "\n",
    "# Reshape the tensors to merge batch and class dimensions\n",
    "predictions = predictions.reshape(-1, num_stations)\n",
    "ground_truth = ground_truth.reshape(-1, num_stations)\n",
    "\n"
   ]
  },
  {
   "cell_type": "code",
   "execution_count": 91,
   "id": "62bc8655",
   "metadata": {
    "ExecuteTime": {
     "end_time": "2023-07-27T08:38:15.180698Z",
     "start_time": "2023-07-27T08:38:12.828663Z"
    },
    "hidden": true
   },
   "outputs": [
    {
     "name": "stdout",
     "output_type": "stream",
     "text": [
      "Precision(Macro): 0.19566110282185825\n",
      "Recall(Macro): 0.8317594944874844\n",
      "Precision (Micro): 0.1738676558049269\n",
      "Recall (Micro): 0.8760498071903414\n",
      "Precision (Weighted): 0.17873234067762447\n",
      "Recall (Weighted): 0.8760498071903414\n",
      "Class 1: Precision = 0.16455959464707387, Recall = 0.91312962130806\n",
      "Class 2: Precision = 0.22676261099664263, Recall = 0.7503893676669089\n"
     ]
    },
    {
     "data": {
      "image/png": "[encoded data removed]",
      "text/plain": [
       "<Figure size 800x600 with 2 Axes>"
      ]
     },
     "metadata": {},
     "output_type": "display_data"
    }
   ],
   "source": [
    "### import numpy as np\n",
    "from sklearn.metrics import precision_recall_fscore_support\n",
    "from sklearn.metrics import confusion_matrix\n",
    "\n",
    "\n",
    "predictions_flat = predictions.flatten()\n",
    "ground_truth_flat = ground_truth.flatten()\n",
    "\n",
    "precision, recall, _, _ = precision_recall_fscore_support(ground_truth_flat, predictions_flat,labels=[1,2], average='macro')\n",
    "\n",
    "\n",
    "precision_micro, recall_micro, _, _ = precision_recall_fscore_support(ground_truth_flat, predictions_flat,labels=[1,2],  average='micro')\n",
    "\n",
    "\n",
    "precision_weighted, recall_weighted, _, _ = precision_recall_fscore_support(ground_truth_flat, predictions_flat,labels=[1,2],  average='weighted')\n",
    "\n",
    "\n",
    "precision_per_class, recall_per_class, F1, _ = precision_recall_fscore_support(ground_truth_flat, predictions_flat,labels=[1,2],  average=None)\n",
    "\n",
    "\n",
    "print(\"Precision(Macro):\", precision) #it treats all classes equally, regardless of the number of samples in each class.\n",
    "print(\"Recall(Macro):\", recall)\n",
    "\n",
    "print(\"Precision (Micro):\", precision_micro)\n",
    "print(\"Recall (Micro):\", recall_micro)\n",
    "\n",
    "print(\"Precision (Weighted):\", precision_weighted)\n",
    "print(\"Recall (Weighted):\", recall_weighted)\n",
    "\n",
    "class_labels = [0, 1, 2]\n",
    "\n",
    "# Display the results with class labels\n",
    "for label, precision, recall in zip(class_labels, precision_per_class, recall_per_class):\n",
    "    print(f\"Class {label+1}: Precision = {precision}, Recall = {recall}\")\n",
    "\n",
    "confusion_mat = confusion_matrix(ground_truth_flat, predictions_flat)\n",
    "plt.figure(figsize=(8, 6))\n",
    "sns.heatmap(confusion_mat, annot=True, fmt=\"d\", cmap=\"Blues\", xticklabels=class_labels, yticklabels=class_labels)\n",
    "plt.xlabel(\"Predicted Labels\")\n",
    "plt.ylabel(\"True Labels\")\n",
    "plt.title(\"Confusion Matrix\")\n",
    "plt.show()"
   ]
  },
  {
   "cell_type": "raw",
   "id": "8c84e1cc",
   "metadata": {
    "ExecuteTime": {
     "end_time": "2023-07-23T10:16:42.442427Z",
     "start_time": "2023-07-23T10:16:42.438787Z"
    },
    "hidden": true
   },
   "source": [
    "F1"
   ]
  },
  {
   "cell_type": "markdown",
   "id": "d92e9bb2",
   "metadata": {
    "heading_collapsed": true
   },
   "source": [
    "# Trying a FC just for reference"
   ]
  },
  {
   "cell_type": "raw",
   "id": "f9a940c7",
   "metadata": {
    "ExecuteTime": {
     "end_time": "2023-07-20T13:16:49.691245Z",
     "start_time": "2023-07-20T13:16:49.682436Z"
    },
    "hidden": true
   },
   "source": [
    "\n",
    "\n",
    "\n",
    "class CustomDataset(Dataset):\n",
    "    def __init__(self, tensor_input, dataframe_target,label_tensor):\n",
    "        self.tensor_input = tensor_input\n",
    "        self.dataframe_target = dataframe_target\n",
    "        self.label_tensor = label_tensor\n",
    "\n",
    "    def __len__(self):\n",
    "        return self.tensor_input.shape[0]  # Number of samples\n",
    "\n",
    "    def __getitem__(self, index,time_to_predict=24,lookback_num=3):\n",
    "        \n",
    "        # Check the condition for the current index\n",
    "        if index >= lookback_num: \n",
    "            a = filtered_target_dataframe.loc[index-lookback_num:index-2,'time'].values\n",
    "            t = np.append(a,filtered_target_dataframe.loc[index-1,'time'].to_numpy())\n",
    "            if check_timestamps(t[::-1]):\n",
    "                c = np.arange(index-lookback_num,index+1)\n",
    "                input_data = self.tensor_input[c,:,:,:]\n",
    "                input_data = input_data.view(len(c),input_data.shape[2], input_data.shape[3])\n",
    "\n",
    "        if index < lookback_num or not check_timestamps(t[::-1]):\n",
    "            input_data = torch.full((1,1),-999) #error indicator\n",
    "\n",
    "\n",
    "        \n",
    "        #handling Target data\n",
    "        \n",
    "        X_timestamp = self.dataframe_target.loc[index,'time']\n",
    "        target_timestamp = X_timestamp + pd.DateOffset(hours=time_to_predict)\n",
    "        matching_row = self.dataframe_target[self.dataframe_target['time'] == target_timestamp]\n",
    "\n",
    "        if len(matching_row) > 0:\n",
    "\n",
    "            matching_row = matching_row.index.values[0]\n",
    "            target_data = self.label_tensor[matching_row]\n",
    "#             print(f' if_point {target_data.shape}')\n",
    "            \n",
    "        else:\n",
    "#             print(f' X timestamp {X_timestamp}, no corresponding futuretimestamp')\n",
    "            target_data = torch.full((1,self.label_tensor.shape[1]), 0)[0]\n",
    "#             print(f'else_point {target_data.shape}')\n",
    "\n",
    "        return input_data, target_data\n",
    "\n",
    "\n",
    "class SequentialDataset(Dataset):\n",
    "    def __init__(self, data):\n",
    "        self.data = data\n",
    "    \n",
    "    def __getitem__(self, index):\n",
    "        X, y = self.data[index]\n",
    "        return X, y\n",
    "\n",
    "    def __len__(self):\n",
    "        return len(self.data)\n",
    "    \n",
    "    \n",
    "    \n",
    "device = torch.device('cuda:0' if torch.cuda.is_available() else 'cpu')"
   ]
  },
  {
   "cell_type": "raw",
   "id": "10d6e0d3",
   "metadata": {
    "ExecuteTime": {
     "end_time": "2023-07-20T13:17:41.312617Z",
     "start_time": "2023-07-20T13:17:19.717556Z"
    },
    "hidden": true
   },
   "source": [
    "df = greecee_stations_classification.drop('time',axis=1)\n",
    "rows_to_keep = df.loc[(df != 0).any(axis=1)].index\n",
    "\n",
    "# Filter tensor input and target dataframe\n",
    "filtered_input_tensor = tensor[rows_to_keep][:,:1,:,:]\n",
    "\n",
    "filtered_target_dataframe = (greecee_stations_classification.loc[rows_to_keep]\n",
    "                             .pipe(lambda d:d.assign(time = pd.to_datetime(d.time)))\n",
    "                             .reset_index(drop=True)\n",
    "                            )\n",
    "\n",
    "label_tensor = torch.tensor(filtered_target_dataframe.drop('time',axis=1).values, dtype=torch.float32)\n",
    "\n",
    "original_dataset = CustomDataset(filtered_input_tensor,filtered_target_dataframe,label_tensor)\n",
    "filtered_data = [(X, y) for X, y in original_dataset if not torch.all(X.eq(-999))]\n",
    "new_dataset = SequentialDataset(filtered_data)\n",
    "train_dataset, test_dataset = train_test_split(new_dataset, test_size=0.2, random_state=42)\n",
    "\n",
    "\n",
    "\n",
    "\n",
    "# Create data loaders\n",
    "batch_size = 4  # Set your desired batch size\n",
    "trainloader = DataLoader(train_dataset, batch_size=batch_size, shuffle=True)# sampler=sampler\n",
    "testloader = DataLoader(test_dataset, batch_size=batch_size, shuffle=False) # sampler=sampler\n",
    "\n",
    "# Print a few batches from the train loader\n",
    "print(\"Train Loader:\")\n",
    "for batch_idx, (images, labels) in enumerate(trainloader):\n",
    "    print(f\"Batch {batch_idx}:\")\n",
    "    print(\"Images shape:\", images.shape)\n",
    "    print(\"Labels shape:\", labels.shape)\n",
    "    print()\n",
    "\n",
    "# Print a few batches from the test loader\n",
    "print(\"Test Loader:\")\n",
    "for batch_idx, (images, labels) in enumerate(testloader):\n",
    "    print(f\"Batch {batch_idx}:\")\n",
    "    print(\"Images shape:\", images.shape)\n",
    "    print(\"Labels shape:\", labels.shape)\n",
    "    print()"
   ]
  },
  {
   "cell_type": "raw",
   "id": "d2aacf32",
   "metadata": {
    "ExecuteTime": {
     "end_time": "2023-07-20T13:25:44.637316Z",
     "start_time": "2023-07-20T13:25:44.471801Z"
    },
    "hidden": true
   },
   "source": [
    "# Define the input shape\n",
    "input_shape = (4, 35, 37)\n",
    "input_size = 4 * 35 * 37\n",
    "output_size = 426\n",
    "\n",
    "# Define the fully connected classification neural network\n",
    "class ClassificationNN(nn.Module):\n",
    "    def __init__(self, input_size, output_size):\n",
    "        super(ClassificationNN, self).__init__()\n",
    "        self.fc1 = nn.Linear(input_size, 4096)\n",
    "        self.fc2 = nn.Linear(4096, 2048)\n",
    "        self.fc3 = nn.Linear(2048, 1024)\n",
    "        self.fc4 = nn.Linear(1024,512)\n",
    "        self.fc5 = nn.Linear(512, output_size)\n",
    "\n",
    "    def forward(self, x):\n",
    "        x = x.view(-1, input_size)  # Flatten the input\n",
    "        x = F.relu(self.fc1(x))\n",
    "        x = F.relu(self.fc2(x))\n",
    "        x = F.relu(self.fc3(x))\n",
    "        out = self.fc4(x)\n",
    "        out = F.relu(out)\n",
    "        out = self.fc5(out)\n",
    "        out = out.view(-1, 3, 142)\n",
    "        out = out.permute(0, 1, 2)\n",
    "        return out\n",
    "\n",
    "# Create an instance of the ClassificationNN\n",
    "net = ClassificationNN(input_size, output_size).to(device)\n",
    "from torchsummary import summary\n",
    "summary(net,input_shape)"
   ]
  },
  {
   "cell_type": "raw",
   "id": "206678a7",
   "metadata": {
    "ExecuteTime": {
     "end_time": "2023-07-20T14:33:57.417464Z",
     "start_time": "2023-07-20T14:13:42.521497Z"
    },
    "hidden": true
   },
   "source": [
    "optimizer = torch.optim.Adam(net.parameters(), lr=0.000001)\n",
    "\n",
    "# criterion = IgnoringTwoCrossEntropyLoss()\n",
    "# weights = torch.tensor([1, 100, 100]).to(device)\n",
    "criterion = nn.CrossEntropyLoss(reduction = 'none')\n",
    "# criterion = IgnoringTwoCrossEntropyLoss() \n",
    "loss_values = []\n",
    "list_of_invalid  = []\n",
    "epochs = 100\n",
    "net.train()\n",
    "for epoch in tqdm(range(epochs)):  # loop over the dataset multiple times\n",
    "\n",
    "    running_loss = 0.0\n",
    "    for i, data in enumerate(trainloader, 0):\n",
    "        # get the inputs; data is a list of [inputs, labels]\n",
    "        inputs, labels = data[0].to(device), data[1].to(device)\n",
    "        if torch.isnan(inputs).any()  :\n",
    "            print('invalid input detected at iteration ', i)\n",
    "        if torch.isnan(labels).any() : \n",
    "            print('invalid labels detected at iteration ', i)\n",
    "            list_of_invalid.append(labels)\n",
    "        # zero the parameter gradients\n",
    "        optimizer.zero_grad()\n",
    "\n",
    "        # forward + backward + optimize\n",
    "        outputs = net(inputs)\n",
    "        labels = labels.type(torch.LongTensor).to(device)\n",
    "#         print((criterion(outputs, labels) * (labels>0)).shape)\n",
    "#         print((labels>0).shape)\n",
    "        loss = ((criterion(outputs, labels) * (labels>0)).mean(0)).mean()\n",
    "#         print((criterion(outputs, labels) * (labels>0)).mean(0))\n",
    "#         loss = criterion(outputs, labels)\n",
    "        loss.backward()\n",
    "#         torch.nn.utils.clip_grad_norm_(net.parameters(), 1)\n",
    "        optimizer.step()\n",
    "    \n",
    "\n",
    "        # print statistics\n",
    "        running_loss += loss.item()\n",
    "        if i % 100 == 99:    # print every 20 mini-batches\n",
    "            print(f'[{epoch + 1}, {i + 1:5d}] loss: {running_loss / 2000}')\n",
    "            running_loss = 0.0\n",
    "    average_loss = running_loss / len(trainloader)\n",
    "    loss_values.append(average_loss)\n",
    "\n",
    "print('Finished Training')\n",
    "    "
   ]
  },
  {
   "cell_type": "raw",
   "id": "068b6fdc",
   "metadata": {
    "ExecuteTime": {
     "end_time": "2023-07-20T14:34:00.310873Z",
     "start_time": "2023-07-20T14:33:58.130241Z"
    },
    "hidden": true
   },
   "source": [
    "plt.plot(range(1, epochs + 1), loss_values, label='Training Loss')\n",
    "plt.xlabel('Epoch')\n",
    "plt.ylabel('Loss')\n",
    "plt.title('Training Loss Over Time')\n",
    "plt.legend()\n",
    "plt.show()"
   ]
  },
  {
   "cell_type": "raw",
   "id": "26f0d03b",
   "metadata": {
    "ExecuteTime": {
     "end_time": "2023-07-20T13:57:18.885038Z",
     "start_time": "2023-07-20T13:57:18.885026Z"
    },
    "hidden": true
   },
   "source": [
    "\n",
    "from sklearn.metrics import confusion_matrix\n",
    "\n",
    "net.eval()\n",
    "all_predictions = []\n",
    "all_labels = []\n",
    "all_input = []\n",
    "with torch.no_grad():\n",
    "    for inputs, labels in testloader:\n",
    "        inputs, labels = inputs.to(device), labels.to(device)\n",
    "\n",
    "        outputs = net(inputs)\n",
    "        outputs = torch.argmax(outputs, dim=1)\n",
    "        all_predictions.append(outputs.cpu().numpy())\n",
    "        all_labels.append(labels.cpu().numpy())\n",
    "        \n",
    "        \n",
    "# Concatenate predictions and labels along batch dimension\n",
    "predictions = np.concatenate(all_predictions)\n",
    "ground_truth = np.concatenate(all_labels)\n",
    "\n",
    "# Reshape the tensors to merge batch and class dimensions\n",
    "predictions = predictions.reshape(-1, 142)\n",
    "ground_truth = ground_truth.reshape(-1, 142)\n",
    "\n"
   ]
  },
  {
   "cell_type": "raw",
   "id": "e4db7525",
   "metadata": {
    "ExecuteTime": {
     "end_time": "2023-07-20T13:57:18.885948Z",
     "start_time": "2023-07-20T13:57:18.885937Z"
    },
    "hidden": true
   },
   "source": [
    "import numpy as np\n",
    "from sklearn.metrics import precision_recall_fscore_support\n",
    "from sklearn.metrics import confusion_matrix\n",
    "\n",
    "# Flatten the arrays\n",
    "predictions_flat = predictions.flatten()\n",
    "ground_truth_flat = ground_truth.flatten()\n",
    "\n",
    "precision, recall, _, _ = precision_recall_fscore_support(ground_truth_flat, predictions_flat, average='macro')\n",
    "\n",
    "# Calculate precision and recall using 'micro' averaging\n",
    "precision_micro, recall_micro, _, _ = precision_recall_fscore_support(ground_truth_flat, predictions_flat, average='micro')\n",
    "\n",
    "# Calculate precision and recall using 'weighted' averaging\n",
    "precision_weighted, recall_weighted, _, _ = precision_recall_fscore_support(ground_truth_flat, predictions_flat, average='weighted')\n",
    "\n",
    "# Calculate precision and recall for each class separately\n",
    "precision_per_class, recall_per_class, _, _ = precision_recall_fscore_support(ground_truth_flat, predictions_flat, average=None)\n",
    "\n",
    "\n",
    "print(\"Precision(Macro):\", precision) #it treats all classes equally, regardless of the number of samples in each class.\n",
    "print(\"Recall(Macro):\", recall)\n",
    "\n",
    "print(\"Precision (Micro):\", precision_micro)\n",
    "print(\"Recall (Micro):\", recall_micro)\n",
    "\n",
    "print(\"Precision (Weighted):\", precision_weighted)\n",
    "print(\"Recall (Weighted):\", recall_weighted)\n",
    "\n",
    "class_labels = [0, 1, 2]\n",
    "\n",
    "# Display the results with class labels\n",
    "for label, precision, recall in zip(class_labels, precision_per_class, recall_per_class):\n",
    "    print(f\"Class {label}: Precision = {precision}, Recall = {recall}\")\n",
    "\n",
    "confusion_mat = confusion_matrix(ground_truth_flat, predictions_flat)\n",
    "plt.figure(figsize=(8, 6))\n",
    "sns.heatmap(confusion_mat, annot=True, fmt=\"d\", cmap=\"Blues\", xticklabels=class_labels, yticklabels=class_labels)\n",
    "plt.xlabel(\"Predicted Labels\")\n",
    "plt.ylabel(\"True Labels\")\n",
    "plt.title(\"Confusion Matrix\")\n",
    "plt.show()"
   ]
  },
  {
   "cell_type": "raw",
   "id": "65993454",
   "metadata": {
    "hidden": true
   },
   "source": []
  },
  {
   "cell_type": "raw",
   "id": "d4b7606e",
   "metadata": {
    "hidden": true
   },
   "source": []
  },
  {
   "cell_type": "raw",
   "id": "8de6d13a",
   "metadata": {
    "hidden": true
   },
   "source": [
    "# Functions for consist"
   ]
  },
  {
   "cell_type": "raw",
   "id": "3d201a29",
   "metadata": {
    "hidden": true
   },
   "source": [
    "\n",
    "def train(model, train_loader, optimizer, loss_criterion):\n",
    "    model.train()\n",
    "    epochs = 8\n",
    "    for epoch in range(epochs):\n",
    "#         print(f' {epoch+1} / {epochs}')\n",
    "        for data in train_loader:\n",
    "            images, labels = data[0].to(device), data[1].to(device)\n",
    "            optimizer.zero_grad()\n",
    "            \n",
    "\n",
    "            # Forward pass\n",
    "            outputs = model(images)\n",
    "\n",
    "            # Calculate the loss\n",
    "            loss = loss_criterion(outputs, labels)  # Assuming inputs are the target values for autoencoder\n",
    "\n",
    "            # Backward pass and optimization\n",
    "            loss.backward()\n",
    "            optimizer.step()\n",
    "\n",
    "        \n",
    "def test(model, test_loader, loss_criterion):\n",
    "    model.eval()\n",
    "    test_loss = 0.0\n",
    "    \n",
    "    with torch.no_grad():\n",
    "        for data in test_loader:\n",
    "            images, labels = data[0].to(device), data[1].to(device)\n",
    "   \n",
    "            # Forward pass\n",
    "            outputs = model(images)\n",
    "            \n",
    "            # Calculate the loss\n",
    "            loss = loss_criterion(outputs, labels)  # Assuming inputs are the target values for autoencoder\n",
    "            test_loss += loss.item()\n",
    "    \n",
    "    # Calculate average test loss\n",
    "    test_loss /= len(test_loader.dataset)\n",
    "    return test_loss\n",
    "\n",
    "num_seeds = 10\n",
    "performance_count = 0 \n",
    "\n",
    "\n",
    "\n",
    "for seed in tqdm(range(num_seeds)):\n",
    "    # Set the random seed\n",
    "    torch.manual_seed(seed)\n",
    "\n",
    "    net = RegressionResNet(input_shape).to(device)\n",
    "    \n",
    "    rows_to_keep = (~greecee_stations.isnull().all(axis=1))\n",
    "\n",
    "    # Filter tensor input and target dataframe\n",
    "    filtered_input_tensor = tensor[rows_to_keep][:,:1,:,:]\n",
    "    filtered_input_tensor_corrected = tensor_with_correction[rows_to_keep][:,:1,:,:]\n",
    "    filtered_target_dataframe = greecee_stations[rows_to_keep]\n",
    "    \n",
    "    filtered_target_dataframe['time'] = pd.to_datetime(filtered_target_dataframe['time'])\n",
    "    label_tensor = torch.tensor(filtered_target_dataframe.drop('time',axis=1).values, dtype=torch.float32)\n",
    "    \n",
    "    \n",
    "    original_dataset1 = CustomDataset(filtered_input_tensor,filtered_target_dataframe,label_tensor)\n",
    "    original_dataset2 = CustomDataset(filtered_input_tensor_corrected, filtered_target_dataframe, label_tensor)\n",
    "    filtered_data1 = [(X, y) for X, y in original_dataset1 if not torch.all(X.eq(-999))]\n",
    "    filtered_data2 = [(X, y) for X, y in original_dataset2 if not torch.all(X.eq(-999))]\n",
    "    new_dataset1 = SequentialDataset(filtered_data1)\n",
    "    new_dataset2 = SequentialDataset(filtered_data2)\n",
    "\n",
    "\n",
    "\n",
    "    train_dataset1, test_dataset1 = train_test_split(new_dataset1, test_size=0.2, random_state=seed)\n",
    "    train_dataset2, test_dataset2 = train_test_split(new_dataset2, test_size=0.2, random_state=seed)\n",
    "    \n",
    "    batch_size = 32  # Set your desired batch size\n",
    "    trainloader1 = DataLoader(train_dataset1, batch_size=batch_size, shuffle=True)\n",
    "    testloader1 = DataLoader(test_dataset1, batch_size=batch_size, shuffle=False)\n",
    "    trainloader2 = DataLoader(train_dataset2, batch_size=batch_size, shuffle=True)\n",
    "    testloader2 = DataLoader(test_dataset2, batch_size=batch_size, shuffle=False)\n",
    "\n",
    "\n",
    "    \n",
    "    optimizer = torch.optim.Adam(net.parameters(), lr=0.0001)\n",
    "    criterion = IgnoringNullMSELoss()\n",
    "    \n",
    "    train(net, trainloader1, optimizer, criterion)\n",
    "    original_metric = test(net, testloader1, criterion)\n",
    "\n",
    "    # Train and test the model on the new dataset\n",
    "    train(net, trainloader2, optimizer, criterion)\n",
    "    new_metric = test(net, testloader2, criterion)\n",
    "    \n",
    "    \n",
    "    \n",
    "    print(f' new metric {new_metric}, original_metric {original_metric}')\n",
    "    if new_metric < original_metric:\n",
    "        performance_count += 1\n",
    "\n",
    "# Print the number of times the new dataset outperformed the original one\n",
    "print(f\"New dataset outperformed the original dataset {performance_count}/{num_seeds} times.\")"
   ]
  },
  {
   "cell_type": "raw",
   "id": "cbffbbe6",
   "metadata": {
    "hidden": true
   },
   "source": []
  },
  {
   "cell_type": "raw",
   "id": "461d2cbc",
   "metadata": {
    "hidden": true
   },
   "source": []
  },
  {
   "cell_type": "raw",
   "id": "4371c5dd",
   "metadata": {
    "hidden": true
   },
   "source": []
  },
  {
   "cell_type": "raw",
   "id": "65c2e9fa",
   "metadata": {
    "hidden": true
   },
   "source": []
  },
  {
   "cell_type": "raw",
   "id": "7626ff3f",
   "metadata": {
    "hidden": true
   },
   "source": []
  },
  {
   "cell_type": "raw",
   "id": "abb04979",
   "metadata": {
    "hidden": true
   },
   "source": []
  },
  {
   "cell_type": "raw",
   "id": "e0636d90",
   "metadata": {
    "hidden": true
   },
   "source": [
    "# End of Testing Zone"
   ]
  },
  {
   "cell_type": "raw",
   "id": "847dee7d",
   "metadata": {
    "hidden": true
   },
   "source": []
  },
  {
   "cell_type": "raw",
   "id": "321d09c9",
   "metadata": {
    "hidden": true
   },
   "source": []
  },
  {
   "cell_type": "raw",
   "id": "84b0d66b",
   "metadata": {
    "hidden": true
   },
   "source": []
  },
  {
   "cell_type": "raw",
   "id": "49c23b33",
   "metadata": {
    "hidden": true
   },
   "source": []
  },
  {
   "cell_type": "raw",
   "id": "859cadc2",
   "metadata": {
    "hidden": true
   },
   "source": [
    "\n",
    "torch.manual_seed(0)\n",
    "class CustomDataset(Dataset):\n",
    "    def __init__(self, tensor_input, dataframe_target,label_tensor):\n",
    "        self.tensor_input = tensor_input\n",
    "        self.dataframe_target = dataframe_target\n",
    "        self.label_tensor = label_tensor\n",
    "\n",
    "    def __len__(self):\n",
    "        return self.tensor_input.shape[0]  # Number of samples\n",
    "\n",
    "    def __getitem__(self, index,time_to_predict=12):\n",
    "        \n",
    "        \n",
    "        input_data = self.tensor_input[index]\n",
    "        X_timestamp = self.dataframe_target.loc[index,'time']\n",
    "        target_timestamp = X_timestamp + pd.DateOffset(hours=time_to_predict)\n",
    "\n",
    "        matching_row = self.dataframe_target[self.dataframe_target['time'] == target_timestamp]\n",
    "\n",
    "        if len(matching_row) > 0:\n",
    "\n",
    "            matching_row = matching_row.index.values[0]\n",
    "            target_data = self.label_tensor[matching_row]\n",
    "#             print(f' if_point {target_data.shape}')\n",
    "            \n",
    "        else:\n",
    "#             print(f' X timestamp {X_timestamp}, no corresponding futuretimestamp')\n",
    "            target_data = torch.full((1,self.label_tensor.shape[1]), float('nan'))[0]\n",
    "#             print(f'else_point {target_data.shape}')\n",
    "\n",
    "        return input_data, target_data\n",
    "\n",
    "\n",
    "# #SequenceLoading\n",
    "# class CustomDataset(Dataset):\n",
    "#     def __init__(self, tensor_input, dataframe_target,label_tensor):\n",
    "#         self.tensor_input = tensor_input\n",
    "#         self.dataframe_target = dataframe_target\n",
    "#         self.label_tensor = label_tensor\n",
    "\n",
    "#     def __len__(self):\n",
    "#         return self.tensor_input.shape[0]  # Number of samples\n",
    "\n",
    "#     def __getitem__(self, index,time_to_predict=12,lookback_num=3):\n",
    "\n",
    "        \n",
    "#         #Problems with missing need to adress\n",
    "#         while True:\n",
    "\n",
    "#             # Check the condition for the current index\n",
    "#              if index >= lookback_num: \n",
    "#                 a = filtered_target_dataframe.loc[index-lookback_num:index-1,'time'].values\n",
    "#                 t = np.append(a,filtered_target_dataframe.loc[index,'time'].to_numpy())\n",
    "#                 if check_timestamps(t[::-1]):\n",
    "#                     c = np.arange(index-lookback_num,index+1)\n",
    "#                     input_data = self.tensor_input[c,:,:,:]\n",
    "#                     break\n",
    "                    \n",
    "#             # Move to the next index\n",
    "#             index += 1\n",
    "\n",
    "#             # Handle the case when the index exceeds the dataset length\n",
    "#             if index >= len(self.tensor_input.shape[0]):\n",
    "#                 raise IndexError(\"Condition not met for any index\")\n",
    "        \n",
    "        \n",
    "        \n",
    "        \n",
    "        \n",
    "#         #\n",
    "        \n",
    "        \n",
    "        \n",
    "        \n",
    "#         #checking that theres enough indexs to look back at\n",
    "#         if index >= lookback_num: \n",
    "#             a = filtered_target_dataframe.loc[index-lookback_num:index-1,'time'].values\n",
    "#             t = np.append(a,filtered_target_dataframe.loc[40,'time'].to_numpy())\n",
    "#             if check_timestamps(t[::-1]):\n",
    "            \n",
    "        \n",
    "#         input_data = self.tensor_input[index]\n",
    "        \n",
    "        \n",
    "#         #handling Target data\n",
    "        \n",
    "#         X_timestamp = self.dataframe_target.loc[index,'time']\n",
    "#         target_timestamp = X_timestamp + pd.DateOffset(hours=time_to_predict)\n",
    "#         matching_row = self.dataframe_target[self.dataframe_target['time'] == target_timestamp]\n",
    "\n",
    "#         if len(matching_row) > 0:\n",
    "\n",
    "#             matching_row = matching_row.index.values[0]\n",
    "#             target_data = self.label_tensor[matching_row]\n",
    "# #             print(f' if_point {target_data.shape}')\n",
    "            \n",
    "#         else:\n",
    "# #             print(f' X timestamp {X_timestamp}, no corresponding futuretimestamp')\n",
    "#             target_data = torch.full((1,self.label_tensor.shape[1]), float('nan'))[0]\n",
    "# #             print(f'else_point {target_data.shape}')\n",
    "\n",
    "#         return input_data, target_data\n",
    "\n",
    "\n",
    "\n",
    "device = torch.device('cuda:0' if torch.cuda.is_available() else 'cpu')"
   ]
  },
  {
   "cell_type": "raw",
   "id": "79aa84c1",
   "metadata": {
    "hidden": true
   },
   "source": [
    "\n",
    "rows_to_keep = (~greecee_stations.isnull().all(axis=1))\n",
    "\n",
    "# Filter tensor input and target dataframe\n",
    "filtered_input_tensor = tensor[rows_to_keep][:,:1,:,:]\n",
    "filtered_target_dataframe = greecee_stations[rows_to_keep]\n",
    "filtered_target_dataframe['time'] = pd.to_datetime(filtered_target_dataframe['time'])\n",
    "label_tensor = torch.tensor(filtered_target_dataframe.drop('time',axis=1).values, dtype=torch.float32)\n",
    "# Create CustomDataset instance\n",
    "# print(tensor.shape)\n",
    "# tensor = remove_non_label(tensor)\n",
    "# print(tensor.shape)\n",
    "dataset = CustomDataset(filtered_input_tensor,filtered_target_dataframe,label_tensor)\n",
    "\n",
    "train_dataset, test_dataset = train_test_split(dataset, test_size=0.2, random_state=42)\n",
    "\n",
    "# Create data loaders\n",
    "batch_size = 32  # Set your desired batch size\n",
    "trainloader = DataLoader(train_dataset, batch_size=batch_size, shuffle=True)\n",
    "testloader = DataLoader(test_dataset, batch_size=batch_size, shuffle=False)\n"
   ]
  },
  {
   "cell_type": "raw",
   "id": "0e83e64e",
   "metadata": {
    "hidden": true
   },
   "source": [
    "# Print a few batches from the train loader\n",
    "print(\"Train Loader:\")\n",
    "for batch_idx, (images, labels) in enumerate(trainloader):\n",
    "    print(f\"Batch {batch_idx}:\")\n",
    "    print(\"Images shape:\", images.shape)\n",
    "    print(\"Labels shape:\", labels.shape)\n",
    "    print()\n",
    "\n",
    "# Print a few batches from the test loader\n",
    "print(\"Test Loader:\")\n",
    "for batch_idx, (images, labels) in enumerate(testloader):\n",
    "    print(f\"Batch {batch_idx}:\")\n",
    "    print(\"Images shape:\", images.shape)\n",
    "    print(\"Labels shape:\", labels.shape)\n",
    "    print()"
   ]
  },
  {
   "cell_type": "raw",
   "id": "d3812405",
   "metadata": {
    "hidden": true
   },
   "source": [
    "import torch\n",
    "import torch.nn as nn\n",
    "\n",
    "from torchvision import datasets, transforms\n",
    "from torch import nn, optim\n",
    "import torch.nn.functional as F\n",
    "import torchvision\n",
    "import os\n",
    "\n",
    "class IgnoringNullMSELoss(nn.Module):\n",
    "    def __init__(self):\n",
    "        super(IgnoringNullMSELoss, self).__init__()\n",
    "\n",
    "    def forward(self, input_tensor, target_tensor):\n",
    "        mask = ~torch.isnan(target_tensor)  # Create a mask for non-null values\n",
    "        masked_input = input_tensor[mask]\n",
    "        masked_target = target_tensor[mask]\n",
    "        mse = nn.MSELoss(reduction='mean')(masked_input, masked_target)\n",
    "        return mse\n",
    "    \n",
    "# Define the Residual Block\n",
    "class ResidualBlock(nn.Module):\n",
    "    def __init__(self, in_channels, out_channels, stride=1):\n",
    "        super(ResidualBlock, self).__init__()\n",
    "\n",
    "        self.conv1 = nn.Conv2d(in_channels, out_channels, kernel_size=3, stride=stride, padding=1, bias=False)\n",
    "        self.bn1 = nn.BatchNorm2d(out_channels)\n",
    "        self.relu = nn.ReLU(inplace=True)\n",
    "        self.conv2 = nn.Conv2d(out_channels, out_channels, kernel_size=3, stride=1, padding=1, bias=False)\n",
    "        self.bn2 = nn.BatchNorm2d(out_channels)\n",
    "\n",
    "        if stride != 1 or in_channels != out_channels:\n",
    "            self.shortcut = nn.Sequential(\n",
    "                nn.Conv2d(in_channels, out_channels, kernel_size=1, stride=stride, bias=False),\n",
    "                nn.BatchNorm2d(out_channels)\n",
    "            )\n",
    "        else:\n",
    "            self.shortcut = nn.Identity()\n",
    "\n",
    "    def forward(self, x):\n",
    "        identity = self.shortcut(x)\n",
    "\n",
    "        out = self.conv1(x)\n",
    "        out = self.bn1(out)\n",
    "        out = self.relu(out)\n",
    "\n",
    "        out = self.conv2(out)\n",
    "        out = self.bn2(out)\n",
    "\n",
    "        out += identity\n",
    "        out = self.relu(out)\n",
    "\n",
    "        return out\n",
    "\n",
    "# Define the Regression ResNet model\n",
    "class RegressionResNet(nn.Module):\n",
    "    def __init__(self, input_shape):\n",
    "        super(RegressionResNet, self).__init__()\n",
    "\n",
    "        channel, lat_index, lon_index = input_shape\n",
    "\n",
    "        self.conv1 = nn.Conv2d(channel, 64, kernel_size=7, stride=2, padding=3, bias=False)\n",
    "        self.bn1 = nn.BatchNorm2d(64)\n",
    "        self.relu = nn.ReLU(inplace=True)\n",
    "        self.maxpool = nn.MaxPool2d(kernel_size=3, stride=2, padding=1)\n",
    "\n",
    "        self.stage1 = self.make_stage(64, 64, num_blocks=1, stride=1)\n",
    "        self.stage2 = self.make_stage(64, 128, num_blocks=2, stride=2)\n",
    "        self.stage3 = self.make_stage(128, 256, num_blocks=2, stride=2)\n",
    "        self.stage4 = self.make_stage(256, 512, num_blocks=2, stride=2)\n",
    "\n",
    "        self.avgpool = nn.AdaptiveAvgPool2d((1, 1))\n",
    "        self.fc1 = nn.Linear(512, 256)\n",
    "        self.dropout1 = nn.Dropout(0.5)\n",
    "        self.fc2 = nn.Linear(256, 142)\n",
    "#         self.dropout2 = nn.Dropout(0.5)\n",
    "#         self.fc3 = nn.Linear(128, 64)\n",
    "#         self.dropout3 = nn.Dropout(0.5)\n",
    "#         self.fc4 = nn.Linear(64, 1)\n",
    "\n",
    "    def make_stage(self, in_channels, out_channels, num_blocks, stride):\n",
    "        layers = []\n",
    "        layers.append(ResidualBlock(in_channels, out_channels, stride=stride))\n",
    "        for _ in range(1, num_blocks):\n",
    "            layers.append(ResidualBlock(out_channels, out_channels))\n",
    "\n",
    "        return nn.Sequential(*layers)\n",
    "\n",
    "    def forward(self, x):\n",
    "        print(x.shape, 'level 1')\n",
    "        out = self.conv1(x)\n",
    "        print(out.shape)\n",
    "        out = self.bn1(out)\n",
    "        out = self.relu(out)\n",
    "        out = self.maxpool(out)\n",
    "#         print(out.shape,'level 2')\n",
    "        out = self.stage1(out)\n",
    "        out = self.stage2(out)\n",
    "        out = self.stage3(out)\n",
    "        out = self.stage4(out)\n",
    "#         print(out.shape, 'level 3')\n",
    "        out = self.avgpool(out)\n",
    "        out = torch.flatten(out, 1)\n",
    "        out = self.fc1(out)\n",
    "        out = self.relu(out)\n",
    "        out = self.dropout1(out)\n",
    "        out = self.fc2(out)\n",
    "\n",
    "\n",
    "        return out\n",
    "\n",
    "\n",
    "# Set the input shape and number of labels\n",
    "input_shape = (1, 15, 15)\n",
    "\n",
    "\n",
    "# Create the regression ResNet model\n",
    "net = RegressionResNet(input_shape).to(device)\n"
   ]
  },
  {
   "cell_type": "raw",
   "id": "35910377",
   "metadata": {
    "hidden": true
   },
   "source": []
  },
  {
   "cell_type": "raw",
   "id": "b7e2b841",
   "metadata": {
    "hidden": true
   },
   "source": [
    "optimizer = torch.optim.Adam(net.parameters(), lr=0.0001)\n",
    "criterion = IgnoringNullMSELoss()\n",
    "epochs = 3\n",
    "net.train()\n",
    "for epoch in tqdm(range(epochs)):  # loop over the dataset multiple times\n",
    "\n",
    "    running_loss = 0.0\n",
    "    for i, data in enumerate(trainloader, 0):\n",
    "        # get the inputs; data is a list of [inputs, labels]\n",
    "        inputs, labels = data[0].to(device), data[1].to(device)\n",
    "        # zero the parameter gradients\n",
    "        optimizer.zero_grad()\n",
    "\n",
    "        # forward + backward + optimize\n",
    "        outputs = net(inputs)\n",
    "\n",
    "        loss = criterion(outputs, labels)\n",
    "        loss.backward()\n",
    "        optimizer.step()\n",
    "\n",
    "        # print statistics\n",
    "        running_loss += loss.item()\n",
    "        if i % 20 == 19:    # print every 2000 mini-batches\n",
    "            print(f'[{epoch + 1}, {i + 1:5d}] loss: {running_loss / 2000:.3f}')\n",
    "            running_loss = 0.0\n",
    "\n",
    "print('Finished Training')\n",
    "    "
   ]
  },
  {
   "cell_type": "raw",
   "id": "8d8fbd87",
   "metadata": {
    "hidden": true
   },
   "source": [
    "net.eval()\n",
    "# Define the testing loop\n",
    "with torch.no_grad():\n",
    "    test_loss = 0.0\n",
    "\n",
    "\n",
    "    for batch_idx, (inputs, targets) in enumerate(testloader):\n",
    "        inputs = inputs.to(device)\n",
    "        targets = targets.to(device)\n",
    "\n",
    "        # Forward pass\n",
    "        outputs = net(inputs)\n",
    "\n",
    "        # Calculate the loss\n",
    "        loss = criterion(outputs, targets)\n",
    "        test_loss += loss.item() * inputs.size(0)\n",
    "\n",
    "\n",
    "    # Calculate average loss\n",
    "test_loss /= len(testloader.dataset)\n",
    "\n",
    "print('Average Test Loss: {:.4f}'.format(test_loss))\n",
    "    "
   ]
  },
  {
   "cell_type": "markdown",
   "id": "7025c276",
   "metadata": {},
   "source": [
    "# Ordinal regression Functions ( didnt work properly)"
   ]
  },
  {
   "cell_type": "code",
   "execution_count": null,
   "id": "7506857f",
   "metadata": {},
   "outputs": [],
   "source": [
    "\n",
    "def coral_loss(logits, levels, importance_weights=None, reduction='mean'):\n",
    "    \"\"\"Computes the CORAL loss described in\n",
    "\n",
    "    Cao, Mirjalili, and Raschka (2020)\n",
    "    *Rank Consistent Ordinal Regression for Neural Networks\n",
    "       with Application to Age Estimation*\n",
    "    Pattern Recognition Letters, https://doi.org/10.1016/j.patrec.2020.11.008\n",
    "\n",
    "    Parameters\n",
    "    ----------\n",
    "    logits : torch.tensor, shape(num_examples, num_classes-1)\n",
    "        Outputs of the CORAL layer.\n",
    "\n",
    "    levels : torch.tensor, shape(num_examples, num_classes-1)\n",
    "        True labels represented as extended binary vectors\n",
    "        (via `coral_pytorch.dataset.levels_from_labelbatch`).\n",
    "\n",
    "    importance_weights : torch.tensor, shape=(num_classes-1,) (default=None)\n",
    "        Optional weights for the different labels in levels.\n",
    "        A tensor of ones, i.e.,\n",
    "        `torch.ones(num_classes-1, dtype=torch.float32)`\n",
    "        will result in uniform weights that have the same effect as None.\n",
    "\n",
    "    reduction : str or None (default='mean')\n",
    "        If 'mean' or 'sum', returns the averaged or summed loss value across\n",
    "        all data points (rows) in logits. If None, returns a vector of\n",
    "        shape (num_examples,)\n",
    "\n",
    "    Returns\n",
    "    ----------\n",
    "        loss : torch.tensor\n",
    "        A torch.tensor containing a single loss value (if `reduction='mean'` or '`sum'`)\n",
    "        or a loss value for each data record (if `reduction=None`).\n",
    "\n",
    "    Examples\n",
    "    ----------\n",
    "    >>> import torch\n",
    "    >>> from coral_pytorch.losses import coral_loss\n",
    "    >>> levels = torch.tensor(\n",
    "    ...    [[1., 1., 0., 0.],\n",
    "    ...     [1., 0., 0., 0.],\n",
    "    ...    [1., 1., 1., 1.]])\n",
    "    >>> logits = torch.tensor(\n",
    "    ...    [[2.1, 1.8, -2.1, -1.8],\n",
    "    ...     [1.9, -1., -1.5, -1.3],\n",
    "    ...     [1.9, 1.8, 1.7, 1.6]])\n",
    "    >>> coral_loss(logits, levels)\n",
    "    tensor(0.6920)\n",
    "    \"\"\"\n",
    "\n",
    "    if not logits.shape == levels.shape:\n",
    "        raise ValueError(\"Please ensure that logits (%s) has the same shape as levels (%s). \"\n",
    "                         % (logits.shape, levels.shape))\n",
    "\n",
    "    term1 = (F.logsigmoid(logits)*levels\n",
    "                      + (F.logsigmoid(logits) - logits)*(1-levels))\n",
    "\n",
    "    if importance_weights is not None:\n",
    "        term1 *= importance_weights\n",
    "\n",
    "    val = (-torch.sum(term1, dim=1))\n",
    "\n",
    "    if reduction == 'mean':\n",
    "        loss = torch.mean(val)\n",
    "    elif reduction == 'sum':\n",
    "        loss = torch.sum(val)\n",
    "    elif reduction is None:\n",
    "        loss = val\n",
    "    else:\n",
    "        s = ('Invalid value for `reduction`. Should be \"mean\", '\n",
    "             '\"sum\", or None. Got %s' % reduction)\n",
    "        raise ValueError(s)\n",
    "\n",
    "    return loss\n"
   ]
  },
  {
   "cell_type": "code",
   "execution_count": null,
   "id": "0a57879a",
   "metadata": {},
   "outputs": [],
   "source": [
    "\n",
    "class SoftOrdinalLoss(nn.Module):\n",
    "    def __init__(self):\n",
    "        super(SoftOrdinalLoss, self).__init__()\n",
    "\n",
    "    def forward(self, logits, ordinal_labels):\n",
    "        \"\"\"\n",
    "        Compute the soft ordinal classification loss (Cumulative Link Loss).\n",
    "\n",
    "        Args:\n",
    "            logits (torch.Tensor): The predicted logits from the model (shape: [batch_size, stations, num_classes]).\n",
    "            ordinal_labels (torch.Tensor): The ordinal class labels as binary matrices (shape: [batch_size, stations, num_classes-1]).\n",
    "\n",
    "        Returns:\n",
    "            torch.Tensor: The calculated loss value.\n",
    "        \"\"\"\n",
    "        batch_size, num_classes, num_stations,  = logits.size()\n",
    "\n",
    "        # Compute the cumulative logits (z_i in the formula).\n",
    "        cumulative_logits = torch.cumsum(logits, dim=1)\n",
    "\n",
    "        # Calculate the CLL loss.\n",
    "        positive_part = torch.log(1 + torch.exp(-cumulative_logits))\n",
    "        negative_part = ordinal_labels * cumulative_logits\n",
    "        loss = torch.sum(positive_part - negative_part) / (batch_size * num_stations)\n",
    "\n",
    "        return loss"
   ]
  },
  {
   "cell_type": "code",
   "execution_count": null,
   "id": "3f83dd36",
   "metadata": {},
   "outputs": [],
   "source": [
    "\n",
    "def convert_to_ordinal_labels(class_labels, num_classes):\n",
    "    \"\"\"\n",
    "    Convert class labels to ordinal labels (binary matrices).\n",
    "\n",
    "    Args:\n",
    "        class_labels (torch.Tensor): Tensor containing class labels (shape: [batch_size, num_stations]).\n",
    "        num_classes (int): Total number of classes (for each station).\n",
    "\n",
    "    Returns:\n",
    "        torch.Tensor: Tensor containing ordinal labels (shape: [batch_size, num_stations, num_classes-1]).\n",
    "    \"\"\"\n",
    "    batch_size, num_stations = class_labels.size()\n",
    "    ordinal_labels = torch.zeros(batch_size,  num_classes - 1, num_stations)\n",
    "\n",
    "    for i in range(batch_size):\n",
    "        for j in range(num_stations):\n",
    "            ordinal_labels[i, :int(class_labels[i, j].item()), j ] = 1\n",
    "            \n",
    "    \n",
    "\n",
    "    return ordinal_labels\n"
   ]
  },
  {
   "cell_type": "code",
   "execution_count": null,
   "id": "c0731170",
   "metadata": {},
   "outputs": [],
   "source": []
  },
  {
   "cell_type": "code",
   "execution_count": null,
   "id": "a75c5102",
   "metadata": {},
   "outputs": [],
   "source": []
  },
  {
   "cell_type": "markdown",
   "id": "54625341",
   "metadata": {},
   "source": [
    "# Check Consistency "
   ]
  },
  {
   "cell_type": "raw",
   "id": "e145c011",
   "metadata": {},
   "source": []
  },
  {
   "cell_type": "raw",
   "id": "0ca73683",
   "metadata": {},
   "source": []
  },
  {
   "cell_type": "code",
   "execution_count": null,
   "id": "2b380585",
   "metadata": {},
   "outputs": [],
   "source": [
    "\n",
    "def train(model, train_loader, optimizer, loss_criterion):\n",
    "    model.train()\n",
    "    epochs = 3\n",
    "    for epoch in range(epochs):\n",
    "#         print(f' {epoch+1} / {epochs}')\n",
    "        for data in train_loader:\n",
    "            images, labels = data[0].to(device), data[1].to(device)\n",
    "            optimizer.zero_grad()\n",
    "            \n",
    "\n",
    "            # Forward pass\n",
    "            outputs = model(images)\n",
    "\n",
    "            # Calculate the loss\n",
    "            loss = loss_criterion(outputs, labels)  # Assuming inputs are the target values for autoencoder\n",
    "\n",
    "            # Backward pass and optimization\n",
    "            loss.backward()\n",
    "            optimizer.step()\n",
    "\n",
    "        \n",
    "def test(model, test_loader, loss_criterion):\n",
    "    model.eval()\n",
    "    test_loss = 0.0\n",
    "    \n",
    "    with torch.no_grad():\n",
    "        for data in test_loader:\n",
    "            images, labels = data[0].to(device), data[1].to(device)\n",
    "   \n",
    "            # Forward pass\n",
    "            outputs = model(images)\n",
    "            \n",
    "            # Calculate the loss\n",
    "            loss = loss_criterion(outputs, labels)  # Assuming inputs are the target values for autoencoder\n",
    "            test_loss += loss.item()\n",
    "    \n",
    "    # Calculate average test loss\n",
    "    test_loss /= len(test_loader.dataset)\n",
    "    return test_loss\n",
    "\n",
    "num_seeds = 10\n",
    "performance_count = 0 \n",
    "\n",
    "\n",
    "\n",
    "for seed in tqdm(range(num_seeds)):\n",
    "    # Set the random seed\n",
    "    torch.manual_seed(seed)\n",
    "\n",
    "    net = RegressionResNet(input_shape).to(device)\n",
    "    \n",
    "    rows_to_keep = (~greecee_stations.isnull().all(axis=1))\n",
    "\n",
    "    # Filter tensor input and target dataframe\n",
    "    filtered_input_tensor = tensor[rows_to_keep][:,:1,:,:]\n",
    "    filtered_input_tensor_corrected = tensor_with_correction[rows_to_keep][:,:1,:,:]\n",
    "    filtered_target_dataframe = greecee_stations[rows_to_keep]\n",
    "    \n",
    "    filtered_target_dataframe['time'] = pd.to_datetime(filtered_target_dataframe['time'])\n",
    "    label_tensor = torch.tensor(filtered_target_dataframe.drop('time',axis=1).values, dtype=torch.float32)\n",
    "\n",
    "    dataset1 = CustomDataset(filtered_input_tensor, filtered_target_dataframe ,label_tensor)\n",
    "    dataset2 = CustomDataset(filtered_input_tensor_corrected, filtered_target_dataframe, label_tensor)\n",
    "\n",
    "\n",
    "    train_dataset1, test_dataset1 = train_test_split(dataset1, test_size=0.2, random_state=seed)\n",
    "    train_dataset2, test_dataset2 = train_test_split(dataset2, test_size=0.2, random_state=seed)\n",
    "    \n",
    "    batch_size = 32  # Set your desired batch size\n",
    "    trainloader1 = DataLoader(train_dataset1, batch_size=batch_size, shuffle=True)\n",
    "    testloader1 = DataLoader(test_dataset1, batch_size=batch_size, shuffle=False)\n",
    "    trainloader2 = DataLoader(train_dataset2, batch_size=batch_size, shuffle=True)\n",
    "    testloader2 = DataLoader(test_dataset2, batch_size=batch_size, shuffle=False)\n",
    "\n",
    "\n",
    "    \n",
    "    optimizer = torch.optim.Adam(net.parameters(), lr=0.0001)\n",
    "    criterion = IgnoringNullMSELoss()\n",
    "    \n",
    "    train(net, trainloader1, optimizer, criterion)\n",
    "    original_metric = test(net, testloader1, criterion)\n",
    "\n",
    "    # Train and test the model on the new dataset\n",
    "    train(net, trainloader2, optimizer, criterion)\n",
    "    new_metric = test(net, testloader2, criterion)\n",
    "    \n",
    "    \n",
    "    \n",
    "    print(f' new metric {new_metric}, original_metric {original_metric}')\n",
    "    if new_metric < original_metric:\n",
    "        performance_count += 1\n",
    "\n",
    "# Print the number of times the new dataset outperformed the original one\n",
    "print(f\"New dataset outperformed the original dataset {performance_count}/{num_seeds} times.\")"
   ]
  },
  {
   "cell_type": "raw",
   "id": "66571939",
   "metadata": {},
   "source": []
  },
  {
   "cell_type": "raw",
   "id": "a922f337",
   "metadata": {},
   "source": []
  },
  {
   "cell_type": "raw",
   "id": "b5318f8a",
   "metadata": {},
   "source": []
  },
  {
   "cell_type": "raw",
   "id": "a5d0e2b6",
   "metadata": {},
   "source": []
  },
  {
   "cell_type": "raw",
   "id": "f902b76e",
   "metadata": {},
   "source": []
  },
  {
   "cell_type": "raw",
   "id": "3916e104",
   "metadata": {},
   "source": []
  },
  {
   "cell_type": "raw",
   "id": "8ada311f",
   "metadata": {},
   "source": []
  },
  {
   "cell_type": "raw",
   "id": "61c6587d",
   "metadata": {},
   "source": []
  },
  {
   "cell_type": "raw",
   "id": "2abdfe41",
   "metadata": {},
   "source": []
  },
  {
   "cell_type": "raw",
   "id": "f6e6b2b1",
   "metadata": {},
   "source": []
  },
  {
   "cell_type": "raw",
   "id": "b662f960",
   "metadata": {},
   "source": []
  },
  {
   "cell_type": "raw",
   "id": "a9189df2",
   "metadata": {},
   "source": []
  },
  {
   "cell_type": "raw",
   "id": "a7db508c",
   "metadata": {},
   "source": []
  },
  {
   "cell_type": "raw",
   "id": "cdab8f08",
   "metadata": {},
   "source": []
  },
  {
   "cell_type": "raw",
   "id": "03d8313b",
   "metadata": {},
   "source": []
  },
  {
   "cell_type": "code",
   "execution_count": null,
   "id": "fcf8d3f7",
   "metadata": {},
   "outputs": [],
   "source": []
  },
  {
   "cell_type": "raw",
   "id": "6ac35bd1",
   "metadata": {},
   "source": []
  }
 ],
 "metadata": {
  "kernelspec": {
   "display_name": "sagi_base",
   "language": "python",
   "name": "sagi_base"
  },
  "language_info": {
   "codemirror_mode": {
    "name": "ipython",
    "version": 3
   },
   "file_extension": ".py",
   "mimetype": "text/x-python",
   "name": "python",
   "nbconvert_exporter": "python",
   "pygments_lexer": "ipython3",
   "version": "3.10.10"
  },
  "toc": {
   "base_numbering": 1,
   "nav_menu": {},
   "number_sections": true,
   "sideBar": true,
   "skip_h1_title": false,
   "title_cell": "Table of Contents",
   "title_sidebar": "Contents",
   "toc_cell": false,
   "toc_position": {
    "height": "calc(100% - 180px)",
    "left": "10px",
    "top": "150px",
    "width": "314.641px"
   },
   "toc_section_display": true,
   "toc_window_display": true
  },
  "varInspector": {
   "cols": {
    "lenName": 16,
    "lenType": 16,
    "lenVar": 40
   },
   "kernels_config": {
    "python": {
     "delete_cmd_postfix": "",
     "delete_cmd_prefix": "del ",
     "library": "var_list.py",
     "varRefreshCmd": "print(var_dic_list())"
    },
    "r": {
     "delete_cmd_postfix": ") ",
     "delete_cmd_prefix": "rm(",
     "library": "var_list.r",
     "varRefreshCmd": "cat(var_dic_list()) "
    }
   },
   "types_to_exclude": [
    "module",
    "function",
    "builtin_function_or_method",
    "instance",
    "_Feature"
   ],
   "window_display": false
  }
 },
 "nbformat": 4,
 "nbformat_minor": 5
}
