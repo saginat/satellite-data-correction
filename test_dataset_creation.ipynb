{
 "cells": [
  {
   "cell_type": "code",
   "execution_count": 1,
   "id": "b1936014",
   "metadata": {
    "ExecuteTime": {
     "end_time": "2023-09-03T09:53:29.027796Z",
     "start_time": "2023-09-03T09:52:54.658266Z"
    }
   },
   "outputs": [
    {
     "name": "stderr",
     "output_type": "stream",
     "text": [
      "/home/labs/rudich/sagima/.conda/envs/sagi_base/lib/python3.10/site-packages/torchvision/io/image.py:13: UserWarning: Failed to load image Python extension: '/home/labs/rudich/sagima/.conda/envs/sagi_base/lib/python3.10/site-packages/torchvision/image.so: undefined symbol: _ZNK3c107SymBool10guard_boolEPKcl'If you don't plan on using image functionality from `torchvision.io`, you can ignore this warning. Otherwise, there might be something wrong with your environment. Did you have `libjpeg` or `libpng` installed before building `torchvision` from source?\n",
      "  warn(\n"
     ]
    }
   ],
   "source": [
    "import torch\n",
    "import matplotlib.pyplot as plt\n",
    "import numpy as np\n",
    "import pandas as pd\n",
    "import seaborn as sns\n",
    "import pickle\n",
    "\n",
    "from torch.utils.data import Dataset\n",
    "from torch.utils.data import DataLoader\n",
    "from torch import nn\n",
    "import torch.nn.functional as F\n",
    "\n",
    "from einops import rearrange\n",
    "#from torchsummary import summary\n",
    "\n",
    "import sys\n",
    "sys.path.insert(0, '../helpers')\n",
    "# sys.path.insert(0,'/home/labs/rudich/sagima/helpers')\n",
    "from plotting import *\n",
    "from validate import *\n",
    "from models import *\n",
    "from data_handlers import *\n",
    "from training import *\n",
    "from metrics import *\n",
    "from explore import *\n",
    "from torchsummary import *\n",
    "from visual_helpers_2 import *\n",
    "\n",
    "#from visual_helpers import *\n",
    "\n",
    "import itertools\n",
    "\n",
    "\n",
    "\n",
    "#taken from the model building section - \n",
    "import pandas as pd\n",
    "pd.set_option('max_colwidth', 800)\n",
    "\n",
    "\n",
    "import numpy as np\n",
    "from sklearn import datasets, linear_model\n",
    "from sklearn.linear_model import LinearRegression\n",
    "import statsmodels.api as sm\n",
    "from scipy import stats\n",
    "import xgboost as xg\n",
    "from statsmodels.tools.eval_measures import rmse\n",
    "import scipy \n",
    "from statsmodels.tsa.stattools import grangercausalitytests\n",
    "import torch.optim as optim\n",
    "from statsmodels.tsa.seasonal import seasonal_decompose\n",
    "from scipy.fft import fft, fftfreq\n",
    "import folium\n",
    "\n",
    "import matplotlib.pyplot as plt\n",
    "import cartopy.crs as ccrs\n",
    "from matplotlib.colors import Normalize\n",
    "from matplotlib.patches import Rectangle\n",
    "import cartopy.feature\n",
    "\n",
    "\n",
    "import xgboost as xgb\n",
    "from sklearn.model_selection import train_test_split\n",
    "from sklearn.metrics import mean_squared_error\n",
    "\n",
    "\n",
    "import plotly.graph_objects as go\n",
    "import plotly.express as px\n",
    "import plotly.io as pio\n",
    "\n",
    "\n",
    "import ast\n",
    "from scipy.spatial.distance import cdist\n",
    "\n",
    "from tqdm import tqdm\n"
   ]
  },
  {
   "cell_type": "code",
   "execution_count": 2,
   "id": "a5e13933",
   "metadata": {
    "ExecuteTime": {
     "end_time": "2023-08-02T06:42:54.444443Z",
     "start_time": "2023-08-02T06:42:54.386960Z"
    }
   },
   "outputs": [],
   "source": [
    "def convert_string_to_tuple_list(string_list):\n",
    "    tuple_list = []\n",
    "    for string in string_list:\n",
    "        # Remove leading and trailing whitespace and parentheses\n",
    "        string = string.strip('()')\n",
    "        # Convert string to tuple using ast.literal_eval\n",
    "        tuple_value = ast.literal_eval(string)\n",
    "        tuple_list.append(tuple_value)\n",
    "    return tuple_list\n",
    "\n",
    "with open(\"saved_turkey_lat_lon_cords\", \"rb\") as fp:   # Unpickling\n",
    "    saved_turkey_lat_lon_cords = pickle.load(fp)\n",
    "\n",
    "with open(\"saved_turkey_lat_lon_idx\", \"rb\") as fp:   # Unpickling\n",
    "    saved_turkey_lat_lon_idx = pickle.load(fp)\n",
    "    \n",
    "with open(\"saved_greece_lat_lon_cords\", \"rb\") as fp:   # Unpickling\n",
    "    saved_greece_lat_lon_cords= pickle.load(fp)\n",
    "\n",
    "with open(\"saved_greece_lat_lon_idx\", \"rb\") as fp:   # Unpickling\n",
    "    saved_greece_lat_lon_idx = pickle.load(fp)\n",
    "    \n",
    "saved_turkey_lat_lon_cords = convert_string_to_tuple_list(saved_turkey_lat_lon_cords)\n",
    "saved_turkey_lat_lon_cords.append((35.0,27.0))\n",
    "saved_turkey_lat_lon_cords.append((35.0, 45.5))\n",
    "\n",
    "with open(\"saved_turkey_and_greece_lat_lon_cords\", \"rb\") as fp:   # Unpickling\n",
    "    saved_turkey_and_greece_lat_lon_cords= pickle.load(fp)\n",
    "\n",
    "with open(\"saved_turkey_and_greece_lat_lon_idx\", \"rb\") as fp:   # Unpickling\n",
    "    saved_turkey_and_greece_lat_lon_idx = pickle.load(fp)\n"
   ]
  },
  {
   "cell_type": "code",
   "execution_count": 3,
   "id": "8cc0383c",
   "metadata": {
    "ExecuteTime": {
     "end_time": "2023-08-02T06:45:27.422070Z",
     "start_time": "2023-08-02T06:42:54.445633Z"
    }
   },
   "outputs": [],
   "source": [
    "\n",
    "colab_dir = \"/home/labs/rudich/Collaboration/dust_prediction/data\"\n",
    "meteo_dir = colab_dir+\"/interpolated_mean_normalized/\"\n",
    "meteo_de_dir = colab_dir+\"/meteorology_renormalization_tensors\"\n",
    "dust_dir = colab_dir+\"/dust_61368_108_2_339/\"\n",
    "\n",
    "pm10_all = torch.load(meteo_de_dir+\"/meteorology_tensors_1_81_189_interpolated_mean_normalized_pm10_tensor_denormalized.pkl\")\n",
    "labels_all = torch.load(dust_dir+\"dust_61368_108_2_339_full_tensor.pkl\")\n",
    "\n",
    "timestamps_labels = torch.load(dust_dir+\"dust_61368_108_2_339_full_timestamps.pkl\")\n",
    "timestamps_mpm = pd.to_datetime(torch.load(colab_dir+\"/meteorology_tensors_1_81_189_general_timestamps.pkl\"))\n",
    "timestamps_all = pd.to_datetime(torch.load(colab_dir+\"/meteorology_tensors_1_81_189_general_timestamps.pkl\"))\n",
    "\n",
    "\n"
   ]
  },
  {
   "cell_type": "code",
   "execution_count": 4,
   "id": "96ead8bd",
   "metadata": {
    "ExecuteTime": {
     "end_time": "2023-08-02T06:45:27.439222Z",
     "start_time": "2023-08-02T06:45:27.423463Z"
    }
   },
   "outputs": [],
   "source": [
    "colab_dir = \"/home/labs/rudich/Collaboration/dust_prediction/data\"\n",
    "meteo_dir = colab_dir+\"/interpolated_mean_normalized/\"\n",
    "meteo_de_dir = colab_dir+\"/meteorology_renormalization_tensors\"\n",
    "dust_dir = colab_dir+\"/dust_61368_108_2_339/\"\n",
    "\n",
    "meteo_meta = torch.load(meteo_dir+\"/meteorology_tensor_62_81_189_metadata.pkl\")\n",
    "dust_meta = torch.load(dust_dir+\"/dust_61368_108_2_339_metadata.pkl\")\n",
    "\n",
    "lons_dict = meteo_meta['dims']['lons']\n",
    "lats_dict = meteo_meta['dims']['lats']\n",
    "\n"
   ]
  },
  {
   "cell_type": "code",
   "execution_count": 5,
   "id": "61b3693b",
   "metadata": {
    "ExecuteTime": {
     "end_time": "2023-08-02T06:45:32.790867Z",
     "start_time": "2023-08-02T06:45:27.441285Z"
    }
   },
   "outputs": [
    {
     "name": "stderr",
     "output_type": "stream",
     "text": [
      "/tmp/ipykernel_30159/2475775844.py:26: DeprecationWarning: parsing timezone aware datetimes is deprecated; this will raise an error in the future\n",
      "  timestamps = df_pm.index.values.astype('datetime64[s]').astype(np.int64)\n",
      " 50%|██████████████████████▌                      | 1/2 [00:00<00:00,  2.60it/s]"
     ]
    },
    {
     "name": "stdout",
     "output_type": "stream",
     "text": [
      "52513\n"
     ]
    },
    {
     "name": "stderr",
     "output_type": "stream",
     "text": [
      "100%|█████████████████████████████████████████████| 2/2 [00:00<00:00,  2.15it/s]"
     ]
    },
    {
     "name": "stdout",
     "output_type": "stream",
     "text": [
      "61367\n"
     ]
    },
    {
     "name": "stderr",
     "output_type": "stream",
     "text": [
      "\n"
     ]
    }
   ],
   "source": [
    "df_pm0 = pd.read_csv(\"/home/labs/rudich/sagima/TOAR/pm_0.csv\",index_col=0).dropna(axis=1,how='all')\n",
    "df_pm1 = pd.read_csv(\"/home/labs/rudich/sagima/TOAR/pm_1.csv\",index_col=0).dropna(axis=1,how='all')\n",
    "df_pm2 = pd.read_csv(\"/home/labs/rudich/sagima/TOAR/pm_2.csv\",index_col=0).dropna(axis=1,how='all')\n",
    "df_pm3 = pd.read_csv(\"/home/labs/rudich/sagima/TOAR/pm_3.csv\",index_col=0).dropna(axis=1,how='all')\n",
    "df_pm4 = pd.read_csv(\"/home/labs/rudich/sagima/TOAR/pm_4.csv\",index_col=0).dropna(axis=1,how='all')\n",
    "df_pm5 = pd.read_csv(\"/home/labs/rudich/sagima/TOAR/pm_5.csv\",index_col=0).dropna(axis=1,how='all')\n",
    "df_pm6 = pd.read_csv(\"/home/labs/rudich/sagima/TOAR/pm_6.csv\",index_col=0).dropna(axis=1,how='all')\n",
    "\n",
    "df_pm =(\n",
    "        pd.merge(df_pm0, df_pm1, how='outer',left_index=True, right_index=True)\n",
    "        .pipe(lambda d:pd.merge(d, df_pm2, how='outer',left_index=True, right_index=True))\n",
    "        .pipe(lambda d:pd.merge(d, df_pm3, how='outer',left_index=True, right_index=True))\n",
    "        .pipe(lambda d:pd.merge(d, df_pm4, how='outer',left_index=True, right_index=True))\n",
    "        .pipe(lambda d:pd.merge(d, df_pm5, how='outer',left_index=True, right_index=True))\n",
    "        .pipe(lambda d:pd.merge(d, df_pm6, how='outer',left_index=True, right_index=True))\n",
    "\n",
    "\n",
    ")\n",
    "df_cord = pd.read_csv(\"/home/labs/rudich/sagima/TOAR/coordinates_pm.csv\")\n",
    "df_cord = df_cord.rename(columns={df_cord.columns[0]:'station_id'})\n",
    "\n",
    "\n",
    "first_year = int(df_pm.index[0][:4])\n",
    "last_year = int(df_pm.index[-1][:4])\n",
    "\n",
    "timestamps = df_pm.index.values.astype('datetime64[s]').astype(np.int64)\n",
    "stn_ids = df_pm.columns.values.astype(np.int64)\n",
    "\n",
    "\n",
    "pm10_values = df_pm.to_numpy()\n",
    "\n",
    "pm10_tensor = pm10_values.reshape(len(timestamps), len(stn_ids), 1)\n",
    "\n",
    "# Convert the tensor to a PyTorch tensor\n",
    "labels_all = torch.from_numpy(pm10_tensor)\n",
    "\n",
    "timestamp_labels = pd.to_datetime(df_pm.index)\n",
    "\n",
    "zero_var = (pm10_all.var((2,3))==0).reshape(-1).numpy()\n",
    "pm10_valid_timestamps = timestamps_all[~zero_var]\n",
    "pm10_valid_all = pm10_all[~zero_var]\n",
    "\n",
    "l = [pm10_valid_timestamps, timestamp_labels]\n",
    "shared_timestamps = l[0].intersection(l[1])\n",
    "\n",
    "shared_timestamps_idxs = []\n",
    "for timestamps_list in tqdm(l):\n",
    "    shared_idxs_per_list = []\n",
    "    for shared_t in shared_timestamps:\n",
    "        try:\n",
    "            shared_idxs_per_list.append(timestamps_list.get_loc(shared_t))\n",
    "            \n",
    "        except:\n",
    "            print(f\"Error! Something wierd happend with {shared_t} and {timestamps_list}. Aborting\")\n",
    "        if shared_t == shared_timestamps[-1]:\n",
    "            print(max(shared_idxs_per_list))\n",
    "    shared_timestamps_idxs.append(shared_idxs_per_list)\n",
    "\n",
    "inputs_all = pm10_valid_all\n",
    "labels_all = labels_all\n",
    "\n",
    "\n",
    "\n",
    "years = [ i for i in range(first_year, last_year)]\n",
    "months = [i for i in range(1,13)]\n",
    "\n",
    "dt = pd.Series(shared_timestamps).dt\n",
    "years = np.isin(dt.year, years)\n",
    "months = np.isin(dt.month, months)\n",
    "include = (years) * (months)\n",
    "\n",
    "pm10_shared_timestamps = shared_timestamps[include]\n",
    "inputs = inputs_all[shared_timestamps_idxs[0]][include]\n",
    "labels = labels_all[shared_timestamps_idxs[1]][include]\n",
    "\n"
   ]
  },
  {
   "cell_type": "code",
   "execution_count": 6,
   "id": "10f282a1",
   "metadata": {
    "ExecuteTime": {
     "end_time": "2023-08-02T06:45:32.796496Z",
     "start_time": "2023-08-02T06:45:32.793746Z"
    }
   },
   "outputs": [],
   "source": [
    "channels46 = [\"Q250\",\"Q500\",\"Q700\",\"Q850\",\"Q900\",\n",
    "            \"T250\",\"T500\",\"T700\",\"T850\",\"T900\",\n",
    "            \"U250\",\"U500\",\"U700\",\"U850\",\"U900\",\n",
    "            \"V250\",\"V500\",\"V700\",\"V850\",\"V900\",\n",
    "            \"Z250\",\"Z500\",\"Z700\",\"Z850\",\"Z900\",\n",
    "            \"PV250\",\"PV500\",\"PV700\",\"PV850\",\"PV900\",\n",
    "            \"OMEGA250\",\"OMEGA500\",\"OMEGA700\",\"OMEGA850\",\"OMEGA900\",\n",
    "            \"SLP\",\"u10\",\"v10\",\"duaod550\",'aermr06_50','aermr06_40','aermr06_30', 'aermr06_20',\n",
    "              \"pm2p5\",\"pm10\",\"tcwv\"]\n"
   ]
  },
  {
   "cell_type": "code",
   "execution_count": null,
   "id": "5a9632b4-af5e-4544-bf0e-db8646dbe481",
   "metadata": {},
   "outputs": [],
   "source": []
  },
  {
   "cell_type": "code",
   "execution_count": 7,
   "id": "09faedf1",
   "metadata": {
    "ExecuteTime": {
     "end_time": "2023-08-02T06:45:33.672541Z",
     "start_time": "2023-08-02T06:45:32.806383Z"
    }
   },
   "outputs": [],
   "source": [
    "all_stations_lonlat = (df_cord \n",
    "                       .rename(columns={'lng':'lon'})\n",
    "                       .assign(stn_id=np.arange(0,df_cord.shape[0],1))\n",
    "                        )\n",
    "\n",
    "\n",
    "df_pm.index = pd.to_datetime(df_pm.index)\n",
    "df_pm.columns =  df_pm.columns.astype(int)\n",
    "set1 = set(pm10_valid_timestamps)\n",
    "set2 = set(df_pm.index)\n",
    "\n",
    "# Find the intersection of the sets\n",
    "intersection = set1.intersection(set2)\n",
    "\n",
    "# Convert the intersection set to a DatetimeIndex\n",
    "common_timestamps = pd.DatetimeIndex(pd.to_datetime(list(intersection)))\n",
    "common_timestamps = common_timestamps.sort_values()\n",
    "# Find the index where the intersection starts\n",
    "start_index = list(pm10_valid_timestamps).index(common_timestamps[0])\n",
    "\n",
    "# Find the index where the intersection ends\n",
    "end_index = list(pm10_valid_timestamps).index(common_timestamps[-1])\n"
   ]
  },
  {
   "cell_type": "code",
   "execution_count": 8,
   "id": "c755855c",
   "metadata": {
    "ExecuteTime": {
     "end_time": "2023-08-02T06:45:33.676086Z",
     "start_time": "2023-08-02T06:45:33.673968Z"
    }
   },
   "outputs": [],
   "source": [
    "inv_lats = {v: k for k, v in lats_dict.items()}\n",
    "inv_lons = {v: k for k, v in lons_dict.items()}"
   ]
  },
  {
   "cell_type": "code",
   "execution_count": 9,
   "id": "662cb0c0-e694-44ac-a86f-2b35e3545da1",
   "metadata": {},
   "outputs": [],
   "source": [
    "import pickle\n",
    "with open('pixel_to_station_id.pkl','rb' ) as f:\n",
    "       simple_dict =  pickle.load(f)"
   ]
  },
  {
   "cell_type": "code",
   "execution_count": 10,
   "id": "5e6a26c7-0c19-43d6-9545-77327c6e11c9",
   "metadata": {},
   "outputs": [
    {
     "data": {
      "text/plain": [
       "{'[34.5 33. ]': [28218],\n",
       " '[35. 33.]': [28220],\n",
       " '[35.  33.5]': [28219],\n",
       " '[35.5 24. ]': [46294],\n",
       " '[35.5 25. ]': [46239],\n",
       " '[36. 36.]': [6984, 8210, 56731, 56850],\n",
       " '[36.5 34. ]': [72510],\n",
       " '[36.5 36. ]': [56669],\n",
       " '[36.5 37. ]': [56646],\n",
       " '[37. 28.]': [5132],\n",
       " '[37.  28.5]': [6979, 8122, 56618],\n",
       " '[37.  30.5]': [56739, 56846],\n",
       " '[37. 33.]': [56679],\n",
       " '[37.  34.5]': [56738, 56797],\n",
       " '[37.  35.5]': [6968, 6971, 6983, 8178, 8211, 56603, 56604, 56653, 56718],\n",
       " '[37. 36.]': [56612],\n",
       " '[37.  36.5]': [56858],\n",
       " '[37.  37.5]': [56794],\n",
       " '[37. 39.]': [56785],\n",
       " '[37.5 28. ]': [4997, 56668],\n",
       " '[37.5 30.5]': [56702],\n",
       " '[37.5 37. ]': [56733, 56857],\n",
       " '[37.5 40.5]': [56656],\n",
       " '[37.5 42.5]': [56773],\n",
       " '[37.5 43.5]': [56666],\n",
       " '[38.  21.5]': [14311, 46261, 46264, 46271],\n",
       " '[38.  23.5]': [9937,\n",
       "  12347,\n",
       "  12405,\n",
       "  12471,\n",
       "  12501,\n",
       "  46251,\n",
       "  46253,\n",
       "  46263,\n",
       "  46269,\n",
       "  46272,\n",
       "  46273,\n",
       "  46276,\n",
       "  46277,\n",
       "  46284,\n",
       "  46285,\n",
       "  46287,\n",
       "  46290],\n",
       " '[38. 24.]': [9993,\n",
       "  10162,\n",
       "  12307,\n",
       "  12353,\n",
       "  12502,\n",
       "  46247,\n",
       "  46248,\n",
       "  46249,\n",
       "  46250,\n",
       "  46254,\n",
       "  46255,\n",
       "  46257,\n",
       "  46258,\n",
       "  46259,\n",
       "  46260,\n",
       "  46289,\n",
       "  46292,\n",
       "  46297,\n",
       "  46299,\n",
       "  46300],\n",
       " '[38. 27.]': [],\n",
       " '[38. 28.]': [56754],\n",
       " '[38. 29.]': [8120, 8192, 56664, 56767],\n",
       " '[38.  30.5]': [56633, 56809],\n",
       " '[38.  32.5]': [5419, 6959, 8119, 8135, 56647, 56711, 56804, 56823, 56835],\n",
       " '[38.  34.5]': [56760, 56787],\n",
       " '[38. 37.]': [8125, 56701],\n",
       " '[38.  38.5]': [56766],\n",
       " '[38. 40.]': [56605],\n",
       " '[38. 41.]': [56613],\n",
       " '[38. 42.]': [56638],\n",
       " '[38.5 21.5]': [46278, 46280, 46291],\n",
       " '[38.5 23. ]': [10269, 46243, 46281, 46283],\n",
       " '[38.5 23.5]': [46274],\n",
       " '[38.5 27. ]': [5154,\n",
       "  7203,\n",
       "  7393,\n",
       "  7582,\n",
       "  8105,\n",
       "  56706,\n",
       "  56736,\n",
       "  56756,\n",
       "  56765,\n",
       "  56769,\n",
       "  56781,\n",
       "  56793,\n",
       "  56813],\n",
       " '[38.5 27.5]': [56727],\n",
       " '[38.5 29.5]': [56737],\n",
       " '[38.5 30.5]': [56865],\n",
       " '[38.5 34. ]': [56663, 56864],\n",
       " '[38.5 34.5]': [56743, 56750],\n",
       " '[38.5 35.5]': [56686, 56716, 56775, 56816],\n",
       " '[38.5 38.5]': [56615],\n",
       " '[38.5 39. ]': [56707],\n",
       " '[38.5 41.5]': [56645],\n",
       " '[38.5 42. ]': [56642],\n",
       " '[38.5 43.5]': [56770],\n",
       " '[39. 22.]': [46293],\n",
       " '[39.  22.5]': [46301],\n",
       " '[39.  27.5]': [56662],\n",
       " '[39.  30.5]': [56730],\n",
       " '[39. 34.]': [56695],\n",
       " '[39.  39.5]': [56630],\n",
       " '[39.  40.5]': [56839],\n",
       " '[39. 43.]': [8128, 56712],\n",
       " '[39.5 21. ]': [46246, 46286],\n",
       " '[39.5 22.5]': [12526, 46244, 46252],\n",
       " '[39.5 23. ]': [12528, 46267, 46268, 46275, 46295],\n",
       " '[39.5 27. ]': [56752],\n",
       " '[39.5 28. ]': [56685, 56842],\n",
       " '[39.5 29.5]': [56833],\n",
       " '[39.5 30. ]': [8104, 56764, 56820, 56834, 56863],\n",
       " '[39.5 30.5]': [56860],\n",
       " '[39.5 32. ]': [56861],\n",
       " '[39.5 37. ]': [56651, 56728, 56759],\n",
       " '[39.5 39.5]': [8171, 56657, 56795],\n",
       " '[39.5 43. ]': [56623],\n",
       " '[39.5 44. ]': [8131, 56710],\n",
       " '[40.  26.5]': [56722],\n",
       " '[40. 27.]': [8053, 56677, 56747],\n",
       " '[40. 29.]': [7213, 8036, 56650, 56704, 56831],\n",
       " '[40.  29.5]': [7987, 56626],\n",
       " '[40. 30.]': [8046, 56617, 56789],\n",
       " '[40.  30.5]': [56783, 56822, 56824, 56844],\n",
       " '[40.  32.5]': [6956, 56692, 56709, 56757, 56832, 56848, 56856],\n",
       " '[40. 33.]': [56608,\n",
       "  56609,\n",
       "  56622,\n",
       "  56659,\n",
       "  56684,\n",
       "  56714,\n",
       "  56720,\n",
       "  56772,\n",
       "  56778,\n",
       "  56806,\n",
       "  56825,\n",
       "  56859],\n",
       " '[40.  33.5]': [56616, 56853],\n",
       " '[40. 35.]': [7605, 56619, 56812],\n",
       " '[40.  41.5]': [8126, 8127, 8158, 8206, 56674, 56763, 56780, 56808, 56821],\n",
       " '[40. 44.]': [56782],\n",
       " '[40.  44.5]': [8209, 56734],\n",
       " '[40.5 21. ]': [25143],\n",
       " '[40.5 21.5]': [46279],\n",
       " '[40.5 22. ]': [46266, 46282, 46296],\n",
       " '[40.5 23. ]': [10174,\n",
       "  12287,\n",
       "  12303,\n",
       "  12518,\n",
       "  46235,\n",
       "  46236,\n",
       "  46237,\n",
       "  46238,\n",
       "  46240,\n",
       "  46241,\n",
       "  46242,\n",
       "  46245,\n",
       "  46256,\n",
       "  46262,\n",
       "  46265,\n",
       "  46270,\n",
       "  46288,\n",
       "  46298],\n",
       " '[40.5 27. ]': [8057],\n",
       " '[40.5 28. ]': [8042, 24842, 56640, 56652],\n",
       " '[40.5 29. ]': [8069, 56620],\n",
       " '[40.5 29.5]': [56628],\n",
       " '[40.5 30. ]': [8044, 8048, 24843, 56649, 56689, 56691],\n",
       " '[40.5 31.5]': [24845, 56678, 56721, 56761],\n",
       " '[40.5 33. ]': [],\n",
       " '[40.5 33.5]': [56805],\n",
       " '[40.5 35. ]': [56634, 56681, 56705],\n",
       " '[40.5 35.5]': [],\n",
       " '[40.5 36. ]': [56682, 56723, 56777],\n",
       " '[40.5 36.5]': [56671, 56715, 56817],\n",
       " '[40.5 39.5]': [56648],\n",
       " '[40.5 40. ]': [56680],\n",
       " '[40.5 40.5]': [56774, 72429],\n",
       " '[40.5 43. ]': [8170, 56729, 56792],\n",
       " '[41.  21.5]': [5169, 5190, 51526, 51529],\n",
       " '[41.  26.5]': [8041, 56803],\n",
       " '[41.  27.5]': [8031, 56713, 56749],\n",
       " '[41. 28.]': [56796],\n",
       " '[41.  28.5]': [7859, 8049, 8068, 56693, 56742, 56799, 56802],\n",
       " '[41. 29.]': [5465,\n",
       "  7346,\n",
       "  7381,\n",
       "  7830,\n",
       "  7853,\n",
       "  7857,\n",
       "  7858,\n",
       "  7861,\n",
       "  7862,\n",
       "  7863,\n",
       "  7869,\n",
       "  7870,\n",
       "  7872,\n",
       "  7913,\n",
       "  7936,\n",
       "  8030,\n",
       "  8058,\n",
       "  8059,\n",
       "  8062,\n",
       "  8063,\n",
       "  8067,\n",
       "  24840,\n",
       "  56610,\n",
       "  56632,\n",
       "  56636,\n",
       "  56639,\n",
       "  56641,\n",
       "  56655,\n",
       "  56673,\n",
       "  56683,\n",
       "  56694,\n",
       "  56696,\n",
       "  56703,\n",
       "  56724,\n",
       "  56725,\n",
       "  56740,\n",
       "  56741,\n",
       "  56746,\n",
       "  56748,\n",
       "  56751,\n",
       "  56762,\n",
       "  56814,\n",
       "  56827,\n",
       "  56836,\n",
       "  56838,\n",
       "  56847,\n",
       "  56849,\n",
       "  56862],\n",
       " '[41.  29.5]': [7390,\n",
       "  7988,\n",
       "  8060,\n",
       "  8133,\n",
       "  8134,\n",
       "  24844,\n",
       "  56631,\n",
       "  56644,\n",
       "  56744,\n",
       "  56807,\n",
       "  56828,\n",
       "  56837,\n",
       "  56845,\n",
       "  56855],\n",
       " '[41. 30.]': [8037, 8045, 8061, 56665, 56697, 56732, 56810],\n",
       " '[41.  30.5]': [8052, 24841, 56606, 56661, 56687],\n",
       " '[41. 31.]': [56643, 56818, 56826],\n",
       " '[41.  32.5]': [7354, 7357, 8101, 8102, 24839, 56667, 56700, 56791],\n",
       " '[41.  35.5]': [8148, 56635, 56688],\n",
       " '[41.  36.5]': [6946, 56611],\n",
       " '[41.  37.5]': [6954, 56670, 56676],\n",
       " '[41. 38.]': [6942, 8146, 56624, 56690],\n",
       " '[41.  38.5]': [56771, 56800],\n",
       " '[41.  39.5]': [8114, 8179, 8215, 56699, 56753, 56788, 56801, 56819],\n",
       " '[41.  40.5]': [56776],\n",
       " '[41. 41.]': [8208, 56851],\n",
       " '[41. 42.]': [56841],\n",
       " '[41.  42.5]': [56627],\n",
       " '[41.5 20.5]': [5134, 51524],\n",
       " '[41.5 21. ]': [5182, 51530],\n",
       " '[41.5 22. ]': [5184, 5195, 51528, 51535],\n",
       " '[41.5 24.5]': [10221, 27530, 27545],\n",
       " '[41.5 25.5]': [11168, 27522],\n",
       " '[41.5 26.5]': [56607],\n",
       " '[41.5 27. ]': [56698],\n",
       " '[41.5 27.5]': [8043, 56660],\n",
       " '[41.5 28. ]': [8064, 56629],\n",
       " '[41.5 29. ]': [7873, 56815],\n",
       " '[41.5 31.5]': [7886, 56786, 56852],\n",
       " '[41.5 32. ]': [7408, 7892, 8124, 56675, 56745, 56784, 56843, 56854],\n",
       " '[41.5 32.5]': [56726, 56840],\n",
       " '[41.5 34. ]': [56798],\n",
       " '[41.5 35. ]': [56637],\n",
       " '[41.5 36. ]': [6953, 56672],\n",
       " '[41.5 36.5]': [6961, 6981, 6992, 56614, 56621, 56755, 56779],\n",
       " '[41.5 41.5]': [8078, 56830],\n",
       " '[42.  20.5]': [10108, 57634],\n",
       " '[42. 21.]': [5181, 51531, 57646],\n",
       " '[42.  21.5]': [5135,\n",
       "  5136,\n",
       "  5173,\n",
       "  5175,\n",
       "  5176,\n",
       "  5191,\n",
       "  10117,\n",
       "  51521,\n",
       "  51522,\n",
       "  51523,\n",
       "  51525,\n",
       "  51527,\n",
       "  51532,\n",
       "  51533,\n",
       "  51534,\n",
       "  57643],\n",
       " '[42.  22.5]': [5185, 51520],\n",
       " '[42. 23.]': [11154, 27527],\n",
       " '[42.  24.5]': [27531],\n",
       " '[42. 25.]': [11160, 27517, 27524, 27535, 27542],\n",
       " '[42.  25.5]': [11166, 27512, 27518],\n",
       " '[42. 26.]': [27523],\n",
       " '[42. 28.]': [8047, 56719],\n",
       " '[42. 35.]': [5797, 6945, 56654, 56658],\n",
       " '[42.5 20. ]': [57641],\n",
       " '[42.5 20.5]': [10104, 57644, 57645],\n",
       " '[42.5 21. ]': [10109,\n",
       "  10113,\n",
       "  10116,\n",
       "  57635,\n",
       "  57636,\n",
       "  57637,\n",
       "  57638,\n",
       "  57640,\n",
       "  57642],\n",
       " '[42.5 21.5]': [10112, 57639],\n",
       " '[42.5 23. ]': [11151, 27508, 27519, 27526, 27540],\n",
       " '[42.5 23.5]': [11149,\n",
       "  11158,\n",
       "  11161,\n",
       "  11167,\n",
       "  27504,\n",
       "  27510,\n",
       "  27514,\n",
       "  27515,\n",
       "  27520,\n",
       "  27529,\n",
       "  27543],\n",
       " '[42.5 24. ]': [27532],\n",
       " '[42.5 25.5]': [11157, 27503],\n",
       " '[42.5 26.5]': [11152, 27505],\n",
       " '[42.5 27.5]': [10480, 11150, 11156, 27506, 27528, 27533, 27539],\n",
       " '[43. 21.]': [10106],\n",
       " '[43.  23.5]': [11165, 27534],\n",
       " '[43.  24.5]': [11153, 27544],\n",
       " '[43.  25.5]': [9975, 27525, 27537],\n",
       " '[43.  27.5]': [11169, 27521],\n",
       " '[43. 28.]': [11148, 27516, 27538, 27546],\n",
       " '[43.5 22. ]': [14991, 15080, 53265, 53267],\n",
       " '[43.5 23. ]': [27509],\n",
       " '[43.5 24.5]': [27547],\n",
       " '[43.5 27. ]': [9897, 27511],\n",
       " '[43.5 28. ]': [10553, 27513],\n",
       " '[44. 21.]': [53266],\n",
       " '[44.  22.5]': [53260],\n",
       " '[44. 23.]': [27536, 27541],\n",
       " '[44. 26.]': [11164, 27507],\n",
       " '[44.5 21. ]': [53261, 53264],\n",
       " '[44.5 24. ]': [72806],\n",
       " '[44.5 26. ]': [12158, 12161, 12163, 14907, 14910, 14923, 14924, 14926],\n",
       " '[45.  20.5]': [15022, 15124, 15759, 53257, 53258, 53259, 53262, 53268]}"
      ]
     },
     "execution_count": 10,
     "metadata": {},
     "output_type": "execute_result"
    }
   ],
   "source": [
    "simple_dict"
   ]
  },
  {
   "cell_type": "code",
   "execution_count": 9,
   "id": "127f0309",
   "metadata": {
    "ExecuteTime": {
     "end_time": "2023-07-27T08:20:29.546962Z",
     "start_time": "2023-07-27T08:02:48.342218Z"
    },
    "tags": []
   },
   "outputs": [],
   "source": [
    "# import pickle\n",
    "# with open('pixel_to_station_id.pkl','rb' ) as f:\n",
    "#        simple_dict =  pickle.load(f)\n",
    "\n",
    "# stations_tensor = np.zeros((pm10_valid_timestamps.shape[0], 1, len(lats_dict), len(lons_dict)))\n",
    "\n",
    "# stations_tensor[:,0,:,:] = np.nan\n",
    "# # Iterate over each key in the simple_dict\n",
    "# for key in tqdm(simple_dict):\n",
    "#     # Extract the latitude and longitude values from the key\n",
    "#     values = key[1:-1].split()\n",
    "\n",
    "#     # Convert the values to float\n",
    "#     values = [float(value) for value in values]\n",
    "\n",
    "#     lat = values[0]\n",
    "#     lon = values[1]\n",
    "\n",
    "#     # Get the corresponding indices from the inv_lats and inv_lons dictionaries\n",
    "#     lat_index = inv_lats[lat]\n",
    "#     lon_index = inv_lons[lon]\n",
    "\n",
    "#     # Iterate over each timestamp in the common_timestamps list\n",
    "#     for t, timestamp in enumerate(common_timestamps):\n",
    "#         if t >= start_index:\n",
    "#             # Get the corresponding row in the pm10_df DataFrame based on the timestamp\n",
    "#             df_row = df_pm.loc[timestamp]\n",
    "\n",
    "#             # Filter the columns in the DataFrame based on the values from the simple_dict\n",
    "#             filtered_df = df_row[simple_dict[key]]\n",
    "\n",
    "#             # Calculate the average value of the filtered columns\n",
    "#             mean_value = filtered_df.mean()\n",
    "\n",
    "#             # Update the tensor at the specified indices with the mean value\n",
    "#             stations_tensor[t, 0, lat_index, lon_index] = mean_value\n"
   ]
  },
  {
   "cell_type": "code",
   "execution_count": 10,
   "id": "defb1036",
   "metadata": {
    "ExecuteTime": {
     "end_time": "2023-08-02T06:45:51.083148Z",
     "start_time": "2023-08-02T06:45:33.677187Z"
    }
   },
   "outputs": [],
   "source": [
    "# torch.save(torch.from_numpy(stations_tensor), 'stations_tensor.pt')\n",
    "stations_tensor = torch.load('stations_tensor.pt')"
   ]
  },
  {
   "cell_type": "code",
   "execution_count": 11,
   "id": "b91df715",
   "metadata": {
    "ExecuteTime": {
     "start_time": "2023-08-02T06:42:25.527Z"
    }
   },
   "outputs": [
    {
     "name": "stderr",
     "output_type": "stream",
     "text": [
      "100%|████████████████████████████████████████████████████████| 46/46 [02:09<00:00,  2.81s/it]\n"
     ]
    },
    {
     "name": "stdout",
     "output_type": "stream",
     "text": [
      "torch.Size([52514, 46, 81, 189])\n"
     ]
    }
   ],
   "source": [
    "\n",
    "tensors_list = []\n",
    "#labels_all = torch.load(dust_dir+\"dust_61368_108_2_339_full_tensor.pkl\")\n",
    "for channel in tqdm(range(len(channels46))):\n",
    "    data_dir = \"/home/labs/rudich/Collaboration/dust_prediction/data/interpolated_mean_normalized/\"\n",
    "    dust_dir = \"/home/labs/rudich/Collaboration/dust_prediction/data/dust_61368_108_2_339/\"\n",
    "    channel_all = torch.load(f\"/home/labs/rudich/Collaboration/dust_prediction/data/meteorology_renormalization_tensors/meteorology_tensors_1_81_189_interpolated_mean_normalized_{channels46[channel]}_tensor_denormalized.pkl\")\n",
    "    tensors_list.append(channel_all)\n",
    "stacked_tensor = torch.stack(tensors_list, dim=1)\n",
    "stacked_tensor = stacked_tensor.squeeze(dim=2)\n",
    "stacked_tensor = stacked_tensor[~zero_var]\n",
    "print(stacked_tensor.shape)"
   ]
  },
  {
   "cell_type": "code",
   "execution_count": 12,
   "id": "8d9da394",
   "metadata": {
    "ExecuteTime": {
     "start_time": "2023-08-02T06:42:26.758Z"
    }
   },
   "outputs": [],
   "source": [
    "\n",
    "# full = torch.cat((stacked_tensor,torch.from_numpy(stations_tensor)),dim=1)\n",
    "full = torch.cat((stacked_tensor,stations_tensor),dim=1)\n",
    "del stacked_tensor\n",
    "del stations_tensor\n",
    "del tensors_list\n",
    "del channel_all"
   ]
  },
  {
   "cell_type": "code",
   "execution_count": null,
   "id": "f6d78950",
   "metadata": {
    "ExecuteTime": {
     "end_time": "2023-07-27T08:28:33.828238Z",
     "start_time": "2023-07-27T08:28:33.660950Z"
    }
   },
   "outputs": [],
   "source": [
    "a = torch.zeros(1, 81, 189)\n",
    "a[0,10:75,50:117] = 1\n",
    "print_parameter(a,0,figsize=(20,10))"
   ]
  },
  {
   "cell_type": "code",
   "execution_count": 13,
   "id": "ebd31c30",
   "metadata": {
    "ExecuteTime": {
     "start_time": "2023-08-02T06:42:27.783Z"
    }
   },
   "outputs": [],
   "source": [
    "# Define the slice indices\n",
    "lat_start, lat_end = 10, 75\n",
    "lon_start, lon_end = 50, 117\n",
    "\n",
    "# Slice the tensor\n",
    "sliced_tensor = full[:, :, lat_start:lat_end, lon_start:lon_end]\n",
    "\n",
    "# Create new dictionaries for the sliced lat and lon indices\n",
    "new_lats_dict = {i: lats_dict[i] for i in range(lat_start, lat_end)}\n",
    "new_lons_dict = {i: lons_dict[i] for i in range(lon_start, lon_end)}\n",
    "\n",
    "def replace_keys_with_sequential_integers(dictionary):\n",
    "    new_dict = {}\n",
    "    keys = list(dictionary.keys())\n",
    "    for i in range(len(keys)):\n",
    "        new_dict[i] = dictionary[keys[i]]\n",
    "    return new_dict\n",
    "\n",
    "new_lats_dict = replace_keys_with_sequential_integers(new_lats_dict)\n",
    "new_lons_dict = replace_keys_with_sequential_integers(new_lons_dict)\n",
    "\n",
    "del full\n"
   ]
  },
  {
   "cell_type": "code",
   "execution_count": 14,
   "id": "3e99813b",
   "metadata": {
    "ExecuteTime": {
     "start_time": "2023-08-02T06:42:28.967Z"
    }
   },
   "outputs": [],
   "source": [
    "import pickle\n",
    "with open('pixel_to_station_id.pkl','rb' ) as f:\n",
    "       simple_dict =  pickle.load(f)"
   ]
  },
  {
   "cell_type": "code",
   "execution_count": 15,
   "id": "a5ab3cbc",
   "metadata": {
    "ExecuteTime": {
     "start_time": "2023-08-02T06:42:29.927Z"
    }
   },
   "outputs": [
    {
     "name": "stderr",
     "output_type": "stream",
     "text": [
      "100%|████████████████████████████████████████████████████████| 65/65 [00:04<00:00, 14.72it/s]\n"
     ]
    },
    {
     "data": {
      "text/html": [
       "<div>\n",
       "<style scoped>\n",
       "    .dataframe tbody tr th:only-of-type {\n",
       "        vertical-align: middle;\n",
       "    }\n",
       "\n",
       "    .dataframe tbody tr th {\n",
       "        vertical-align: top;\n",
       "    }\n",
       "\n",
       "    .dataframe thead th {\n",
       "        text-align: right;\n",
       "    }\n",
       "</style>\n",
       "<table border=\"1\" class=\"dataframe\">\n",
       "  <thead>\n",
       "    <tr style=\"text-align: right;\">\n",
       "      <th></th>\n",
       "      <th>0</th>\n",
       "      <th>1</th>\n",
       "      <th>2</th>\n",
       "      <th>3</th>\n",
       "      <th>4</th>\n",
       "      <th>5</th>\n",
       "      <th>6</th>\n",
       "      <th>7</th>\n",
       "      <th>8</th>\n",
       "      <th>9</th>\n",
       "      <th>...</th>\n",
       "      <th>39</th>\n",
       "      <th>40</th>\n",
       "      <th>41</th>\n",
       "      <th>42</th>\n",
       "      <th>43</th>\n",
       "      <th>44</th>\n",
       "      <th>45</th>\n",
       "      <th>46</th>\n",
       "      <th>time</th>\n",
       "      <th>lat_lon_coord</th>\n",
       "    </tr>\n",
       "  </thead>\n",
       "  <tbody>\n",
       "    <tr>\n",
       "      <th>0</th>\n",
       "      <td>0.000013</td>\n",
       "      <td>0.000474</td>\n",
       "      <td>0.001102</td>\n",
       "      <td>0.000835</td>\n",
       "      <td>0.001759</td>\n",
       "      <td>226.508026</td>\n",
       "      <td>263.001862</td>\n",
       "      <td>283.515350</td>\n",
       "      <td>291.670929</td>\n",
       "      <td>293.279907</td>\n",
       "      <td>...</td>\n",
       "      <td>2.311351e-08</td>\n",
       "      <td>2.772695e-11</td>\n",
       "      <td>6.839194e-12</td>\n",
       "      <td>3.462257e-11</td>\n",
       "      <td>5.610545e-08</td>\n",
       "      <td>7.052427e-08</td>\n",
       "      <td>4.557641</td>\n",
       "      <td>NaN</td>\n",
       "      <td>2003-01-01 00:00:00+00:00</td>\n",
       "      <td>(15.0, -7.0)</td>\n",
       "    </tr>\n",
       "    <tr>\n",
       "      <th>1</th>\n",
       "      <td>0.000012</td>\n",
       "      <td>0.000481</td>\n",
       "      <td>0.001061</td>\n",
       "      <td>0.000656</td>\n",
       "      <td>0.001770</td>\n",
       "      <td>226.306519</td>\n",
       "      <td>262.616394</td>\n",
       "      <td>283.216797</td>\n",
       "      <td>291.796021</td>\n",
       "      <td>292.988007</td>\n",
       "      <td>...</td>\n",
       "      <td>2.134657e-08</td>\n",
       "      <td>2.658108e-11</td>\n",
       "      <td>6.579950e-12</td>\n",
       "      <td>3.628391e-11</td>\n",
       "      <td>7.311485e-08</td>\n",
       "      <td>9.019969e-08</td>\n",
       "      <td>4.351818</td>\n",
       "      <td>NaN</td>\n",
       "      <td>2003-01-01 03:00:00+00:00</td>\n",
       "      <td>(15.0, -7.0)</td>\n",
       "    </tr>\n",
       "    <tr>\n",
       "      <th>2</th>\n",
       "      <td>0.000012</td>\n",
       "      <td>0.000364</td>\n",
       "      <td>0.001008</td>\n",
       "      <td>0.000889</td>\n",
       "      <td>0.001820</td>\n",
       "      <td>226.277267</td>\n",
       "      <td>262.529816</td>\n",
       "      <td>282.838684</td>\n",
       "      <td>291.154480</td>\n",
       "      <td>292.559235</td>\n",
       "      <td>...</td>\n",
       "      <td>1.957962e-08</td>\n",
       "      <td>2.543520e-11</td>\n",
       "      <td>6.320705e-12</td>\n",
       "      <td>3.794526e-11</td>\n",
       "      <td>9.012425e-08</td>\n",
       "      <td>1.098751e-07</td>\n",
       "      <td>4.145996</td>\n",
       "      <td>NaN</td>\n",
       "      <td>2003-01-01 06:00:00+00:00</td>\n",
       "      <td>(15.0, -7.0)</td>\n",
       "    </tr>\n",
       "    <tr>\n",
       "      <th>3</th>\n",
       "      <td>0.000010</td>\n",
       "      <td>0.000294</td>\n",
       "      <td>0.000910</td>\n",
       "      <td>0.000942</td>\n",
       "      <td>0.001694</td>\n",
       "      <td>226.691376</td>\n",
       "      <td>262.407745</td>\n",
       "      <td>282.387604</td>\n",
       "      <td>290.868073</td>\n",
       "      <td>292.393738</td>\n",
       "      <td>...</td>\n",
       "      <td>2.560189e-08</td>\n",
       "      <td>1.669112e-11</td>\n",
       "      <td>7.090138e-12</td>\n",
       "      <td>3.864344e-11</td>\n",
       "      <td>6.376614e-08</td>\n",
       "      <td>8.051371e-08</td>\n",
       "      <td>4.174264</td>\n",
       "      <td>NaN</td>\n",
       "      <td>2003-01-01 09:00:00+00:00</td>\n",
       "      <td>(15.0, -7.0)</td>\n",
       "    </tr>\n",
       "    <tr>\n",
       "      <th>4</th>\n",
       "      <td>0.000009</td>\n",
       "      <td>0.000176</td>\n",
       "      <td>0.000806</td>\n",
       "      <td>0.000866</td>\n",
       "      <td>0.001724</td>\n",
       "      <td>226.552704</td>\n",
       "      <td>263.003693</td>\n",
       "      <td>282.798737</td>\n",
       "      <td>291.309052</td>\n",
       "      <td>292.439514</td>\n",
       "      <td>...</td>\n",
       "      <td>3.162415e-08</td>\n",
       "      <td>7.947036e-12</td>\n",
       "      <td>7.859570e-12</td>\n",
       "      <td>3.934162e-11</td>\n",
       "      <td>3.740804e-08</td>\n",
       "      <td>5.115231e-08</td>\n",
       "      <td>4.202533</td>\n",
       "      <td>NaN</td>\n",
       "      <td>2003-01-01 12:00:00+00:00</td>\n",
       "      <td>(15.0, -7.0)</td>\n",
       "    </tr>\n",
       "    <tr>\n",
       "      <th>...</th>\n",
       "      <td>...</td>\n",
       "      <td>...</td>\n",
       "      <td>...</td>\n",
       "      <td>...</td>\n",
       "      <td>...</td>\n",
       "      <td>...</td>\n",
       "      <td>...</td>\n",
       "      <td>...</td>\n",
       "      <td>...</td>\n",
       "      <td>...</td>\n",
       "      <td>...</td>\n",
       "      <td>...</td>\n",
       "      <td>...</td>\n",
       "      <td>...</td>\n",
       "      <td>...</td>\n",
       "      <td>...</td>\n",
       "      <td>...</td>\n",
       "      <td>...</td>\n",
       "      <td>...</td>\n",
       "      <td>...</td>\n",
       "      <td>...</td>\n",
       "    </tr>\n",
       "    <tr>\n",
       "      <th>228698465</th>\n",
       "      <td>0.000012</td>\n",
       "      <td>0.000713</td>\n",
       "      <td>0.002374</td>\n",
       "      <td>0.003769</td>\n",
       "      <td>0.004509</td>\n",
       "      <td>216.688309</td>\n",
       "      <td>248.984390</td>\n",
       "      <td>266.735138</td>\n",
       "      <td>277.806580</td>\n",
       "      <td>279.417542</td>\n",
       "      <td>...</td>\n",
       "      <td>4.352836e-09</td>\n",
       "      <td>1.946260e-10</td>\n",
       "      <td>8.113749e-12</td>\n",
       "      <td>0.000000e+00</td>\n",
       "      <td>4.004431e-09</td>\n",
       "      <td>5.632606e-09</td>\n",
       "      <td>12.724543</td>\n",
       "      <td>NaN</td>\n",
       "      <td>2020-12-31 09:00:00+00:00</td>\n",
       "      <td>(47.0, 26.0)</td>\n",
       "    </tr>\n",
       "    <tr>\n",
       "      <th>228698466</th>\n",
       "      <td>0.000018</td>\n",
       "      <td>0.000799</td>\n",
       "      <td>0.002521</td>\n",
       "      <td>0.003597</td>\n",
       "      <td>0.004745</td>\n",
       "      <td>216.353455</td>\n",
       "      <td>248.782974</td>\n",
       "      <td>266.835541</td>\n",
       "      <td>277.872803</td>\n",
       "      <td>280.625336</td>\n",
       "      <td>...</td>\n",
       "      <td>4.913757e-09</td>\n",
       "      <td>2.435661e-10</td>\n",
       "      <td>8.507474e-12</td>\n",
       "      <td>0.000000e+00</td>\n",
       "      <td>1.596592e-09</td>\n",
       "      <td>2.253301e-09</td>\n",
       "      <td>12.901739</td>\n",
       "      <td>NaN</td>\n",
       "      <td>2020-12-31 12:00:00+00:00</td>\n",
       "      <td>(47.0, 26.0)</td>\n",
       "    </tr>\n",
       "    <tr>\n",
       "      <th>228698467</th>\n",
       "      <td>0.000013</td>\n",
       "      <td>0.000789</td>\n",
       "      <td>0.002660</td>\n",
       "      <td>0.004196</td>\n",
       "      <td>0.004719</td>\n",
       "      <td>217.056976</td>\n",
       "      <td>248.452744</td>\n",
       "      <td>266.467041</td>\n",
       "      <td>277.363953</td>\n",
       "      <td>279.162201</td>\n",
       "      <td>...</td>\n",
       "      <td>3.724977e-09</td>\n",
       "      <td>1.456881e-10</td>\n",
       "      <td>4.253341e-12</td>\n",
       "      <td>0.000000e+00</td>\n",
       "      <td>2.267641e-09</td>\n",
       "      <td>3.152334e-09</td>\n",
       "      <td>13.212149</td>\n",
       "      <td>NaN</td>\n",
       "      <td>2020-12-31 15:00:00+00:00</td>\n",
       "      <td>(47.0, 26.0)</td>\n",
       "    </tr>\n",
       "    <tr>\n",
       "      <th>228698468</th>\n",
       "      <td>0.000013</td>\n",
       "      <td>0.000622</td>\n",
       "      <td>0.002176</td>\n",
       "      <td>0.004452</td>\n",
       "      <td>0.004585</td>\n",
       "      <td>217.388626</td>\n",
       "      <td>248.154755</td>\n",
       "      <td>265.953552</td>\n",
       "      <td>276.702606</td>\n",
       "      <td>277.759766</td>\n",
       "      <td>...</td>\n",
       "      <td>2.536197e-09</td>\n",
       "      <td>4.781012e-11</td>\n",
       "      <td>-7.915603e-16</td>\n",
       "      <td>0.000000e+00</td>\n",
       "      <td>2.938690e-09</td>\n",
       "      <td>4.051367e-09</td>\n",
       "      <td>13.522558</td>\n",
       "      <td>NaN</td>\n",
       "      <td>2020-12-31 18:00:00+00:00</td>\n",
       "      <td>(47.0, 26.0)</td>\n",
       "    </tr>\n",
       "    <tr>\n",
       "      <th>228698469</th>\n",
       "      <td>0.000013</td>\n",
       "      <td>0.000347</td>\n",
       "      <td>0.001912</td>\n",
       "      <td>0.004383</td>\n",
       "      <td>0.004608</td>\n",
       "      <td>218.418152</td>\n",
       "      <td>246.914673</td>\n",
       "      <td>265.430481</td>\n",
       "      <td>275.233337</td>\n",
       "      <td>277.376617</td>\n",
       "      <td>...</td>\n",
       "      <td>1.291771e-09</td>\n",
       "      <td>3.974348e-11</td>\n",
       "      <td>-3.957797e-16</td>\n",
       "      <td>0.000000e+00</td>\n",
       "      <td>1.926912e-09</td>\n",
       "      <td>2.676739e-09</td>\n",
       "      <td>9.975374</td>\n",
       "      <td>NaN</td>\n",
       "      <td>2020-12-31 21:00:00+00:00</td>\n",
       "      <td>(47.0, 26.0)</td>\n",
       "    </tr>\n",
       "  </tbody>\n",
       "</table>\n",
       "<p>228698470 rows × 49 columns</p>\n",
       "</div>"
      ],
      "text/plain": [
       "                  0         1         2         3         4           5  \\\n",
       "0          0.000013  0.000474  0.001102  0.000835  0.001759  226.508026   \n",
       "1          0.000012  0.000481  0.001061  0.000656  0.001770  226.306519   \n",
       "2          0.000012  0.000364  0.001008  0.000889  0.001820  226.277267   \n",
       "3          0.000010  0.000294  0.000910  0.000942  0.001694  226.691376   \n",
       "4          0.000009  0.000176  0.000806  0.000866  0.001724  226.552704   \n",
       "...             ...       ...       ...       ...       ...         ...   \n",
       "228698465  0.000012  0.000713  0.002374  0.003769  0.004509  216.688309   \n",
       "228698466  0.000018  0.000799  0.002521  0.003597  0.004745  216.353455   \n",
       "228698467  0.000013  0.000789  0.002660  0.004196  0.004719  217.056976   \n",
       "228698468  0.000013  0.000622  0.002176  0.004452  0.004585  217.388626   \n",
       "228698469  0.000013  0.000347  0.001912  0.004383  0.004608  218.418152   \n",
       "\n",
       "                    6           7           8           9  ...            39  \\\n",
       "0          263.001862  283.515350  291.670929  293.279907  ...  2.311351e-08   \n",
       "1          262.616394  283.216797  291.796021  292.988007  ...  2.134657e-08   \n",
       "2          262.529816  282.838684  291.154480  292.559235  ...  1.957962e-08   \n",
       "3          262.407745  282.387604  290.868073  292.393738  ...  2.560189e-08   \n",
       "4          263.003693  282.798737  291.309052  292.439514  ...  3.162415e-08   \n",
       "...               ...         ...         ...         ...  ...           ...   \n",
       "228698465  248.984390  266.735138  277.806580  279.417542  ...  4.352836e-09   \n",
       "228698466  248.782974  266.835541  277.872803  280.625336  ...  4.913757e-09   \n",
       "228698467  248.452744  266.467041  277.363953  279.162201  ...  3.724977e-09   \n",
       "228698468  248.154755  265.953552  276.702606  277.759766  ...  2.536197e-09   \n",
       "228698469  246.914673  265.430481  275.233337  277.376617  ...  1.291771e-09   \n",
       "\n",
       "                     40            41            42            43  \\\n",
       "0          2.772695e-11  6.839194e-12  3.462257e-11  5.610545e-08   \n",
       "1          2.658108e-11  6.579950e-12  3.628391e-11  7.311485e-08   \n",
       "2          2.543520e-11  6.320705e-12  3.794526e-11  9.012425e-08   \n",
       "3          1.669112e-11  7.090138e-12  3.864344e-11  6.376614e-08   \n",
       "4          7.947036e-12  7.859570e-12  3.934162e-11  3.740804e-08   \n",
       "...                 ...           ...           ...           ...   \n",
       "228698465  1.946260e-10  8.113749e-12  0.000000e+00  4.004431e-09   \n",
       "228698466  2.435661e-10  8.507474e-12  0.000000e+00  1.596592e-09   \n",
       "228698467  1.456881e-10  4.253341e-12  0.000000e+00  2.267641e-09   \n",
       "228698468  4.781012e-11 -7.915603e-16  0.000000e+00  2.938690e-09   \n",
       "228698469  3.974348e-11 -3.957797e-16  0.000000e+00  1.926912e-09   \n",
       "\n",
       "                     44         45  46                      time  \\\n",
       "0          7.052427e-08   4.557641 NaN 2003-01-01 00:00:00+00:00   \n",
       "1          9.019969e-08   4.351818 NaN 2003-01-01 03:00:00+00:00   \n",
       "2          1.098751e-07   4.145996 NaN 2003-01-01 06:00:00+00:00   \n",
       "3          8.051371e-08   4.174264 NaN 2003-01-01 09:00:00+00:00   \n",
       "4          5.115231e-08   4.202533 NaN 2003-01-01 12:00:00+00:00   \n",
       "...                 ...        ...  ..                       ...   \n",
       "228698465  5.632606e-09  12.724543 NaN 2020-12-31 09:00:00+00:00   \n",
       "228698466  2.253301e-09  12.901739 NaN 2020-12-31 12:00:00+00:00   \n",
       "228698467  3.152334e-09  13.212149 NaN 2020-12-31 15:00:00+00:00   \n",
       "228698468  4.051367e-09  13.522558 NaN 2020-12-31 18:00:00+00:00   \n",
       "228698469  2.676739e-09   9.975374 NaN 2020-12-31 21:00:00+00:00   \n",
       "\n",
       "           lat_lon_coord  \n",
       "0           (15.0, -7.0)  \n",
       "1           (15.0, -7.0)  \n",
       "2           (15.0, -7.0)  \n",
       "3           (15.0, -7.0)  \n",
       "4           (15.0, -7.0)  \n",
       "...                  ...  \n",
       "228698465   (47.0, 26.0)  \n",
       "228698466   (47.0, 26.0)  \n",
       "228698467   (47.0, 26.0)  \n",
       "228698468   (47.0, 26.0)  \n",
       "228698469   (47.0, 26.0)  \n",
       "\n",
       "[228698470 rows x 49 columns]"
      ]
     },
     "execution_count": 15,
     "metadata": {},
     "output_type": "execute_result"
    }
   ],
   "source": [
    "\n",
    "tensor = sliced_tensor\n",
    "# Given information\n",
    "tensor_shape = (52514, 47, 65, 67)\n",
    "\n",
    "timestamps = common_timestamps # List of timestamps (length 52514)\n",
    "\n",
    "# Reshape the tensor\n",
    "reshaped_tensor = np.reshape(tensor, (tensor_shape[0], tensor_shape[1], -1))\n",
    "\n",
    "# Initialize an empty list to store individual DataFrames\n",
    "dfs = []\n",
    "\n",
    "# Iterate over lat and lon combinations\n",
    "for lat_index in tqdm(range(tensor_shape[2])):\n",
    "    for lon_index in range(tensor_shape[3]):        \n",
    "        # Create a DataFrame for the current lat-lon combination\n",
    "        df = pd.DataFrame(reshaped_tensor[:, :, (lat_index * tensor_shape[3]) + lon_index])\n",
    "\n",
    "        df['time'] = timestamps\n",
    "        lat_loc = new_lats_dict[lat_index]\n",
    "        lon_loc = new_lons_dict[lon_index]\n",
    "        df['lat_lon_coord'] = str((float(lat_loc),float(lon_loc)))\n",
    "\n",
    "        dfs.append(df)\n",
    "\n",
    "# Concatenate all the individual DataFrames into one big DataFrame\n",
    "df = pd.concat(dfs, ignore_index=True)\n",
    "\n",
    "df\n"
   ]
  },
  {
   "cell_type": "code",
   "execution_count": 16,
   "id": "b5ec68f7",
   "metadata": {
    "ExecuteTime": {
     "start_time": "2023-08-02T06:42:31.079Z"
    }
   },
   "outputs": [],
   "source": [
    "del sliced_tensor\n",
    "del tensor\n",
    "del dfs\n",
    "del reshaped_tensor\n",
    "df = (df.set_axis(channels46 +['stn_mesm','time','lat_lon_coord'],axis=1 )\n",
    "      .drop('pm2p5',axis=1)\n",
    "     )\n"
   ]
  },
  {
   "cell_type": "code",
   "execution_count": 17,
   "id": "7eec72ac",
   "metadata": {},
   "outputs": [
    {
     "name": "stdout",
     "output_type": "stream",
     "text": [
      "Memory usage of variable: 94.72 GB\n"
     ]
    }
   ],
   "source": [
    "\n",
    "def get_memory_usage_gb(variable):\n",
    "    size_in_bytes = sys.getsizeof(variable)\n",
    "    size_in_gb = size_in_bytes / (1024 ** 3)\n",
    "    return size_in_gb\n",
    "\n",
    "\n",
    "memory_usage_gb = get_memory_usage_gb(df)\n",
    "print(f\"Memory usage of variable: {memory_usage_gb:.2f} GB\")"
   ]
  },
  {
   "cell_type": "code",
   "execution_count": 19,
   "id": "041dcddb",
   "metadata": {},
   "outputs": [],
   "source": [
    "# df.to_parquet('df.parquet.gzip',\n",
    "#               compression='gzip')"
   ]
  },
  {
   "cell_type": "code",
   "execution_count": 2,
   "id": "f6b14f61",
   "metadata": {},
   "outputs": [],
   "source": [
    "df = pd.read_parquet('df.parquet.gzip')"
   ]
  },
  {
   "cell_type": "code",
   "execution_count": 18,
   "id": "eb38615a",
   "metadata": {},
   "outputs": [],
   "source": [
    "# df.to_csv('test_before_features.csv',index=False)"
   ]
  },
  {
   "cell_type": "code",
   "execution_count": 3,
   "id": "1163c395",
   "metadata": {
    "ExecuteTime": {
     "start_time": "2023-08-02T06:42:32.167Z"
    }
   },
   "outputs": [],
   "source": [
    "grouped = df.groupby('lat_lon_coord')\n",
    "\n",
    "# Creating new columns with previous row values for each group\n",
    "for column in df.drop(['stn_mesm','time','lat_lon_coord'],axis=1).columns:\n",
    "    new_column_name = column + '_prev'\n",
    "    df[new_column_name] = grouped[column].shift()\n",
    "    \n",
    "df['week'] = df['time'].dt.strftime('%W').astype('int')\n",
    "df['hour'] = df['time'].dt.hour\n",
    "df['month'] = df['time'].dt.month\n",
    "df['year'] = df['time'].dt.year\n",
    "df['sin'] = np.sin(df['time'].dt.dayofyear * 2 * np.pi / 365)\n",
    "df['cos'] = np.cos(df['time'].dt.dayofyear * 2 * np.pi / 365)\n",
    "\n",
    "del grouped"
   ]
  },
  {
   "cell_type": "code",
   "execution_count": 4,
   "id": "696d7b2d",
   "metadata": {
    "ExecuteTime": {
     "start_time": "2023-08-02T06:42:33.175Z"
    }
   },
   "outputs": [],
   "source": [
    "def add_delta_columns(df):\n",
    "    channels_used =  [\"Q250\",\"Q500\",\"Q700\",\"Q850\",\"Q900\",\n",
    "            \"T250\",\"T500\",\"T700\",\"T850\",\"T900\",\n",
    "            \"U250\",\"U500\",\"U700\",\"U850\",\"U900\",\n",
    "            \"V250\",\"V500\",\"V700\",\"V850\",\"V900\",\n",
    "            \"Z250\",\"Z500\",\"Z700\",\"Z850\",\"Z900\",\n",
    "            \"PV250\",\"PV500\",\"PV700\",\"PV850\",\"PV900\",\n",
    "            \"OMEGA250\",\"OMEGA500\",\"OMEGA700\",\"OMEGA850\",\"OMEGA900\",\n",
    "            \"SLP\",\"u10\",\"v10\",\"duaod550\",'aermr06_50','aermr06_40','aermr06_30', 'aermr06_20',\n",
    "              \"tcwv\"]\n",
    "\n",
    "    # Loop over the channels names\n",
    "    for col in channels_used:\n",
    "        \n",
    "        # Calculate the delta between the column and its corresponding \"_prev\" column\n",
    "        delta_col = col + '_delta'\n",
    "        prev_col = col + '_prev'\n",
    "        df[delta_col] = df[col] - df[prev_col]\n",
    "    \n",
    "    return df\n",
    "\n",
    "df = add_delta_columns(df)\n",
    "df = df.drop(['pm10_prev'],axis=1)\n",
    "df['pm10'] = df['pm10'] * (10**9)\n",
    "df['target'] = df['stn_mesm'] - df['pm10']"
   ]
  },
  {
   "cell_type": "code",
   "execution_count": null,
   "id": "56807475",
   "metadata": {},
   "outputs": [],
   "source": []
  },
  {
   "cell_type": "code",
   "execution_count": null,
   "id": "edd5e6b8",
   "metadata": {},
   "outputs": [],
   "source": []
  },
  {
   "cell_type": "markdown",
   "id": "228b72a5",
   "metadata": {},
   "source": [
    "# After Extanding test, load model and predict"
   ]
  },
  {
   "cell_type": "code",
   "execution_count": 7,
   "id": "c674c5ab",
   "metadata": {
    "ExecuteTime": {
     "start_time": "2023-08-02T06:42:39.094Z"
    }
   },
   "outputs": [],
   "source": [
    "def convert_string_to_tuple_list(string_list):\n",
    "    tuple_list = []\n",
    "    for string in string_list:\n",
    "        # Remove leading and trailing whitespace and parentheses\n",
    "        string = string.strip('()')\n",
    "        # Convert string to tuple using ast.literal_eval\n",
    "        tuple_value = ast.literal_eval(string)\n",
    "        tuple_list.append(tuple_value)\n",
    "    return tuple_list\n",
    "\n",
    "def get_borders(coordinates):\n",
    "    if not coordinates:\n",
    "        return None\n",
    "\n",
    "    # Initialize with the first coordinate in the list\n",
    "    min_lat, max_lat = coordinates[0][0], coordinates[0][0]\n",
    "    min_lon, max_lon = coordinates[0][1], coordinates[0][1]\n",
    "\n",
    "    # Find the minimum and maximum latitude and longitude\n",
    "    for lat, lon in coordinates:\n",
    "        min_lat = min(min_lat, lat)\n",
    "        max_lat = max(max_lat, lat)\n",
    "        min_lon = min(min_lon, lon)\n",
    "        max_lon = max(max_lon, lon)\n",
    "\n",
    "    # Return the four corner points as a list of tuples\n",
    "    top_left = (max_lat, min_lon)\n",
    "    top_right = (max_lat, max_lon)\n",
    "    bottom_left = (min_lat, min_lon)\n",
    "    bottom_right = (min_lat, max_lon)\n",
    "\n",
    "    return [top_left, top_right, bottom_left, bottom_right]"
   ]
  },
  {
   "cell_type": "code",
   "execution_count": 9,
   "id": "5eeea8bf",
   "metadata": {
    "ExecuteTime": {
     "start_time": "2023-08-02T06:42:40.438Z"
    }
   },
   "outputs": [
    {
     "data": {
      "text/plain": [
       "[(47.0, -7.0), (47.0, 26.0), (15.0, -7.0), (15.0, 26.0)]"
      ]
     },
     "execution_count": 9,
     "metadata": {},
     "output_type": "execute_result"
    }
   ],
   "source": [
    "get_borders(convert_string_to_tuple_list(df['lat_lon_coord'].unique().tolist()))"
   ]
  },
  {
   "cell_type": "code",
   "execution_count": 2,
   "id": "d8c7b8ec",
   "metadata": {
    "ExecuteTime": {
     "end_time": "2023-09-03T09:53:58.247705Z",
     "start_time": "2023-09-03T09:53:58.243952Z"
    }
   },
   "outputs": [],
   "source": [
    "channels_used =  [\"Q250\",\"Q500\",\"Q700\",\"Q850\",\"Q900\",\n",
    "            \"T250\",\"T500\",\"T700\",\"T850\",\"T900\",\n",
    "            \"U250\",\"U500\",\"U700\",\"U850\",\"U900\",\n",
    "            \"V250\",\"V500\",\"V700\",\"V850\",\"V900\",\n",
    "            \"Z250\",\"Z500\",\"Z700\",\"Z850\",\"Z900\",\n",
    "            \"PV250\",\"PV500\",\"PV700\",\"PV850\",\"PV900\",\n",
    "            \"OMEGA250\",\"OMEGA500\",\"OMEGA700\",\"OMEGA850\",\"OMEGA900\",\n",
    "            \"SLP\",\"u10\",\"v10\",\"duaod550\",'aermr06_50','aermr06_40','aermr06_30', 'aermr06_20',\n",
    "              \"tcwv\"]\n",
    "\n",
    "\n",
    "previous_channels = [name+\"_prev\" for name in channels_used]\n",
    "delta_channels = [name+'_delta' for name in channels_used]\n",
    "time_features = ['week','hour','month','year','sin','cos']\n",
    "last_features = ['pm10','stn_mesm','target','lat_lon_coord']\n",
    "\n",
    "\n",
    "features = time_features + channels_used + previous_channels + delta_channels +['NDVI']\n",
    "\n"
   ]
  },
  {
   "cell_type": "code",
   "execution_count": null,
   "id": "fee0cc9c",
   "metadata": {
    "ExecuteTime": {
     "start_time": "2023-09-03T09:54:09.034Z"
    }
   },
   "outputs": [],
   "source": [
    "df = pd.read_parquet('df.parquet_full_test.gzip')"
   ]
  },
  {
   "cell_type": "code",
   "execution_count": 11,
   "id": "84a2210e",
   "metadata": {},
   "outputs": [],
   "source": [
    "df['NDVI'] = ndvi[0].values"
   ]
  },
  {
   "cell_type": "code",
   "execution_count": 8,
   "id": "8389d6a7",
   "metadata": {
    "ExecuteTime": {
     "start_time": "2023-08-02T06:42:49.606Z"
    }
   },
   "outputs": [],
   "source": [
    "\n",
    "model = xgb.Booster()\n",
    "model.load_model(\"xgboost_model_trained_on_turkey_prevTime_Delta_NDVI.json\")"
   ]
  },
  {
   "cell_type": "code",
   "execution_count": 12,
   "id": "50a474a7",
   "metadata": {
    "ExecuteTime": {
     "start_time": "2023-08-02T06:43:36.086Z"
    }
   },
   "outputs": [],
   "source": [
    "num_rows = len(df) // 4\n",
    "\n",
    "# Split the DataFrame into four parts based on row indices\n",
    "df1 = df.iloc[:num_rows]\n",
    "# df2 = df.iloc[num_rows: 2 * num_rows]\n",
    "# df3 = df.iloc[2 * num_rows: 3 * num_rows]\n",
    "# df4 = df.iloc[3 * num_rows:]"
   ]
  },
  {
   "cell_type": "code",
   "execution_count": 20,
   "id": "f6e4cd61",
   "metadata": {},
   "outputs": [],
   "source": [
    "df2 = df.iloc[num_rows: 2 * num_rows]"
   ]
  },
  {
   "cell_type": "code",
   "execution_count": 25,
   "id": "dfdcd0e0",
   "metadata": {},
   "outputs": [],
   "source": [
    "df3 = df.iloc[2 * num_rows: 3 * num_rows]"
   ]
  },
  {
   "cell_type": "code",
   "execution_count": 28,
   "id": "8dfd57de",
   "metadata": {},
   "outputs": [],
   "source": [
    "df4 = df.iloc[3 * num_rows:]"
   ]
  },
  {
   "cell_type": "code",
   "execution_count": null,
   "id": "6ece9862",
   "metadata": {},
   "outputs": [],
   "source": [
    "# df1.to_parquet('df_part1.parquet.gzip', compression='gzip')\n",
    "           "
   ]
  },
  {
   "cell_type": "code",
   "execution_count": 25,
   "id": "9157dda4",
   "metadata": {
    "ExecuteTime": {
     "end_time": "2023-08-01T11:49:53.329403Z",
     "start_time": "2023-08-01T11:49:53.326853Z"
    }
   },
   "outputs": [],
   "source": [
    "split_index = int(0.5 * len(df))  \n",
    "# Split the DataFrame\n",
    "df_part1 = df.iloc[:split_index]\n",
    "# df_part2 = df.iloc[split_index:]\n"
   ]
  },
  {
   "cell_type": "code",
   "execution_count": 15,
   "id": "8d0d89b4",
   "metadata": {
    "ExecuteTime": {
     "end_time": "2023-08-01T11:49:53.338900Z",
     "start_time": "2023-08-01T11:49:53.330530Z"
    }
   },
   "outputs": [],
   "source": [
    "delta1 = model.predict(xg.DMatrix(df1[features]))"
   ]
  },
  {
   "cell_type": "code",
   "execution_count": 21,
   "id": "72705b21",
   "metadata": {
    "ExecuteTime": {
     "end_time": "2023-08-01T11:49:53.349263Z",
     "start_time": "2023-08-01T11:49:53.340087Z"
    }
   },
   "outputs": [],
   "source": [
    "delta2 = model.predict(xg.DMatrix(df2[features]))"
   ]
  },
  {
   "cell_type": "code",
   "execution_count": 31,
   "id": "ffb1141b",
   "metadata": {},
   "outputs": [
    {
     "data": {
      "text/plain": [
       "228698470"
      ]
     },
     "execution_count": 31,
     "metadata": {},
     "output_type": "execute_result"
    }
   ],
   "source": [
    "len(delta1) + len(delta2) + len(delta3) + len(delta4)"
   ]
  },
  {
   "cell_type": "code",
   "execution_count": 24,
   "id": "83318236",
   "metadata": {},
   "outputs": [],
   "source": [
    "del df1\n",
    "del df2"
   ]
  },
  {
   "cell_type": "code",
   "execution_count": 26,
   "id": "c18ccf58",
   "metadata": {},
   "outputs": [],
   "source": [
    "delta3 = model.predict(xg.DMatrix(df3[features]))"
   ]
  },
  {
   "cell_type": "code",
   "execution_count": 27,
   "id": "25cbc26c",
   "metadata": {},
   "outputs": [],
   "source": [
    "del df3"
   ]
  },
  {
   "cell_type": "code",
   "execution_count": 29,
   "id": "820abf08",
   "metadata": {},
   "outputs": [],
   "source": [
    "delta4 = model.predict(xg.DMatrix(df4[features]))"
   ]
  },
  {
   "cell_type": "code",
   "execution_count": 32,
   "id": "a6926a0f",
   "metadata": {
    "ExecuteTime": {
     "start_time": "2023-08-01T11:55:08.097Z"
    }
   },
   "outputs": [],
   "source": [
    "delta_list = np.concatenate((delta1, delta2, delta3, delta4))"
   ]
  },
  {
   "cell_type": "code",
   "execution_count": 35,
   "id": "e8547138",
   "metadata": {},
   "outputs": [
    {
     "name": "stderr",
     "output_type": "stream",
     "text": [
      "/tmp/ipykernel_34494/1365671935.py:1: PerformanceWarning: DataFrame is highly fragmented.  This is usually the result of calling `frame.insert` many times, which has poor performance.  Consider joining all columns at once using pd.concat(axis=1) instead. To get a de-fragmented frame, use `newframe = frame.copy()`\n",
      "  df['delta'] = delta_list\n"
     ]
    }
   ],
   "source": [
    "df['delta'] = delta_list"
   ]
  },
  {
   "cell_type": "code",
   "execution_count": 36,
   "id": "10e06092",
   "metadata": {},
   "outputs": [
    {
     "data": {
      "text/html": [
       "<div>\n",
       "<style scoped>\n",
       "    .dataframe tbody tr th:only-of-type {\n",
       "        vertical-align: middle;\n",
       "    }\n",
       "\n",
       "    .dataframe tbody tr th {\n",
       "        vertical-align: top;\n",
       "    }\n",
       "\n",
       "    .dataframe thead th {\n",
       "        text-align: right;\n",
       "    }\n",
       "</style>\n",
       "<table border=\"1\" class=\"dataframe\">\n",
       "  <thead>\n",
       "    <tr style=\"text-align: right;\">\n",
       "      <th></th>\n",
       "      <th>Q250</th>\n",
       "      <th>Q500</th>\n",
       "      <th>Q700</th>\n",
       "      <th>Q850</th>\n",
       "      <th>Q900</th>\n",
       "      <th>T250</th>\n",
       "      <th>T500</th>\n",
       "      <th>T700</th>\n",
       "      <th>T850</th>\n",
       "      <th>T900</th>\n",
       "      <th>...</th>\n",
       "      <th>v10_delta</th>\n",
       "      <th>duaod550_delta</th>\n",
       "      <th>aermr06_50_delta</th>\n",
       "      <th>aermr06_40_delta</th>\n",
       "      <th>aermr06_30_delta</th>\n",
       "      <th>aermr06_20_delta</th>\n",
       "      <th>tcwv_delta</th>\n",
       "      <th>target</th>\n",
       "      <th>NDVI</th>\n",
       "      <th>delta</th>\n",
       "    </tr>\n",
       "  </thead>\n",
       "  <tbody>\n",
       "    <tr>\n",
       "      <th>0</th>\n",
       "      <td>0.000013</td>\n",
       "      <td>0.000474</td>\n",
       "      <td>0.001102</td>\n",
       "      <td>0.000835</td>\n",
       "      <td>0.001759</td>\n",
       "      <td>226.508026</td>\n",
       "      <td>263.001862</td>\n",
       "      <td>283.515350</td>\n",
       "      <td>291.670929</td>\n",
       "      <td>293.279907</td>\n",
       "      <td>...</td>\n",
       "      <td>NaN</td>\n",
       "      <td>NaN</td>\n",
       "      <td>NaN</td>\n",
       "      <td>NaN</td>\n",
       "      <td>NaN</td>\n",
       "      <td>NaN</td>\n",
       "      <td>NaN</td>\n",
       "      <td>NaN</td>\n",
       "      <td>0.0</td>\n",
       "      <td>1.047821</td>\n",
       "    </tr>\n",
       "    <tr>\n",
       "      <th>1</th>\n",
       "      <td>0.000012</td>\n",
       "      <td>0.000481</td>\n",
       "      <td>0.001061</td>\n",
       "      <td>0.000656</td>\n",
       "      <td>0.001770</td>\n",
       "      <td>226.306519</td>\n",
       "      <td>262.616394</td>\n",
       "      <td>283.216797</td>\n",
       "      <td>291.796021</td>\n",
       "      <td>292.988007</td>\n",
       "      <td>...</td>\n",
       "      <td>0.290777</td>\n",
       "      <td>0.003501</td>\n",
       "      <td>-1.766947e-09</td>\n",
       "      <td>-1.145879e-12</td>\n",
       "      <td>-2.592444e-13</td>\n",
       "      <td>1.661348e-12</td>\n",
       "      <td>-0.205822</td>\n",
       "      <td>NaN</td>\n",
       "      <td>0.0</td>\n",
       "      <td>21.225750</td>\n",
       "    </tr>\n",
       "    <tr>\n",
       "      <th>2</th>\n",
       "      <td>0.000012</td>\n",
       "      <td>0.000364</td>\n",
       "      <td>0.001008</td>\n",
       "      <td>0.000889</td>\n",
       "      <td>0.001820</td>\n",
       "      <td>226.277267</td>\n",
       "      <td>262.529816</td>\n",
       "      <td>282.838684</td>\n",
       "      <td>291.154480</td>\n",
       "      <td>292.559235</td>\n",
       "      <td>...</td>\n",
       "      <td>0.290777</td>\n",
       "      <td>0.003501</td>\n",
       "      <td>-1.766947e-09</td>\n",
       "      <td>-1.145879e-12</td>\n",
       "      <td>-2.592444e-13</td>\n",
       "      <td>1.661352e-12</td>\n",
       "      <td>-0.205822</td>\n",
       "      <td>NaN</td>\n",
       "      <td>0.0</td>\n",
       "      <td>32.248775</td>\n",
       "    </tr>\n",
       "    <tr>\n",
       "      <th>3</th>\n",
       "      <td>0.000010</td>\n",
       "      <td>0.000294</td>\n",
       "      <td>0.000910</td>\n",
       "      <td>0.000942</td>\n",
       "      <td>0.001694</td>\n",
       "      <td>226.691376</td>\n",
       "      <td>262.407745</td>\n",
       "      <td>282.387604</td>\n",
       "      <td>290.868073</td>\n",
       "      <td>292.393738</td>\n",
       "      <td>...</td>\n",
       "      <td>0.133692</td>\n",
       "      <td>-0.020686</td>\n",
       "      <td>6.022267e-09</td>\n",
       "      <td>-8.744080e-12</td>\n",
       "      <td>7.694323e-13</td>\n",
       "      <td>6.981776e-13</td>\n",
       "      <td>0.028268</td>\n",
       "      <td>NaN</td>\n",
       "      <td>0.0</td>\n",
       "      <td>37.717949</td>\n",
       "    </tr>\n",
       "    <tr>\n",
       "      <th>4</th>\n",
       "      <td>0.000009</td>\n",
       "      <td>0.000176</td>\n",
       "      <td>0.000806</td>\n",
       "      <td>0.000866</td>\n",
       "      <td>0.001724</td>\n",
       "      <td>226.552704</td>\n",
       "      <td>263.003693</td>\n",
       "      <td>282.798737</td>\n",
       "      <td>291.309052</td>\n",
       "      <td>292.439514</td>\n",
       "      <td>...</td>\n",
       "      <td>0.133692</td>\n",
       "      <td>-0.020686</td>\n",
       "      <td>6.022269e-09</td>\n",
       "      <td>-8.744081e-12</td>\n",
       "      <td>7.694323e-13</td>\n",
       "      <td>6.981742e-13</td>\n",
       "      <td>0.028268</td>\n",
       "      <td>NaN</td>\n",
       "      <td>0.0</td>\n",
       "      <td>36.743103</td>\n",
       "    </tr>\n",
       "  </tbody>\n",
       "</table>\n",
       "<p>5 rows × 145 columns</p>\n",
       "</div>"
      ],
      "text/plain": [
       "       Q250      Q500      Q700      Q850      Q900        T250        T500  \\\n",
       "0  0.000013  0.000474  0.001102  0.000835  0.001759  226.508026  263.001862   \n",
       "1  0.000012  0.000481  0.001061  0.000656  0.001770  226.306519  262.616394   \n",
       "2  0.000012  0.000364  0.001008  0.000889  0.001820  226.277267  262.529816   \n",
       "3  0.000010  0.000294  0.000910  0.000942  0.001694  226.691376  262.407745   \n",
       "4  0.000009  0.000176  0.000806  0.000866  0.001724  226.552704  263.003693   \n",
       "\n",
       "         T700        T850        T900  ...  v10_delta  duaod550_delta  \\\n",
       "0  283.515350  291.670929  293.279907  ...        NaN             NaN   \n",
       "1  283.216797  291.796021  292.988007  ...   0.290777        0.003501   \n",
       "2  282.838684  291.154480  292.559235  ...   0.290777        0.003501   \n",
       "3  282.387604  290.868073  292.393738  ...   0.133692       -0.020686   \n",
       "4  282.798737  291.309052  292.439514  ...   0.133692       -0.020686   \n",
       "\n",
       "   aermr06_50_delta  aermr06_40_delta  aermr06_30_delta  aermr06_20_delta  \\\n",
       "0               NaN               NaN               NaN               NaN   \n",
       "1     -1.766947e-09     -1.145879e-12     -2.592444e-13      1.661348e-12   \n",
       "2     -1.766947e-09     -1.145879e-12     -2.592444e-13      1.661352e-12   \n",
       "3      6.022267e-09     -8.744080e-12      7.694323e-13      6.981776e-13   \n",
       "4      6.022269e-09     -8.744081e-12      7.694323e-13      6.981742e-13   \n",
       "\n",
       "   tcwv_delta  target  NDVI      delta  \n",
       "0         NaN     NaN   0.0   1.047821  \n",
       "1   -0.205822     NaN   0.0  21.225750  \n",
       "2   -0.205822     NaN   0.0  32.248775  \n",
       "3    0.028268     NaN   0.0  37.717949  \n",
       "4    0.028268     NaN   0.0  36.743103  \n",
       "\n",
       "[5 rows x 145 columns]"
      ]
     },
     "execution_count": 36,
     "metadata": {},
     "output_type": "execute_result"
    }
   ],
   "source": [
    "df.head()"
   ]
  },
  {
   "cell_type": "code",
   "execution_count": 37,
   "id": "cc7dfb89",
   "metadata": {},
   "outputs": [],
   "source": [
    "df[['time','lat_lon_coord','delta','pm10','stn_mesm']].to_parquet('extened_test_small_ndvi.parquet_before_ndvi.gzip',\n",
    "              compression='gzip')"
   ]
  },
  {
   "cell_type": "code",
   "execution_count": null,
   "id": "0798f27d",
   "metadata": {
    "ExecuteTime": {
     "start_time": "2023-08-01T11:55:13.634Z"
    }
   },
   "outputs": [],
   "source": [
    "df[['time','lat_lon_coord','delta','pm10','stn_mesm']].to_csv('extened_test_small_ndvi.csv',index=False)"
   ]
  },
  {
   "cell_type": "code",
   "execution_count": 16,
   "id": "1bb11262",
   "metadata": {},
   "outputs": [
    {
     "data": {
      "text/plain": [
       "(228698470, 144)"
      ]
     },
     "execution_count": 16,
     "metadata": {},
     "output_type": "execute_result"
    }
   ],
   "source": [
    "df.shape"
   ]
  },
  {
   "cell_type": "code",
   "execution_count": 38,
   "id": "965ad408",
   "metadata": {},
   "outputs": [],
   "source": [
    "df.to_parquet('df.parquet_full_test.gzip',\n",
    "              compression='gzip')"
   ]
  }
 ],
 "metadata": {
  "kernelspec": {
   "display_name": "sagi_base",
   "language": "python",
   "name": "sagi_base"
  },
  "language_info": {
   "codemirror_mode": {
    "name": "ipython",
    "version": 3
   },
   "file_extension": ".py",
   "mimetype": "text/x-python",
   "name": "python",
   "nbconvert_exporter": "python",
   "pygments_lexer": "ipython3",
   "version": "3.10.10"
  },
  "toc": {
   "base_numbering": 1,
   "nav_menu": {},
   "number_sections": true,
   "sideBar": true,
   "skip_h1_title": false,
   "title_cell": "Table of Contents",
   "title_sidebar": "Contents",
   "toc_cell": false,
   "toc_position": {},
   "toc_section_display": true,
   "toc_window_display": false
  },
  "varInspector": {
   "cols": {
    "lenName": 16,
    "lenType": 16,
    "lenVar": 40
   },
   "kernels_config": {
    "python": {
     "delete_cmd_postfix": "",
     "delete_cmd_prefix": "del ",
     "library": "var_list.py",
     "varRefreshCmd": "print(var_dic_list())"
    },
    "r": {
     "delete_cmd_postfix": ") ",
     "delete_cmd_prefix": "rm(",
     "library": "var_list.r",
     "varRefreshCmd": "cat(var_dic_list()) "
    }
   },
   "types_to_exclude": [
    "module",
    "function",
    "builtin_function_or_method",
    "instance",
    "_Feature"
   ],
   "window_display": false
  }
 },
 "nbformat": 4,
 "nbformat_minor": 5
}
